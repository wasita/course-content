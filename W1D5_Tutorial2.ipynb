{
  "nbformat": 4,
  "nbformat_minor": 0,
  "metadata": {
    "colab": {
      "name": "W1D5_Tutorial2",
      "provenance": [],
      "collapsed_sections": [],
      "include_colab_link": true
    },
    "kernel": {
      "display_name": "Python 3",
      "language": "python",
      "name": "python3"
    },
    "kernelspec": {
      "display_name": "Python 3",
      "language": "python",
      "name": "python3"
    },
    "language_info": {
      "codemirror_mode": {
        "name": "ipython",
        "version": 3
      },
      "file_extension": ".py",
      "mimetype": "text/x-python",
      "name": "python",
      "nbconvert_exporter": "python",
      "pygments_lexer": "ipython3",
      "version": "3.7.10"
    },
    "widgets": {
      "application/vnd.jupyter.widget-state+json": {
        "8479c2f25eba4794aee531c046cca09f": {
          "model_module": "@jupyter-widgets/controls",
          "model_name": "TabModel",
          "state": {
            "_view_name": "TabView",
            "_dom_classes": [],
            "_titles": {
              "0": "Youtube",
              "1": "Bilibili"
            },
            "_model_name": "TabModel",
            "_view_module": "@jupyter-widgets/controls",
            "selected_index": 0,
            "_model_module_version": "1.5.0",
            "_view_count": null,
            "_view_module_version": "1.5.0",
            "box_style": "",
            "layout": "IPY_MODEL_ad55cebc376540079fb6719c5926d229",
            "_model_module": "@jupyter-widgets/controls",
            "children": [
              "IPY_MODEL_0f9dbc2202cc499db42d7043d55d911d",
              "IPY_MODEL_cc1e9cc3d0484ce6b3c57e5c5437b4b3"
            ]
          }
        },
        "ad55cebc376540079fb6719c5926d229": {
          "model_module": "@jupyter-widgets/base",
          "model_name": "LayoutModel",
          "state": {
            "_view_name": "LayoutView",
            "grid_template_rows": null,
            "right": null,
            "justify_content": null,
            "_view_module": "@jupyter-widgets/base",
            "overflow": null,
            "_model_module_version": "1.2.0",
            "_view_count": null,
            "flex_flow": null,
            "width": null,
            "min_width": null,
            "border": null,
            "align_items": null,
            "bottom": null,
            "_model_module": "@jupyter-widgets/base",
            "top": null,
            "grid_column": null,
            "overflow_y": null,
            "overflow_x": null,
            "grid_auto_flow": null,
            "grid_area": null,
            "grid_template_columns": null,
            "flex": null,
            "_model_name": "LayoutModel",
            "justify_items": null,
            "grid_row": null,
            "max_height": null,
            "align_content": null,
            "visibility": null,
            "align_self": null,
            "height": null,
            "min_height": null,
            "padding": null,
            "grid_auto_rows": null,
            "grid_gap": null,
            "max_width": null,
            "order": null,
            "_view_module_version": "1.2.0",
            "grid_template_areas": null,
            "object_position": null,
            "object_fit": null,
            "grid_auto_columns": null,
            "margin": null,
            "display": null,
            "left": null
          }
        },
        "0f9dbc2202cc499db42d7043d55d911d": {
          "model_module": "@jupyter-widgets/output",
          "model_name": "OutputModel",
          "state": {
            "_view_name": "OutputView",
            "msg_id": "",
            "_dom_classes": [],
            "_model_name": "OutputModel",
            "outputs": [
              {
                "output_type": "stream",
                "metadata": {
                  "tags": []
                },
                "text": "Video available at https://youtube.com/watch?v=-f6T9--oM0E\n",
                "stream": "stdout"
              },
              {
                "output_type": "display_data",
                "metadata": {
                  "tags": []
                },
                "text/html": "\n        <iframe\n            width=\"854\"\n            height=\"480\"\n            src=\"https://www.youtube.com/embed/-f6T9--oM0E?fs=1&rel=0\"\n            frameborder=\"0\"\n            allowfullscreen\n        ></iframe>\n        ",
                "text/plain": "<IPython.lib.display.YouTubeVideo at 0x7f5a898d6650>",
                "image/jpeg": "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\n"
              }
            ],
            "_view_module": "@jupyter-widgets/output",
            "_model_module_version": "1.0.0",
            "_view_count": null,
            "_view_module_version": "1.0.0",
            "layout": "IPY_MODEL_e46c1d9e6bc54804a99cb4b1a13187e9",
            "_model_module": "@jupyter-widgets/output"
          }
        },
        "cc1e9cc3d0484ce6b3c57e5c5437b4b3": {
          "model_module": "@jupyter-widgets/output",
          "model_name": "OutputModel",
          "state": {
            "_view_name": "OutputView",
            "msg_id": "",
            "_dom_classes": [],
            "_model_name": "OutputModel",
            "outputs": [
              {
                "output_type": "stream",
                "metadata": {
                  "tags": []
                },
                "text": "Video available at https://www.bilibili.com/video/BV1hK411H7Zi\n",
                "stream": "stdout"
              },
              {
                "output_type": "display_data",
                "metadata": {
                  "tags": []
                },
                "text/html": "\n        <iframe\n            width=\"854\"\n            height=\"480\"\n            src=\"https://player.bilibili.com/player.html?bvid=BV1hK411H7Zi&page=1?fs=1\"\n            frameborder=\"0\"\n            allowfullscreen\n        ></iframe>\n        ",
                "text/plain": "<__main__.BiliVideo at 0x7f5a8faa8290>"
              }
            ],
            "_view_module": "@jupyter-widgets/output",
            "_model_module_version": "1.0.0",
            "_view_count": null,
            "_view_module_version": "1.0.0",
            "layout": "IPY_MODEL_30bfad2d977b437aabfc81f235fd16ae",
            "_model_module": "@jupyter-widgets/output"
          }
        },
        "e46c1d9e6bc54804a99cb4b1a13187e9": {
          "model_module": "@jupyter-widgets/base",
          "model_name": "LayoutModel",
          "state": {
            "_view_name": "LayoutView",
            "grid_template_rows": null,
            "right": null,
            "justify_content": null,
            "_view_module": "@jupyter-widgets/base",
            "overflow": null,
            "_model_module_version": "1.2.0",
            "_view_count": null,
            "flex_flow": null,
            "width": null,
            "min_width": null,
            "border": null,
            "align_items": null,
            "bottom": null,
            "_model_module": "@jupyter-widgets/base",
            "top": null,
            "grid_column": null,
            "overflow_y": null,
            "overflow_x": null,
            "grid_auto_flow": null,
            "grid_area": null,
            "grid_template_columns": null,
            "flex": null,
            "_model_name": "LayoutModel",
            "justify_items": null,
            "grid_row": null,
            "max_height": null,
            "align_content": null,
            "visibility": null,
            "align_self": null,
            "height": null,
            "min_height": null,
            "padding": null,
            "grid_auto_rows": null,
            "grid_gap": null,
            "max_width": null,
            "order": null,
            "_view_module_version": "1.2.0",
            "grid_template_areas": null,
            "object_position": null,
            "object_fit": null,
            "grid_auto_columns": null,
            "margin": null,
            "display": null,
            "left": null
          }
        },
        "30bfad2d977b437aabfc81f235fd16ae": {
          "model_module": "@jupyter-widgets/base",
          "model_name": "LayoutModel",
          "state": {
            "_view_name": "LayoutView",
            "grid_template_rows": null,
            "right": null,
            "justify_content": null,
            "_view_module": "@jupyter-widgets/base",
            "overflow": null,
            "_model_module_version": "1.2.0",
            "_view_count": null,
            "flex_flow": null,
            "width": null,
            "min_width": null,
            "border": null,
            "align_items": null,
            "bottom": null,
            "_model_module": "@jupyter-widgets/base",
            "top": null,
            "grid_column": null,
            "overflow_y": null,
            "overflow_x": null,
            "grid_auto_flow": null,
            "grid_area": null,
            "grid_template_columns": null,
            "flex": null,
            "_model_name": "LayoutModel",
            "justify_items": null,
            "grid_row": null,
            "max_height": null,
            "align_content": null,
            "visibility": null,
            "align_self": null,
            "height": null,
            "min_height": null,
            "padding": null,
            "grid_auto_rows": null,
            "grid_gap": null,
            "max_width": null,
            "order": null,
            "_view_module_version": "1.2.0",
            "grid_template_areas": null,
            "object_position": null,
            "object_fit": null,
            "grid_auto_columns": null,
            "margin": null,
            "display": null,
            "left": null
          }
        },
        "e21ec0fef9c24fc7a911a38cb73c7f20": {
          "model_module": "@jupyter-widgets/controls",
          "model_name": "VBoxModel",
          "state": {
            "_view_name": "VBoxView",
            "_dom_classes": [
              "widget-interact"
            ],
            "_model_name": "VBoxModel",
            "_view_module": "@jupyter-widgets/controls",
            "_model_module_version": "1.5.0",
            "_view_count": null,
            "_view_module_version": "1.5.0",
            "box_style": "",
            "layout": "IPY_MODEL_96b172b4bfdf453cb351b885bdafab66",
            "_model_module": "@jupyter-widgets/controls",
            "children": [
              "IPY_MODEL_f1fa5036d09b4b12b86fa3000344a5a7",
              "IPY_MODEL_046417030ab4460b9012e7d71ae8c82a"
            ]
          }
        },
        "96b172b4bfdf453cb351b885bdafab66": {
          "model_module": "@jupyter-widgets/base",
          "model_name": "LayoutModel",
          "state": {
            "_view_name": "LayoutView",
            "grid_template_rows": null,
            "right": null,
            "justify_content": null,
            "_view_module": "@jupyter-widgets/base",
            "overflow": null,
            "_model_module_version": "1.2.0",
            "_view_count": null,
            "flex_flow": null,
            "width": null,
            "min_width": null,
            "border": null,
            "align_items": null,
            "bottom": null,
            "_model_module": "@jupyter-widgets/base",
            "top": null,
            "grid_column": null,
            "overflow_y": null,
            "overflow_x": null,
            "grid_auto_flow": null,
            "grid_area": null,
            "grid_template_columns": null,
            "flex": null,
            "_model_name": "LayoutModel",
            "justify_items": null,
            "grid_row": null,
            "max_height": null,
            "align_content": null,
            "visibility": null,
            "align_self": null,
            "height": null,
            "min_height": null,
            "padding": null,
            "grid_auto_rows": null,
            "grid_gap": null,
            "max_width": null,
            "order": null,
            "_view_module_version": "1.2.0",
            "grid_template_areas": null,
            "object_position": null,
            "object_fit": null,
            "grid_auto_columns": null,
            "margin": null,
            "display": null,
            "left": null
          }
        },
        "f1fa5036d09b4b12b86fa3000344a5a7": {
          "model_module": "@jupyter-widgets/controls",
          "model_name": "FloatSliderModel",
          "state": {
            "_view_name": "FloatSliderView",
            "style": "IPY_MODEL_4d135073acd644e3937d548513b0cf87",
            "_dom_classes": [],
            "description": "corr_coef",
            "step": 0.1,
            "_model_name": "FloatSliderModel",
            "orientation": "horizontal",
            "max": 1,
            "_view_module": "@jupyter-widgets/controls",
            "_model_module_version": "1.5.0",
            "value": -1,
            "_view_count": null,
            "disabled": false,
            "_view_module_version": "1.5.0",
            "min": -1,
            "continuous_update": true,
            "readout_format": ".2f",
            "description_tooltip": null,
            "readout": true,
            "_model_module": "@jupyter-widgets/controls",
            "layout": "IPY_MODEL_f19c6a3829ab4915aec653569a20e4a1"
          }
        },
        "046417030ab4460b9012e7d71ae8c82a": {
          "model_module": "@jupyter-widgets/output",
          "model_name": "OutputModel",
          "state": {
            "_view_name": "OutputView",
            "msg_id": "",
            "_dom_classes": [],
            "_model_name": "OutputModel",
            "outputs": [
              {
                "output_type": "display_data",
                "metadata": {
                  "tags": [],
                  "image/png": {
                    "width": 269,
                    "height": 270
                  },
                  "needs_background": "light"
                },
                "image/png": "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\n",
                "text/plain": "<Figure size 288x288 with 1 Axes>"
              },
              {
                "output_type": "display_data",
                "metadata": {
                  "tags": [],
                  "image/png": {
                    "width": 269,
                    "height": 270
                  },
                  "needs_background": "light"
                },
                "image/png": "iVBORw0KGgoAAAANSUhEUgAAAhsAAAIcCAYAAABfImwFAAAABHNCSVQICAgIfAhkiAAAAAlwSFlzAAAWJQAAFiUBSVIk8AAAADh0RVh0U29mdHdhcmUAbWF0cGxvdGxpYiB2ZXJzaW9uMy4yLjIsIGh0dHA6Ly9tYXRwbG90bGliLm9yZy+WH4yJAAAgAElEQVR4nOzdeXiU1dn48e/JCknIwhYgSBIRWVIQEkQEIVEQZJEYCwIlCGoF/OFbRJaq9ZXQl7datShvacVqVZBNQZBNKIsgIFEgsspWKCABwpKNLBCynN8fkxlmss4kM5lJcn+u67lm8jznPM+dEZM7Z1Vaa4QQQgghHMXN2QEIIYQQom6TZEMIIYQQDiXJhhBCCCEcSpINIYQQQjiUJBtCCCGEcChJNoQQQgjhUJJsCCGEEMKhJNkQQgghhENJsiGEEEIIh5JkQwghhBAOJcmGEEIIIRxKkg0hhBBCOJQkGy5OKbVEKbXE2XEIIYQQVeXh7ABEpTpERkZGAr9xdiBCCCEEoGytIC0bQgghhHAoSTaEEEII4VCSbAghhBDCoSTZEEIIIYRDSbIhhBBCCIeSZEMIIYQQDiXJhhBCCCEcSpINIYQQQjiUJBtCCCGEcChJNoQQQgjhUJJsCCGEEMKhZG8UIeqoW7ducePGDbKyssjPz0dr7eyQhBBOpJTC09OTRo0a4e/vT4MGDWrs2ZJsCFEHZWdnk5ycLAmGEMJEa83t27dJTU0lLS2N1q1b4+fnVyPPlmRDiDrm1q1bpkTD39+foKAgGjRogJub9JoKUZ8VFRVx69Yt0tPTuXHjBsnJyYSHh+Pt7e3wZ0uyIUQdc+PGDVOi0apVK5SyeTdoIUQd5Obmho+PDw0bNgQMPysyMzNp3ry545/t8CcIIWpUVlYWAEFBQZJoCCFKUUoRFBQE3Pl54WiSbAhRx+Tn5wPU6OAvIUTtYvz5YPx54WiSbAhRxxgHhcoYDSFEeYytnjU1iFx+GgkhhBD1TE13sUqyIYQQQgiHkmRDCCGEEA4lU1/rkfz8fI4fP05GRgZBQUF06NABT09PZ4clhBCijpNko564ePEiy5YtIycnx3TO19eX0aNHExIS4sTIhBBC1HXSjVIP5Ofnl0o0AHJycli2bFmNTX0SojZKSEhAKWVxuLm54e/vT+vWrenVqxeTJ09m5cqV3L592yExZGRkkJCQQEJCAhkZGQ55hhCOJMlGPXDixIlSiYZRTk4OJ06cqOGIhKidgoODCQ4Opnnz5iiluHTpEomJifz9739nxIgRtGrVigULFtj9uRkZGcyePZvZs2dLsiFqJUk26oH09PRqXRdCGKSkpJiOzMxM8vPzOXz4MH/5y18IDw8nNTWVF154gTFjxsgmeEKYkWSjHjAuS1vV60KIsrm7u9O5c2defvlljh49yqhRowBYunQpb731lpOjE8J1SLJRD3To0AFfX98yr/n6+tKhQ4cajkiIusfHx4eFCxfSrVs3AN566y3S0tJM14uKiti2bRu/+93v6NmzJ61bt8bLy4smTZoQHR3NggULyhw/FRMTQ3h4uOnr8PBwi/EjMTEx1X6GEI4ms1HqAU9PT0aPHl3ubBSZ/iocoT5Otfby8uK1115jxIgR3Lhxg6+//ppnn30WgF9++YX+/fubyvr5+eHj40NaWho7d+5k586dLF26lH/961+mXTkBGjduTNOmTbl+/ToATZs2xd3d3eK6UVWfIYSjSbJRT4SEhDBlyhROnDhBenp6vfnhL5yjPk+1fuyxx3B3d6ewsJDvvvvOlGx4eHgwZswYRo4cSe/evU1JQnZ2NitXruQPf/gDu3bt4g9/+ANz58413W/VqlWcO3fO1Lqxb98+wsLCynx2VZ8hhKMpGcTk2pRSSZGRkZFJSUnODkXUEsePHwegY8eOTnl+fn4+8+bNK3MGlK+vL1OmTKlVSW5CQgKzZ88GrN+06t577+Xf//43vXv3Zvfu3VbV2b9/P/fffz++vr5cv37dYtde82Tj7Nmz5SYb1XmGqH+q8bPC5o1VZMyGEMKuZKr1na4N8zEblenevTvNmzcnJyeHgwcPOiSumniGEGWRZEMIYVcy1bp8t2/fZsGCBQwYMIBWrVrh7e1tMdjz6tWrACQnJ7v0M4SwlYzZEELYlUy1vtOi0aRJE9O5q1ev0r9/f44cOWI616BBA4sBn9euXaOoqKjclqHK1MQzhKgKadkQQthVfZ9qnZ2dzX/+8x8A2rZtazo/depUjhw5QpMmTfjkk0+4fPkyN2/e5Nq1a6aFwlq1agVYPzakpJp4hhBVIcmGEMKujFOtSyYc9WWq9aZNmygsLAQwrYGRn5/PqlWrAJg/fz7PPPMMLVq0sKhXWFhomt5aFTXxDCGqSrpRhBB2V1+nWt++fZs//elPAAQEBPDEE08Ahq6LW7duAZgW/Spp9+7dpjIlubnd+buwvBaJ6j5DCEeSZEMI4RCenp507tzZ2WHUmJs3b/Lcc89x4MABAF599VUCAwMB8Pf3RymF1ppDhw7Rvn17i7oFBQX84Q9/KPfe/v7+pvflbcRW3WcI4UjSjSKEEFVUVFTE0aNHmTt3LhERESxbtgyAsWPHMnPmTFM5Pz8/evfuDcDLL7/Mt99+S1FREQBHjx5l8ODB7N+/v9yxLoGBgabF0D799FMKCgpKlanuM4RwJEk2hBDCSi1atDAdQUFBptabadOmcfbsWZo2bcqCBQtYtGgRSlmue/T+++/j6+vLxYsX6devHz4+Pvj7+9O5c2e2b9/ORx99RNOmTct99qRJkwD461//ip+fH23atCEsLMy0+Zs9niGEo0iyIYQQVrpy5QpXrlzh6tWrFBQU0KJFC3r27MkLL7zAypUruXjxIhMnTiyzblRUFHv37uWpp56iadOmFBUV0ahRI5566in27NnD2LFjK3z2a6+9xrx58+jevTuenp4kJydz/vx5UlJS7PYMIRxFlit3cbJcubCVs5crF0LUDrJcuRBCCCHqDJmNYgOlVCTwOBAF3As0A/yBG8AJ4BvgA6219RsiCCGEEHWcJBu2eRaYbPb1LeAm0BjoVXy8pJQaprVOdEJ8QgghhMuRbhTb7AVmAA8CQVrrhlprf6ARMA64BjQFvlZKBTgvTCGEEMJ1SMuGDbTWi8o5nw0sUkqlAP8CmgNDgSU1GJ4QQgjhkqRlw75+MHvf2mlRCCGEEC5Ekg376mP2/ozTohBCCCFciHSjVJNSyhtoiaHb5I/Fp08D65wWlBBCCOFCJNmoIqXULcC7jEvfA7/RWufVcEhCCCGES5Jko+pSgAaAH2Dc2Wg7MFNr/Ys1N1BKWbMsaIeqhSeEEEK4BhmzUUVa6zCtdQuttR8QDEwHugJ7lVJ/rLi2EEIIUX9Iy4YdaK2vAn9RSu0CEoH/Vkrt1Vqvr6ReVGX3Lm79iLRPpM6Vn5/P8ePHycjIICgoiA4dOuDp6enssIQQQjiYJBt2pLXeq5TaDfQFJgAVJhv1ycWLF1m2bBk5OTmmc76+vowePZqQkBAnRiaEEMLRpBvF/i4Wv97j1ChcSH5+fqlEAyAnJ4dly5aRn5/vpMiEEELUBEk27O/u4tcsp0bhQk6cOFEq0TDKycnhxIkTNRyREEKImiTJhpWUUu5KKVVJmX5Aj+Ivdzg8qFoiPT29WteFEELUbpJsWO8u4IBSaqJS6m7zxEMpdZdS6hVgDaCANOA9J8XpcoKCgqp1XQhhG6UUSil27Njh7FCEACTZsNV9wAIMS5HfUkpdU0plA78Ab2JYb+Ms0F9rneK8MF1Lhw4d8PX1LfOar68vHTrIUiLCNSUkJJh+cZc8fHx8aNeuHePGjWPPnj3ODlVYKSMjg4SEBBISEsjIyHB2OJXKzc1l48aNzJkzhyeffJLQ0FDTv8GEhARnh2c1mY1ivUvACCAGeABohWE7+UIMycYhDC0bS7XWN50Uo0vy9PRk9OjR5c5GkemvojYIDg42vS8qKiItLY3Tp09z+vRpFi1axKxZs1zmh3/79u0B8PHxcXIkricjI4PZs2cDMH78eAIDA50cUcX27t3L4MGDnR1GtUmyYSWt9W1gZfEhbBQSEsKUKVM4ceIE6enpss6GqHVSUiwbKwsLC/nhhx+YMmUKSUlJzJ49mwEDBtCrVy8nRXiHDLquW4KCgoiMjDQdU6dOLfXv0dVJsiFqjKenJ507d3Z2GELYhbu7O7179+brr7/mrrvuAmDNmjUukWyIuqNPnz6kpaVZnHvllVecFE3VyZgNIYSohtatW9OkSRMAsrOzS13Pz89n7dq1TJgwge7du9OyZUu8vLxo3rw5AwcOZNmyZWity71/cnIyU6dOJSIiAl9fX7y9vWnVqhVRUVFMnTqVffv2lapT0QDR9PR03njjDSIjI/H398fLy4sWLVrQpUsXJk2axLZt26z+3levXo1SCi8vL1JTUyss27dvX5RSPPfcc6WuFRUVsWTJEgYPHkxwcDBeXl40a9aMAQMGVPr5ABw/fpzJkyfTqVMnGjVqhJ+fH+3bt2fUqFF89dVXFBUVARATE0N4eLipXnh4uMU4nJiYmFL3TklJYcaMGabP39fXl4iICGbOnMmVK1fKjOfcuXOme547d44zZ84wYcIEwsPD8fb2JiwsrMLvx5y7u7vVZV2a1loOFz6ApMjISC2EtY4dO6aPHTvm7DDqhFmzZmlAG35Uli05OdlUZt68eaWub9++3XQd0P7+/rpRo0YW50aMGKELCwtL1T148KAOCgoylXN3d9dBQUFaKWU6N27cuFL1jNe2b99ucf7ChQu6TZs2putubm46KChIu7u7m85FR0db/fnk5eXpxo0ba0DPnz+/3HJnz541xbxjxw6La6mpqbpv374Wn0dAQIDF18OGDdN5eXll3vutt97Sbm5uprINGjTQjRs3tjiXnp6utdY6Li5ON23a1HS+adOmOjg42HTExcVZ3HvHjh06MDDQVN7X11f7+vqavg4KCtK7du0q8/s1llmyZIn28/PTgPbx8dG+vr46NDTU6s+4LKGhoRrQs2bNqtZ9qvGzwubfZdKyIYQQVVBYWEhiYiJxcXEANG/enKeffrpUOR8fHyZOnMiWLVvIzMwkMzOTGzdukJqayrx58/D392fFihXMnz+/VN1p06aRnp5OZGQkiYmJ5Ofnk5aWxq1btzh16hTvvvsuERERVseckJDAL7/8QlhYGFu3buX27dukpaWRl5fHuXPn+OCDD+jZs6fV9/Py8mLkyJEAfP755+WWW7x4MVprwsLC6Nu3r+l8YWEhTz75JDt37qRr166sW7eOnJwcMjIyyM7OZuHChTRv3py1a9fy+9//vtR9P/jgA1555RWKiooYNmwYBw4c4ObNm6SmppKVlcXmzZsZOXIkbm6GX3WrVq2yaAnat28fKSkppmPVqlWmaxcuXOCJJ54gIyODTp06sXv3brKzs8nOzmbnzp20b9+e9PR0YmNjuXjxYqnYjCZOnEhERAT79u0jJyeH7OxsNm/ebPVnXGdUJUORQ1o2asLt27f1oUOH9HfffacPHz6sb9++7eyQaoVK/1qBun3YkXnLhvlfwM2aNTO1Bvj7++sxY8boc+fOVekZK1as0IBu27ZtqWsNGzbUgN6zZ49N9zTGXLJlo2PHjhrQS5curVKsZUlMTDQ97+TJk2WWuffeezWgX3/9dYvzixYt0oDu0KGDzsjIKLPu/v37tVJKe3l56StXrpjOp6WlmVqIRo0apYuKiqyK17zV4ezZs+WWmzRpkqn14vLly6WuX7hwQfv7+2tAT548udxnhIaG6qysLKtis5a0bAhhJxcvXmTevHmsXr2a7du3s2rVKubNm1fhXxBCONKVK1dMx7Vr1ygsLAQM6yBkZmaW239fmSFDhgBw5syZUjMMjNMyL1++XI3IHXc/gJ49e9KuXTug7NaNvXv3curUKQDGjh1rce2f//wnAC+88AIBAQFl3j8qKoqIiAhu377N9u3bTedXrlxJVlYWnp6ezJ07l0oWeLaJ1povv/wSgEmTJtGiRYtSZVq3bs2kSZMAWL58ebn3evHFF/Hz87NbbLWVJBvC5cjGbcIVlfxL7ebNmxw4cIBx48axfv16+vbty9dff11m3aysLN555x2io6Np3rw5Xl5eFouDGSUnJ1vUGzp0KADjxo1j2rRpfPfdd+Tm5lb5ezDe75VXXmHChAls2rSJGzduVPl+RsYkwthdYs6YgDzwwAPce++9pvPGqcNg6N5p0aJFucfJkycBOH/+vKm+cSG1qKgoWrZsWe3vwdzZs2dNM0D69+9fbrlHH30UgNTUVM6ePVtmmd69e9s1ttpKkg3hcmTjNlEbNGjQgK5du/Lxxx8TFxdHXl4e48ePL/XL+9SpU3Tq1ImZM2eyc+dOrl27hqenJ82aNSM4ONhisbCS/+7ffvttHn74YbKzs5k7dy4xMTH4+/vTvXt3Zs2aZXNL34wZM3jqqafIz8/no48+YtCgQQQGBtK5c2dmzJhh+qVuq7Fjx5pmXuzevdt0Pj8/3/RXf8nxLMaxImCYIWPeclTyMP6BYZ5oGVuBQkNDqxRzRa5evWp6HxISUm651q1bl1nHXPPmze0XWC0myYZwObJxm6htnn/+eQAyMzP55ptvLK4988wzJCcnExYWxooVK0hNTSUnJ4erV6+SkpJikTCUbBUIDAzk22+/ZdeuXcycOZPevXvj4eFBUlISf/zjH2nXrh3Lli2zOk5PT0+++OILDh48yBtvvMEjjzyCj48PR48eNQ02/ctf/mLz9x8WFkafPn0AWLRoken8pk2buH79usVAUiNjNxTAxo0brer3N1+h1Z7dJo5UZ6auVpMkG8LlyMZtorYx/+vavDn9woULpub+ZcuWMXz4cBo3bmxR15qVIB966CH+/Oc/s3v3bjIyMlizZg2dO3fm5s2bPPvsszaPF7nvvvuYPXs227ZtIyMjg61bt9K3b18KCwuZMWMGhw4dsul+cKcrZcWKFdy6dQu404UyePBg01okRk2aNMHDw7CupHn3iLWM4yiqUrcy5q0RJbu2zJlfkxaMikmyIVyONRu35efnc/jwYXbu3MmRI0dkHIctnD9fxLGHE5j/0jH/t3vhwgXT+27dupVZd+vWrTY9q0GDBgwbNsw0TfPWrVsWXRe28vDwoF+/fmzYsAFvb2+01jbHBDBixAgaNGhAZmYm69atM71C6S4UMLSy9OjRA8BUzhbGlVr3799v04BX4zRYKN2SZBQeHm5KCita5Mz4OTVp0sRisTBRmiQbwuUYN24rmXAYN267evWqzFQRLmXp0qWm9927dze9N59hUVZrQVZWFnPmzCnzngUFBaaVL8vSsGFD03vzX6AVMY6RKIu3t7epyd/a+5kLCAggNjYWMHSlGFs4GjdubJpxU9KECRMA+Oabb0p1P5VUcsnuESNG4O/vT0FBAVOnTi03cSjJ39/f9L68XV+VUqZunw8//LDM1qdLly7x4YcfAjB69Girnl2fSbIhXJJx47Ynn3yShx9+mCeffJIpU6bQvHnzcmeqLF26VFo4RI1KSUnh9ddfZ+HChYBhGuiDDz5out6xY0fatGkDwLPPPktSUpLpWmJiIjExMeWOQUpOTqZdu3bMmTOHAwcOUFBQYLp2+PBh4uPjAUMSHh0dbVW8oaGhvPrqq/zwww8Wicfp06cZM2YMubm5uLm5MXDgQCs/AUvGrpRNmzaZFikbOXIkXl5eZZaPj4+nf//+aK2Ji4tjzpw5XLp0yXQ9JyeH7du3M3nyZO6++26LugEBAbz99tsAfPHFF8TFxXHw4EHT9dzcXDZs2EBsbKzFoN3AwEDToM9PP/3U4nM199prrxEYGEhaWhr9+/c3dYcBfP/99/Tv35+MjAwaN27s8L1K0tPTuX79uukwJqG5ubkW58taLt9lVGVxDjlkUS9nOXz4sE5ISCj3KLkUcn0ky5XbT3mLegUHB5daUrtz58764sWLpe6xbt067eHhYSrn4+OjfXx8NBiWv966dWuZi3CZLwwFhqXKGzdurL28vEznvLy89IoVK0o9s6z7mZ+HO0uVN2jQwHROKaXfe++9Kn9e+fn5Ojg42OI5iYmJFdbJzMzUQ4cOtajj7++vAwMDLZZl9/DwKLP+n/70J4ulyRs2bFjucuVG//M//2O65u3tre+66y4dGhqqR44caVFux44dFv+dSy5XHhgYqHfu3FkqJmsXDrOWcRGvyo6ylq6viCzqJUQ5KpuJsmvXrmqtQyBEeUpOx8zNzaVFixYMHDiQjz76iP3799OqVatS9YYOHcrOnTsZMmQIgYGBFBQU0LRpU5555hmSkpLo169fmc8LCQlh7dq1TJ06lZ49e9KyZUuys7Px8PCgU6dOTJ48maNHjzJ8+HCrv4fNmzfz6quv0qdPH+666y5u3rwJwD333MMzzzzDvn37eOmll6r2AWEY/2HepdCuXbtKlz/39/dn3bp1fPPNN4wcOZI2bdqQl5dHbm4uISEhDBgwgDfffLPcabmvvvoqhw4d4vnnn+eee+4B4Pbt27Rr147Ro0ezatUqi64TMLRazJs3j+7du+Pp6UlycjLnz58v1V0SHR3N8ePHmTZtGh07dqSoqAitNR07dmT69OkcP37cNAtHVExpK/u5hHMopZIiIyMjzZtf67MjR45Y7F9QFm9vb8aOHVvh/Pi67Pjx44ChCV8IIcpTjZ8VNs87lpYNUat06NABT0/PCsvk5eXJSqNCCOFCJNkQtYqnp6dVy//KSqNCCOE6JNkQtU6vXr3KXYfDnKw0KoQQrkGSDVHrGNfh8Pb2rrCcrDQqhBCuQZINUSuFhITwu9/9rtyEw7jSqBBCCOeTZEPUWj4+PowdO7bclUYrG0gqhBCiZng4OwAhqsO40uiJEydIT08nKCjIqhkrQgghao4kG6LW8/T0pHPnzpWWy8/P5/jx42RkZEhSIoQQNUiSDVEvXLx4sdSeKsbulvq6+JcQQtQUGbMh6rz8/PxyN2+Txb+EEMLx7JpsKKXa2/N+QtjDiRMnSiUaRjk5OWzZskUSDiGEcCB7t2wcU0rtUEqNUUpVvAiCEDWkssW99u3bx9tvv82ZM2dqKCIhhKhf7J1sKKAPsAi4pJSap5T6lZ2fIYRNrFncq6CggMWLFyMb3gkhhP3ZO9lYDxRhSDqCgBeBQ0qpRKXUM0opHzs/T4hKdejQwarlzQHWr18vW9QLIYSd2TXZ0FoPA0KBN4BzGJIOBfQAPgYuK6U+UEpF2vO5QlTEuLy5tQnHjh07HBuQEELUM3afjaK1vqS1nqO1vhsYAKwA8jEkHY2ACcA+pVSSUmqiUqqRvWMQoiTj4l/3339/pWWvX79eAxEJIUT94dCpr1rrrVrrkUBrYAZwgjutHV2Bv2MY2/GxUqqnI2MRwtPTk0cffRQPj4qXl2natGkNRSSEEPVDjayzobW+rrX+i9a6E9AX+By4hSHp8AWeAb5XSh1RSv2XUiqwJuIS9Y+npyejRo2qsExMTEzNBCOEgyilUEpJl6BwGTW+qJfWerfWehzQCkPLhpECOgHvA8lKqQVKqbCajk/UfW3btmXo0KFlXouNjcXHR8YxC4OEhATTL+6Sh4+PD+3atWPcuHHs2bPH2aEKK2VkZJCQkEBCQgIZGRnODqdSqampfPrpp8THx9OpUyd8fX3x9vamdevWPPHEE6xevdrZIVqlxpcrV0o1AJ4Cngd6ARpDooHZq0/x9XFKqd9rrf+vpuMUdVtUVBQdO3Zkx44dXL9+naZNmxITEyOJhihXcHCw6X1RURFpaWmcPn2a06dPs2jRImbNmkVCQoLzAjTTvr1hfUX591xaRkYGs2fPBmD8+PEEBrp2Q3qLFi0oKCgwfd2gQQM8PT25ePEiFy9eZM2aNQwaNIiVK1e69H/vGmvZUEp1VUr9DbgMfIoh0TCO39gOjASaYBhAmlR83ht4TykVW1NxivrDx8eHwYMH8/TTTzN48GCX/h9VOF9KSorpuHr1Knl5eezevZuoqCgAZs+e7TItHCdOnODEiRP06NHD2aGIaiooKKBHjx78/e9/58yZM9y8eZPs7GzOnj3Lc889B8DGjRuZOHGikyOtmEOTDaWUX/GMk/0YEohJQACGRCINmAu011r301qv0Fqna60/1lrfDzwBZBaXneHIOIUQwlbu7u707t2br7/+2nRuzZo1ToxI1EXffvstP/74Iy+88AJ333236XxYWBgff/yxKclYvHgxFy5ccFaYlXJIsqGUelAp9QmGVoy/A92404rxPTAWaK21nq61/ndZ99BarwXeKf6yoyPiFMIa+fn5HD58mJ07d3LkyBHZR0VYaN26NU2aNAEgOzu71PX8/HzWrl3LhAkT6N69Oy1btsTLy4vmzZszcOBAli1bhta63PsnJyczdepUIiIiTP31rVq1IioqiqlTp7Jv375SdSoaIJqens4bb7xBZGQk/v7+eHl50aJFC7p06cKkSZPYtm2b1d/76tWrUUrh5eVFampqhWX79u2LUsr017i5oqIilixZwuDBgwkODsbLy4tmzZoxYMCASj8fgOPHjzN58mQ6depEo0aN8PPzo3379owaNYqvvvqKoqIiwDD4Ozw83FQvPDzcYhxOWYPDU1JSmDFjhunz9/X1JSIigpkzZ3LlypUy4zl37pzpnufOnePMmTNMmDCB8PBwvL29CQsLq/D7Mffwww9XeN3889y/f7/V961xWmu7HcBLwBGgsPgoKj7Sgf8DImy835Di+oX2jLMa318TDDNnFgPHgBwgD0gGvgbiHPDMpMjISC2cIzk5Wb/zzjs6ISHBdLz55pv63Llzzg6tXMeOHdPHjh1zdhh1wqxZszSGcWXllklOTjaVmTdvXqnr27dvN10HtL+/v27UqJHFuREjRujCwsJSdQ8ePKiDgoJM5dzd3XVQUJBWSpnOjRs3rlQ947Xt27dbnL9w4YJu06aN6bqbm5sOCgrS7u7upnPR0dFWfz55eXm6cePGGtDz588vt9zZs2dNMe/YscPiWmpqqu7bt6/F5xEQEGDx9bBhw3ReXl6Z937rrbe0m5ubqWyDBg1048aNLc6lp6drrQjh7UsAACAASURBVLWOi4vTTZs2NZ1v2rSpDg4ONh1xcXEW996xY4cODAw0lff19dW+vr6mr4OCgvSuXbvK/H6NZZYsWaL9/Pw0oH18fLSvr68ODQ21+jOuzOHDh03PWrFihU11q/GzwubfZfZu2ZiLYUaJsRVjH/Ac0Epr/Tut9c823q+g8iI1KgX4BBiDobXFDcOCZSFALLBKKfWNLMteN5S3NX1eXh6fffZZrd24Tam6fdSUwsJCEhMTiYuLA6B58+Y8/fTTpcr5+PgwceJEtmzZQmZmJpmZmdy4cYPU1FTmzZuHv78/K1asYP78+aXqTps2jfT0dCIjI0lMTCQ/P5+0tDRu3brFqVOnePfdd4mIiLA65oSEBH755RfCwsLYunUrt2/fJi0tjby8PM6dO8cHH3xAz57WL3nk5eXFyJEjAfj888/LLbd48WK01oSFhdG3b1/T+cLCQp588kl27txJ165dWbduHTk5OWRkZJCdnc3ChQtp3rw5a9eu5fe//32p+37wwQe88sorFBUVMWzYMA4cOMDNmzdJTU0lKyuLzZs3M3LkSNzcDL/qVq1aZdEStG/fPouxOKtWrTJdu3DhAk888QQZGRl06tSJ3bt3k52dTXZ2Njt37qR9+/akp6cTGxvLxYsXy/3eJ06cSEREBPv27SMnJ4fs7Gw2b95s9WdcGfPWq86dO9vtvnZXlQylvANDK8QNYAHQzQ73a4Bh+fNQe8ZZjXg08CPwAnC32fkwDMuxGzPMz+34TGnZcJLDhw9btGiUdbhiC0dlf61A3T7sybxlw/wv4GbNmplaA/z9/fWYMWOq/G9hxYoVGtBt27Ytda1hw4Ya0Hv27LHpnsaYS7ZsdOzYUQN66dKlVYq1LImJiabnnTx5sswy9957rwb066+/bnF+0aJFGtAdOnTQGRkZZdbdv3+/VkppLy8vfeXKFdP5tLQ0UwvRqFGjdFFRkVXxmrc6nD17ttxykyZNMrVeXL58udT1CxcuaH9/fw3oyZMnl/uM0NBQnZWVZVVstkpPT9ctW7bUgO7Tp4/N9Wtzy8YLGFoxJmmtD1T3ZlrrW1rr81rr83aIzR4e0Vo/oLX+QGv9H+NJrfU5rfVvgQ+LT8Urpe5yTojCXirbmh4Mf80dPHhQxnHUA1euXDEd165do7CwEIDc3FwyMzPL7b+vzJAhQwA4c+YMKSkpFteM0zIvX75cjcgddz+Anj170q5dO6Ds1o29e/dy6tQpAMaOHWtx7Z///CcAL7zwAgEBAWXePyoqioiICG7fvs327dtN51euXElWVhaenp7MnTsXZcdmLa01X375JQCTJk2iRYsWpcq0bt2aSZMmAbB8+fJy7/Xiiy/i5+dnt9iMioqKGDt2LJcvX6ZBgwZltoy5EntvxPah1rr0CKk6Qmu9vZIi/zR7392RsQjHs2Zr+sLCQtasWcO8efMqbEoVtV/Jv9Ru3rzJgQMHGDduHOvXr6dv374WM1PMZWVl8c477xAdHU3z5s3x8vKyWBzMKDk52aKecfG5cePGMW3aNL777rtq7UpsvN8rr7zChAkT2LRpEzdu3Kjy/YyMSYSxu8ScMQF54IEHuPfee03nCwsL+eGHHwBD906LFi3KPU6ePAnA+fN3/u40TjOOioqiZcuW1f4ezJ09e5a0tDQA+vfvX265Rx99FDAsvHX27Nkyy/Tu3duusRlNmTKF9evXA/C3v/2NLl26OOQ59mLXZEMp9W3x0cvGevcX17N+GLRrumX23t1pUQi76NChA97e3laVzcnJ4fPPP5ft6euRBg0a0LVrVz7++GPi4uLIy8tj/PjxpX55nzp1ik6dOjFz5kx27tzJtWvX8PT0pFmzZgQHB1ssFlZyfNDbb7/Nww8/THZ2NnPnziUmJgZ/f3+6d+/OrFmzbE5wZ8yYwVNPPUV+fj4fffQRgwYNIjAwkM6dOzNjxgzTL3VbjR071jTzYvfu3abz+fn5pr/6S45nMY4VAUMronnLUcnD2HJo/v+XsRUoNDS0SjFX5OrVq6b3ISEh5ZZr3bp1mXXMNW/e3H6BFZs+fbqpJeO9997j2Weftfsz7M3e3SgxQDRg605WjYvrxtg3nBoXY/b+iLOCEPZh3JreWnl5ebzzzjtV/oEtaq/nn38egMzMTL755huLa8888wzJycmEhYWxYsUKUlNTycnJ4erVq6SkpFgkDCVbBQIDA/n222/ZtWsXM2fOpHfv3nh4eJCUlMQf//hH2rVrx7Jly6yO09PTky+++IKDBw/yxhtv8Mgjj+Dj48PRo0dNg03/8pe/2Pz9h4WF0adPHwAWLVpkOr9p0yauX79uMZDUyNgNBYZFqazp9zdfodWe3SaO5O5u3787Z86cafpv9O677/LSSy/Z9f6OUuN7o9RVxZvHvVr85S6ttfzGqQNCQ0OJj4+3qc7y5cvtOtrc3pw/hNOxhzOY/3Vt3px+4cIFU3P/smXLGD58OI0bN7aoW3KcRlkeeugh/vznP7N7924yMjJYs2YNnTt35ubNmzz77LM2jxe57777mD17Ntu2bSMjI4OtW7fSt29fCgsLmTFjBocOHbLpfnCnK2XFihXcumVo5DV2oQwePNi0FolRkyZNTDswm3ePWMs4jqIqdStj3hpRsmvLnPk1R7RglDRjxgzeecew/NTbb7/NtGnTHP5Me3GVZMPYVn3bqVFUkVLKDcNOti0xdKW8aGW9pMoOoIMDQxdWaNu2LePHj7e6SwUgMTGRn3+2daa3qK3Mf+n4+vqa3puv6NitW7cy627dutWmZzVo0IBhw4aZpmneunXLouvCVh4eHvTr148NGzbg7e2N1trmmABGjBhBgwYNyMzMZN26daZXKN2FAoZWFuNy6sZytujVy9Bbv3//fpsGvBqnwULpliSj8PBwU1JY0SJnxs+pSZMmFouFOcL06dN59913AUOiMWNG7VpY21WSDePIljSnRlF18wDjNqKTtdaHnRmMsL/Q0FCmTZtGbGwsnp6eVtVZuXKlQ/7qEq5n6dKlpvfdu98ZG24+w6Ks1oKsrCzmzJlT5j0LCgpMK1+WpWHDhqb35r9AK2IcI1EWb29vU5O/tfczFxAQQGysYRurRYsWmVo4GjdubJpxU9KECRMA+Oabb0p1P5VkHLBpNGLECPz9/SkoKGDq1KnlJg4l+fv7m96Xt+urUsrU7fPhhx+W2fp06dIlPvzQMAHRlu7Wqpg+fbpF10ltSzSgGsmGUqqNUqqv+WF2+Vclr5VxRCulBiulXgdmYpiTfLC631BNU0q9y52WjKla60+srau1jqrsAE44JHBhM09PT7p27cq4ceOs7oddsmSJTIutw1JSUnj99ddZuHAhYJgG+uCDD5qud+zYkTZt2gDw7LPPkpSUZLqWmJhITExMuVOsk5OTadeuHXPmzOHAgQMWO38ePnzY1L3n6+tLdHS0VfGGhoby6quv8sMPP1gkHqdPn2bMmDHk5ubi5ubGwIEDrfwELBm7UjZt2mQawDhy5Ei8vLzKLB8fH0///v3RWhMXF8ecOXO4dOmS6XpOTg7bt29n8uTJFvuCgCG5efvttwH44osviIuL4+DBO79CcnNz2bBhA7GxsRaDdgMDA02DPj/99FOLz9Xca6+9RmBgIGlpafTv399ik73vv/+e/v37k5GRQePGjXnllVes/oxsZT5GY+7cubWq68ScsjYbLFVRqVnAGyVPF7/aelNVXGe01vrLKgXkBEqpt7mzSdx0rbXtI6sqf0ZSZGRkpPkPKeF8+/fvZ8OGDVaVjY2NpWvXrg6O6I7jx48Dhl90onoSEhJM25GbzxoBQ/dFZmam6evOnTuzadMmWrVqZVFu/fr1xMXFmX6pGae65ubm4uvry5o1a0zTK7dv327an+PcuXMWTfPu7u4EBASQnZ3N7duGHmcvLy+WLFnC8OHDLZ5pHDxpfj/z82BovQgICODmzZumMRZKKebOnVvlQYcFBQW0bt3aYgxJYmJihauS3rhxgzFjxpimcYKh9cHNzY3MzExTi4WHh0eZifubb77J66+/bmoFatiwIQ0bNiQjI8N0Lj093WIr+Tlz5vDf//3fgKFFp3nz5ri5udGzZ0+LNTO+++47YmNjTf+djV1kxllDgYGBrF271jQ41sj8v93Zs2dt2gvF3C+//GIaD+Tm5kazZs0qLD99+nSmT59u9f2r8bPC5tG51e1GUSWO8s5XduQDb9WyROMd7iQaMx2RaAjXdd9991ndurF//35p3agDSk7HzM3NpUWLFgwcOJCPPvqI/fv3l0o0wLC2xc6dOxkyZAiBgYEUFBTQtGlTnnnmGZKSkujXr1+ZzwsJCWHt2rVMnTqVnj170rJlS7Kzs/Hw8KBTp05MnjyZo0ePlko0KrJ582ZeffVV+vTpw1133cXNmzcBuOeee3jmmWfYt29ftWY3eHh4WHQptGvXrtLlz/39/Vm3bh3ffPMNI0eOpE2bNuTl5ZGbm0tISAgDBgzgzTffLHeW16uvvsqhQ4d4/vnnueeeewC4ffs27dq1Y/To0axatcqi6wQMrRbz5s2je/fueHp6kpyczPnz50t1l0RHR3P8+HGmTZtGx44dKSoqQmtNx44dmT59OsePHy+VaNiTeTdaUVFRhdODr1y5UuZGgK6iOi0b0ZSeqjoLQwvFl1Te/F8EZANnMczeqHjLQBdS3HVibMuaqbV+p6Ly1XyWtGy4qPPnz/PZZ59ZVdbT05PevXvTq1cvq8d8VJW0bAghrFGTLRtVTjbKvJlSRRiSjTht2CK+zimRaDik66TE8yTZcGHnz59n4cKFVg9O8/b2ZvTo0Q5ZiMhIkg0hhDVqUzdKSbOBP1JHBzUWj9EwJhovS9eJCA0NZfr06Va3Vhh3jJVZKkKI+sTee6PMLj5O2fO+rkAp1YY7YzSKgN8rpVIqOKwfpSNqNR8fH8aNG2exvkJlPv/8cxnHIYSoN1xlnY3awK3E++BKDvtv8ydcVkhICFOmTOH++++3qnxhYSEbN26UhEMIUS9IsmGl4m3klQ1HgrNjFjXL09OTRx991OoWjgMHDvDee+/JbrFCiDqvSsmGUuo/xceZcs5X9ThT3jOFqA2Mm7eZbxtekZs3b/LPf/7TYr0GIYSoazyqWC+s+LXkEPyw4nNV3Y7PSdsoCWE/ISEhvPTSS3z66adW7dmgteb9999nwIABFqtPCiFEXVHVZOMXyk4MyjsvRL3i6elJfHy8aYdGa2zevJmsrCwGDBjgwMiEEKLmVSnZ0FqH2XJeiPrIx8eH2NhY1qxZY3WdxMREoqKiSm3HLYQQ9mTPNbasIQNEhXCgrl27MmPGjEr3NDA3f/78ag0aNe5/UdGOoUKI+s2YbJjvl+NIkmwI4WA+Pj6MHz/epjrVWYfDuMCYcXMtIYQoyfjzwdHbJxjZNdlQSkXY835C1BXGLhVr5eXlsXjxYnJzc21+VqNGjQDDTpc13VQqhHB9WmvS09OBOz8vHM3eLRtHlFJJSqmXlFLBlRcXov4wdqmEhIRYVf6XX37hnXfewdZ9cfz9/VFKcePGDS5dukRubq5pt0ohRP2ktaaoqIjc3FwuXbrEjRs3UEoREBBQI8931EZsYFjSexuwCPhaa237n2hCNmKroxYsWMCVK1esLh8fH0/btm2tLp+dnU1ycrIkGEKIMimlaN26NX5+VVrs2ukbsX0N3C4OxB14FPgcuKKUWqiUelTV1GgUIVzY008/bVP5JUuW2NSl4ufnR3h4OE2aNMHLy6vGBoEJIVyXUgovLy+aNGlCeHh4VRONqj3b3n/5KKUCgKeAeOAh7mRAxgelAEuBxVrrQ3Z9eB0kLRt1V1JSEuvXr7e6vIeHB+PHj7e6G0YIIRzE6S0baK0ztdYfaa2jgXDgdeBYcXAKaAm8DPyklDqslJqhlJKfnqLeiYqKIj4+3upWh4KCAj777LMqDRoVQghncujUV631L1rrP2mtfwVEAe8Bl7mTeEQAbwHnlVJblVLjHBmPEK6mbdu2TJkyxeryBQUFvPvuu5w/f96BUQkhhH3V2DobWusDWutpwF3AQGAxkIMh6XADHgE+qal4hHAVAQEBDB061OryWms+++wzzpyRfQuFELVDjS/qpbUu0lpv0Vo/DQQDMzEMKhWi3rK1SwVg8eLFnDx50oFRCSGEfThlBVGllF9xl8la4E2gZpYwE8KFtW3blunTp+Pu7m51neXLl9u8DocQQtS0Gks2lFLuSqkhSqllGGakfIKh68QdQ1dKDoauFSHqLR8fH8aOHWtTnfXr18ugUSGES3N4sqGUekAp9VfgEoaWjKcAHwwJRhGwGRgLBGutZYCoqPdCQ0OJj4+3qc6mTZscFI0QQlSfQ5INpVRbpdQspdQpYA/w/4Bm3JmFchCYBrTWWj+mtV4iK4wKcUfbtm0ZNWqU1eWPHDki3SlCCJdl743YJiulEoFTwBtAW+4kGMnAn4Ffaa0jtdbvaa2tX69ZiHqmffv2DBo0yOry69evlxkqQgiX5Ki9UYxD6rOAlRjGYuzQslGDzWQFUXHmzBkWL7Z+OFN4eDixsbE1tsGSEKLesXkFUUckGwXAvzAkGGu01rfs9oB6SJINAZCZmcn7779vU53evXvTv39/B0UkhKjHnL5c+RQgRGv9uNb6C0k0hLCPgIAAYmNjbarz/fffc+DAAQdFJIQQ1rNrsqG1/qvW+po97ymEMOjatSsvvviiTXXWrl3LunXrHBSREEJYxymLegkhqqZJkyY2LW0O8NNPP/HFF184KCIhhKicJBtC1DLGpc09PDysrnPixAmOHTvmwKiEEKJ8VRogqpQybpimtdbPlXG+qizuJ2SAqChffn4+Bw4cYOPGjVbXefHFF2nSpIkDoxJC1AM1MxvFbIorWmv3ss5Xlfn9hCQbonLLli3j1KlTVpfv27cvDz/8sAMjEkLUcTU6G6W8h6lqHEIIGw0fPtym3WJ37txJZmamAyMSQghLVU02wouPu8s5X9Wj5P2EEJXw9PRkzJgxNtX54IMPZPM2IUSNseuiXsL+pBtFWGvv3r02jd8AGDp0KFFRUQ6KSAhRRzl9US8hhJP06NGDuLg4m+qsX7+ekydPOigiIYQwsPdGbH2Lj8Y21gs01rVnPELUN126dOHBBx+0qc7y5csl4RBCOJS9WzZ2ANuBh2ys90Bx3W/tHI8Q9c6AAQN47LHHbKqzfPlyEhMTHRSREKK+c7VuFJmRIoQdPPDAA7Rt29amOps3b2bPnj0OikgIUZ+5SrJhTDJktKoQdhIfH2/z0uZbtmzh8OHDDopICFFfuUqy0bT4NcepUQhRx0RFRTFo0CCb6qxevVo2bxNC2JXTkw2llDcwrvjLc04MRYg6qUePHsTHx+PmZv3/7j/99BMrVqxwYFRCiPrE+p2cSlBKjeNOklDSHKXUS5XdAvAFOhS/amBbVeMRQpSvbdu2vPLKK8yfP58bN25YVefYsWNcuXKF4OBgB0cnhKjrqryol1JqFjALy3EWVRl7YaxzFYjUWl+qUkA1QCnlA0QDUUBk8Wub4suztdYJDnimLOol7CYzM5P333/fpjrx8fE2DzYVQtRpTlnUq6y9TazdByUbOAy8h4snGsV6AN8A/wPEcSfREKJWCAgIIDIy0qY6ixcvZvfu3Q6KSAhRH1Q52dBaz9Zau5kfxkvAEyWvlXG4a60DtNZdtdbTakGiYZSOobvnHWA0kOLccISwzeOPP05oaKhNdbZt28ZXX33loIiEEHWdIwaI1uW1MnZprRtrrftrrWdqrZcDec4OSghbjR8/ntjYWJvqHD16lA8//NBBEQkh6jK7JhtmrRZr7XlfV6G1LnR2DELYS9euXRk1apRNdVJSUmze7E0IIZw+9VUI4Tzt27dnwIABNtWpyu6yQoj6rcpTX8uilHIHfoOhK2W/1vqYFXU6Ad2BIq31YnvGI4So3IMPPkhBQQHffmv91kR79+6lcePGPPDAAw6MTAhRV9g12QCGAAuBIgzrZ1gjD/gEUEqpa1rrf9k5JpellLJmPqu1n6MQVdanTx/c3d3ZsmWL1XU2bdrEyZMnefrppx0YmRCiLrB3N4pxxNkerfVpayporc8AuzG0hjxp53iEEFbq1auXzWM4zp49y6ZNmxwUkRCirrB3y0YPDFNfbd0q/lugL4at5usNrXVUZWWKWz9sWxhBiCpq37498fHxLF5sfY/mjz/+SGFhIUOGDHFgZEKI2szeLRvGyfv/trHemeLXMPuFIoSoirZt2zJs2DCb6uzfv5/Nmzc7KCIhRG1n72TDu/jV1rUnbhe/+tgxFiFEFXXr1s3mhb8SExNZvny5gyISQtRm9k420opfW9lYz1g+046xCCGqYfz48XTp0sWmOidPnmTlypUOikgIUVvZO9kwDgp9zMZ6A4tfz9oxFiFENcXFxfHggw/aVOfnn3/ms88+c0xAQohayd7JxlYMs0oGKqX6WFNBKRWNITnRgHT6CuFiBgwYQLt27Wyqc/78efbu3eugiIQQtY29k41/ALeK369WSvWrqLBSqj9g3N3pNuDyGy8opYKUUk2NB3c+Qx/z80opP2fGKYQ9/eY3v6F9+/Y21dm4caOsNCqEAEBpre17Q6VeAf6EoaUCYAewFjiOYUt5P6AjMAyIwdASooE3tNb/a9dgHEApdY47s24qslBrPd4Oz0uKjIyMTEqyZv0vIRzr2LFjrFixwqY6Dz30EP36Vfh3hxCidrF5w1V7r7OB1votpVQIMLn4VEzxURZjwPNrQ6IhRH3XqVMnXnrpJd5//32r6+zevZvs7Gybd5kVQtQdDtmITWv9X8Ao4CSGhKK84wTwlNZ6iiPicAStdZjWWllxjHd2rEI4QkBAgM2Jw8GDB1m4cKGDIhJCuDq7d6NY3FwpBUQBDwGtAX/gBpAM7NJaS99AJaQbRbiq1NRU5s+fb1OdkJAQfvvb3zooIiFEDXF+N4o5bchk9hcfQog6pEmTJvTr149t27ZZXefixYusXr2auLg4B0YmhHA1DulGEULUDw899BAdO3a0qc7hw4fZs2ePgyKq2/Lz4cUX4bRV21wK4Tok2RBCVMtTTz1FTEyMTXW2bNlCZqYsGGyL/HwYPRr+9jd4+GFJOETtIsmGEKLaoqOjGT58uE113n//fc6cOVN5QWFKNL4qXpUoOVkSDlG7OCzZUEr1UUr9Qyl1SCmVqpTKV0oVVnIUOCoeIYRjRUREMGDAAJvqLF68mMTERAdFVDeUTDSMJOEQtYndkw2llJ9SahWGxbyeAzoDQYA7FU+DNR5CiFrqwQcfJDo62qY6mzdvljEc5Sgv0TBKToY33qjZmISoCkfMRvkSw8ZqCsgBjgA9MawSegy4iWEFzmbF5TWQVFxWCFHLxcTEkJWVxU8//WR1nS1btuDn52fzLrN1WWWJBkDfvvCPf9RcTEJUlV1bNpRSQ7mz4+sKoKXWupdZkT9orXtorYMxrL+xBkNS0hB4Tmv9sD3jEUI4x+OPP0737t1tqrN69Wo2bNjgoIhqF2sTjQ0bwE92YRK1gL27UcYUv6YB47XW2eUV1Fof0FrHAf8LRABrlFIN7ByPEMJJhgwZYvN6Gvv372fNmjUOiqh2kERD1EX2TjYewNAt8rnW+mYZ10uNydBa/zdwEOgETLBzPEIIJ+rSpQuDBg2yqc7BgwfrbcIhiYaoq+ydbDQvfj1V4rxxTfTyWi6WYEhERtg5HiGEk/Xo0cPmFo6DBw/avLtsbSeJhqjL7J1sGAecXitx3tid0oyyXSh+vcfO8QghXECXLl3o0aOHTXWOHTvGggULHBSRa5FEQ9R19k42UotffUucv1L82qGcei2KX4PsHI8QwkUMGjSIRx55xKY6V65cYfny5Q6KyDVIoiHqA3snGyeKX9uWOH8IQzfJUKVUWc98svg1tYxrQog6ok+fPgwbNsymOidPnuSjjz5yUETOJYmGqC/snWwkYkgqSraXGkd73QV8pJTyB1BK+Sql3gP6YhjXscvO8QghXEy3bt2IiIiwqc6lS5f45JNPHBSRc0iiIeoTeycbm4pfo40JRbEvAeOiuuOBa0qpS0Am8Lvi80XAXDvHI4RwQcOHD+eBBx6wqc6FCxf4Rx1ZwUoSDVHf2DXZ0FrvBhZiaMnobHb+NvBr4DqGlg9PDOM03Iq/LgT+S2u9157xCCFc12OPPWbz9vSXL1+u9V0qkmiI+khprSsvZa+HKRUE/BfQDwgGcoF9wN+11odqLJBaRCmVFBkZGZmUlOTsUIRwiPXr12Prv+9f/epX/PrXv3ZQRI4jiYaoI2zex8wRe6OUS2udDvyx+BBCCIYOHcrFixdJSUmxus7Ro0cBalXCIYmGqM8ctsW8EEJYa+LEidx333021Tl69GitGTQqiYao7yTZEEK4hCeeeIJHH33UpjoXLlxg06ZNlRd0Ikk0hJBkQwjhQnr16kWrVq1sqvPjjz+67F4qkmgIYSDJhhDCpTz//PM2L21+8OBBlixZ4qCIqkYSDSHukGRDCOFyBg0aRGRkpE11Tp8+zapVqxwUkW0k0RDCkiQbQgiX9Pjjj9O1a1eb6hw5coQvvvjCQRFZRxINIUqTZEMI4bJiY2NtTjhOnDhh87od9iKJhhBlk2RDCOHSYmNj6dKli0111q9fz4YNGxwUUdkk0RCifJJsCCFcXlxcHHfffbdNdfbv319jXSqSaAhRMUk2hBC1wtixY2nbtq1NdU6cOMFf//pXB0VkIImGEJWTZEMIUWvEx8fTrVs3m+qkpaWxceNGh8QjiYYQ1pFkQwhRqwwbNoxHHnnEpjp79+5l165ddo1DEg0hrCfJhhCi1unTpw9xcXE21fn222/Zs2ePXZ4viYYQtrFLsqGUukcpNUsptVIptUEp9Xel1BAb6j+qlPqPUuqMPeIRQtR9Xbp0oXv37jbV2bJlCz///HO1UKI79wAAIABJREFUniuJhhC2q/YW80qpV4GEMu41USl1CJiktd5byW18gDBAVzceIUT9MWTIEIqKivjpp5+srrNy5UquXLlic1cMSKIhRFVVq2VDKTUN+F8MiYYq4+gK7FJKvVzNOIUQokyPP/440dHRNtXZtWsXn332mU11JNEQouqqnGwope4C5hi/BL4CRgFDgN8DJ4qveQLvKKXerUacQghRrpiYGB566CGb6pw/f97q7ekl0RCieqrTsvFbwBtD18fLWusRWusvtdYbtdbvAJ2B14ACDMnIVKXU/GpHLIQQZejXrx/h4eE21fnxxx9ZvXp1hWUk0RCi+qqTbBg7PL/XWr9f8qLWulBr/RYwEEjFkHC8oJT6RzWeKYQQ5Xr66acJDg62qc7hw4f54IMPyrwmiYYQ9lGdZKM9hlaNCv43BK31dqAPcBFDwvGcUuozpZSqxrOdSinVSCmVoJQ6opTKVkplKqX2KaWmKaW8nB2fEPXZpEmTbJ6lcvXqVf785z9bnJNEQwj7qU6yEVD8mlxZQa31CaAvcB5DwjEWWKyUqnXrfCilQoHDwCzgVxi+H2+gO/Au8INSKsh5EQohhgwZYvPS5rdu3TItbS6JhhD2VZ1f9reKX/2tKay1Posh4TiD4Rf0KGC5Usq9GjHUKKWUB7AOwzTdy8CjWmtfDFN3RwFZQDdgsbNiFEIYxMfHExISYlOdtLQ0li5dIYmGEHZWnWTjl+LXe62toLW+AEQDpzAkHL8GvsQwY6U2GIdh4CvAr7XWWwG01kVa6y+AicXXBiul+jkjQCHEHb/97W/51a9+ZXX5wkI35syJkERDCDurTrJxCEPC8LAtlbTWl4AY4Hhx/SeA96oRR00aV/y6XWudWMb15cDZ4vdP10xIQoiK/PrXv6ZTp06VltO3NYnzenL8ePllJdEQomqqk2zsLH69XynVzpaKWusUDC0cRzAkHK2qEUeNUEr5AL2LvyxzC0mttQaME/cH1ERcQojKjRgxghYtWpR7Xd/W7Pnrg2y98Wi5ZSTREKLqqpNsbOTO8uIv2lpZa30dQwvHTxgSDlfXkTuf19EKyhmvtVBKNXZsSEIIa02cOJGePXuWOm9MNLZkDSy3riQaQlRPlfdG0VpfUEqtAyKAh5VSAVrrTBvvka6UegRDa0DpnwKuxbz15WIF5cyvtQLSyiuolEqy4rkdrCgjhLDCwIED8fDwYPfu3YB1iUZo6DlefvkMfn4yDEuIqqrWRmxa6yeqG4DW+gbQq7r3qQGNzN7nVlDO/FqjcksJIZyiX79+/Pvf/+bKlSvkH/dkZ1b5+6r0YSdP91zEwYN3kZV1mfj4+BqMVIi6o9atc1GXaK2jKju4s8eMEMJOJk2aBIDXfQX87pH/w9s0k/+OvnzHNwxm/MrPaHv6NGfOnOGjjz6q6VCFqBMk2bBeltl7nwrKmV/LKreUEMKpZs2aRatWrfDte7NUwtGX79jAEPzIwaOwkFHLltH29GkuXbrE4sWyjI4QtpJkw3qXzN5XtFKQ+bVL5ZYSQjjd888/T0xMjEXCYZ5oGJknHGfOnOG7775zYtRC1D6SbFjvOFBU/L6iVYKM11K01uUODhVCuIbo6GiGDRuGb9+bzBz4NmvchlkkGkbmCceOHTv4+eefnRCtELWTJBtW0lrnAt8Xf/lYWWWKN5czDmvfXBNxCSGqr1u3bkREROD+oGb9b4ZR4F72LgrmCcfKlStJTCxrbT8hREmSbNhmYfHrw0qpB8q4PgK4u/j9opoJSQhhD8OHDycqKooz99zD8tGjrUo4Nm/ezMaNZa7xJ4QwI8mGbRZyZ9XTr4z7nyil3JRSIwDjUPWNWuttTopRCFFFQ4cOpWXLljYlHHv37mXBggU1HKkQtYskGzbQWhcAw4BzGAaCblVK5QA5GDaU8wcOAGOcFaMQonomTJhAZGSkTQnHlStXWLJkSQ1HKkTtIcmGjbTW54AuwB8xLE2ugXwgCZgO9NRapzstQCFEtT3++OOEhobalHCcPn2aI0eO1HCkQtQOyrB3mHBVSqmkyMjIyKQka1Y2F/+/vXuPj6q+8z/++iARSbR4qUWNa6jRFcqq3IQFtURQC6JSqEVuWmyttWoL3Vp72+66vexuS/sotv7UbcFiiwZbq6IoFgpCoVq5iBURvFBExVptVWpBMcHP749zxgwhmZyTnDMzmXk/H4/zmDMz3++ZT5JJ5pPvVSRJy5YtY+XKldQ++ywT6+vpumdPi+Ua99uP+ZMmseW44xg3bhwnnXRSniMVyavY+5mpZUNEpBUjRoxg1KhRsVo47rrrLm677bY8RypS3JRsiIjkMGTIkNiDRp955hnmzJmT50hFipeSDRGRNlx22WX06dMnVsLx4osvaqVRkVCHdn3NxcwGESxw9SHgEOCACNXc3bWPs4gUnQkTJnDLLbewBZg/aVKrYzgyCcf8SZNYDvTq1Yuampp8hytSVBIfIGpmxxAsaHV63KoEyUbL/zKUKQ0QFSkuc+bM4cUXX4w1aPSYY47hkksuyXOkIqkp7ABRMzsYWEGQaFjMQ0Sk6H3qU5/i9NNPj9Wl8vzzz3PzzTfnOVKR4pH0mI1rgEx74Vbg00AtcIC7d4lwqFVDRIreiBEjGDNmTKyE44UXXuBnP/tZniMVKQ5JJxvnh7fPA6e4+xx33+ru7yT8OiIiBTVo0CA++MEPxm7hUJeolKOkk41eBCtq3qjt1UWk1F188cX0798/VsKxcOFCVq1aledIRQor6WQj04Lxp4SvKyJSlM4///zY63AsXbqU++67L8+RihRO0snGlvD20ISvKyJStC677DIGDx4cK+FYu3YtS5dqc2gpD0knG7cTzCz5SMLXFREpaqNHj469W+yqVatYvHhxniMVyb+kk40bgE3AWDMbnfC1RUSK2nnnncdJJ50UK+F4+OGH+dvf/pbnSEXyK9Fkw913AecCTwN3mtnXzKxHkq8hIlLMxo0bx3HHHRcr4bj++uvZuHFjniMVyZ9EVxA1s2XhaQ+gP8HMlD0EycdfgXfbuISWK29GK4iKdE533nknGzZsiLXSaN++fbngggvyHKlIbLEX4kx6b5Q6ggSDrNuuQJ8IdS2rjohIpzZ+/HgaGhrYTPS9VDYClZWVnHPOOXmPVyRNaez62tIy5FquXETKzoUXXsjYsWNjdamsWbOG2bNn5zlSkXQlPWYjypLkWq5cRMpGv379Yu+lsn37dubPn5/nSEXSk0bLhoiIZBkxYgQ1NTWxEo6nnnqKbdu25TlSkXQo2RARyYNp06YxZMiQWAnH3LlztdKolAQlGyIieTJq1KjY63CsXbuWW2+9Nc+RiiQr1WTDAoPM7Eoz+7aZXRfeXhE+roGhIlJWxo0bx1FHHRUr4Xj22We5++678xypSHISXWdjrwubfRb4ElCTo9g24HvuflMqQZQArbMhUprmzZvHli1bYq3D0a9fP8aOHZvnSEX2EbuhIPGWDTM7wMzuB64nSDRyTXftBfw/M7vfzLolHYuISLGaOnUqdXV1sVo4HnvsMY3hkE4pjW6UucAomjKfpcCXgXHAWeHtNcBvCVYUzWzcdksKsYiIFK3hw4dzwQUXxB7DsX79+jxHKtIxSS9XfgZBcuHAc8BEd1+To/wgoB6oDeuMdPfliQVUAtSNIlL6VqxYwfLly2N1qQwdOpSzzz47z5GKAEXQjfKJ8PZNoC5XogHg7muBkcDfw4cuSTgeEZGiN3z4cPr06RN7t1ht3iadRdLJxmkELRRz3P2FKBXc/XlgDkGmdGrC8YiIdAoTJkxg5MiRsRKOO+64QwmHdApJJxtHhLdrY9bLlD8iZykRkRJ22mmnMWPGjNgJx6JFi/IcqUg8SScbmS3k4+5xkinf1hb0IiIlrUePHkydOjVWwrF69WoeeuihPEcqEl3SycZL4e3QmPUy5f+cYCwiIp1SbW0to0ePjpRw1G7ZAsCSJUvYvn17PsMUiSzpZGMFwdiLaWZ2QpQKYblpBGM9ViQcj4hIpzR48GDGjBmTM+FYfcopLM6akTJ79mzuvPPOfIYpEknSycac8PYA4EEzyzkvy8xGEkyV7R4+NDvheEREOq1Bgwa1ulvs6lNOYdE550CzXR82bNjAkiVL8h2qSE6JL1duZj8BLiVoqQDYACwGngZ2AlXA8QQLfJ1M0BLiwGx3/0yiwZQArbMhIgsWLOCxxx57bx2ORwcMaDHRyDZ48GBGjx6dxyiljMReZyONZGM/YB5wYfhQrhfIBDwfmOruGiDajJINEQFYu3Yt9913H4e/8gqvHn54zkQj4/zzz6d///55iE7KTMEX9cLd97j7JGASsJ7ce6M8Clzo7pOVaIiItG7QoEGceOKJvPqBD0RKNADuueceTYuVotA1rQu7++3A7WZWAwwGjgQOIlhd9M/Aanffltbri4iUmvHjx1NTU8PChQsj11m9ejX7778/I0eOTDEykdwSTTbM7OLw9GV3XwwQJhRKKkREEjBw4EBeeeUVVq9eHbnOqlWr2LVrF+edd16KkYm0LululLnAz4B/Tfi6IiISGj16NIMGDYpV59FHH+Wuu+5KKSKR3JJONt4Mb59K+LoFZ2aVZjbazP7dzO40s21m5uFxbaHjE5HyMmbMGI488shYdR5//HHq6+tTikikdUknG5nl6w5I+LrFYDBwP/AtYBxwTGHDEZFyd9lll9GvX79YdZ5++mmWLVuWUkQiLUs62Vgc3g5L+LrF4nWCRchmEsy2ebmw4YhIuRs7diw9e/aMVWflypWsXLkypYhE9pV0snEDsBu4KOpy5Z3ISnc/1N3PdPdr3H0+wdcqIlJQl19+Occee2ysOsuWLdPmbZI3iSYb7v408BmCWS7LzGxMktcvJHffU+gYRERac9FFF3H66afHqrNkyRIef/zxlCISaZL01Nf/CE+XA2cC95jZNmAVwXiOt9q6hrt/M8mYRETKxYgRI3jrrbdYu3Zt5Dp33XUXzzzzDB/72MdSjEzKXdKLel1L0/LkTrBKaE14RKVkQ0SkncaMGcNzzz3HX//618h1nnjiCV566SU+97nPpRiZlLM0VhBtvo5unDXUk92opciZWZQNT3qnHoiIlJQrr7ySFStWsHz58sh1XnvtNe677z7GjCmZ3m8pIkknG2ckfD0REWmH4cOH8+qrr7Jx48bIdTLdL0o4JGmJJhvuviLJ63WEmU0jWM20vUa7+wMJhdMidx/YVpmw9WNAmnGISGm64IILOPTQQ2NNc127di1VVVXU1dWlF5iUncR3fRURkeIxYsQIRo0aFavOihUrNC1WEpXarq9FoB6IvjXivnYkFYiISCENGTKEE088kR/84Ae8++67keosWbKEww47jBNOKLUlk6QQSrZlw913u/tfO3A0FPprEBFJSmVlJVdccUWsOvPnz+epp0puqyspgKTX2fhwR6/h7r9LIhYREdlbpqUiTgIxf/58zj77bIYOHZpiZFLqku5GWU7Hpq86pd21IyJSUBMnTmT27Nls37697cKhxYsX09jYGHuFUpGMNLpRrINH0TKzQ8zs/ZmDpu9fZfbjZnZgIeMUEcnl0ksvjb1b7LJly3jkkUdSikhKXdKtCP8VoUwX4P3AEIIpnQ7cAzyWcCxpWE/Lq6F+KTwybgGm5SMgEZH2GDt2LMcddxx33HFH5DoPPPAARx99NNXV1SlGJqUo6XU2oiQb7zGzU4F5wFnAT939/iTjERGR1vXt25d33nmHe+65J3Kd2bNnc/LJJ/PRj340xcik1BR0Noq7/55gwzaAeWYWZw+VvHP3Xu5uEY5phY5VRCSK/v37c/zxx8eq88c//pEnn3wypYikFBV86qu7bwF+ARwMTC9wOCIiZWfy5Mlcfvnl7LfffpHr/OpXv2LHDi1HJNEUPNkIZZaq04L8IiIF0LNnT7785S9jFn2c/qxZs1i9enWKUUmpKJZkY3d4e3RBoxARKWMVFRVMmTIlVp1FixbF2ntFylOxJBuDwtt3ChqFiEiZq62t5eyzz45VZ9myZUo4JKeCJxtm1h+4nGAK7BMFDkdEpOwNHTqU4cOHx6qzbNkybd4mrSrUcuX7A0cBI4CJ4X0nGCgqIiIFVldXx5tvvsmjjz4auc6SJUvo0aMHffv2TTEy6YyKYbnyzGikJcDsRKMREZF2O++883j33Xd57LHoay7ecccd7Ny5k8GDB6cYmXQ2xbBc+RvAt4Dz3T3a3sciIpIXY8eOjZ04LFq0SLvFyl7MvSP7pjW7mNl/Riy6myDJeBL4g7trYGgrzGzdgAEDBqxbt67QoYhIGfvLX/7CTTfdFKvOtGnTqKkp6rUapX1i72OWaLIhyVOyISLFYtWqVSxdujRyeTPjq1/9KhUVFSlGJQUQO9ko+GwUERHpHE477bRYS5u7O3fddVeKEUlnoWRDREQimzx5Mn369IlcftOmTSxevDjFiKQzSD3ZMLNjzOwjZjbRzC5O+/VERCRdEyZM4PLLL49c/uGHH+Yvf/lLihFJsUst2TCzy8xsM7AVuB+4FfhZC+W+bmaLzezmtGIREZFk9ezZk2nTpkUuf9NNN/Hzn/+cXbt2pReUFK3Ekw0zO9DMlgA3Asez9zTXlvyBYJv5T5iZVoIREekkampqmDhxYuTyW7duZebMmdq8rQyl0bJRD4wkSC62Av8D5JovtQx4OTw/N4V4REQkJSeccELsvVQWLVrEI488klJEUowSTTbM7ByCbeIduAXo7e5fB37TWh0P5t4uIUhOTksyHhERSV979lJ54IEH1KVSRpJu2cgMAH0auNTdGyPW+2N4G32Is4iIFI26ujqGDh0aq86NN96ohKNMJJ1sDCVo1fi5u++JUS/TjdIz4XhERCRPzj777FizVP7xj38wc+bMWHuvSOeUdLLxgfD22Zj1MsuV759gLCIikmc9e/Zk7NixseosWLBAU2NLXNLJxtvhbdy1aQ8Pb19PMBYRESmAfv36MWPGjFh1brrpJu67776UIpJCSzrZeCm8jTv2ItPR96cEYxERkQLp0aMHl156KWbRt9FYu3Yt9fX1KUYlhZJ0srGCYFbJhWYW6dpm1hP4GMFYjwcTjkdERAqkurqa6dOnx6rz9NNPs2rVqpQikkJJOtn4eXhbC3ynrcJm1h24DegO7AHmJByPiIgUUI8ePTj33HhLKC1dulSzVEpMosmGu/8B+CVB68Y1ZvZLMxtCszEcZlZtZpcA64E6glaNG91d3SgiIiVm4MCBTJ06lS5don/k3H777SlGJPmWxgqinwQeIUg4PgY8BNxOkFBgZo3A88BsmpYzXwp8MYVYRESkCNTW1vKVr3yF6urqSOWff/55duzYkXJUki+JJxvuvgsYDlwHNLDv3ihdsu43AD8AzomxAJiIiHRCFRUVTJ48OXL5WbNmUV9fry6VEmDBauEpXdzsCGACcDrQC+gB/APYTjCYdL67v5haACXAzNYNGDBgwLp16wodiohIIh5++GEWL14cq865557LwIEDU4pIYoo+xSjUNY0oMtz9ZeBH4SEiIsLQoUN57bXXWLt2beQ6Cxcu5OCDD6a2tjbFyCQtaYzZEBERyWnMmDGxN2+bN2+exnF0Uko2RESkIOrq6hg1alSsOrNmzdJeKp2Qkg0RESmYIUOGMGPGjFgrjS5YsECDRjuZdo/ZMLP/SDKQDHf/ZhrXFRGR4tSjRw+mTJnCvHnzItdZuHAhEyZMSDEqSVK7Z6OY2buEa2ckyd33S/qanZlmo4hIuVi3bh0LFy6MXH7MmDGcfPLJVFTE3ftTOij2bJSOJhtJcyUbe1OyISLlZNeuXVx//fW89dZbkcp3796dKVOmRF4sTBKR12TjwnZV3NvJwOeASoLglWw0o2RDRMrNjh07mDVrVuTyVVVVTJ8+XS0c+ZO/dTbcvd0L15vZscA3gYnsvbroA+29poiIlIYePXrw4Q9/mN/97neRyu/cuZMlS5Zw1llnKeEoUnmdjWJmR5jZDcAmYBJNS5c/BAx39zH5jEdERIrTGWecwVVXXRV587Y1a9bw3e9+ly1btqQcmbRHXpINMzvYzP4XeBb4DMEusAY8Dpzn7qe5+8p8xNJeZnaYmV1iZvPM7Ekz22lmu83sRTO728zGFTpGEZFScthhh/HJT36Sbt26RSq/Z88e5s2bh7qdi0+qyYaZVZrZ14A/AV+iaWzGFmCKu/dz9/vSjCFBLwM3A1OAPgTfuwagGhgL3Glm95tZZeFCFBEpLdXV1Xz+859n//33j1xn4cKFWmm0yKSSbJhZVzO7iiCp+BZwMEGS8RLwWaCPu9en8dop6gqsBq4Aat29u7sfCHwQmBOWGQ38X4HiExEpSZWVlVx88cUccMABkev86Ec/Ytu2bSlGJXEkuuurBUvAXQRcC9RkHgZeA74L/Njd307sBfPIzM5w9wdzPH8TQRcRwDHu/kJCr6vZKCIiQENDAxs3bmThwoXs2bMnUp1p06ZRU1PTdkGJI/ZslMRaNszso8AG4GcEiYYBu4DvAMe6+8zOmmgA5Eo0QnOyzgelGYuISDmqqKigX79+HHPMMZHrzJs3T0ubF4EOJxtmNsLM/gD8mmAsgxGMZfgxQXfDN9z97x19nU4gO5HSWiEiIikZO3Zs5LKNjY388Ic/VJdKgbU72TCzU8xsCbAEOIVwUS7gFuAEd5/u7q8kE2anUJd1vqFQQYiIlLoePXpw6qmnRi7f2NjI3LlzlXAUUEdaNh4BRtDUd3Mn8C/ufom7l9VP1MwOBr4a3l3p7k8VMh4RkVJ35plnMnHixFi7xdbX19PQ0JBiVNKapDZi2wUkMSDS3b1vAtfJGzPrAiwAziXoShni7o9HrBtl1GfvAQMGVGqAqIjIvhoaGli5ciUrV0Zbqmn8+PGceOKJKUdV8vK3XHkzlcAJHbxGphsmEWY2jWCwanuNdvcoy6dfR5BoAFwZNdEQEZGOq6ioYMSIEdTW1jJv3jwaGxtzlt+8eTO9e/fWsuZ51tFkI3Z2U0rM7PvAVeHdL7j7zXHqu/vACK+xDhjQjvBERMpGTU0NX/jCF/jhD3+YM+F48skn2bZtG5MmTdJOsXmU6DobxcTMugEHdeASO9y91c49M/sewaqoAFe7+w868Fqt0jobIiLRbdu2jblz57ZZrkuXLvTv358RI0ZQWamFn2PK3xbz5czMZgJXh3evcfeZKb6Wkg0RkRi2bdtGfX09u3fvjlR+7Nix9OvXL+WoSkrhFvUqF2HXSV4SDRERia+mpoYvfvGLfOhDH4pUfsGCBVr4K2VKNmIIE40vhnevVqIhIlKcKioq6N27d+Ty9957b4rRiJKNiMIxGplE49/SGqMhIiLJ6N27N1VVVZHKPvXUU1qDI0VKNiIws2NoGgz6LvBlM3s5x3F1jsuJiEgeVFRUMGnSpEgJh7vz05/+lPvvv19dKilIap2NUtel2XnPNsofmGIsIiISUXV1NdOnT2fRokWsX78+Z9lXX32VV199lTVr1jB69GgGDx6cpyhLn5KNCNz9Ocp8TRERkc6qoqKC0aNHs2HDhjYX/cpYtGgRjY2NDBs2LOXoyoO6UUREpORVVFQwderUWHWWLFnCli1bUoqovCjZEBGRslBTU8O0adPo1q1b5Drz58/XwNEEKNkQEZGykVmDY/z48ZGWK29sbGTz5s15iKy0KdkQEZGyUlFRwYknnsjkyZMjlV+2bJlmqXSQkg0RESlLlZWVjB49us1yb7zxBmvWrGHmzJlo64j2UbIhIiJla/DgwZx11lmRyy9cuFCDRttByYaIiJS1YcOGMXXqVLp2jbYahAaNxqdkQ0REyl5tbS3XXHMN48eP5+CDD85ZtrGxkSVLlijhiEHJhoiICE0DR48//vg2y65Zs4ZZs2axffv2PETW+SnZEBERyVJXVxep3K5du5g3b55aOCJQsiEiIpKlsrKSc889N1LZt99+m40bN6YcUeenZENERKSZgQMHRh40+swzz+Qhos5NyYaIiEgLMoNGo6w0Krkp2RAREWlFRUUFgwYNylkmyoDScqdkQ0REJIe+ffvSvXv3Fp/r3r07ffv2zXNEnY+SDRERkRwqKiqYMmUKVVVVez1eVVXFlClTqKioKFBknUe05dJERETKWHV1NdOnT2fz5s28/vrrHHLIIfTu3VuJRkRKNkRERCLILPol8SnZEBERSVhDQwObNm3ijTfeUCsISjZEREQStX37durr69m5c+d7j1VVVTFp0qSynUarAaIiIiIJaWho2CfRANi5cyf19fVlu7S5kg0REZGEbN68eZ9EI2Pnzp1s3rw5zxEVByUbIiIiCXn99dc79HypUrIhIiKSkEMOOaRDz5cqJRsiIiIJ6d279z6Lf2VUVVXRu3fvPEdUHJRsiIiIJKSiooJJkya1uNropEmTynb6q6a+ioiIJEirje5LyYaIiEjCtNro3tSNIiIiIqlSy4aIiEiBlMuy5ko2RERECqClZc0rKio49dRTGTZsWEklHepGERERybPWljVvaGhg+fLlXHfddWzfvr1A0SVPyYaIiEie5VrWHEpvLxUlGyIiInkWZdnyUtpLRWM2RERE8izqsuXr168H6PQDR5VsiIiI5FlmWfNcXSkAW7duZevWre+tQFpdXZ2nCJOlbhQREZE8yyxrXllZGal8Zx/DoWRDRESkAKqrq5kxYwZ1dXWRukg68xgOdaOIiIgUSEVFBcOHD2fYsGFs3ryZ9evXs3Xr1lbLRxlYWoyUbERkZgOA84CBwD8DhwPvA/4ObAbuB25099cKFqSIiHRK2Xup5Eo2og4sLTZKNqL7JHBl1v23gbeAQ4Fh4THDzM5394cLEJ+IiHRyuQaOVlVV0bt37wJE1XEasxHdauBLwFDgEHfv7u7vAw4CPgG8CrwfuNvMehQuTBER6awyA0erqqr2ejwzG6WzTn81dy89iOXcAAAUXElEQVR0DCXBzM4GfhPenerutyZ03XUDBgwYsG7duiQuJyIinUBDQwObN2/m9ddfL8YN2ixuBXWjJOcPWedHFywKERHp9LLHcJQCdaMk5/Ss8y0Fi0JERKTIqGWjA8ysG3AkcC7wzfDhZ4F7CxaUiIhIkVGy0Q5m9jbQrYWnfg9MdvfdeQ5JRETKVENDA5s2beKNN94oxvEdgJKN9noZOAA4EMgMGX4QuMbdn496ETOLMuqzc85zEhGR1G3fvp36+vq9psoW4z4qJTtmw8ymmZl34BjV2rXdvZe7H+HuBwI9gauBfsBqM/tma/VERESS0tDQsE+iAcW5j4paNjrI3V8BfmBmK4GHgW+Y2Wp3Xxih7sC2yoStHwM6HqmIiJSSzZs3t7prbGYflWKZ0VLKyUY90OYHfg474hR299Vmtgr4MHBZB19bREQkp7b2SSmmfVRKNtkIB2nme6Dm9vD2uDy/roiIlJm29kkppn1USjbZKJBjw9s3CxqFiIiUvLb2UamtreXxxx8vilkqSjYiMLP9gHc9x9ruZjYSGBzeXZ6PuEREpHxl9lFpaTbKmWeeyQ033FA0s1S0N0oEZtYLuBu4EVgCbM0kHmb2T8AU4N8JpsG+BvR195cTem3tjSIiIq1qvo9KbW3tPolGRlVVFdOnT+9oC4f2RknRycBN4fk7ZvZ3oDtN62wAbAU+llSiISIi0pbm+6hs2LCh6GapKNmI5iXg40AdMAQ4imA7+T3A88AfgQXAbe7+VoFiFBERKcpZKko2InD3d4A7wkNERKRoFeMslZJdQVRERKQcZWaptKSqqorevfO/C4aSDRERkRKSmaXSPOHIzEYpxPRXdaOIiIiUmOrqaqZPn77XLBWtsyEiIiKJaj5LpZDUjSIiIiKpUrIhIiIiqVKyISIiIqlSsiEiIiKpUrIhIiIiqVKyISIiIqlSsiEiIiKpUrIhIiIiqVKyISIiIqlSsiEiIiKpUrIhIiIiqVKyISIiIqlSsiEiIiKpUrIhIiIiqVKyISIiIqlSsiEiIiKpUrIhIiIiqVKyISIiIqlSsiEiIiKpMncvdAySg5n9rXv37of26dOn0KGIiIjw6KOP3ubuU+LUUbJR5MxsK/A+4LkChyIt6x3ebi5oFJIU/TxLh36W6dmsZEMkj8xsHYC7Dyx0LNJx+nmWDv0si4vGbIiIiEiqlGyIiIhIqpRsiIiISKqUbIiIiEiqlGyIiIhIqpRsiIiISKqUbIiIiEiqlGyIiIhIqrSol4iIiKRKLRsiIiKSKiUbIiIikiolGyIiIpIqJRsiIiKSKiUbIiIikiolGyIiIpIqJRsiIiKSKiUbIgkzs8PM7BIzm2dmT5rZTjPbbWYvmtndZjau0DFKEzM7yMyuNbMNZvYPM9thZmvM7Itmtn+h45No9HtX3LSol0jCzKwB6Jr10NvAHqAq67FFwAXuviufscnezKwGWA70Ch/aBewHdAvvrwdGuvvreQ9OYtHvXXFTy4ZI8roCq4ErgFp37+7uBwIfBOaEZUYD/1eg+AQws67AvQSJxp+Bs9y9CqgEJgJvAv2BeYWKUWLR710RU8uGSMLM7Ax3fzDH8zcBnwnvHuPuL+QnMslmZp8CZod3h7n7w82enwTcFt49092X5jM+iUe/d8VNLRsiCcv1By80J+t8UJqxSE6fCG8fbJ5ohOYDW8Pzi/MTkrSXfu+Km5INkfx7O+t8v4JFUcbMrBI4Nby7qKUyHjT7PhDePTsfcUmq9HtXQEo2RPKvLut8Q6GCKHN9aPr790SOcpnnjjCzQ9MNSVJWl3Wu37s8U7IhkkdmdjDw1fDuSnd/qpDxlLGjss635yiX/dxRrZaSoqbfu8JTsiGSJ2bWBfgFcCRBk+5VhY2orB2UdZ5rGmT2cwe1WkqKln7vioOSDSl7ZjbNzLwDx6iIL3UdcG54fqW7P57SlyQiTfR7VwSUbIjkgZl9n6b/qL7g7jcXMh7hzazzyhzlsp97s9VSUpT0e1c8urZdRKTk1QMLO1B/R64nzex7wBfDu1e7+6wOvJYk46Ws82qgtf92q1upI0VOv3fFRcmGlD133w3sTuPaZjYTuDq8e427/yCN15HYNgHvErTu/gutTH8NnwN42d1fy0dg0nH6vSs+6kYRSUnYhJv9B29mIeORJuHeGL8P77Y45sbMDPhIeHdxPuKSjtPvXXFSsiGSgvAPXnYTrv7gFZ9bwtszzGxIC89/HDg2PP95fkKSjtDvXfFSsiGSsGZ9xf+mJtyidQvB4k4G/NrMRkIwVdLMPg78NCy3SPuiFD/93hU3bcQmkiAzOwbYFt59F3i1jSrfd/fvpxuVtMbMegEPsvcW812AA8L72mK+E9DvXfHTAFGRZHVpdt6zjfIHphiLtMHdnzOzkwj6+McTbEfeAGwkmKX0Y3d/p4AhSjT6vStyatkQERGRVGnMhoiIiKRKyYaIiIikSsmGiIiIpErJhoiIiKRKyYaIiIikSsmGiIiIpErJhoiIiKRKyYaIiIikSsmGiIiIpErJhoiIiKRKyYaIiIikSsmGiIiIpErJhohImTGzXmbm4TE35dd6Lnyd59J8HSluSjak7GT9kc0cQyLUmZhV/to8hCntYGaVZjbUzD5nZnPN7Akza8z62dUVOsa0mNm14TGt0LHEYWZ1WbH3KnQ8ko6uhQ5ApAj8NzCy0EFIIl4ADi10EAXyn+HtCmBuAeOIq46m2JcDzxUqEEmPkg0RGGFmZ7r7bwsdiHTYfs3uPw/sDxxRgFiKlrs/B1ieXqtXPl5Hipu6UaSc7co6/++CRSFJWgB8HRgFHO7uNcBvChuSiKhlQ8rZC8CTwDjgFDMb7+53Fjgm6QB3/0ShYxCRfallQ8rdvwPvhuffNrPmzfDtEg5SvNHMnjSzN8zsbTN73sxuN7MxbdS9NuqAxrbKhoPv9hrYamYnmNksM9tkZn8Pn5vWQt0hZvYTM3vKzN40s51mtsXMbjGzERG+B5nXXR7erzKzq81srZm9Hl5vo5n9j5kd0tb1ipEFTjez75jZMjN7ycx2h1/bVjObb2bnxbzmUeHPdZWZvWxm74Tf/yfM7GYzG2tmXbPKu5l51iWGtzAIeq/3R67ZKGb2+aznPhcx5juz6pzY7LkWZ6Nk3rs0jdcAeLCFuJeH5S/PeuzfIsZ1T1adPlHqSErcXYeOsjoAD4/N4f25WY9Na6XOxKwy1+a4dhUwP6tsa8dC4KBWrnFtVrm6Nr6WnGUJBt+9FzdwMUH3UfN4pmXV6Qr8JMLXcDvQPcL3eTlwLLAxx7WeA3ql9PPO/vnm/H6249o/i/B9cmAR8L4I1/sK8FaE632ihe9zW0ddVp1eWY/PbRbDB4CG8LlHIsR8MPB2WP6xFp5/LvMzzvHezXUsD8sfBLwZPrYxQlzVQGNYfmUa7y0d0Q91o4gEf/QmEQwkvNbMbnP3d+JexMy6Ab8F/jV8aAvBB/Imgj/exxF82P8zMAa428zOcvd3W7hcGk4lGM+wB5gD/J7gQ+IE4OWscr8gSK4In78FeCisNwj4FMEf/glADzMb7eFf91a8D7gvfJ0FwAPAawQJyGeBY4Aa4OfAhzv6ReZZd2A3wQyQ1QQ/853A4QQ/54sIZseMIvj6Ptrahczsx8BVWQ/9huB79RLQDTgeGAEMY+/BnePC27vC240ELXbNPRHlC3L3V8zsNwTv0cFmdry7P5OjyoQwPgjeO1HNBx4jeK9dGD72jRbi/GsY15tmdhtwGfAhMzvV3X+f4/qX0DRg+Kcx4pI0FDrb0aEj3wfNWjbCx36U9fjnW6jTZssG8MOsMt8DurZQpoLgwztT7vIWylxLC/+NtvKaOcuyd8uGA38GPpTjehdmlX25pbIEicGfsspd2cb32Qk+kM9tocxhza41OIWf99yo3892XPt04OAcz1cBv8x6/eGtlJuQVea1XHESJDH/kuP7vTxC3L2yys9t4/3+X21c63dhuT3AkS08/xwttGy08/0+IFfcWeUM2BqWe50cLXA68nNozIZI4DsE/5ECfN3MDoxT2cyOBK4I797p7te4e2Pzcu7eAFxK8AELEKnvOUGfcfcnczz/5azzS1oq6+7baPowAvhShLEu33b3hS1c62/sPRPoI21cp6i4+0p3fyPH8zsJWoIy762Lmpcxsy7AN7Memujuy3Nc82l3j9RK0QELCLosAKa0VsjMaoDTwrtL3f3PaQbl7o8Ca8K7Hzez97VS9EyChArgVnd/K824pG1KNkQAd/8LMCu8+wFgRsxLTCDohgH4fhuv1UDQvQJwfB5XTdwG3Nvak2Ec/cO7G9x9UWtl3X01sCy8WwMMzPG6e4Drczy/LOv8QznKdUru/iawIbzb0mq1Awm6mCBolVicl8ByCD+c7wjv1prZ0FaKTqGpSydOF0pH3BTeVtJ6IvTprPOfpBuORKFkQ6TJTIImbICrzSzOSpSnZ50fbWYfzXUA2bMv8jVKfpWHbcytGJx1HuUDL7tMriXfn3b313M8vz3rvNPNSjGzbmZ2kZndYWbPhDN83s2eUUHTOJ6jW7jEaVnn96QfcWTzss6ntlIm82G/i6YxI2mbD+wIzz/d/EkzOxwYG95d7e6P5ykuyUEDREVC7r7DzL4LfBfoQTAz4JqI1Xtlnf8y5kvn6wN2exvPH5l1/nSE62WXObLVUuEAv9a4+26z98Y7HhDhdYtGOM3z1wSDN6Noqdk/OwHZ1OGgkrMceJEgvglmNiNslQPAzAbQ1BJ1l7v/Ix9BufsuM/sFwWDa/mY2IOxeybiYplZGDQwtEmrZENnbjwlG/wNcZWZHRazXowOvuX/bRRLRVr/1QVnnO1st1ST7w+WgVks1rWNSUsKWr9/SlGi8ANwITAcmA+MJZoqMI5ghAi3/zc1OQPLygR2FB7Okbg3vvp9gRk227NaOfHWhZPxf1nnz1o1Lw9t/ELSCSBFQsiGSJeyr/lZ4tzvwHxGrZj4kHNjP3S3GMbcDISf5O/xm1nlVhPLZg2jfbLVU6bqKYHwPBDOMjnX3K9z9R+5e7+53ufvd7n43uRO9v2edxxqYnAfZScR7yUU4IDgzPfplgqQrb8IBsplpr5PNrDKM63Sgd/h4fb5aW6RtSjZE9jWHYL0EgE+Z2XER6mS6KIxgMaGO2J113larx/s7+FrZsmcSROkWyC7zUqulSteZ4W0jMKOl2UdZanI892LWeVGtcunuGwnWwgA4L2v2x0iaus7q3X1P3oNrGij6PoIB2tDUqgEaGFpUlGyINBP2S2daNLqy97TE1qzIOj+7gyFkT6Vsqxsn18DMuFZnnZ8VoXz217m61VKlq2d4+7dc01/NrD/BIl+tWZl1fn4H4skM/k16N9dM60Z34GPheZJdKNndbHFivwP4W3j+aTM7GPh4eP8xd1/bwbgkQUo2RFpWD2RGsU8ETm6j/Hwgs+rol80sSjdEa7LXtmh1DxIzO5VgkaNEeLDteGag3clm1mrCYWaDsmLbBqxLKo5OJLNr8AfMLNeYlba64tYBm8PzOjNrb7Ka6TLoyHuvJbcRTF8GmBp2WWRWLd3o7us7eP3sro7Isbt7ZnVbCFZV/Q5BQgQaGFp0lGyItCCcIvr18K4BOTekcvcXCAaXQtC9cK+ZHdFaeTPrYmZnmllLy0r/gabWjYlmts8aFmZWy95TE5Py3azzW8ysd/MCZnYMQXKV+fsxs0DN6IWWWVzKgG83f9IC3yLHEuXw3nstOyGZbzk24DOz48ysbwtPbQ1ve5tZ9xaebxd3fxlYGt6tA66kaWxJEu/BrVnncZPn7IGimUX1dtE0sFWKhKa+irTC3Rea2UME/zVF+Y/rq0A/gv7sM4A/mdmvgYeBVwnGXxxB0EpyVni+lGYfVOFU0B8T7BNRASw3s5uAtQR7UAwlmN5nBOsydKTpfS/u/kszG0fQmnMk8Gi4K+jD7L03SqbvfjFwQ1Kv31EW7EbbvDWof9b5p8zszGbPfz9XN0gONwCfJNh/4/Nm1g+4k2DA5D8RzEjpT9BS9RY5Fj5z91+Z2fUEg04PIdj99AGC/VFeInjv1BK8r04n+BlsbHaZpcBJBO/Ve83sFoJpx5nuldXu/hrt8wuCbrMuNL1fnWQ+1FcS7B1UQbAarRO0KmbGLr0WLiK3D3d/2sweJPi+ZPzS3Xe0VF4KqNDrpevQke+DFvZGyVH2w1nlc+6NEpbfn6CFo7GFei0dt7RynW4EH+St1dsBnEvMXV8jfn+6EjRDtxX7r4i462uMn0mbZdu4zrUR4m5+9OrA632WIAlr7dpPEmzAtzzzWBvX+wbBh2xbMV/cQt1q4JUcdeqyyvbKenxuhK+ziqC7I/t6yyJ+j54jx94oYZn/zhF3zvcEe+8r48CwjryHdKRzqBtFJAd3/x3BzptRy7/j7p8jmH73v8AjBK0ajQTNu1uB+4GvASe5+ydauc5u4ByCD7OHCKZHvg08S7BpXD9vYa+RJLh7o7t/mqAFZU74mjsJ/jvfStB0PtLdP+5lvueEu99IsJvurwhaNBoIPvAfItj3ZpC7Pxvjet8i2GjtfwjGcrxGkMxkljyfTfC+2Kf7wt23E3RDXEewc2omOegwD/Z4ubPZw4l147n71wh2Xn6A4PsYZ9fl7Gm3T7r7Q0nFJcmxMDMUERHpdMzsUpoGhH7B3WflKi+FoWRDREQ6LTNbSzAe5i3gaG//uBRJkbpRRESkUzKz82kaeHurEo3ipZYNERHpFMIpvcMJBjGfDHyJYF+id4A+7v6nAoYnOWjqq4iIdBY9gUUtPP4VJRrFTcmGiIh0Rm8AmwjWSWk+U0aKjLpRREREJFUaICoiIiKpUrIhIiIiqVKyISIiIqlSsiEiIiKpUrIhIiIiqVKyISIiIqlSsiEiIiKpUrIhIiIiqVKyISIiIqlSsiEiIiKpUrIhIiIiqVKyISIiIqlSsiEiIiKp+v++Ms8JCxejVwAAAABJRU5ErkJggg==\n",
                "text/plain": "<Figure size 288x288 with 1 Axes>"
              }
            ],
            "_view_module": "@jupyter-widgets/output",
            "_model_module_version": "1.0.0",
            "_view_count": null,
            "_view_module_version": "1.0.0",
            "layout": "IPY_MODEL_9786f567f2484db9b2a3a2e6836e74cd",
            "_model_module": "@jupyter-widgets/output"
          }
        },
        "4d135073acd644e3937d548513b0cf87": {
          "model_module": "@jupyter-widgets/controls",
          "model_name": "SliderStyleModel",
          "state": {
            "_view_name": "StyleView",
            "handle_color": null,
            "_model_name": "SliderStyleModel",
            "description_width": "",
            "_view_module": "@jupyter-widgets/base",
            "_model_module_version": "1.5.0",
            "_view_count": null,
            "_view_module_version": "1.2.0",
            "_model_module": "@jupyter-widgets/controls"
          }
        },
        "f19c6a3829ab4915aec653569a20e4a1": {
          "model_module": "@jupyter-widgets/base",
          "model_name": "LayoutModel",
          "state": {
            "_view_name": "LayoutView",
            "grid_template_rows": null,
            "right": null,
            "justify_content": null,
            "_view_module": "@jupyter-widgets/base",
            "overflow": null,
            "_model_module_version": "1.2.0",
            "_view_count": null,
            "flex_flow": null,
            "width": null,
            "min_width": null,
            "border": null,
            "align_items": null,
            "bottom": null,
            "_model_module": "@jupyter-widgets/base",
            "top": null,
            "grid_column": null,
            "overflow_y": null,
            "overflow_x": null,
            "grid_auto_flow": null,
            "grid_area": null,
            "grid_template_columns": null,
            "flex": null,
            "_model_name": "LayoutModel",
            "justify_items": null,
            "grid_row": null,
            "max_height": null,
            "align_content": null,
            "visibility": null,
            "align_self": null,
            "height": null,
            "min_height": null,
            "padding": null,
            "grid_auto_rows": null,
            "grid_gap": null,
            "max_width": null,
            "order": null,
            "_view_module_version": "1.2.0",
            "grid_template_areas": null,
            "object_position": null,
            "object_fit": null,
            "grid_auto_columns": null,
            "margin": null,
            "display": null,
            "left": null
          }
        },
        "9786f567f2484db9b2a3a2e6836e74cd": {
          "model_module": "@jupyter-widgets/base",
          "model_name": "LayoutModel",
          "state": {
            "_view_name": "LayoutView",
            "grid_template_rows": null,
            "right": null,
            "justify_content": null,
            "_view_module": "@jupyter-widgets/base",
            "overflow": null,
            "_model_module_version": "1.2.0",
            "_view_count": null,
            "flex_flow": null,
            "width": null,
            "min_width": null,
            "border": null,
            "align_items": null,
            "bottom": null,
            "_model_module": "@jupyter-widgets/base",
            "top": null,
            "grid_column": null,
            "overflow_y": null,
            "overflow_x": null,
            "grid_auto_flow": null,
            "grid_area": null,
            "grid_template_columns": null,
            "flex": null,
            "_model_name": "LayoutModel",
            "justify_items": null,
            "grid_row": null,
            "max_height": null,
            "align_content": null,
            "visibility": null,
            "align_self": null,
            "height": null,
            "min_height": null,
            "padding": null,
            "grid_auto_rows": null,
            "grid_gap": null,
            "max_width": null,
            "order": null,
            "_view_module_version": "1.2.0",
            "grid_template_areas": null,
            "object_position": null,
            "object_fit": null,
            "grid_auto_columns": null,
            "margin": null,
            "display": null,
            "left": null
          }
        },
        "beef560ffd904c7299f41aa8b67eeaf2": {
          "model_module": "@jupyter-widgets/controls",
          "model_name": "TabModel",
          "state": {
            "_view_name": "TabView",
            "_dom_classes": [],
            "_titles": {
              "0": "Youtube",
              "1": "Bilibili"
            },
            "_model_name": "TabModel",
            "_view_module": "@jupyter-widgets/controls",
            "selected_index": 0,
            "_model_module_version": "1.5.0",
            "_view_count": null,
            "_view_module_version": "1.5.0",
            "box_style": "",
            "layout": "IPY_MODEL_7968e61dd5ac47018d2a2cfd9c034177",
            "_model_module": "@jupyter-widgets/controls",
            "children": [
              "IPY_MODEL_1318860431ee4130a7a86b0e478effb9",
              "IPY_MODEL_42a94bafc2404dc991b78040ee6d1509"
            ]
          }
        },
        "7968e61dd5ac47018d2a2cfd9c034177": {
          "model_module": "@jupyter-widgets/base",
          "model_name": "LayoutModel",
          "state": {
            "_view_name": "LayoutView",
            "grid_template_rows": null,
            "right": null,
            "justify_content": null,
            "_view_module": "@jupyter-widgets/base",
            "overflow": null,
            "_model_module_version": "1.2.0",
            "_view_count": null,
            "flex_flow": null,
            "width": null,
            "min_width": null,
            "border": null,
            "align_items": null,
            "bottom": null,
            "_model_module": "@jupyter-widgets/base",
            "top": null,
            "grid_column": null,
            "overflow_y": null,
            "overflow_x": null,
            "grid_auto_flow": null,
            "grid_area": null,
            "grid_template_columns": null,
            "flex": null,
            "_model_name": "LayoutModel",
            "justify_items": null,
            "grid_row": null,
            "max_height": null,
            "align_content": null,
            "visibility": null,
            "align_self": null,
            "height": null,
            "min_height": null,
            "padding": null,
            "grid_auto_rows": null,
            "grid_gap": null,
            "max_width": null,
            "order": null,
            "_view_module_version": "1.2.0",
            "grid_template_areas": null,
            "object_position": null,
            "object_fit": null,
            "grid_auto_columns": null,
            "margin": null,
            "display": null,
            "left": null
          }
        },
        "1318860431ee4130a7a86b0e478effb9": {
          "model_module": "@jupyter-widgets/output",
          "model_name": "OutputModel",
          "state": {
            "_view_name": "OutputView",
            "msg_id": "",
            "_dom_classes": [],
            "_model_name": "OutputModel",
            "outputs": [
              {
                "output_type": "stream",
                "metadata": {
                  "tags": []
                },
                "text": "Video available at https://youtube.com/watch?v=p56UrMRt6-U\n",
                "stream": "stdout"
              },
              {
                "output_type": "display_data",
                "metadata": {
                  "tags": []
                },
                "text/html": "\n        <iframe\n            width=\"854\"\n            height=\"480\"\n            src=\"https://www.youtube.com/embed/p56UrMRt6-U?fs=1&rel=0\"\n            frameborder=\"0\"\n            allowfullscreen\n        ></iframe>\n        ",
                "text/plain": "<IPython.lib.display.YouTubeVideo at 0x7f5a7ae14b50>",
                "image/jpeg": "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\n"
              }
            ],
            "_view_module": "@jupyter-widgets/output",
            "_model_module_version": "1.0.0",
            "_view_count": null,
            "_view_module_version": "1.0.0",
            "layout": "IPY_MODEL_3afb3946787748a091f57db4118012b8",
            "_model_module": "@jupyter-widgets/output"
          }
        },
        "42a94bafc2404dc991b78040ee6d1509": {
          "model_module": "@jupyter-widgets/output",
          "model_name": "OutputModel",
          "state": {
            "_view_name": "OutputView",
            "msg_id": "",
            "_dom_classes": [],
            "_model_name": "OutputModel",
            "outputs": [
              {
                "output_type": "stream",
                "metadata": {
                  "tags": []
                },
                "text": "Video available at https://www.bilibili.com/video/BV1xa4y1a77c\n",
                "stream": "stdout"
              },
              {
                "output_type": "display_data",
                "metadata": {
                  "tags": []
                },
                "text/html": "\n        <iframe\n            width=\"854\"\n            height=\"480\"\n            src=\"https://player.bilibili.com/player.html?bvid=BV1xa4y1a77c&page=1?fs=1\"\n            frameborder=\"0\"\n            allowfullscreen\n        ></iframe>\n        ",
                "text/plain": "<__main__.BiliVideo at 0x7f5a7afb9d90>"
              }
            ],
            "_view_module": "@jupyter-widgets/output",
            "_model_module_version": "1.0.0",
            "_view_count": null,
            "_view_module_version": "1.0.0",
            "layout": "IPY_MODEL_bff71292227e4763b7635e7be182fd8f",
            "_model_module": "@jupyter-widgets/output"
          }
        },
        "3afb3946787748a091f57db4118012b8": {
          "model_module": "@jupyter-widgets/base",
          "model_name": "LayoutModel",
          "state": {
            "_view_name": "LayoutView",
            "grid_template_rows": null,
            "right": null,
            "justify_content": null,
            "_view_module": "@jupyter-widgets/base",
            "overflow": null,
            "_model_module_version": "1.2.0",
            "_view_count": null,
            "flex_flow": null,
            "width": null,
            "min_width": null,
            "border": null,
            "align_items": null,
            "bottom": null,
            "_model_module": "@jupyter-widgets/base",
            "top": null,
            "grid_column": null,
            "overflow_y": null,
            "overflow_x": null,
            "grid_auto_flow": null,
            "grid_area": null,
            "grid_template_columns": null,
            "flex": null,
            "_model_name": "LayoutModel",
            "justify_items": null,
            "grid_row": null,
            "max_height": null,
            "align_content": null,
            "visibility": null,
            "align_self": null,
            "height": null,
            "min_height": null,
            "padding": null,
            "grid_auto_rows": null,
            "grid_gap": null,
            "max_width": null,
            "order": null,
            "_view_module_version": "1.2.0",
            "grid_template_areas": null,
            "object_position": null,
            "object_fit": null,
            "grid_auto_columns": null,
            "margin": null,
            "display": null,
            "left": null
          }
        },
        "bff71292227e4763b7635e7be182fd8f": {
          "model_module": "@jupyter-widgets/base",
          "model_name": "LayoutModel",
          "state": {
            "_view_name": "LayoutView",
            "grid_template_rows": null,
            "right": null,
            "justify_content": null,
            "_view_module": "@jupyter-widgets/base",
            "overflow": null,
            "_model_module_version": "1.2.0",
            "_view_count": null,
            "flex_flow": null,
            "width": null,
            "min_width": null,
            "border": null,
            "align_items": null,
            "bottom": null,
            "_model_module": "@jupyter-widgets/base",
            "top": null,
            "grid_column": null,
            "overflow_y": null,
            "overflow_x": null,
            "grid_auto_flow": null,
            "grid_area": null,
            "grid_template_columns": null,
            "flex": null,
            "_model_name": "LayoutModel",
            "justify_items": null,
            "grid_row": null,
            "max_height": null,
            "align_content": null,
            "visibility": null,
            "align_self": null,
            "height": null,
            "min_height": null,
            "padding": null,
            "grid_auto_rows": null,
            "grid_gap": null,
            "max_width": null,
            "order": null,
            "_view_module_version": "1.2.0",
            "grid_template_areas": null,
            "object_position": null,
            "object_fit": null,
            "grid_auto_columns": null,
            "margin": null,
            "display": null,
            "left": null
          }
        }
      }
    }
  },
  "cells": [
    {
      "cell_type": "markdown",
      "metadata": {
        "id": "view-in-github",
        "colab_type": "text"
      },
      "source": [
        "<a href=\"https://colab.research.google.com/github/wasita/course-content/blob/main/W1D5_Tutorial2.ipynb\" target=\"_parent\"><img src=\"https://colab.research.google.com/assets/colab-badge.svg\" alt=\"Open In Colab\"/></a>"
      ]
    },
    {
      "cell_type": "markdown",
      "metadata": {
        "execution": {},
        "id": "Lc_x9EdSfaib"
      },
      "source": [
        "# Tutorial 2: Principal Component Analysis\n",
        "**Week 1, Day 5: Dimensionality Reduction**\n",
        "\n",
        "**By Neuromatch Academy**\n",
        "\n",
        "__Content creators:__ Alex Cayco Gajic, John Murray\n",
        "\n",
        "__Content reviewers:__ Roozbeh Farhoudi, Matt Krause, Spiros Chavlis, Richard Gao, Michael Waskom, Siddharth Suresh, Natalie Schaworonkow, Ella Batty\n"
      ]
    },
    {
      "cell_type": "markdown",
      "metadata": {
        "execution": {},
        "id": "EwSxrXRFfaic"
      },
      "source": [
        "**Our 2021 Sponsors, including Presenting Sponsor Facebook Reality Labs**\n",
        "\n",
        "<p align='center'><img src='https://github.com/NeuromatchAcademy/widgets/blob/master/sponsors.png?raw=True'/></p>"
      ]
    },
    {
      "cell_type": "markdown",
      "metadata": {
        "execution": {},
        "id": "0mjnMTCffaic"
      },
      "source": [
        "---\n",
        "# Tutorial Objectives\n",
        "\n",
        "*Estimated timing of tutorial: 45 minutes*\n",
        "\n",
        "In this notebook we'll learn how to perform PCA by projecting the data onto the eigenvectors of its covariance matrix. \n",
        "\n",
        "Overview:\n",
        "- Calculate the eigenvectors of the sample covariance matrix.\n",
        "- Perform PCA by projecting data onto the eigenvectors of the covariance matrix. \n",
        "- Plot and explore the eigenvalues.\n",
        "\n",
        "To quickly refresh your knowledge of eigenvalues and eigenvectors, you can watch this [short video](https://www.youtube.com/watch?v=kwA3qM0rm7c) (4 minutes) for a geometrical explanation. For a deeper understanding, this [in-depth video](https://www.youtube.com/watch?v=PFDu9oVAE-g&list=PLZHQObOWTQDPD3MizzM2xVFitgF8hE_ab&index=14) (17 minutes) provides an excellent basis and is beautifully illustrated."
      ]
    },
    {
      "cell_type": "code",
      "metadata": {
        "cellView": "form",
        "execution": {},
        "id": "jSqb9JHUfaid",
        "colab": {
          "base_uri": "https://localhost:8080/",
          "height": 501
        },
        "outputId": "c3329d16-ee83-4b49-b782-1b44c5441397"
      },
      "source": [
        "# @title Tutorial slides\n",
        "\n",
        "# @markdown These are the slides for the videos in all tutorials today\n",
        "from IPython.display import IFrame\n",
        "IFrame(src=f\"https://mfr.ca-1.osf.io/render?url=https://osf.io/kaq2x/?direct%26mode=render%26action=download%26mode=render\", width=854, height=480)"
      ],
      "execution_count": null,
      "outputs": [
        {
          "output_type": "execute_result",
          "data": {
            "text/html": [
              "\n",
              "        <iframe\n",
              "            width=\"854\"\n",
              "            height=\"480\"\n",
              "            src=\"https://mfr.ca-1.osf.io/render?url=https://osf.io/kaq2x/?direct%26mode=render%26action=download%26mode=render\"\n",
              "            frameborder=\"0\"\n",
              "            allowfullscreen\n",
              "        ></iframe>\n",
              "        "
            ],
            "text/plain": [
              "<IPython.lib.display.IFrame at 0x7f5a8d95c650>"
            ]
          },
          "metadata": {
            "tags": []
          },
          "execution_count": 1
        }
      ]
    },
    {
      "cell_type": "code",
      "metadata": {
        "cellView": "form",
        "execution": {},
        "id": "08ZVpoScfaid",
        "colab": {
          "base_uri": "https://localhost:8080/",
          "height": 580,
          "referenced_widgets": [
            "8479c2f25eba4794aee531c046cca09f",
            "ad55cebc376540079fb6719c5926d229",
            "0f9dbc2202cc499db42d7043d55d911d",
            "cc1e9cc3d0484ce6b3c57e5c5437b4b3",
            "e46c1d9e6bc54804a99cb4b1a13187e9",
            "30bfad2d977b437aabfc81f235fd16ae"
          ]
        },
        "outputId": "1eb2555c-d2bf-4fa8-cb3a-4f9e0ee0e7a7"
      },
      "source": [
        "# @title Video 1: PCA\n",
        "from ipywidgets import widgets\n",
        "\n",
        "out2 = widgets.Output()\n",
        "with out2:\n",
        "  from IPython.display import IFrame\n",
        "  class BiliVideo(IFrame):\n",
        "      def __init__(self, id, page=1, width=400, height=300, **kwargs):\n",
        "          self.id=id\n",
        "          src = 'https://player.bilibili.com/player.html?bvid={0}&page={1}'.format(id, page)\n",
        "          super(BiliVideo, self).__init__(src, width, height, **kwargs)\n",
        "\n",
        "  video = BiliVideo(id=\"BV1hK411H7Zi\", width=854, height=480, fs=1)\n",
        "  print('Video available at https://www.bilibili.com/video/{0}'.format(video.id))\n",
        "  display(video)\n",
        "\n",
        "out1 = widgets.Output()\n",
        "with out1:\n",
        "  from IPython.display import YouTubeVideo\n",
        "  video = YouTubeVideo(id=\"-f6T9--oM0E\", width=854, height=480, fs=1, rel=0)\n",
        "  print('Video available at https://youtube.com/watch?v=' + video.id)\n",
        "  display(video)\n",
        "\n",
        "out = widgets.Tab([out1, out2])\n",
        "out.set_title(0, 'Youtube')\n",
        "out.set_title(1, 'Bilibili')\n",
        "\n",
        "display(out)"
      ],
      "execution_count": null,
      "outputs": [
        {
          "output_type": "display_data",
          "data": {
            "application/vnd.jupyter.widget-view+json": {
              "model_id": "8479c2f25eba4794aee531c046cca09f",
              "version_minor": 0,
              "version_major": 2
            },
            "text/plain": [
              "Tab(children=(Output(), Output()), _titles={'0': 'Youtube', '1': 'Bilibili'})"
            ]
          },
          "metadata": {
            "tags": []
          }
        }
      ]
    },
    {
      "cell_type": "markdown",
      "metadata": {
        "execution": {},
        "id": "pH1Ofe06faid"
      },
      "source": [
        "---\n",
        "# Setup\n"
      ]
    },
    {
      "cell_type": "code",
      "metadata": {
        "execution": {},
        "id": "qcyxxbIufaid"
      },
      "source": [
        "# Imports\n",
        "\n",
        "import numpy as np\n",
        "import matplotlib.pyplot as plt"
      ],
      "execution_count": null,
      "outputs": []
    },
    {
      "cell_type": "code",
      "metadata": {
        "cellView": "form",
        "execution": {},
        "id": "PxD6ISlmfaie"
      },
      "source": [
        "# @title Figure Settings\n",
        "import ipywidgets as widgets  # interactive display\n",
        "%config InlineBackend.figure_format = 'retina'\n",
        "plt.style.use(\"https://raw.githubusercontent.com/NeuromatchAcademy/course-content/master/nma.mplstyle\")"
      ],
      "execution_count": null,
      "outputs": []
    },
    {
      "cell_type": "code",
      "metadata": {
        "cellView": "form",
        "execution": {},
        "id": "Yzfv7jawfaie"
      },
      "source": [
        "# @title Plotting Functions\n",
        "\n",
        "def plot_eigenvalues(evals):\n",
        "  \"\"\"\n",
        "  Plots eigenvalues.\n",
        "\n",
        "  Args:\n",
        "      (numpy array of floats) : Vector of eigenvalues\n",
        "\n",
        "  Returns:\n",
        "    Nothing.\n",
        "\n",
        "  \"\"\"\n",
        "  plt.figure(figsize=(4, 4))\n",
        "  plt.plot(np.arange(1, len(evals) + 1), evals, 'o-k')\n",
        "  plt.xlabel('Component')\n",
        "  plt.ylabel('Eigenvalue')\n",
        "  plt.title('Scree plot')\n",
        "  plt.xticks(np.arange(1, len(evals) + 1))\n",
        "  plt.ylim([0, 2.5])\n",
        "\n",
        "\n",
        "def plot_data(X):\n",
        "  \"\"\"\n",
        "  Plots bivariate data. Includes a plot of each random variable, and a scatter\n",
        "  scatter plot of their joint activity. The title indicates the sample\n",
        "  correlation calculated from the data.\n",
        "\n",
        "  Args:\n",
        "    X (numpy array of floats) : Data matrix each column corresponds to a\n",
        "                                different random variable\n",
        "\n",
        "  Returns:\n",
        "    Nothing.\n",
        "  \"\"\"\n",
        "\n",
        "  fig = plt.figure(figsize=[8, 4])\n",
        "  gs = fig.add_gridspec(2, 2)\n",
        "  ax1 = fig.add_subplot(gs[0, 0])\n",
        "  ax1.plot(X[:, 0], color='k')\n",
        "  plt.ylabel('Neuron 1')\n",
        "  ax2 = fig.add_subplot(gs[1, 0])\n",
        "  ax2.plot(X[:, 1], color='k')\n",
        "  plt.xlabel('Sample Number (sorted)')\n",
        "  plt.ylabel('Neuron 2')\n",
        "  ax3 = fig.add_subplot(gs[:, 1])\n",
        "  ax3.plot(X[:, 0], X[:, 1], '.', markerfacecolor=[.5, .5, .5],\n",
        "           markeredgewidth=0)\n",
        "  ax3.axis('equal')\n",
        "  plt.xlabel('Neuron 1 activity')\n",
        "  plt.ylabel('Neuron 2 activity')\n",
        "  plt.title('Sample corr: {:.1f}'.format(np.corrcoef(X[:, 0], X[:, 1])[0, 1]))\n",
        "  plt.show()\n",
        "\n",
        "\n",
        "def plot_data_new_basis(Y):\n",
        "  \"\"\"\n",
        "  Plots bivariate data after transformation to new bases. Similar to plot_data\n",
        "  but with colors corresponding to projections onto basis 1 (red) and\n",
        "  basis 2 (blue).\n",
        "  The title indicates the sample correlation calculated from the data.\n",
        "\n",
        "  Note that samples are re-sorted in ascending order for the first random\n",
        "  variable.\n",
        "\n",
        "  Args:\n",
        "    Y (numpy array of floats) : Data matrix in new basis each column\n",
        "                                corresponds to a different random variable\n",
        "\n",
        "  Returns:\n",
        "    Nothing.\n",
        "  \"\"\"\n",
        "\n",
        "  fig = plt.figure(figsize=[8, 4])\n",
        "  gs = fig.add_gridspec(2, 2)\n",
        "  ax1 = fig.add_subplot(gs[0, 0])\n",
        "  ax1.plot(Y[:, 0], 'r')\n",
        "  plt.ylabel('Projection \\n basis vector 1')\n",
        "  ax2 = fig.add_subplot(gs[1, 0])\n",
        "  ax2.plot(Y[:, 1], 'b')\n",
        "  plt.xlabel('Sample number')\n",
        "  plt.ylabel('Projection \\n basis vector 2')\n",
        "  ax3 = fig.add_subplot(gs[:, 1])\n",
        "  ax3.plot(Y[:, 0], Y[:, 1], '.', color=[.5, .5, .5])\n",
        "  ax3.axis('equal')\n",
        "  plt.xlabel('Projection basis vector 1')\n",
        "  plt.ylabel('Projection basis vector 2')\n",
        "  plt.title('Sample corr: {:.1f}'.format(np.corrcoef(Y[:, 0], Y[:, 1])[0, 1]))\n",
        "  plt.show()\n",
        "\n",
        "\n",
        "def plot_basis_vectors(X, W):\n",
        "  \"\"\"\n",
        "  Plots bivariate data as well as new basis vectors.\n",
        "\n",
        "  Args:\n",
        "    X (numpy array of floats) : Data matrix each column corresponds to a\n",
        "                                different random variable\n",
        "    W (numpy array of floats) : Square matrix representing new orthonormal\n",
        "                                basis each column represents a basis vector\n",
        "\n",
        "  Returns:\n",
        "    Nothing.\n",
        "  \"\"\"\n",
        "\n",
        "  plt.figure(figsize=[4, 4])\n",
        "  plt.plot(X[:, 0], X[:, 1], '.', color=[.5, .5, .5], label='Data')\n",
        "  plt.axis('equal')\n",
        "  plt.xlabel('Neuron 1 activity')\n",
        "  plt.ylabel('Neuron 2 activity')\n",
        "  plt.plot([0, W[0, 0]], [0, W[1, 0]], color='r', linewidth=3,\n",
        "           label='Basis vector 1')\n",
        "  plt.plot([0, W[0, 1]], [0, W[1, 1]], color='b', linewidth=3,\n",
        "           label='Basis vector 2')\n",
        "  plt.legend()\n",
        "  plt.show()"
      ],
      "execution_count": null,
      "outputs": []
    },
    {
      "cell_type": "code",
      "metadata": {
        "cellView": "form",
        "execution": {},
        "id": "WelV1viIfaie"
      },
      "source": [
        "# @title Helper functions\n",
        "\n",
        "def sort_evals_descending(evals, evectors):\n",
        "  \"\"\"\n",
        "  Sorts eigenvalues and eigenvectors in decreasing order. Also aligns first two\n",
        "  eigenvectors to be in first two quadrants (if 2D).\n",
        "\n",
        "  Args:\n",
        "    evals (numpy array of floats)    : Vector of eigenvalues\n",
        "    evectors (numpy array of floats) : Corresponding matrix of eigenvectors\n",
        "                                        each column corresponds to a different\n",
        "                                        eigenvalue\n",
        "\n",
        "  Returns:\n",
        "    (numpy array of floats)          : Vector of eigenvalues after sorting\n",
        "    (numpy array of floats)          : Matrix of eigenvectors after sorting\n",
        "  \"\"\"\n",
        "\n",
        "  index = np.flip(np.argsort(evals))\n",
        "  evals = evals[index]\n",
        "  evectors = evectors[:, index]\n",
        "  if evals.shape[0] == 2:\n",
        "    if np.arccos(np.matmul(evectors[:, 0],\n",
        "                           1 / np.sqrt(2) * np.array([1, 1]))) > np.pi / 2:\n",
        "      evectors[:, 0] = -evectors[:, 0]\n",
        "    if np.arccos(np.matmul(evectors[:, 1],\n",
        "                           1 / np.sqrt(2) * np.array([-1, 1]))) > np.pi / 2:\n",
        "      evectors[:, 1] = -evectors[:, 1]\n",
        "  return evals, evectors\n",
        "\n",
        "\n",
        "def get_data(cov_matrix):\n",
        "  \"\"\"\n",
        "  Returns a matrix of 1000 samples from a bivariate, zero-mean Gaussian\n",
        "\n",
        "  Note that samples are sorted in ascending order for the first random\n",
        "  variable.\n",
        "\n",
        "  Args:\n",
        "    var_1 (scalar)                     : variance of the first random variable\n",
        "    var_2 (scalar)                     : variance of the second random variable\n",
        "    cov_matrix (numpy array of floats) : desired covariance matrix\n",
        "\n",
        "  Returns:\n",
        "    (numpy array of floats)            : samples from the bivariate Gaussian,\n",
        "                                          with each column corresponding to a\n",
        "                                          different random variable\n",
        "  \"\"\"\n",
        "\n",
        "  mean = np.array([0, 0])\n",
        "  X = np.random.multivariate_normal(mean, cov_matrix, size=1000)\n",
        "  indices_for_sorting = np.argsort(X[:, 0])\n",
        "  X = X[indices_for_sorting, :]\n",
        "  return X\n",
        "\n",
        "\n",
        "def calculate_cov_matrix(var_1, var_2, corr_coef):\n",
        "  \"\"\"\n",
        "  Calculates the covariance matrix based on the variances and\n",
        "  correlation coefficient.\n",
        "\n",
        "  Args:\n",
        "    var_1 (scalar)         :  variance of the first random variable\n",
        "    var_2 (scalar)         :  variance of the second random variable\n",
        "    corr_coef (scalar)     :  correlation coefficient\n",
        "\n",
        "  Returns:\n",
        "    (numpy array of floats) : covariance matrix\n",
        "  \"\"\"\n",
        "  cov = corr_coef * np.sqrt(var_1 * var_2)\n",
        "  cov_matrix = np.array([[var_1, cov], [cov, var_2]])\n",
        "  return cov_matrix\n",
        "\n",
        "\n",
        "def define_orthonormal_basis(u):\n",
        "  \"\"\"\n",
        "  Calculates an orthonormal basis given an arbitrary vector u.\n",
        "\n",
        "  Args:\n",
        "    u (numpy array of floats) : arbitrary 2D vector used for new basis\n",
        "\n",
        "  Returns:\n",
        "    (numpy array of floats)   : new orthonormal basis columns correspond to\n",
        "                                basis vectors\n",
        "  \"\"\"\n",
        "\n",
        "  u = u / np.sqrt(u[0] ** 2 + u[1] ** 2)\n",
        "  w = np.array([-u[1], u[0]])\n",
        "  W = np.column_stack((u, w))\n",
        "  return W\n",
        "\n",
        "\n",
        "def change_of_basis(X, W):\n",
        "  \"\"\"\n",
        "  Projects data onto a new basis.\n",
        "\n",
        "  Args:\n",
        "    X (numpy array of floats) : Data matrix each column corresponding to a\n",
        "                                different random variable\n",
        "    W (numpy array of floats) : new orthonormal basis columns correspond to\n",
        "                                basis vectors\n",
        "\n",
        "  Returns:\n",
        "    (numpy array of floats)   : Data matrix expressed in new basis\n",
        "  \"\"\"\n",
        "\n",
        "  Y = np.matmul(X, W)\n",
        "  return Y"
      ],
      "execution_count": null,
      "outputs": []
    },
    {
      "cell_type": "markdown",
      "metadata": {
        "execution": {},
        "id": "MjPktxRpfaif"
      },
      "source": [
        "---\n",
        "# Section 1: Calculate the eigenvectors of the the sample covariance matrix\n",
        "\n",
        "As we saw in the lecture, PCA represents data in a new orthonormal basis defined by the eigenvectors of the covariance matrix. Remember that in the previous tutorial, we generated bivariate normal data with a specified covariance matrix $\\bf \\Sigma$, whose $(i,j)$th element is:\n",
        "\\begin{align}\n",
        "\\Sigma_{ij} = \\mathbb{E}[ x_i x_j ] - \\mathbb{E}[ x_i] \\mathbb{E}[ x_j ] .\n",
        "\\end{align}\n",
        "However, in real life we don't have access to this ground-truth covariance matrix. To get around this, we can use the sample covariance matrix, $\\bf\\hat\\Sigma$, which is calculated directly from the data. The $(i,j)$th element of the sample covariance matrix is:\n",
        "\\begin{align}\n",
        " \\hat \\Sigma_{ij} =  \\frac{1}{N_\\text{samples}}{\\bf x}_i^T {\\bf x}_j - \\bar {\\bf x}_i \\bar{\\bf x}_j ,\n",
        "\\end{align}\n",
        "where ${\\bf x}_i = [ x_i(1), x_i(2), \\dots,x_i(N_\\text{samples})]^T$ is a column vector representing all measurements of neuron $i$, and  $\\bar {\\bf x}_i$ is the mean of neuron $i$ across samples:\n",
        "\\begin{align}\n",
        "\\bar {\\bf x}_i = \\frac{1}{N_\\text{samples}} \\sum_{k=1}^{N_\\text{samples}} x_i(k).\n",
        "\\end{align}\n",
        "If we assume that the data has already been mean-subtracted, then we can write the sample covariance matrix in a much simpler matrix form:\n",
        "\\begin{align}\n",
        "{\\bf \\hat \\Sigma}\n",
        "&= \\frac{1}{N_\\text{samples}} {\\bf X}^T {\\bf X}.\n",
        "\\end{align}\n",
        "\n",
        "where $\\bf X$ is the full data matrix (each column of $\\bf X$ is a different $\\bf x_i$)."
      ]
    },
    {
      "cell_type": "markdown",
      "metadata": {
        "execution": {},
        "id": "qanfEuCxfaif"
      },
      "source": [
        "## Coding Exercise 1.1: Calculate the covariance matrix\n",
        "\n",
        "Before calculating the eigenvectors, you must first calculate the sample covariance matrix.\n",
        "\n",
        "**Steps**\n",
        "* Complete the function `get_sample_cov_matrix` by first subtracting the sample mean of the data, then calculate $\\bf \\hat \\Sigma$ using the equation above.\n",
        "* Use `get_data` to generate bivariate normal data, and calculate the sample covariance matrix with your finished `get_sample_cov_matrix`. Compare this estimate to the true covariate matrix using `calculate_cov_matrix`. You've seen both `get_data` and `calculate_cov_matrix` in Tutorial 1.\n"
      ]
    },
    {
      "cell_type": "code",
      "metadata": {
        "execution": {},
        "id": "Ca0CBzUTfaif",
        "colab": {
          "base_uri": "https://localhost:8080/"
        },
        "outputId": "16f12c34-67ed-4433-ca4f-659d5ee98dca"
      },
      "source": [
        "help(get_data)\n",
        "help(calculate_cov_matrix)"
      ],
      "execution_count": null,
      "outputs": [
        {
          "output_type": "stream",
          "text": [
            "Help on function get_data in module __main__:\n",
            "\n",
            "get_data(cov_matrix)\n",
            "    Returns a matrix of 1000 samples from a bivariate, zero-mean Gaussian\n",
            "    \n",
            "    Note that samples are sorted in ascending order for the first random\n",
            "    variable.\n",
            "    \n",
            "    Args:\n",
            "      var_1 (scalar)                     : variance of the first random variable\n",
            "      var_2 (scalar)                     : variance of the second random variable\n",
            "      cov_matrix (numpy array of floats) : desired covariance matrix\n",
            "    \n",
            "    Returns:\n",
            "      (numpy array of floats)            : samples from the bivariate Gaussian,\n",
            "                                            with each column corresponding to a\n",
            "                                            different random variable\n",
            "\n",
            "Help on function calculate_cov_matrix in module __main__:\n",
            "\n",
            "calculate_cov_matrix(var_1, var_2, corr_coef)\n",
            "    Calculates the covariance matrix based on the variances and\n",
            "    correlation coefficient.\n",
            "    \n",
            "    Args:\n",
            "      var_1 (scalar)         :  variance of the first random variable\n",
            "      var_2 (scalar)         :  variance of the second random variable\n",
            "      corr_coef (scalar)     :  correlation coefficient\n",
            "    \n",
            "    Returns:\n",
            "      (numpy array of floats) : covariance matrix\n",
            "\n"
          ],
          "name": "stdout"
        }
      ]
    },
    {
      "cell_type": "code",
      "metadata": {
        "execution": {},
        "id": "AuqQZmmMfaif",
        "colab": {
          "base_uri": "https://localhost:8080/"
        },
        "outputId": "0297be28-e720-42d1-aa10-370be06acc78"
      },
      "source": [
        "def get_sample_cov_matrix(X):\n",
        "  \"\"\"\n",
        "  Returns the sample covariance matrix of data X\n",
        "\n",
        "  Args:\n",
        "    X (numpy array of floats) : Data matrix each column corresponds to a\n",
        "                                different random variable\n",
        "\n",
        "  Returns:\n",
        "    (numpy array of floats)   : Covariance matrix\n",
        "  \"\"\"\n",
        "\n",
        "  #################################################\n",
        "  ## TODO for students: calculate the covariance matrix\n",
        "  # Fill out function and remove\n",
        "  # raise NotImplementedError(\"Student excercise: calculate the covariance matrix!\")\n",
        "  #################################################\n",
        "\n",
        "  # Subtract the mean of X\n",
        "  X = X - np.mean(X)\n",
        "\n",
        "  # Calculate the covariance matrix (hint: use np.matmul)\n",
        "  cov_matrix = np.matmul(X.T,X) / len(X)\n",
        "\n",
        "  # # Actual solution which is probably the better way:\n",
        "  # # Subtract the mean of X\n",
        "  # X = X - np.mean(X, 0)\n",
        "\n",
        "  # # Calculate the covariance matrix (hint: use np.matmul)\n",
        "  # cov_matrix = cov_matrix = 1 / X.shape[0] * np.matmul(X.T, X)\n",
        "\n",
        "  return cov_matrix\n",
        "\n",
        "\n",
        "# Set parameters\n",
        "np.random.seed(2020)  # set random seed\n",
        "variance_1 = 1\n",
        "variance_2 = 1\n",
        "corr_coef = 0.8\n",
        "\n",
        "# Calculate covariance matrix\n",
        "cov_matrix = calculate_cov_matrix(variance_1, variance_2, corr_coef)\n",
        "print(cov_matrix)\n",
        "\n",
        "# Generate data with that covariance matrix\n",
        "X = get_data(cov_matrix)\n",
        "\n",
        "# Get sample covariance matrix\n",
        "sample_cov_matrix = get_sample_cov_matrix(X)\n",
        "print(sample_cov_matrix)"
      ],
      "execution_count": null,
      "outputs": [
        {
          "output_type": "stream",
          "text": [
            "[[1.  0.8]\n",
            " [0.8 1. ]]\n",
            "[[0.99315313 0.82347589]\n",
            " [0.82347589 1.01281397]]\n"
          ],
          "name": "stdout"
        }
      ]
    },
    {
      "cell_type": "code",
      "metadata": {
        "colab": {
          "base_uri": "https://localhost:8080/"
        },
        "id": "L_5OfA9Fjx3N",
        "outputId": "be984efe-b991-44a6-f8fa-7f0e30a2bb24"
      },
      "source": [
        "np.mean(X)"
      ],
      "execution_count": null,
      "outputs": [
        {
          "output_type": "execute_result",
          "data": {
            "text/plain": [
              "0.012467472079164736"
            ]
          },
          "metadata": {
            "tags": []
          },
          "execution_count": 21
        }
      ]
    },
    {
      "cell_type": "code",
      "metadata": {
        "id": "r70D9sGhjyia"
      },
      "source": [
        ""
      ],
      "execution_count": null,
      "outputs": []
    },
    {
      "cell_type": "code",
      "metadata": {
        "colab": {
          "base_uri": "https://localhost:8080/"
        },
        "id": "rdW-2wZOjspk",
        "outputId": "7ec78854-a317-4c33-9ace-dcd954d91f56"
      },
      "source": [
        "X.shape[0]"
      ],
      "execution_count": null,
      "outputs": [
        {
          "output_type": "execute_result",
          "data": {
            "text/plain": [
              "1000"
            ]
          },
          "metadata": {
            "tags": []
          },
          "execution_count": 19
        }
      ]
    },
    {
      "cell_type": "code",
      "metadata": {
        "colab": {
          "base_uri": "https://localhost:8080/"
        },
        "id": "wGW_hqgNjuMZ",
        "outputId": "e5d5f818-83ee-4acc-f350-c4a965104f6f"
      },
      "source": [
        "len(X)"
      ],
      "execution_count": null,
      "outputs": [
        {
          "output_type": "execute_result",
          "data": {
            "text/plain": [
              "1000"
            ]
          },
          "metadata": {
            "tags": []
          },
          "execution_count": 20
        }
      ]
    },
    {
      "cell_type": "code",
      "metadata": {
        "colab": {
          "base_uri": "https://localhost:8080/"
        },
        "id": "MInoza0Sizmz",
        "outputId": "b2818d90-5c43-46a9-aa70-6f9bb55ca352"
      },
      "source": [
        "cov_matrix"
      ],
      "execution_count": null,
      "outputs": [
        {
          "output_type": "execute_result",
          "data": {
            "text/plain": [
              "array([[1. , 0.8],\n",
              "       [0.8, 1. ]])"
            ]
          },
          "metadata": {
            "tags": []
          },
          "execution_count": 18
        }
      ]
    },
    {
      "cell_type": "markdown",
      "metadata": {
        "execution": {},
        "id": "tZaqCnHsfaig"
      },
      "source": [
        "[*Click for solution*](https://github.com/NeuromatchAcademy/course-content/tree/master//tutorials/W1D5_DimensionalityReduction/solutions/W1D5_Tutorial2_Solution_e62e1a30.py)\n",
        "\n"
      ]
    },
    {
      "cell_type": "markdown",
      "metadata": {
        "execution": {},
        "id": "70NXctr7faig"
      },
      "source": [
        "SAMPLE OUTPUT\n",
        "```\n",
        "[[1.  0.8]\n",
        " [0.8 1. ]]\n",
        "[[0.99315313 0.82347589]\n",
        " [0.82347589 1.01281397]]\n",
        "```"
      ]
    },
    {
      "cell_type": "markdown",
      "metadata": {
        "execution": {},
        "id": "AZmW0XZrfaig"
      },
      "source": [
        "We get a sample covariance matrix that doesn't look too far off from the true covariance matrix, so that's a good sign!"
      ]
    },
    {
      "cell_type": "markdown",
      "metadata": {
        "execution": {},
        "id": "kVBdYPAEfaig"
      },
      "source": [
        "## Coding Exercise 1.2: Eigenvectors of the covariance matrix\n",
        "\n",
        "Next you will calculate the eigenvectors of the covariance matrix. Plot them along with the data to check that they align with the geometry of the data.\n",
        "\n",
        "**Steps:**\n",
        "* Calculate the eigenvalues and eigenvectors of the sample covariance matrix. (**Hint:** use `np.linalg.eigh`, which finds the eigenvalues of a symmetric matrix).\n",
        "* Use the provided code to sort the eigenvalues in descending order.\n",
        "* Plot the eigenvectors on a scatter plot of the data, using the function `plot_basis_vectors`. "
      ]
    },
    {
      "cell_type": "code",
      "metadata": {
        "execution": {},
        "id": "IzC1sW-Lfaig",
        "colab": {
          "base_uri": "https://localhost:8080/"
        },
        "outputId": "9892a6ed-7db6-462d-ab4c-501926fd94ed"
      },
      "source": [
        "help(sort_evals_descending)"
      ],
      "execution_count": null,
      "outputs": [
        {
          "output_type": "stream",
          "text": [
            "Help on function sort_evals_descending in module __main__:\n",
            "\n",
            "sort_evals_descending(evals, evectors)\n",
            "    Sorts eigenvalues and eigenvectors in decreasing order. Also aligns first two\n",
            "    eigenvectors to be in first two quadrants (if 2D).\n",
            "    \n",
            "    Args:\n",
            "      evals (numpy array of floats)    : Vector of eigenvalues\n",
            "      evectors (numpy array of floats) : Corresponding matrix of eigenvectors\n",
            "                                          each column corresponds to a different\n",
            "                                          eigenvalue\n",
            "    \n",
            "    Returns:\n",
            "      (numpy array of floats)          : Vector of eigenvalues after sorting\n",
            "      (numpy array of floats)          : Matrix of eigenvectors after sorting\n",
            "\n"
          ],
          "name": "stdout"
        }
      ]
    },
    {
      "cell_type": "code",
      "metadata": {
        "execution": {},
        "id": "RjsOjLM8faig",
        "colab": {
          "base_uri": "https://localhost:8080/",
          "height": 287
        },
        "outputId": "c13dc8a1-3311-493f-a304-2c30e0f642f2"
      },
      "source": [
        "#################################################\n",
        "## TODO for students\n",
        "# Fill out function and remove\n",
        "# raise NotImplementedError(\"Student excercise: calculate and sort eigenvalues\")\n",
        "#################################################\n",
        "\n",
        "# Calculate the eigenvalues and eigenvectors\n",
        "evals, evectors = np.linalg.eigh(cov_matrix)\n",
        "\n",
        "# Sort the eigenvalues in descending order\n",
        "evals, evectors = sort_evals_descending(evals, evectors)\n",
        "\n",
        "# Visualize\n",
        "plot_basis_vectors(X, evectors)\n",
        "\n",
        "# red is 1st PC => explains most variance\n",
        "# blue is second => orthogonal for blue"
      ],
      "execution_count": null,
      "outputs": [
        {
          "output_type": "display_data",
          "data": {
            "image/png": "[encoded data removed]",
            "text/plain": [
              "<Figure size 288x288 with 1 Axes>"
            ]
          },
          "metadata": {
            "tags": [],
            "image/png": {
              "width": 269,
              "height": 270
            },
            "needs_background": "light"
          }
        }
      ]
    },
    {
      "cell_type": "markdown",
      "metadata": {
        "execution": {},
        "id": "83GWbCasfaig"
      },
      "source": [
        "[*Click for solution*](https://github.com/NeuromatchAcademy/course-content/tree/master//tutorials/W1D5_DimensionalityReduction/solutions/W1D5_Tutorial2_Solution_97bca56d.py)\n",
        "\n",
        "*Example output:*\n",
        "\n",
        "<img alt='Solution hint' align='left' width=548.0 height=544.0 src=https://raw.githubusercontent.com/NeuromatchAcademy/course-content/master/tutorials/W1D5_DimensionalityReduction/static/W1D5_Tutorial2_Solution_97bca56d_0.png>\n",
        "\n"
      ]
    },
    {
      "cell_type": "markdown",
      "metadata": {
        "execution": {},
        "id": "G6A74MCwfaig"
      },
      "source": [
        "---\n",
        "# Section 2: Perform PCA by projecting data onto the eigenvectors\n",
        "\n",
        "*Estimated timing to here from start of tutorial: 25 min*\n"
      ]
    },
    {
      "cell_type": "markdown",
      "metadata": {
        "execution": {},
        "id": "1R1lJiYvfaih"
      },
      "source": [
        "To perform PCA, we will project the data onto the eigenvectors of the covariance matrix, i.e.:\n",
        "\\begin{align}\n",
        "\\bf S = X W\n",
        "\\end{align}\n",
        "where $\\bf S$ is an $N_\\text{samples} \\times N$ matrix representing the projected data (also called *scores*), and $\\bf W$ is an $N\\times N$ orthogonal matrix, each of whose columns represents the eigenvectors of the covariance matrix (also called *weights* or *loadings*). "
      ]
    },
    {
      "cell_type": "markdown",
      "metadata": {
        "execution": {},
        "id": "VMIKQ89zfaih"
      },
      "source": [
        "## Coding Exercise 2: PCA implementation\n",
        "\n",
        "You will now perform PCA on the data using the intuition and functions you have developed so far. Fill in the function below to carry out the steps to perform PCA by projecting the data onto the eigenvectors of its covariance matrix.\n",
        "\n",
        "**Steps:**\n",
        "* First subtract the mean and calculate the sample covariance matrix.\n",
        "* Then find the eigenvalues and eigenvectors and sort them in descending order.\n",
        "* Finally project the mean-centered data onto the eigenvectors."
      ]
    },
    {
      "cell_type": "code",
      "metadata": {
        "execution": {},
        "id": "AsNjILtWfaih",
        "colab": {
          "base_uri": "https://localhost:8080/"
        },
        "outputId": "2524c5ff-4c42-4b72-ee9f-b8d8864e2528"
      },
      "source": [
        "help(change_of_basis)"
      ],
      "execution_count": null,
      "outputs": [
        {
          "output_type": "stream",
          "text": [
            "Help on function change_of_basis in module __main__:\n",
            "\n",
            "change_of_basis(X, W)\n",
            "    Projects data onto a new basis.\n",
            "    \n",
            "    Args:\n",
            "      X (numpy array of floats) : Data matrix each column corresponding to a\n",
            "                                  different random variable\n",
            "      W (numpy array of floats) : new orthonormal basis columns correspond to\n",
            "                                  basis vectors\n",
            "    \n",
            "    Returns:\n",
            "      (numpy array of floats)   : Data matrix expressed in new basis\n",
            "\n"
          ],
          "name": "stdout"
        }
      ]
    },
    {
      "cell_type": "code",
      "metadata": {
        "execution": {},
        "id": "NjukaoC3faih",
        "colab": {
          "base_uri": "https://localhost:8080/",
          "height": 286
        },
        "outputId": "a3c4faa3-4f9d-4d2b-f78b-6daa2af1eb11"
      },
      "source": [
        "def pca(X):\n",
        "  \"\"\"\n",
        "  Sorts eigenvalues and eigenvectors in decreasing order.\n",
        "\n",
        "  Args:\n",
        "    X (numpy array of floats): Data matrix each column corresponds to a\n",
        "                               different random variable\n",
        "\n",
        "  Returns:\n",
        "    (numpy array of floats)  : Data projected onto the new basis\n",
        "    (numpy array of floats)  : Vector of eigenvalues\n",
        "    (numpy array of floats)  : Corresponding matrix of eigenvectors\n",
        "\n",
        "  \"\"\"\n",
        "\n",
        "  #################################################\n",
        "  ## TODO for students: calculate the covariance matrix\n",
        "  # Fill out function and remove\n",
        "  # raise NotImplementedError(\"Student excercise: sort eigenvalues/eigenvectors!\")\n",
        "  #################################################\n",
        "\n",
        "  # Calculate the sample covariance matrix\n",
        "  cov_matrix = get_sample_cov_matrix(X)\n",
        "\n",
        "  # Calculate the eigenvalues and eigenvectors\n",
        "  evals, evectors = np.linalg.eigh(cov_matrix)\n",
        "\n",
        "  # Sort the eigenvalues in descending order\n",
        "  evals, evectors = sort_evals_descending(evals, evectors)\n",
        "\n",
        "  # Project the data onto the new eigenvector basis\n",
        "  # can now simply multiply our orthonormal basis vector with original data\n",
        "  # as evectors (W) is orthonormal to obtain score\n",
        "  score = change_of_basis(X,evectors)\n",
        "\n",
        "  return score, evectors, evals\n",
        "\n",
        "\n",
        "# Perform PCA on the data matrix X\n",
        "score, evectors, evals = pca(X)\n",
        "\n",
        "# Plot the data projected into the new basis\n",
        "plot_data_new_basis(score)"
      ],
      "execution_count": null,
      "outputs": [
        {
          "output_type": "display_data",
          "data": {
            "image/png": "[encoded data removed]",
            "text/plain": [
              "<Figure size 576x288 with 3 Axes>"
            ]
          },
          "metadata": {
            "tags": [],
            "image/png": {
              "width": 558,
              "height": 269
            },
            "needs_background": "light"
          }
        }
      ]
    },
    {
      "cell_type": "markdown",
      "metadata": {
        "execution": {},
        "id": "9wKB2wB2faih"
      },
      "source": [
        "[*Click for solution*](https://github.com/NeuromatchAcademy/course-content/tree/master//tutorials/W1D5_DimensionalityReduction/solutions/W1D5_Tutorial2_Solution_3fc5faa0.py)\n",
        "\n",
        "*Example output:*\n",
        "\n",
        "<img alt='Solution hint' align='left' width=1120.0 height=544.0 src=https://raw.githubusercontent.com/NeuromatchAcademy/course-content/master/tutorials/W1D5_DimensionalityReduction/static/W1D5_Tutorial2_Solution_3fc5faa0_0.png>\n",
        "\n"
      ]
    },
    {
      "cell_type": "markdown",
      "metadata": {
        "execution": {},
        "id": "4VfoHHKwfaih"
      },
      "source": [
        "   Finally, we will examine the eigenvalues of the covariance matrix. Remember that each eigenvalue describes the variance of the data projected onto its corresponding eigenvector. This is an important concept because it allows us to rank the PCA basis vectors based on how much variance each one can capture. First run the code below to plot the eigenvalues (sometimes called the \"scree plot\"). Which eigenvalue is larger?"
      ]
    },
    {
      "cell_type": "code",
      "metadata": {
        "execution": {},
        "id": "zAf5hh4Ffaih",
        "colab": {
          "base_uri": "https://localhost:8080/",
          "height": 287
        },
        "outputId": "7a5a8065-d4fa-473e-b080-a5025d61b9f1"
      },
      "source": [
        "plot_eigenvalues(evals)\n",
        "# PC 1 has larger eigenvalue, which makes sense bc it explains the most variance in the data"
      ],
      "execution_count": null,
      "outputs": [
        {
          "output_type": "display_data",
          "data": {
            "image/png": "[encoded data removed]",
            "text/plain": [
              "<Figure size 288x288 with 1 Axes>"
            ]
          },
          "metadata": {
            "tags": [],
            "image/png": {
              "width": 270,
              "height": 270
            },
            "needs_background": "light"
          }
        }
      ]
    },
    {
      "cell_type": "markdown",
      "metadata": {
        "execution": {},
        "id": "Hjx6EzOPfaih"
      },
      "source": [
        "## Interactive Demo 2: Exploration of the correlation coefficient\n",
        "\n",
        "Run the following cell and use the slider to change the correlation coefficient in the data. You should see the scree plot and the plot of basis vectors update.\n",
        "\n",
        "1.  What happens to the eigenvalues as you change the correlation coefficient?\n",
        "2.  Can you find a value for which both eigenvalues are equal?\n",
        "3.  Can you find a value for which only one eigenvalue is nonzero?"
      ]
    },
    {
      "cell_type": "markdown",
      "metadata": {
        "id": "w7h2r59jmF4I"
      },
      "source": [
        "1. As we decrease the correlation coefficient, eigenvalues become more similar (slope flattens out)\n",
        "2. corr_coef = 0\n",
        "3. coerr_coef = 1 | -1, where PC1 has value of 2 and PC2 = 0\n"
      ]
    },
    {
      "cell_type": "code",
      "metadata": {
        "cellView": "form",
        "execution": {},
        "id": "QwxWbXh0faih",
        "colab": {
          "base_uri": "https://localhost:8080/",
          "height": 589,
          "referenced_widgets": [
            "e21ec0fef9c24fc7a911a38cb73c7f20",
            "96b172b4bfdf453cb351b885bdafab66",
            "f1fa5036d09b4b12b86fa3000344a5a7",
            "046417030ab4460b9012e7d71ae8c82a",
            "4d135073acd644e3937d548513b0cf87",
            "f19c6a3829ab4915aec653569a20e4a1",
            "9786f567f2484db9b2a3a2e6836e74cd"
          ]
        },
        "outputId": "11d3bf0a-0cf2-4050-875c-5a81dc8bc36d"
      },
      "source": [
        "# @markdown Make sure you execute this cell to enable the widget!\n",
        "\n",
        "def refresh(corr_coef=.8):\n",
        "  cov_matrix = calculate_cov_matrix(variance_1, variance_2, corr_coef)\n",
        "  X = get_data(cov_matrix)\n",
        "  score, evectors, evals = pca(X)\n",
        "  plot_eigenvalues(evals)\n",
        "  plot_basis_vectors(X, evectors)\n",
        "\n",
        "\n",
        "_ = widgets.interact(refresh, corr_coef=(-1, 1, .1))"
      ],
      "execution_count": null,
      "outputs": [
        {
          "output_type": "display_data",
          "data": {
            "application/vnd.jupyter.widget-view+json": {
              "model_id": "e21ec0fef9c24fc7a911a38cb73c7f20",
              "version_minor": 0,
              "version_major": 2
            },
            "text/plain": [
              "interactive(children=(FloatSlider(value=0.8, description='corr_coef', max=1.0, min=-1.0), Output()), _dom_clas…"
            ]
          },
          "metadata": {
            "tags": []
          }
        }
      ]
    },
    {
      "cell_type": "markdown",
      "metadata": {
        "execution": {},
        "id": "wfK9N_defaih"
      },
      "source": [
        "[*Click for solution*](https://github.com/NeuromatchAcademy/course-content/tree/master//tutorials/W1D5_DimensionalityReduction/solutions/W1D5_Tutorial2_Solution_1227c45a.py)\n",
        "\n"
      ]
    },
    {
      "cell_type": "markdown",
      "metadata": {
        "execution": {},
        "id": "XnzdLG4Efaih"
      },
      "source": [
        "---\n",
        "# Summary\n",
        "\n",
        "*Estimated timing of tutorial: 45 minutes*\n",
        "\n",
        "- In this tutorial, we learned that goal of PCA is to find an orthonormal basis capturing the directions of maximum variance of the data. More precisely, the $i$th basis vector is the direction that maximizes the projected variance, while being orthogonal to all previous basis vectors. Mathematically, these basis vectors are the eigenvectors of the covariance matrix (also called *loadings*). \n",
        "- PCA also has the useful property that the projected data (*scores*) are uncorrelated.\n",
        "- The projected variance along each basis vector is given by its corresponding eigenvalue. This is important because it allows us rank the \"importance\" of each basis vector in terms of how much of the data variability it explains. An eigenvalue of zero means there is no variation along that direction so it can be dropped without losing any information about the original data.\n",
        "- In the next tutorial, we will use this property to reduce the dimensionality of high-dimensional data.\n"
      ]
    },
    {
      "cell_type": "markdown",
      "metadata": {
        "execution": {},
        "id": "n7qzLW16faih"
      },
      "source": [
        "---\n",
        "# Notation\n",
        "\n",
        "\\begin{align}\n",
        "\\mathbf{x_i}  &\\quad \\text{all measurements of neuron } i\\\\\n",
        "\\bar{\\bf x_i}  &\\quad \\text{mean across samples for neuron } i \\\\\n",
        "\\bf \\Sigma &\\quad \\text{covariance matrix}\\\\\n",
        "\\bf \\hat \\Sigma &\\quad \\text{sample covariance matrix}\\\\\n",
        "\\bf W &\\quad \\text{weights, loadings matrix}\\\\\n",
        "{\\bf X} &\\quad \\text{original data matrix}\\\\\n",
        "\\bf S &\\quad \\text{projected matrix, scores}\\\\\n",
        "N &\\quad \\text{data dimensionality}\\\\\n",
        "N_\\text{samples} &\\quad \\text{number of samples}\\\\\n",
        "\\end{align}"
      ]
    },
    {
      "cell_type": "markdown",
      "metadata": {
        "execution": {},
        "id": "66E9l0b2faih"
      },
      "source": [
        "---\n",
        "# Bonus"
      ]
    },
    {
      "cell_type": "markdown",
      "metadata": {
        "execution": {},
        "id": "vhODQ55Bfaii"
      },
      "source": [
        "---\n",
        "## Bonus Section 1: Mathematical basis of PCA properties"
      ]
    },
    {
      "cell_type": "code",
      "metadata": {
        "cellView": "form",
        "execution": {},
        "id": "-LOfTvhRfaii",
        "colab": {
          "base_uri": "https://localhost:8080/",
          "height": 580,
          "referenced_widgets": [
            "beef560ffd904c7299f41aa8b67eeaf2",
            "7968e61dd5ac47018d2a2cfd9c034177",
            "1318860431ee4130a7a86b0e478effb9",
            "42a94bafc2404dc991b78040ee6d1509",
            "3afb3946787748a091f57db4118012b8",
            "bff71292227e4763b7635e7be182fd8f"
          ]
        },
        "outputId": "0b7279af-42b6-487d-8b0c-bfce22b7e760"
      },
      "source": [
        "# @title Video 2: Properties of PCA\n",
        "from ipywidgets import widgets\n",
        "\n",
        "out2 = widgets.Output()\n",
        "with out2:\n",
        "  from IPython.display import IFrame\n",
        "  class BiliVideo(IFrame):\n",
        "      def __init__(self, id, page=1, width=400, height=300, **kwargs):\n",
        "          self.id=id\n",
        "          src = 'https://player.bilibili.com/player.html?bvid={0}&page={1}'.format(id, page)\n",
        "          super(BiliVideo, self).__init__(src, width, height, **kwargs)\n",
        "\n",
        "  video = BiliVideo(id=\"BV1xa4y1a77c\", width=854, height=480, fs=1)\n",
        "  print('Video available at https://www.bilibili.com/video/{0}'.format(video.id))\n",
        "  display(video)\n",
        "\n",
        "out1 = widgets.Output()\n",
        "with out1:\n",
        "  from IPython.display import YouTubeVideo\n",
        "  video = YouTubeVideo(id=\"p56UrMRt6-U\", width=854, height=480, fs=1, rel=0)\n",
        "  print('Video available at https://youtube.com/watch?v=' + video.id)\n",
        "  display(video)\n",
        "\n",
        "out = widgets.Tab([out1, out2])\n",
        "out.set_title(0, 'Youtube')\n",
        "out.set_title(1, 'Bilibili')\n",
        "\n",
        "display(out)"
      ],
      "execution_count": null,
      "outputs": [
        {
          "output_type": "display_data",
          "data": {
            "application/vnd.jupyter.widget-view+json": {
              "model_id": "beef560ffd904c7299f41aa8b67eeaf2",
              "version_minor": 0,
              "version_major": 2
            },
            "text/plain": [
              "Tab(children=(Output(), Output()), _titles={'0': 'Youtube', '1': 'Bilibili'})"
            ]
          },
          "metadata": {
            "tags": []
          }
        }
      ]
    }
  ]
}