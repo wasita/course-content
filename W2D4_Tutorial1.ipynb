{
  "nbformat": 4,
  "nbformat_minor": 0,
  "metadata": {
    "colab": {
      "name": "W2D4_Tutorial1",
      "provenance": [],
      "collapsed_sections": [],
      "include_colab_link": true
    },
    "kernel": {
      "display_name": "Python 3",
      "language": "python",
      "name": "python3"
    },
    "kernelspec": {
      "display_name": "Python 3",
      "name": "python3"
    },
    "language_info": {
      "codemirror_mode": {
        "name": "ipython",
        "version": 3
      },
      "file_extension": ".py",
      "mimetype": "text/x-python",
      "name": "python",
      "nbconvert_exporter": "python",
      "pygments_lexer": "ipython3",
      "version": "3.7.10"
    },
    "widgets": {
      "application/vnd.jupyter.widget-state+json": {
        "17225b98669f45d3812af9f622fc15c9": {
          "model_module": "@jupyter-widgets/controls",
          "model_name": "TabModel",
          "state": {
            "_view_name": "TabView",
            "_dom_classes": [],
            "_titles": {
              "0": "Youtube",
              "1": "Bilibili"
            },
            "_model_name": "TabModel",
            "_view_module": "@jupyter-widgets/controls",
            "selected_index": 0,
            "_model_module_version": "1.5.0",
            "_view_count": null,
            "_view_module_version": "1.5.0",
            "box_style": "",
            "layout": "IPY_MODEL_5eb9b337abac4929a8e8cc7ec3eb720a",
            "_model_module": "@jupyter-widgets/controls",
            "children": [
              "IPY_MODEL_cf5d9886209d419888d3987a4806cee9",
              "IPY_MODEL_13b56c93578c47e4a47cd82d09873f75"
            ]
          }
        },
        "5eb9b337abac4929a8e8cc7ec3eb720a": {
          "model_module": "@jupyter-widgets/base",
          "model_name": "LayoutModel",
          "state": {
            "_view_name": "LayoutView",
            "grid_template_rows": null,
            "right": null,
            "justify_content": null,
            "_view_module": "@jupyter-widgets/base",
            "overflow": null,
            "_model_module_version": "1.2.0",
            "_view_count": null,
            "flex_flow": null,
            "width": null,
            "min_width": null,
            "border": null,
            "align_items": null,
            "bottom": null,
            "_model_module": "@jupyter-widgets/base",
            "top": null,
            "grid_column": null,
            "overflow_y": null,
            "overflow_x": null,
            "grid_auto_flow": null,
            "grid_area": null,
            "grid_template_columns": null,
            "flex": null,
            "_model_name": "LayoutModel",
            "justify_items": null,
            "grid_row": null,
            "max_height": null,
            "align_content": null,
            "visibility": null,
            "align_self": null,
            "height": null,
            "min_height": null,
            "padding": null,
            "grid_auto_rows": null,
            "grid_gap": null,
            "max_width": null,
            "order": null,
            "_view_module_version": "1.2.0",
            "grid_template_areas": null,
            "object_position": null,
            "object_fit": null,
            "grid_auto_columns": null,
            "margin": null,
            "display": null,
            "left": null
          }
        },
        "cf5d9886209d419888d3987a4806cee9": {
          "model_module": "@jupyter-widgets/output",
          "model_name": "OutputModel",
          "state": {
            "_view_name": "OutputView",
            "msg_id": "",
            "_dom_classes": [],
            "_model_name": "OutputModel",
            "outputs": [
              {
                "output_type": "stream",
                "metadata": {
                  "tags": []
                },
                "text": "Video available at https://youtube.com/watch?v=p848349hPyw\n",
                "stream": "stdout"
              },
              {
                "output_type": "display_data",
                "metadata": {
                  "tags": []
                },
                "text/html": "\n        <iframe\n            width=\"854\"\n            height=\"480\"\n            src=\"https://www.youtube.com/embed/p848349hPyw?fs=1&rel=0\"\n            frameborder=\"0\"\n            allowfullscreen\n        ></iframe>\n        ",
                "text/plain": "<IPython.lib.display.YouTubeVideo at 0x7f5ea975b510>",
                "image/jpeg": "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\n"
              }
            ],
            "_view_module": "@jupyter-widgets/output",
            "_model_module_version": "1.0.0",
            "_view_count": null,
            "_view_module_version": "1.0.0",
            "layout": "IPY_MODEL_bd84e49c8bc44bf6a37f040a10e914ed",
            "_model_module": "@jupyter-widgets/output"
          }
        },
        "13b56c93578c47e4a47cd82d09873f75": {
          "model_module": "@jupyter-widgets/output",
          "model_name": "OutputModel",
          "state": {
            "_view_name": "OutputView",
            "msg_id": "",
            "_dom_classes": [],
            "_model_name": "OutputModel",
            "outputs": [
              {
                "output_type": "stream",
                "metadata": {
                  "tags": []
                },
                "text": "Video available at https://www.bilibili.com/video/BV1dh411o7qJ\n",
                "stream": "stdout"
              },
              {
                "output_type": "display_data",
                "metadata": {
                  "tags": []
                },
                "text/html": "\n        <iframe\n            width=\"854\"\n            height=\"480\"\n            src=\"https://player.bilibili.com/player.html?bvid=BV1dh411o7qJ&page=1?fs=1\"\n            frameborder=\"0\"\n            allowfullscreen\n        ></iframe>\n        ",
                "text/plain": "<__main__.BiliVideo at 0x7f5e9a121450>"
              }
            ],
            "_view_module": "@jupyter-widgets/output",
            "_model_module_version": "1.0.0",
            "_view_count": null,
            "_view_module_version": "1.0.0",
            "layout": "IPY_MODEL_8af3e1e1aa9a42bf9abebd7cdcb96654",
            "_model_module": "@jupyter-widgets/output"
          }
        },
        "bd84e49c8bc44bf6a37f040a10e914ed": {
          "model_module": "@jupyter-widgets/base",
          "model_name": "LayoutModel",
          "state": {
            "_view_name": "LayoutView",
            "grid_template_rows": null,
            "right": null,
            "justify_content": null,
            "_view_module": "@jupyter-widgets/base",
            "overflow": null,
            "_model_module_version": "1.2.0",
            "_view_count": null,
            "flex_flow": null,
            "width": null,
            "min_width": null,
            "border": null,
            "align_items": null,
            "bottom": null,
            "_model_module": "@jupyter-widgets/base",
            "top": null,
            "grid_column": null,
            "overflow_y": null,
            "overflow_x": null,
            "grid_auto_flow": null,
            "grid_area": null,
            "grid_template_columns": null,
            "flex": null,
            "_model_name": "LayoutModel",
            "justify_items": null,
            "grid_row": null,
            "max_height": null,
            "align_content": null,
            "visibility": null,
            "align_self": null,
            "height": null,
            "min_height": null,
            "padding": null,
            "grid_auto_rows": null,
            "grid_gap": null,
            "max_width": null,
            "order": null,
            "_view_module_version": "1.2.0",
            "grid_template_areas": null,
            "object_position": null,
            "object_fit": null,
            "grid_auto_columns": null,
            "margin": null,
            "display": null,
            "left": null
          }
        },
        "8af3e1e1aa9a42bf9abebd7cdcb96654": {
          "model_module": "@jupyter-widgets/base",
          "model_name": "LayoutModel",
          "state": {
            "_view_name": "LayoutView",
            "grid_template_rows": null,
            "right": null,
            "justify_content": null,
            "_view_module": "@jupyter-widgets/base",
            "overflow": null,
            "_model_module_version": "1.2.0",
            "_view_count": null,
            "flex_flow": null,
            "width": null,
            "min_width": null,
            "border": null,
            "align_items": null,
            "bottom": null,
            "_model_module": "@jupyter-widgets/base",
            "top": null,
            "grid_column": null,
            "overflow_y": null,
            "overflow_x": null,
            "grid_auto_flow": null,
            "grid_area": null,
            "grid_template_columns": null,
            "flex": null,
            "_model_name": "LayoutModel",
            "justify_items": null,
            "grid_row": null,
            "max_height": null,
            "align_content": null,
            "visibility": null,
            "align_self": null,
            "height": null,
            "min_height": null,
            "padding": null,
            "grid_auto_rows": null,
            "grid_gap": null,
            "max_width": null,
            "order": null,
            "_view_module_version": "1.2.0",
            "grid_template_areas": null,
            "object_position": null,
            "object_fit": null,
            "grid_auto_columns": null,
            "margin": null,
            "display": null,
            "left": null
          }
        },
        "c2f14ffd64fe451d8d966002672a6637": {
          "model_module": "@jupyter-widgets/controls",
          "model_name": "VBoxModel",
          "state": {
            "_view_name": "VBoxView",
            "_dom_classes": [
              "widget-interact"
            ],
            "_model_name": "VBoxModel",
            "_view_module": "@jupyter-widgets/controls",
            "_model_module_version": "1.5.0",
            "_view_count": null,
            "_view_module_version": "1.5.0",
            "box_style": "",
            "layout": "IPY_MODEL_43d61c6fa09844f7b94e45409016f223",
            "_model_module": "@jupyter-widgets/controls",
            "children": [
              "IPY_MODEL_571e14927c6946e68afc439570b8d1ee",
              "IPY_MODEL_60cad99c70914936b6c336c6562e65e6",
              "IPY_MODEL_c2563246e73e4279825b360f90ae183c"
            ]
          }
        },
        "43d61c6fa09844f7b94e45409016f223": {
          "model_module": "@jupyter-widgets/base",
          "model_name": "LayoutModel",
          "state": {
            "_view_name": "LayoutView",
            "grid_template_rows": null,
            "right": null,
            "justify_content": null,
            "_view_module": "@jupyter-widgets/base",
            "overflow": null,
            "_model_module_version": "1.2.0",
            "_view_count": null,
            "flex_flow": null,
            "width": null,
            "min_width": null,
            "border": null,
            "align_items": null,
            "bottom": null,
            "_model_module": "@jupyter-widgets/base",
            "top": null,
            "grid_column": null,
            "overflow_y": null,
            "overflow_x": null,
            "grid_auto_flow": null,
            "grid_area": null,
            "grid_template_columns": null,
            "flex": null,
            "_model_name": "LayoutModel",
            "justify_items": null,
            "grid_row": null,
            "max_height": null,
            "align_content": null,
            "visibility": null,
            "align_self": null,
            "height": null,
            "min_height": null,
            "padding": null,
            "grid_auto_rows": null,
            "grid_gap": null,
            "max_width": null,
            "order": null,
            "_view_module_version": "1.2.0",
            "grid_template_areas": null,
            "object_position": null,
            "object_fit": null,
            "grid_auto_columns": null,
            "margin": null,
            "display": null,
            "left": null
          }
        },
        "571e14927c6946e68afc439570b8d1ee": {
          "model_module": "@jupyter-widgets/controls",
          "model_name": "FloatSliderModel",
          "state": {
            "_view_name": "FloatSliderView",
            "style": "IPY_MODEL_a6634c79d83844e486d238ec521a5e52",
            "_dom_classes": [],
            "description": "a",
            "step": 0.3,
            "_model_name": "FloatSliderModel",
            "orientation": "horizontal",
            "max": 3,
            "_view_module": "@jupyter-widgets/controls",
            "_model_module_version": "1.5.0",
            "value": 3,
            "_view_count": null,
            "disabled": false,
            "_view_module_version": "1.5.0",
            "min": 0.3,
            "continuous_update": true,
            "readout_format": ".2f",
            "description_tooltip": null,
            "readout": true,
            "_model_module": "@jupyter-widgets/controls",
            "layout": "IPY_MODEL_8c1ca570d87c4566aa2d67ebee090ce5"
          }
        },
        "60cad99c70914936b6c336c6562e65e6": {
          "model_module": "@jupyter-widgets/controls",
          "model_name": "FloatSliderModel",
          "state": {
            "_view_name": "FloatSliderView",
            "style": "IPY_MODEL_969f891092994a44bb1b80367e610860",
            "_dom_classes": [],
            "description": "theta",
            "step": 0.2,
            "_model_name": "FloatSliderModel",
            "orientation": "horizontal",
            "max": 4,
            "_view_module": "@jupyter-widgets/controls",
            "_model_module_version": "1.5.0",
            "value": 3,
            "_view_count": null,
            "disabled": false,
            "_view_module_version": "1.5.0",
            "min": 2,
            "continuous_update": true,
            "readout_format": ".2f",
            "description_tooltip": null,
            "readout": true,
            "_model_module": "@jupyter-widgets/controls",
            "layout": "IPY_MODEL_89f72c66653c4f75874671ace2d13583"
          }
        },
        "c2563246e73e4279825b360f90ae183c": {
          "model_module": "@jupyter-widgets/output",
          "model_name": "OutputModel",
          "state": {
            "_view_name": "OutputView",
            "msg_id": "",
            "_dom_classes": [],
            "_model_name": "OutputModel",
            "outputs": [
              {
                "output_type": "display_data",
                "metadata": {
                  "tags": [],
                  "image/png": {
                    "width": 558,
                    "height": 413
                  },
                  "needs_background": "light"
                },
                "image/png": "iVBORw0KGgoAAAANSUhEUgAABFwAAAM7CAYAAAB3L4SlAAAABHNCSVQICAgIfAhkiAAAAAlwSFlzAAAWJQAAFiUBSVIk8AAAADh0RVh0U29mdHdhcmUAbWF0cGxvdGxpYiB2ZXJzaW9uMy4yLjIsIGh0dHA6Ly9tYXRwbG90bGliLm9yZy+WH4yJAAAgAElEQVR4nOzdebjdVX0v/vfKRAYSAjSARCbxhnkKgxWhQpVBFMvVKiqK/qy116r3Kdba63CVOlXb61Vr0VZbq2D9iVrbB6QglZ8KKqKEIYQZBMMowYQQCCHDWb8/zs72JGQ4SfY537P3fr2e5/vstfZ37bU/J/+cw5u11rfUWgMAAABA54xrugAAAACAXiNwAQAAAOgwgQsAAABAhwlcAAAAADpM4AIAAADQYQIXAAAAgA4TuAAAAAB0mMAFAAAAoMMELgAAAAAdJnABAAAA6DCBCwAAAECHCVy6RCnlX0sp/9p0HQAAAMDmTWi6AIZt/7lz585N8rqmCwEAAIA+UrbmQ1a4AAAAAHSYwAUAAACgwwQuAAAAAB0mcAEAAADoMIELAAAAQIcJXAAAAAA6TOACAAAA0GECFwAAAIAOE7gAAAAAdJjABQAAAKDDBC4AAAAAHSZwAQAAAOgwgQsAAABAhwlcAAAAADpM4AIAAADQYQIXAAAAgA4TuAAAAAB0mMAFAAAAoMMELgAAAAAdJnABAAAA6DCBCwAAAECHCVwAAAAAOkzgAgAAANBhAhcAAACADhO4AAAAAHRYTwYupZSppZSXlFI+UEr5TinlV6WU2rrO7dB37FpK+VQp5fZSylOllMWllKtKKW8ppZROfAcAAADQnSY0XcAIOSbJf47U5KWUI5N8L8nOrbeeSDI9yXGt6w9LKS+vta4cqRoAAACAsasnV7i0LElyRZK/TfLaJA93YtJSyg5JvpvBsOW2JEfXWqcnmZbkHUlWJTklyWc68X0AAABA9+nVFS5X1Vp3GvpGKeUTHZr73Ul2S/JUktNqrfckSWs1y3mllBlJPp7kraWUz9Ra7+jQ9wIAAABdoidXuNRa14zg9Ge3Xr+xNmxZz+cyuMVofJKzRrAOAAAAYIzq1RUuI6KUsl+SPVvdSzc0ptb6RCnlqiQvSXJykg+NUnkAAI2rtWZgYGBYV621PX5Dr+u3N3et/f4N9TfU3tTrcO9ta3tT/47D0cm5RmueThqLNQGbNmnSpJxwwglNlzEqBC5b5uAh7QWbGLcgg4HLgcOZtJQybxjD9h/OXABA96u1Zvny5XnyySezYsWKPPXUU+1rQ/2VK1dm5cqVefrppzf4unLlyqxateoZ1+rVq9dpD73WrFmzzuva9tprYGDgGe214QgAbMxuu+2Whx56qOkyRoXAZcvsPqT9wCbGrb03o5Syfa31iRGsCQAYI2qtefzxx7NkyZI89thjm7yWLVuWJ554Ik888USefPLJdvuJJ57I8uXLBRcA0OUELltm+pD28k2MG3pvegbPdNmoWuuRm/vi1iqYuZsbBwB0Vq01jz76aO6///7cf//9+fWvf51HHnkkixYtyqJFi9ZpL1q0KCtXrmy65MaNGzduk1cpZbOva6/1+5u7kmy0v6H2pl6He29b2xsznDGdnmu05umksVgTsHE77bTT5gf1CIELANDXVq1alXvvvTd33nlnFi5cmPvuuy/33Xdf7r///vbrihUrRr2uKVOmZNq0aZkyZUomT56cKVOmtK+h/cmTJ2e77bbLpEmTNvo6adKkTJw4sX1NmDDhGe21r+PHj8+ECRMyYcKEdnvo69Br3Lhxz2gPDTQAoJ8JXLbMsiHtqUke38i4qRv5DADQgFprHnnkkdxxxx25/fbbc/vtt7fbd999d1avXt2x75o2bVp23nnnzJw5s33tsMMO6/RnzpyZGTNmZPvtt29f06ZNa7enTp2a8ePHd6wmAGD0CVy2zIND2rOz8cBlduv1cee3AMDoqrXml7/8Za699tr2dcMNN+Sxxx7b6jlnzJiRPfbYI3vssUd222237LLLLpk1a1ZmzZq1TnvWrFmZOnXq5icEAHqewGXLDH0y0cFJbt3IuLVPM7plZMsBgP5Wa83ChQvXCVeuvfbaLQ5XZs+enTlz5mTvvfduBytrr2c/+9mZMWPGCP0EAECvErhsmTuSLEyyZ5JTk3xr/QGllGlJjm91Lx+90gCgPzz66KO54oorcvnll+fyyy/P/fffP6zPbb/99pkzZ07222+/7Lfffu32nDlzsv32249w1QBAvxG4bIFaay2lnJ/kA0leU0r5SK313vWGvT3J9knWJPnXUS4RAHrO008/nauvvrodsFx33XWbfWTyTjvtlKOOOqp9HXnkkdljjz0c5goAjJqeDVxKKTsmGXra3LjW69RSyu8MeX/F0HNWSinnJvlQq7vPBgKV/5PkLUl2S3JJKeXsWuu8UsqkJH+U5COtcV+std7RkR8GAPrMb37zm3zrW9/KxRdfnB/+8IdZvnz5RsdOnz49Rx999DoBy9577y1cAQAa1bOBS5Lrk+y1gff/onWt9dUkbxrupLXWpaWUlyX5XpIDk1xbSlmWZHKSia1hlyc5ZytqBoC+9fTTT+eSSy7JBRdckEsuuSSrVq3a4Ljx48fnec97Xk466aScfPLJOeaYYzJhQi//SQMAdCN/nWyF1oqWg5L8ZZKXJdkjyZMZPFT3q0m+XGsdaLBEAOgKtdZcffXVueCCC3LhhRdmyZIlGxy377775uSTT85JJ52UE088MTNnzhzlSgEAtkzZ3B5oxoZSyry5c+fOnTdvXtOlAMA2u+eee3L++efnggsuyN13373BMcccc0zOOuusvPSlL82+++47yhUCALRt1T5lK1wAgFFz88035+Mf/3i+8Y1vZGDgmYtB99prr7zhDW/I61//+uy3334NVAgA0BkCFwBgxF1//fX52Mc+ln/7t397xr0ZM2bk1a9+dd7whjfkuOOOy7hx4zYwAwBAdxG4AAAj5pprrslHP/rRfPe7333GvRe/+MX54z/+45x++umZMmVKA9UBAIwcgQsA0HFXXnllPvKRj+T73//+M+69/OUvz/vf//4cc8wxDVQGADA6BC4AQMfMnz8/73znO3PllVeu834pJX/4h3+Y97///TnssMMaqg4AYPQIXACAbfb000/nox/9aD7xiU9k9erV7ffHjx+f173udXnve9+bAw44oMEKAQBGl8AFANgmP/nJT/KWt7wlt912W/u9CRMm5I1vfGPe+973eqQzANCXBC4AwFZZtmxZ3ve+9+W8885LrbX9/gte8IL80z/9U/bff/8GqwMAaJbABQDYYpdeemn+5E/+JPfdd1/7ve233z6f/OQn8z/+x//waGcAoO8JXACAYXv00Udzzjnn5Gtf+9o675922mn5whe+kD333LOhygAAxhaBCwAwLJdffnle//rXZ9GiRe33fud3fief/exn89rXvjallAarAwAYW6z3BQA26wtf+EJOO+20dcKWs846K7feemte97rXCVsAANZjhQsAsFFr1qzJX/zFX+TTn/50+73Zs2fni1/8Yk477bQGKwMAGNsELgDABj3xxBM566yzctFFF7XfO+qoo3LRRRflWc96VoOVAQCMfbYUAQDPcP/99+f4449fJ2x5xStekR/96EfCFgCAYRC4AADruP766/O85z0vN9xwQ/u997znPfnWt76VqVOnNlgZAED3sKUIAGi76KKL8trXvjbLly9PkkyYMCGf//zn88d//McNVwYA0F2scAEAUmvNpz/96ZxxxhntsGWHHXbIZZddJmwBANgKVrgAAHnve9+bT37yk+3+Pvvsk0suuSQHHHBAg1UBAHQvK1wAoM995jOfWSdsOfbYY3PNNdcIWwAAtoHABQD62IUXXphzzjmn3T/99NNzxRVXZNasWQ1WBQDQ/QQuANCnfvCDH+Tss89u94899thceOGFmTx5coNVAQD0BoELAPShG2+8MWeccUZWrlyZJNl///1z8cUXZ8qUKQ1XBgDQGwQuANBnfvWrX+UlL3lJHn/88STJ7rvvnssuuyw77bRTw5UBAPQOgQsA9JHf/OY3OfXUU/PQQw8lSWbMmJFLL700e+21V8OVAQD0FoELAPSJp556Ki9/+ctz2223JUkmTZqU//iP/8ihhx7acGUAAL1H4AIAfWDNmjV53etel5/+9Kft984///yceOKJDVYFANC7BC4A0ONqrXnHO96R//iP/2i/9+lPfzpnnnlmg1UBAPQ2gQsA9LhPfvKT+Yd/+Id2/93vfnf+7M/+rMGKAAB6n8AFAHrYz372s7z//e9v988666x88pOfbLAiAID+IHABgB715JNP5uyzz87AwECS5Pjjj8+Xv/zljBvn1z8AwEjzFxcA9Kj3vOc9ufPOO5Mk06dPzwUXXJBJkyY1XBUAQH8QuABAD/re976Xz3/+8+3+3/3d32WvvfZqsCIAgP4icAGAHrNkyZK8+c1vbvfPOOOMvPGNb2ywIgCA/iNwAYAe8453vCMPPvhgkmTWrFn5x3/8x5RSGq4KAKC/CFwAoId885vfzNe//vV2/0tf+lJ22WWXBisCAOhPAhcA6BEPPvhg3va2t7X7b3rTm/IHf/AHDVYEANC/BC4A0ANqrXnLW96SxYsXJ0n22muvfPazn224KgCA/iVwAYAe8MUvfjGXXnppu/+Vr3wlM2bMaLAiAID+JnABgC5311135V3vele7f8455+SEE05oriAAAAQuANDN1qxZkze+8Y1Zvnx5kuSAAw7Ixz72sYarAgBA4AIAXexv//Zv89Of/jRJMmHChFxwwQWZMmVKw1UBACBwAYAu9atf/Srnnntuu//BD34wRx55ZHMFAQDQJnABgC71oQ99KE8//XSS5Mgjj8x73/vehisCAGAtgQsAdKEFCxbk/PPPb/c/9alPZcKECQ1WBADAUAIXAOhC73vf+1JrTZK85CUvyQtf+MKGKwIAYCiBCwB0mR//+Me5+OKLkySllPz1X/91wxUBALA+gQsAdJFaa/7yL/+y3T/rrLNy2GGHNVgRAAAbInABgC5y8cUXtx8DPXHixHz4wx9uuCIAADZE4AIAXWLNmjXrPInobW97W/bZZ58GKwIAYGMELgDQJc4///zccsstSZLp06fnAx/4QMMVAQCwMQIXAOgCK1asyIc+9KF2/93vfndmzZrVYEUAAGyKwAUAusB5552X++67L0myyy675F3velfDFQEAsCkCFwAY4x577LF87GMfa/f/9//+39l+++0brAgAgM0RuADAGPc3f/M3WbJkSZLkOc95Tt761rc2XBEAAJsjcAGAMezBBx/MZz7zmXb/ox/9aCZNmtRgRQAADIfABQDGsL/6q7/KU089lSQ54ogjcuaZZzZcEQAAwyFwAYAx6vbbb88///M/t/uf+MQnMm6cX90AAN3AX20AMEZ94AMfyJo1a5Ikv//7v5+TTjqp4YoAABgugQsAjEELFizIt7/97Xb/E5/4REopDVYEAMCWELgAwBj0uc99rt3+7//9v+foo49usBoAALaUwAUAxpglS5bka1/7Wrt/zjnnNFgNAABbQ+ACAGPMv/zLv2T58uVJkkMPPTTHHXdcwxUBALClBC4AMIasWbMm5513Xrv/zne+09ktAABdSOACAGPIpZdeml/+8pdJkh133DGve93rGq4IAICtIXABgDHk7//+79vtP/qjP8rUqVMbrAYAgK0lcAGAMeL222/P9773vSRJKSV/+qd/2nBFAABsLYELAIwRQ89uOf3007PPPvs0WA0AANtC4AIAY8CyZcvyla98pd1/5zvf2VwxAABsM4ELAIwB559/fpYtW5Yk2X///fOiF72o4YoAANgWAhcAaFitdZ3Dct/xjnd4FDQAQJcTuABAw6644orcdtttSZLp06fn7LPPbrgiAAC2lcAFABr2uc99rt1+05velOnTpzdYDQAAnSBwAYAG3XPPPbn44ovb/Xe84x0NVgMAQKcIXACgQZ///OdTa02SnHLKKZkzZ07DFQEA0AkCFwBoyPLly/PP//zP7b5HQQMA9A6BCwA05Otf/3qWLFmSJHnOc56TU089teGKAADoFIELADSg1rrOYblvf/vbM378+AYrAgCgkwQuANCAH//4x5k/f36SZOrUqXnzm9/ccEUAAHSSwAUAGjB0dcsb3vCGzJw5s8FqAADoNIELAIyyBx54IN/5znfa/be//e0NVgMAwEgQuADAKPv617+eNWvWJElOOOGEHHLIIQ1XBABApwlcAGCUfeMb32i33/SmNzVXCAAAI0bgAgCj6M4778x1112XJJk0aVLOOOOMhisCAGAkCFwAYBRdeOGF7fZpp52WHXbYocFqAAAYKQIXABhFQ7cTveY1r2mwEgAARpLABQBGyYIFC3LzzTcnSaZOnZqXvexlDVcEAMBIEbgAwCgZurrl9NNPz7Rp0xqsBgCAkSRwAYBRUGtd5/wW24kAAHqbwAUARsF1112Xu+66K0kyY8aMnHrqqQ1XBADASBK4AMAoGLqd6IwzzsjkyZMbrAYAgJEmcAGAETYwMJBvfvOb7b7tRAAAvU/gAgAj7Gc/+1kWLlyYJNlpp53y4he/uOGKAAAYaQIXABhhQ7cTvfKVr8zEiRMbrAYAgNEgcAGAEbRmzZp861vfavdtJwIA6A8CFwAYQVdeeWUefvjhJMmuu+6aF77whQ1XBADAaBC4AMAIGrqd6FWvelXGjx/fYDUAAIwWgQsAjJBVq1bl29/+drtvOxEAQP8QuADACLniiiuyePHiJMkee+yR5z//+Q1XBADAaBG4AMAIGbqd6NWvfnXGjfNrFwCgX/jLDwBGwIoVK/Lv//7v7b7tRAAA/UXgAgAj4LLLLsvjjz+eJNl3331z5JFHNlwRAACjSeACACPgwgsvbLdf85rXpJTSYDUAAIw2gQsAdNiTTz6Ziy66qN0/88wzG6wGAIAmCFwAoMO++93vZvny5UmSAw88MAcffHDDFQEAMNoELgDQYbYTAQAgcAGADlq6dGn+8z//s923nQgAoD8JXACggy666KI8/fTTSZIjjjgic+bMabgiAACaIHABgA665JJL2u1XvepVDVYCAECTBC4A0CFr1qzJ5Zdf3u6/9KUvbbAaAACaJHABgA75+c9/niVLliRJdt999xxyyCENVwQAQFMELgDQIZdddlm7feqpp3o6EQBAH+vpwKWUMr2Ucm4p5aZSyhOllKWllF+UUv68lDJpG+f+w1LKxaWUB0spK0spT5ZSbi+lfKmUcninfgYAusell17abp966qkNVgIAQNNKrbXpGkZEKWWvJD9MsnfrreVJxifZrtW/PsmLaq1LtnDe7ZJ8K8npQ95+Ismk1pUkA0neXWv99NbUvpHvnTd37ty58+bN69SUAHTQokWLsuuuu6bWmvHjx+fRRx/NzJkzmy4LAIBtt1XLlntyhUspZUKSizMYtjyU5KRa67QkU5O8JsmyJEck+dpWTP++/DZs+XySZ9dapyeZkuSoJD/O4L/rp0opR27DjwFAF7n88suz9n9iPP/5zxe2AAD0uZ4MXJK8McnakwpfWWv9fpLUWgdqrRcm+ZPWvdNKKS/awrnPbr3+qNb69lrrA0PmnpfkZRlc8VKS/OG2/BAAdA/biQAAGKqXA5ck+UGt9eoN3P9Gknta7bM3cH9TntV6vXZDN2utS5Pc0epuv4VzA9CFBgYG8r3vfa/df8lLXtJgNQAAjAU9F7iUUqYmeUGre+mGxtTBNd9rHyVx8hZ+xS9brxvcLlRK2SHJnFZ3g6EMAL1l3rx5efTRR5Mku+yySw4/3NnpAAD9bkLTBYyAA/LbIGnBJsatvbdbKWWnWuviYc7/hSR/l+SEUsp5ST5ea32gDD7784gkn83gyparM8wzYkopwzkJd/9h1gfAKFt/O9G4cT33/zMAANhCvfgX4e5D2g9sYtzQe7tvdNQznZfkbzL4JKI/TXJ/KWVZkhVJ5iV5bpJPZPAJSGu2YF4AutRll13WbttOBABA0psrXKYPaS/fxLih96ZvdNR6aq0DpZT3Jrklyd9ncDXL0LNaJifZIcm0JE8Nc87NPs2otQpm7nDrBGB0LF68ONdcc02SZNy4cTnppJMarggAgLGgF1e4jKhSyu8kuSLJVzK4bei4JDMzeJjuK5IsSvK2JNeUUmY3VCYAo+S//uu/MjAwkCQ55phjsvPOOzdcEQAAY0EvBi7LhrSnbmLc0HvLNjrqmb6a5IQkP0pySq31J7XWpbXWh2ut/57BAObRJM/J4NYiAHqYx0EDALAhvRi4PDikvakVJkPvPbjRUUOUUg5Iclqr+6nW047WUWt9JMn5re4rWofpAtCDBgYGnN8CAMAG9WLgcmsGD7RNkoM3MW7tvYe34AlFBw5p372JcXe2Xqcm2WWYcwPQZW688cb8+te/TpLsvPPOOfLIzR7JBQBAn+i5wKXWujzJT1rdDa7tbq06OaXVvXwLph8Y0t5rE+N2HdJ+YgvmB6CLDN1OdMopp2T8+PENVgMAwFjSc4FLy1dbryeWUp63gfuvyuAZK8lvt/8Mx3VD2m/b0IBSyrQkZ7e682utT27B/AB0EduJAADYmF4OXG5KUpL8WynlRUlSShlXSnlVki+1xl1aa71i6AdLKeeWUmrr2nvovVrrr5Jc3OqeXkq5oJSybxk0sZRybJIf5rdhzqdG4GcDYAx47LHH8tOf/rTdP/nkkxusBgCAsWZC0wWMhFrr6lLKy5P8IMneSb5fSlmewYBpcmvY9UnO2orp35zksiRHJnl961qeZFLW/ff821rrlqyeAaCLfP/738+aNWuSJEcddVR22cWRXQAA/FavrnBJrfXeJIcm+XCSBUlqklVJ5iV5d5LfrbUu2Yp5H03yu0nekuR7SX6dZGKS1Ul+meRrSY6vtb5n238KAMaqoduJPA4aAID1lQ082ZgxqJQyb+7cuXPnzZvXdCkAfa/Wmj322CMPPPBAkuQnP/lJjj322IarAgBghJSt+VDPrnABgJGyYMGCdtiy44475phjjmm4IgAAxhqBCwBsoaGPgz7ppJMyYUJPHokGAMA2ELgAwBYaGrh4HDQAABsicAGALbBs2bL8+Mc/bvdPOeWUBqsBAGCsErgAwBa44oorsnr16iTJ4Ycfnmc961kNVwQAwFgkcAGALeBx0AAADIfABQCGqdbq/BYAAIZF4AIAw3Trrbdm4cKFSZIZM2bk+c9/fsMVAQAwVglcAGCYhm4nevGLX5yJEyc2WA0AAGOZwAUAhukHP/hBu+38FgAANkXgAgDDsGbNmlx11VXt/gknnNBcMQAAjHkCFwAYhgULFmTp0qVJkt122y3Pfe5zG64IAICxTOACAMNw5ZVXttu/93u/l1JKg9UAADDWCVwAYBiGBi7HH398g5UAANANBC4AsBm11mescAEAgE0RuADAZtx555155JFHkiQzZ87MwQcf3HBFAACMdQIXANiM9bcTjRvn1ycAAJvmL0YA2AzbiQAA2FICFwDYDAfmAgCwpQQuALAJCxcuzK9+9askydSpUzN37tyGKwIAoBsIXABgE6666qp2+9hjj83EiRMbrAYAgG4hcAGATXB+CwAAW0PgAgCbIHABAGBrCFwAYCMeeeSR3HbbbUmSSZMm5Zhjjmm4IgAAuoXABQA2Yuj5LUcffXSmTJnSYDUAAHQTgQsAbITtRAAAbC2BCwBsxNAVLgIXAAC2hMAFADZg6dKlueGGG5Ik48aNy7HHHttwRQAAdBOBCwBswE9+8pPUWpMkRxxxRGbMmNFwRQAAdBOBCwBswNDzW44//vgGKwEAoBsJXABgAxyYCwDAthC4AMB6li9fnmuvvbbdP+644xqsBgCAbiRwAYD1XHPNNVm1alWS5MADD8ysWbMarggAgG4jcAGA9dhOBADAthK4AMB6BC4AAGwrgQsADLFy5cpcffXV7b4nFAEAsDUELgAwxLx58/LUU08lSfbZZ588+9nPbrgiAAC6kcAFAIa46qqr2m3biQAA2FoCFwAYwvktAAB0gsAFAFrWrFmTH//4x+2+wAUAgK0lcAGAlptuuilLly5Nkuy2227Zd999G64IAIBuJXABgJb1txOVUhqsBgCAbiZwAYAWB+YCANApAhcASFJrdWAuAAAdI3ABgCR33HFHHnnkkSTJjjvumIMOOqjhigAA6GYCFwDIuue3HHfccRk3zq9IAAC2nr8mASDPPDAXAAC2hcAFAJL87Gc/a7ePO+64BisBAKAXCFwA6HuLFy/OXXfdlSSZOHFiDj/88IYrAgCg2wlcAOh7P//5z9vtww8/PJMnT26wGgAAeoHABYC+NzRwOeaYYxqsBACAXiFwAaDvXXPNNe328573vAYrAQCgVwhcAOhrtdZ1VrgIXAAA6ASBCwB97Z577smjjz6aJJk5c2ae+9znNlwRAAC9QOACQF9b//yWceP8agQAYNv5qxKAvjb0/BYH5gIA0CkCFwD6mvNbAAAYCQIXAPrWqlWrct1117X7VrgAANApAhcA+tZNN92UFStWJEn23nvv7LLLLg1XBABArxC4ANC3nN8CAMBIEbgA0LeGBi7ObwEAoJMELgD0rfUfCQ0AAJ0icAGgLy1dujS33XZbkmT8+PGZO3duwxUBANBLBC4A9KVrr702tdYkySGHHJKpU6c2XBEAAL1E4AJAX3J+CwAAI0ngAkBfcn4LAAAjSeACQN+ptVrhAgDAiBK4ANB37r///jz88MNJku233z77779/wxUBANBrBC4A9J2hq1uOPvrojB8/vsFqAADoRQIXAPrO0PNbbCcCAGAkCFwA6DtDV7g4MBcAgJEgcAGgr6xevTrXXnttu2+FCwAAI0HgAkBfueWWW7J8+fIkyezZs7P77rs3XBEAAL1I4AJAX3F+CwAAo0HgAkBfcX4LAACjQeACQF+xwgUAgNEgcAGgbzzxxBNZsGBBkqSUkiOPPLLhigAA6FUCFwD6xnXXXZeBgYEkyUEHHZTp06c3XBEAAL1K4AJA33B+CwAAo0XgAkDfcH4LAACjReACQN+wwgUAgNEicAGgLzz00EO5723bhYsAACAASURBVL77kiRTpkzJwQcf3HBFAAD0MoELAH1h6HaiI488MhMmTGiwGgAAep3ABYC+4PwWAABGk8AFgL7g/BYAAEaTwAWAnjcwMJBf/OIX7b4VLgAAjDSBCwA97/bbb8/jjz+eJNl1112z5557NlwRAAC9TuACQM8ben7LMccck1JKg9UAANAPBC4A9Lyh57fYTgQAwGgQuADQ89Zf4QIAACNN4AJAT1u5cmXmz5/f7h911FENVgMAQL8QuADQ026++easWrUqSbLPPvtkxx13bLgiAAD6gcAFgJ523XXXtdtz585tsBIAAPqJwAWAniZwAQCgCQIXAHqawAUAgCYIXADoWatXr86NN97Y7h9xxBENVgMAQD8RuADQs26//fY89dRTSZLZs2dn1113bbgiAAD6hcAFgJ5lOxEAAE0RuADQswQuAAA0ReACQM8SuAAA0BSBCwA9aWBgINdff327L3ABAGA0CVwA6El33313li1bliSZNWtWZs+e3XBFAAD0E4ELAD1p/e1EpZQGqwEAoN8IXADoSc5vAQCgSQIXAHqSwAUAgCYJXADoObVWgQsAAI0SuADQcxYuXJjFixcnSXbYYYfss88+DVcEAEC/EbgA0HMcmAsAQNMELgD0HNuJAABomsAFgJ4jcAEAoGkCFwB6jsAFAICmCVwA6CkPPfRQHn744STJtGnT8t/+239ruCIAAPpRTwcupZTppZRzSyk3lVKeKKUsLaX8opTy56WUSR2Yf7dSykdKKfNKKYtLKU+VUn5VSrmslPK/SikTO/FzADB8Q1e3HH744Rk/fnyD1QAA0K8mNF3ASCml7JXkh0n2br21PMl2SY5qXWeVUl5Ua12ylfOfmeSLSWa03lqRZGWSPVvXKUn+IcljW/cTALA1bCcCAGAs6MkVLqWUCUkuzmDY8lCSk2qt05JMTfKaJMuSHJHka1s5/6uSfD2DYcsXkxxUa51Sa92h9d7vJfl0klXb9pMAsKUELgAAjAW9usLljUkOabVfWWu9OklqrQNJLiyljMtgYHJaa5XLFcOduJTyrCT/mMGw6s9rrf936P1a67IkV7UuAEaZwAUAgLGgJ1e4ZDBwSZIfrA1b1vONJPe02mdv4dz/M8mOSa7P4CoWAMaIRx99NAsXLkySbLfddjnggAMarggAgH7Vc4FLKWVqkhe0upduaEyttSa5rNU9eQu/Ym1A87XWPACMEddff327feihh2biRGeXAwDQjJ4LXJIckN/+XAs2MW7tvd1KKTsNZ+JSyj5Jdm9155VSDimlfL2U8lAp5elSyv2llAtLKS/Y1DwAjAzbiQAAGCt68QyX3Ye0H9jEuKH3dk+yeBhzzxnSfkGSDyWZlOSpDD6laHaSVyd5VSnlQ7XWjwyn4FLKvGEM2384cwH0M4ELAABjRS+ucJk+pL18E+OG3pu+0VHr2nFI+yNJHkxyUpLtW08oOiiDj6IuST5cSnnFMOcFoAMELgAAjBW9uMJlJA0NqEoGn4DU/uu+1npLKeX0JHcm2S2DK2C+s7lJa61Hbm5MaxWM/3oA2IilS5fmrrvuSpJMmDAhBx98cMMVAQDQz3pxhcuyIe2pmxg39N6yjY7a+NxXDA1b1qq1PpHkvFb30FLKrsOcG4BtcMMNN7TbBx10UCZPntxgNQAA9LteDFweHNKevYlxQ+89uNFR6xp67sutmxh3y5D2XsOcG4BtYDsRAABjSS8GLrcmGWi1N7WefO29h2utwzkwNxkMUtYMY1wZ0vboaIBRIHABAGAs6bnApda6PMlPWt1TNzSmlFKSnNLqXr4Fc69IcmWre8Amhh649iNJ7h3u/ABsPYELAABjSc8FLi1fbb2eWEp53gbuvyrJc1rt87dw7n9pvb6olPKMv+hLKdsn+dNW95pa66ItnB+ALfTkk0/mtttuS5KUUnLYYYc1XBEAAP2ulwOXmzK4teffSikvSpJSyrhSyquSfKk17tJa6xVDP1hKObeUUlvX3huY+1+T/Hzo3KWUca3PHpDkogw+oWggyfs7/pMB8Azz58/PwMDgbtL9998/06ZNa7giAAD6XU8+FrrWurqU8vIkP0iyd5Lvl1KWZzBgWvvYiuuTnLUVcw+UUv4gyRUZ3Dr0/STLSymrkuzQGrYqydtrrf/fNv0gAAyL7UQAAIw1vbrCJbXWe5McmuTDSRZk8DyVVUnmJXl3kt+ttS7ZyrkfTjK3Nc8vWvNOyeB5LV9OMrfW+qWNTgBARwlcAAAYa3pyhctatdZlST7Uuob7mXOTnDuMcU8n+VTrAqBBAhcAAMaanl3hAkB/ePrpp7NgwYJ2//DDD2+wGgAAGCRwAaCrLViwIKtXr06S7Lvvvpk5c2bDFQEAgMAFgC43dDvREUcc0WAlAADwWwIXALqa81sAABiLBC4AdDWBCwAAY5HABYCutXr16syfP7/dt6UIAICxQuACQNe64447smLFiiTJ7Nmzs8suuzRcEQAADBK4ANC1brjhhnbb46ABABhLBC4AdC2BCwAAY5XABYCuJXABAGCsErgA0JVqresELocddliD1QAAwLoELgB0pYcffjiLFi1KkkybNi377rtvwxUBAMBvCVwA6Errr24ZN86vNAAAxg5/nQLQlZzfAgDAWCZwAaArCVwAABjLBC4AdCWBCwAAY5nABYCu8+STT+bOO+9MkowbNy4HH3xwwxUBAMC6BC4AdJ2bbroptdYkyX777ZcpU6Y0XBEAAKxL4AJA17GdCACAsU7gAkDXEbgAADDWCVwA6DoCFwAAxjqBCwBdZc2aNZk/f367f9hhhzVYDQAAbJjABYCuctddd+Wpp55KkjzrWc/Krrvu2nBFAADwTAIXALrK0O1EVrcAADBWCVwA6CrObwEAoBsIXADoKgIXAAC6gcAFgK4icAEAoBsIXADoGr/+9a/z8MMPJ0mmTp2a5z73uQ1XBAAAGyZwAaBr3Hjjje32oYcemvHjxzdYDQAAbJzABYCu4QlFAAB0C4ELAF3D+S0AAHQLgQsAXUPgAgBAtxC4ANAVnnrqqdx+++1JklJKDjnkkIYrAgCAjRO4ANAVFixYkIGBgSTJnDlzMm3atIYrAgCAjZswml9WShmXZFaSaUlWJXms1rpsNGsAoDvZTgQAQDcZ0cCllPKcJC9J8sIkRybZI8n49cY8nuTmJNckuTzJD2qtK0eyLgC6jycUAQDQTToeuJRStkvy+iRvSXLM0Fsb+cgOSZ7fuv4sydJSyoVJPl9rvanT9QHQnaxwAQCgm3QscCmlTEnyziTvTrJz1g1Ylia5PskjSRa3rilJdkqyY5L9ksxpfWZmkrcmeWsp5fIkH6y1/qJTdQLQfQYGBnLjjTe2+wIXAADGuo4ELqWU1yf5RJJnZTA0WZ3kv5J8O8nVtdbbhjHHDkmOTvLiJK9JsmeSU5Kc3Frx8u5a64OdqBeA7nL33XfnySefTJLssssu2W233RquCAAANq1TTyk6P8nuSX6ZwVUuu9daX1pr/ZfhhC1JUmtdWmv9fq31f9Va987guS8XJFmT5MwMblECoA+tv7qllI3tUgUAgLGhU4HLHUnOTrJfrfW8Wuuj2zphrfWqWusbM7jd6F8y+FQjAPqQ81sAAOg2nTrD5cBa60CH5lpHrfWeJG9pPVIagD7kCUUAAHSbjoQYIxW2jPZ3ADA2WeECAEC3sWoEgDFt0aJFeeCBB5IkkydPzpw5cxquCAAANm9EA5dSyq7b8NmXdrIWALrT0ANzDznkkEyY0KndsAAAMHJGeoXL/C0NTkop25VSPp/kohGqCYAusv4TigAAoBuMdOAyK8lFpZS/L6Vst7nBpZTDklyX5E9GuC4AuoTzWwAA6EYjHbjcn6QkeVuSeaWUQzc2sJTy7iQ/S7J/6zPfHuHaAOgCnlAEAEA3GunA5ZAk38pggHJAkmtKKecMHVBK2b2U8v0kn0yyXZInkvw/tdYzR7g2AMa4FStW5NZbb233Dz10o7k9AACMKSMauNRal7aCkzcneTKDgcr/KaVcVkrZrZTyyiTzk5yYwVDmZ0mOqLV+dSTrAqA73HzzzVmzZk2S5LnPfW6mT5/ecEUAADA8o/JY6FrrV5IckeTnGQxWTkpyZ5JvJtkpyUCSDyc5vtb6y9GoCYCxz4G5AAB0q1EJXJKk1np3khfkt1uMprZel2YwaDm31rpmtOoBYOxzYC4AAN1q1AKXlr9MckaSmsGwJUlmJHlXKWXmKNcCwBgncAEAoFuNSuBSStmjlPLDJB9JMjGDq1rOSXJrBoOXVya5qZRy4mjUA8DYNzAw4AlFAAB0rREPXEopr05yY5LjMxiuXJnksFrrZ5McmeQLrfdnJ/mvUsrflFImjHRdAIxt9957b5YtW5Yk2XnnnTN79uyGKwIAgOEb0cCllPLVJP9vkplJ1iT5QJITa633JUmtdUWt9e1JTk/ySKueP8/g46P3H8naABjb1t9OVErZxGgAABhbRnqFyxsyuHrlriQvqLV+vNZa1x9Ua70kySFJ/rM1/ogk145wbQCMYZ5QBABANxuNM1y+nOSIWusvNjWo1rqo1vqyJO9M8lSSKaNQGwBjlANzAQDoZiMduLy61vqWWuuTw/1ArfW8JEcluWFzYwHoXQ7MBQCgm41o4FJr/fZWfu7WJL/b4XIA6BKLFy/OwoULkySTJk3K/vs71gsAgO4yKo+F3hq11lVN1wBAM4ae33LwwQdn4sSJDVYDAABbbswGLgD0L+e3AADQ7ToSuJRSPlxKmdmJuTYy/++XUs4YqfkBGFs8oQgAgG7XqRUuH0jyy1LKX5VSdu7QnCmlvKiU8qMk/5Xk0E7NC8DYZoULAADdrlOBy/eSzMxg8PJgKeWiUsqZpZQtfrRzKeXAUsrHSim/THJ5kuOTPJbkZx2qFYAxbOXKlbnlllva/UMPlbcDANB9JnRiklrrS0opL0vy8SQHJ3lp61pdSrkpyc+TXJfk10kWZzBAmZxkpyQ7JpmT5OjWtWtr2pLk6ST/mOTDtdbFnagVgLHtlltuyapVg+em77PPPtlhhx0arggAALZcRwKXJKm1fjfJd0spr0jyZ0mOSzIxydwkRwxzmtJ6XZzkn5L8Xa31wU7VCMDYZzsRAAC9oGOBy1q11u8k+U4pZU6SM5OcmOR5STa3vejXGTyr5TtJ/rPWurLTtQEw9jkwFwCAXtDxwGWtWusdST6S5COllAkZXOXy7CSzkuycpGZwa9Gvktxca104UrUA0D2scAEAoBeMWOAyVK11dZJftC4A2KBa6zqBy2GHHdZgNQAAsPU69ZQiANhmCxcuzGOPPZYkmTlzZvbcc8+GKwIAgK3TsRUupZQPtpqfr7U+2ql5Aegf628nKqVsYjQAAIxdndxSdG4Gz2X5dpJnBC6llN2TfDRJrbX+UQe/F4Ae4cBcAAB6xWhuKdoxyZtaFwA8gwNzAQDoFc5wAWDMcGAuAAC9QuACwJjw2GOP5Z577kmSTJw4MQceeGDDFQEAwNYTuAAwJsyfP7/dPvDAAzNp0qQGqwEAgG0jcAFgTHB+CwAAvUTgAsCY4AlFAAD0EoELAGOCA3MBAOglE0Zgzj8tpTyygfd3WdsopXxwOBPVWj/csaoAGLNWrVqVBQsWtPsCFwAAut1IBC5v28S92nr90DDnErgA9IHbbrstK1euTJLsueee2WmnnRquCAAAtk2nA5fSwbnq5ocA0AscmAsAQK/pZOByYgfnAqCPODAXAIBe07HApdb6o07NBUB/cWAuAAC9xlOKAGhUrdWWIgAAeo7ABYBGPfDAA/nNb36TJJkxY0b23nvvZgsCAIAOELgA0Kj1txONG+dXEwAA3c9ftQA0ynYiAAB6kcAFgEYNfUKRA3MBAOgVAhcAGmWFCwAAvUjgAkBjli1blrvuuitJMn78+Bx00EENVwQAAJ0hcAGgMfPnz2+3DzjggEyePLnBagAAoHMELgA0xnYiAAB6lcAFgMY4MBcAgF4lcAGgMVa4AADQqwQuADRi9erVuemmm9p9K1wAAOglAhcAGnHHHXdkxYoVSZLZs2dn1qxZDVcEAACdI3ABoBG2EwEA0MsELgA0YmjgYjsRAAC9RuACQCOGPqHIChcAAHqNwAWAUVdrzfXXX9/uC1wAAOg1AhcARt3DDz+cRYsWJUmmTZuWfffdt+GKAACgswQuAIy6oatbDj300Iwb59cRAAC9xV+4AIy6oYHL3LlzG6wEAABGhsAFgFF33XXXtdsCFwAAepHABYBRJ3ABAKDXCVwAGFWLFy/OvffemySZNGlSDjzwwGYLAgCAESBwAWBUDT2/5ZBDDsmkSZMarAYAAEaGwAWAUWU7EQAA/UDgAsCoErgAANAPBC4AjCqBCwAA/UDgAsCoefzxx3PHHXckScaPH59DDjmk4YoAAGBk9HTgUkqZXko5t5RyUynliVLK0lLKL0opf15K6egpjaWUfyil1NZ1byfnBugVN954Y7t94IEHZsqUKQ1WAwAAI2dC0wWMlFLKXkl+mGTv1lvLk2yX5KjWdVYp5UW11iUd+K4Tk7x1W+cB6HW2EwEA0C96coVLKWVCkoszGLY8lOSkWuu0JFOTvCbJsiRHJPlaB75rapIvJVmd5NptnQ+glwlcAADoFz0ZuCR5Y5K1BwO8stb6/SSptQ7UWi9M8iete6eVUl60jd/1sST7JvmbJDdv41wAPU3gAgBAv+jlwCVJflBrvXoD97+R5J5W++yt/ZJSyu8m+Z9J7kjy0a2dB6AfLF++PLfcckuSpJSSww47rOGKAABg5PRc4NLa4vOCVvfSDY2ptdYkl7W6J2/l92yX5MtJSpK31lpXbM08AP3ipptuysDAQJJkzpw5mT59esMVAQDAyOnFQ3MPyG+DpAWbGLf23m6llJ1qrYu38Hs+2Pquf6q1/mgLP7uOUsq8YQzbf1u+A6BpthMBANBPem6FS5Ldh7Qf2MS4ofd23+ioDSilHJHkPUl+neQvtuSzAP1K4ALw/7d352GWVfW9uD+r525oQBBaQaBBoRkUmRQEmQJiUPFnLoKoQb0qURRyL9EkDjHg1XgTpyRXcIiiAUTAqNGLgBC8IhhUoEFk0AaZR9MICk039LR+f5zTxemmu7qGU7WrTr3v8+xnr7X3Ovt8i6eo55xPr702ABNJL85w6ZyjvrifcZ3nBjyvvf0EpK+m9d/uz2utvx9cec9Ua91rAO87P4lvKMC4JXABAGAi6cUZLiPtA0l2T/L9Wus3my4GYDxYunRpbrzxxr7+Hnvs0WA1AAAw8noxcHm8oz2rn3Gd5x5f56gOpZRdknwkyaIk7xl8aQAT080335xly5YlSbbbbrs861nPargiAAAYWb14S9EDHe2tkvxyHeO2Wsdr+nN6kmlJTknyaCllwzXOr/rvWTrOPVVrXTbA6wP0JLcTAQAw0fTiDJdfJVnZbr+wn3Grzj00iCcUbdfe/++0ZsWsub25fX6bjmPvHeC1AXqWwAUAgImm5wKXWuviJP/Z7v7x2saUUkqSV7a7l45GXQATmcAFAICJpucCl7Yz2/tDSin7rOX80Um2b7fPGuhFa61za61lXVvH+97dcfyfhv5jAIx/y5cvzw033NDXt2AuAAATQS8HLjcmKUm+XUo5NElKKZNKKUcn+XJ73MW11h92vrCUcmoppba3uaNYM0BPWrBgQZYsWZIk2WqrrTJnzpyGKwIAgJHXi4vmpta6vJTy2iQ/SjI3yWWllMVpBUwz2sOuz9NrrgAwQtxOBADARNSrM1xSa70ryW5J/leSm5LUJMuSzE/y/iT71lofbaxAgAlC4AIAwETUs4FLktRaH6+1nlJrfVGtdcNa60a11r1rrZ+ptS5dx2tO7Vh/5a5Bvt/b2q+b2436AXqBwAUAgImopwMXAJq1cuXKXH/99X19gQsAABOFwAWAEXP77bfn8ccfT5Jsvvnm2WqrrRquCAAARofABYARs+btRKWUBqsBAIDRI3ABYMRYvwUAgIlK4ALAiBG4AAAwUQlcABgRtVaBCwAAE5bABYARcc899+SRRx5Jkmy88cbZbrvtGq4IAABGj8AFgBFhwVwAACYygQsAI8LtRAAATGQCFwBGhMAFAICJTOACwIgQuAAAMJEJXADougcffDAPPfRQkmSDDTbIDjvs0HBFAAAwugQuAHTd9ddf39fefffdM3ny5AarAQCA0SdwAaDr3E4EAMBEJ3ABoOsELgAATHQCFwC6TuACAMBEJ3ABoKt+97vf5e67706STJ8+PTvvvHPDFQEAwOgTuADQVZ0L5u62226ZOnVqg9UAAEAzBC4AdNU111zT13Y7EQAAE5XABYCu+vnPf97X3meffRqsBAAAmiNwAaBraq2rBS4vfelLG6wGAACaI3ABoGvuu+++PPTQQ0mS2bNnZ6eddmq4IgAAaIbABYCu6Zzdsvfee2fy5MkNVgMAAM0RuADQNVdffXVf2/otAABMZAIXALrG+i0AANAicAGgK5YvX55rr722r2+GCwAAE5nABYCuuOWWW7J48eIkyVZbbZUtt9yy4YoAAKA5AhcAusL6LQAA8DSBCwBdYf0WAAB4msAFgK4wwwUAAJ4mcAFg2BYtWpSbbropSVJKyV577dVwRQAA0CyBCwDDdt1112XlypVJkl133TWzZ89uuCIAAGiWwAWAYetcv8XtRAAAIHABoAs612+xYC4AAAhcAOgCM1wAAGB1AhcAhuXBBx/MvffemySZNWtWdt1114YrAgCA5glcABiWztuJ9tprr0yZMqXBagAAYGwQuAAwLNZvAQCAZxK4ADAs1m8BAIBnErgAMGQrV67MNddc09c3wwUAAFoELgAM2YIFC/LYY48lSebMmZNtttmm4YoAAGBsELgAMGSdtxO99KUvTSmlwWoAAGDsELgAMGSdC+ZavwUAAJ4mcAFgyNac4QIAALQIXAAYkiVLluSXv/xlX/8lL3lJg9UAAMDYInABYEiuv/76LF++PEkyb968bLLJJg1XBAAAY4fABYAhsX4LAACsm8AFgCGxfgsAAKybwAWAITHDBQAA1k3gAsCgLVy4MHfccUeSZPr06dltt90arggAAMYWgQsAg3bNNdf0tffYY49MmzatwWoAAGDsEbgAMGjWbwEAgP4JXAAYNOu3AABA/wQuAAxKrXW1wMUMFwAAeCaBCwCDcvvtt+eRRx5Jkmy66aZ5/vOf33BFAAAw9ghcABiUNddvKaU0WA0AAIxNAhcABqUzcLF+CwAArJ3ABYBBsX4LAACsn8AFgAF76qmncv311/f1BS4AALB2AhcABuyXv/xlli5dmiTZfvvt8+xnP7vhigAAYGwSuAAwYNZvAQCAgRG4ADBgP/nJT/raAhcAAFg3gQsAA1JrzZVXXtnXP/DAAxusBgAAxjaBCwADcscdd+SBBx5Ikmy00UbZbbfdGq4IAADGLoELAANyxRVX9LVf/vKXZ/LkyQ1WAwAAY5vABYAB6Qxc3E4EAAD9E7gAMCCdgcsBBxzQYCUAADD2CVwAWK/7778/d9xxR5JkxowZ2XvvvRuuCAAAxjaBCwDr1fl0ope97GWZNm1ag9UAAMDYJ3ABYL2s3wIAAIMjcAFgvQQuAAAwOAIXAPr18MMP5+abb06STJkyJfvuu2/DFQEAwNgncAGgXz/5yU/62nvvvXdmzZrVYDUAADA+CFwA6FfngrluJwIAgIERuADQL+u3AADA4AlcAFinxx9/PNddd12SpJSS/fffv+GKAABgfBC4ALBOV111VVauXJkkefGLX5xNNtmk4YoAAGB8ELgAsE6dtxMdcMABDVYCAADji8AFgHWyYC4AAAyNwAWAtXryySfz85//vK9vhgsAAAycwAWAtbr66quzdOnSJMm8efMyZ86chisCAIDxQ+ACwFp5HDQAAAydwAWAtRK4AADA0AlcAHiG5cuX56qrrurrW78FAAAGR+ACwDNcf/31eeKJJ5Ik22yzTbbddtuGKwIAgPFF4ALAM7idCAAAhkfgAsAzCFwAAGB4BC4ArGblypW58sor+/oCFwAAGDyBCwCrufnmm/Poo48mSbbYYovsuOOODVcEAADjj8AFgNV0zm454IADUkppsBoAABifBC4ArMb6LQAAMHwCFwD61FoFLgAA0AUCFwD63H777XnwwQeTJBtvvHFe9KIXNVwRAACMTwIXAPp0zm7Zf//9M3ny5AarAQCA8UvgAkAftxMBAEB3CFwA6NP5hCKBCwAADJ3ABYAkyX333Zc77rgjSTJz5szstddeDVcEAADjl8AFgCSrz2552ctelmnTpjVYDQAAjG8CFwCSJD/+8Y/72m4nAgCA4RG4AJBaa37wgx/09Q8++ODmigEAgB4gcAEgCxYsyN13350kmT17dvbbb7+GKwIAgPFN4AJALr744r72YYcdlqlTpzZYDQAAjH8CFwBWC1yOOOKIBisBAIDeIHABmOCeeOKJ1RbM/eM//uMGqwEAgN4gcAGY4C6//PIsXbo0SbLrrrtm6623brgiAAAY/wQuABNc59OJ3E4EAADdIXABmOA6129xOxEAAHSHwAVgAvvNb36T22+/PUmywQYb5OUvf3nDFQEAQG8QuABMYJ2zW/7oj/4o06dPb7AaAADoHQIXgAnM46ABAGBkCFwAJqglS5bk8ssv7+tbvwUAALpH4AIwQV1xxRVZsmRJkmTevHnZbrvtGq4IAAB6R08HLqWU2aWUU0spN5ZSFpVS/lBKuaaU8r5SyrQhXnOrUsp7Sin/Vkr5TSllSXu7s5Rybinlj7r9cwCMBI+DBgCAkTOl6QJGSill2ySXJ5nbPrQ4yfQke7e3N5dSDq21PjqIa26d5O4kpePw4nZ/bns7tpTy1SR/VmtdMawfAmAEeRw0AACMnJ6c4VJKmZLkgrQCkAeTvKLWukGSWUmOTfJ4kj2SfH2QZh4lSwAAIABJREFUl56cVrjywyRvTbJV+7obJtk1yffa496e5NRh/RAAI+jOO+/MggULkiQzZ87MQQcd1HBFAADQW3oycEkrDHlRu31UrfWyJKm1rqy1np/kXe1zryqlHDqI6z6aZK9a62G11rNqrQ90XPeWJH+SZNUc/f9ZSpkx7J8EYAR03k508MEHZ8YMf64AAKCbejlwSZIf1Vp/upbz5yW5s91+y0AvWmv9Q631un7O1yRfbXc3TLLzQK8NMJo8DhoAAEZWzwUupZRZSfZvdy9e25h2MLLqn3cP73IJT3a0J3f52gDD9tRTT+X//b//19cXuAAAQPf14qK5O+fpIOmmfsatOvecUsqmtdZHuvT+B7f3S5PcOpAXlFLmD2DYTkMtCKDTT37ykzzxxBNJkuc///l5wQte0HBFAADQe3puhkuSLTva9/czrvPcluscNQillO2SvLvdPb/W+lg3rgvQTW4nAgCAkdeLM1xmd7QX9zOu89zsdY4aoFLKzCT/ltaTkB5O8oGBvrbWutcArj8/yZ5DLhCgrXPBXI+DBgCAkdGLM1xGXfsx1N9IsleSZUnevOoJRgBjyb333pubb745STJ9+vQccsghDVcEAAC9qRcDl8c72rP6Gdd57vF1jlqPUsrkJOckeV2S5UneVGu9dKjXAxhJnbNbDjrooMya1d+fSQAAYKh6MXDpnFmyVT/jOs8NaTZKO2z5epJjkqxI8qe11m8N5VoAo6Fz/Ra3EwEAwMjpxcDlV0lWttsv7GfcqnMPDeUJRR0zW47N02HL+YO9DsBoWbZsWS677LK+vgVzAQBg5PRc4FJrXZzkP9vdtf7zbSmlJHlluzvo23/aYcs3krwhT4ct5w2+WoDRc9VVV+Xxx1t3UG677baZN29ewxUBAEDv6rnApe3M9v6QUso+azl/dJLt2+2zBnPhjpktx6S1ZsubhS3AeLDm46Bb2TMAADASejlwuTFJSfLtUsqhSVJKmVRKOTrJl9vjLq61/rDzhaWUU0sptb3NXePcqjVb3pCnF8h1GxEwLnQumOt2IgAAGFlTmi5gJNRal5dSXpvkR0nmJrmslLI4rYBpRnvY9UnePMhL75/Wmi1JUpN8rpTyuX7G/w+BDDAWPPDAA7nhhhuSJFOnTvU4aAAAGGE9GbgkSa31rlLKbknen+S/JdkuybIkNyc5N8nnaq1LB3nZzhlBU5PMWc/4mYO8PsCIuOSSS/raBxxwQGbPnt1gNQAA0Pt6NnBJklrr40lOaW8Dfc2pSU5dx7nL07pNCWBcueiii/raHgcNAAAjr1fXcAGg7YknnlgtcHnVq17VYDUAADAxCFwAetwFF1yQxYsXJ0l23XXX7Lrrrg1XBAAAvU/gAtDjzj//6bW73/CGNzRYCQAATBwCF4Ae9oc//GG124kELgAAMDoELgA97Lvf/W6WLm09kG3PPffMjjvu2HBFAAAwMQhcAHrYeeed19c+9thjG6wEAAAmFoELQI96+OGHc9lll/X1jznmmAarAQCAiUXgAtCjvvOd72T58uVJkpe97GXZdtttG64IAAAmDoELQI9yOxEAADRH4ALQgx588MFcfvnlSZJSSo4++uhmCwIAgAlG4ALQg771rW+l1pokOeigg/Lc5z634YoAAGBiEbgA9CC3EwEAQLMELgA95u67785VV12VJJk8eXKOOuqohisCAICJR+AC0GO++c1v9rUPO+ywPPvZz26wGgAAmJgELgA95vzzz+9ru50IAACaIXAB6CG33XZb5s+fnySZNm1aXve61zVcEQAATEwCF4Ae0jm75Ygjjsgmm2zSYDUAADBxCVwAekjn04ne8IY3NFgJAABMbAIXgB5x00035eabb06SzJw5M0ceeWTDFQEAwMQlcAHoEZ23Ex155JHZcMMNG6wGAAAmNoELQA+ota52O5GnEwEAQLMELgA94LrrrstvfvObJMns2bNzxBFHNFwRAABMbAIXgB7QeTvR6173usyYMaPBagAAAIELwDi3cuXK1QIXtxMBAEDzBC4A49zPfvaz3HPPPUmSZz3rWTnssMMarggAABC4AIxznYvlHnXUUZk2bVqD1QAAAInABWBce+qppzydCAAAxiCBC8A49s1vfjMLFy5Mkjzvec/LQQcd1HBFAABAInABGNc+97nP9bVPOOGETJkypcFqAACAVQQuAOPU1VdfnWuuuSZJMn369Bx//PENVwQAAKwicAEYpzpntxx77LHZfPPNG6wGAADoJHABGId++9vf5vzzz+/rn3jiiQ1WAwAArEngAjAOffnLX86yZcuSJPvuu2/23nvvhisCAAA6CVwAxplly5blC1/4Ql//pJNOarAaAABgbQQuAOPMv//7v+eBBx5IksyZMyevf/3rG64IAABYk8AFYJw57bTT+trvete7Mm3atAarAQAA1kbgAjCO3HDDDbnyyiuTJFOmTMm73vWuhisCAADWRuACMI50Pgr69a9/fbbccssGqwEAANZF4AIwTjzyyCM555xz+voeBQ0AAGOXwAVgnDjjjDPy5JNPJkn22GOP7Lfffg1XBAAArIvABWAcWLFiRT7/+c/39U866aSUUhqsCAAA6I/ABWAcuPDCC3PXXXclSTbbbLMce+yxzRYEAAD0S+ACMA50Lpb7zne+MzNnzmywGgAAYH0ELgBj3K9+9atcdtllSZJJkyblhBNOaLgiAABgfQQuAGPc6aef3td+7Wtfm2233bbBagAAgIEQuACMYY899ljOPPPMvv5JJ53UYDUAAMBACVwAxrB//dd/zaJFi5Iku+yySw455JCGKwIAAAZC4AIwRi1fvjynnXZaX//EE0/0KGgAABgnBC4AY9RZZ52V2267LUmy8cYb57jjjmu4IgAAYKAELgBj0JIlS3LKKaf09d/3vvdlww03bLAiAABgMAQuAGPQ6aefnvvuuy9JMmfOnJx88skNVwQAAAyGwAVgjPn973+fT3ziE339v/3bvzW7BQAAxhmBC8AY8w//8A959NFHkyTPf/7zc/zxxzdcEQAAMFgCF4Ax5IEHHsg///M/9/U//vGPZ+rUqQ1WBAAADIXABWAM+ehHP5olS5YkSfbYY48cc8wxDVcEAAAMhcAFYIxYsGBBzjjjjL7+P/zDP2TSJH+mAQBgPPJJHmCM+PCHP5wVK1YkSQ499NC84hWvaLgiAABgqAQuAGPAz3/+83z729/u6//93/99g9UAAADDJXABaFitNR/4wAf6+sccc0z23nvvBisCAACGS+AC0LBLLrkkl19+eZJkypQp+fjHP95sQQAAwLAJXAAatHLlytVmt7zzne/MDjvs0GBFAABANwhcABp07rnn5oYbbkiSzJo1K3/7t3/bcEUAAEA3CFwAGrJ06dJ85CMf6euffPLJee5zn9tgRQAAQLcIXAAa8qUvfSl33nlnkmSzzTbLX/7lXzZcEQAA0C0CF4AG/O53v8vHPvaxvv6HPvShbLzxxg1WBAAAdJPABaAB733ve7Nw4cIkydZbb533vOc9DVcEAAB0k8AFYJSde+65Of/88/v6p59+embMmNFgRQAAQLcJXABG0f3337/abJZ3vOMdOfLIIxusCAAAGAkCF4BRUmvN29/+9vz+979PksydOzef/exnG64KAAAYCQIXgFHyxS9+MZdeemmSpJSSM888MxtttFHDVQEAACNB4AIwCm677ba8//3v7+u/733vy4EHHthgRQAAwEgSuACMsOXLl+ctb3lLFi9enCTZddddV3skNAAA0HsELgAj7JOf/GR+9rOfJUmmTJmSs88+21OJAACgxwlcAEbQ9ddfn1NOOaWvf+qpp2aPPfZosCIAAGA0CFwARsiTTz6Z4447LsuXL0+S7Lvvvvnrv/7rhqsCAABGg8AFYIR85CMfyc0335wkmTVrVs4666xMmTKl4aoAAIDRIHABGAFXXHFFPvOZz/T1P/WpT2WHHXZosCIAAGA0CVwAuuyRRx7JW9/61tRakySHH354TjjhhIarAgAARpPABaCLlixZkiOPPDJ33XVXkmSTTTbJV7/61ZRSmi0MAAAYVQIXgC5ZsWJF3vSmN+Wqq67qO/aVr3wlW221VYNVAQAATRC4AHRBrTUnnnhivvvd7/Yd++xnP5ujjjqqwaoAAICmCFwAuuATn/hEvvjFL/b13/e+9+Xkk09usCIAAKBJAheAYfra176Wv/mbv+nrv+lNb8onP/nJBisCAACaJnABGIaLLrooxx9/fF//0EMPzde+9rVMmuTPKwAATGS+EQAM0dVXX52jjz46K1asSJLsvvvu+c53vpNp06Y1XBkAANA0gQvAENx222159atfncWLFydJ5s6dm4suuigbbbRRw5UBAABjgcAFYJB++9vf5pWvfGUefvjhJMlmm22WH/zgB3nuc5/bcGUAAMBYIXABGIRHH300r371q3PnnXcmSWbOnJnvf//7mTdvXsOVAQAAY4nABWCAfvOb32TffffN/PnzkySTJk3K+eefn3333bfhygAAgLFG4AIwAFdeeWX23Xff3HrrrX3HvvSlL+XII49ssCoAAGCsErgArMfXv/71HHbYYfnd736XJJk+fXrOP//8vPOd72y4MgAAYKwSuACsQ601p5xySo477rgsXbo0SbLFFlvk8ssvzzHHHNNwdQAAwFg2pekCAMaiJ598Mm9/+9tz7rnn9h3bZZddcuGFF2bu3LnNFQYAAIwLAheANSxcuDCve93rctVVV/UdO/zww/PNb34zG2+8cYOVAQAA44VbigA6/OpXv8o+++yzWtjy7ne/OxdeeKGwBQAAGDCBC0Ba67Wcc845ednLXpY777wzSVJKyWc/+9l8/vOfz5QpJgQCAAAD5xsEMOHdc889efe7352LL76479isWbNy7rnn5rWvfW2DlQEAAOOVGS7AhLVy5cqcdtpp2XXXXVcLW7bZZptceeWVwhYAAGDIBC7AhPSrX/0qBxxwQE466aQsWrQoSesWohNPPDE33XRT9txzz4YrBAAAxjO3FAETytKlS/PJT34yH/vYx7J06dK+4zvttFPOOOOM7Lfffg1WBwAA9AqBCzBhXHPNNXnHO96RG2+8se/YlClT8sEPfjAf/vCHM3369AarAwAAeonABeh5t9xySz7xiU/k3HPPzcqVK/uOv+QlL8kZZ5yRF73oRQ1WBwAA9CJruAA96xe/+EWOPvrovPCFL8w555zTF7bMnDkzn/nMZ/LTn/5U2AIAAIwIM1yAnnP11Vfn4x//eC644IJnnDviiCNy2mmnZfvtt2+gMgAAYKIwwwXoGVdeeWUOP/zw7LPPPs8IW4488sj87Gc/y0UXXSRsAQAARpwZLsC4tmTJknzve9/LF77whVxxxRWrnSul5KijjsqHP/zh7L777g1VCAAATEQCF2DcWblyZa644oqcffbZ+da3vpXHHntstfOTJk3KG9/4xnzoQx/KLrvs0lCVAADARCZwAcaNX//61zn77LPz9a9/Pffcc88zzk+ZMiVvectb8oEPfCA77LBDAxUCAAC0CFyAMe2ee+7J9773vZx99tm55ppr1jrmBS94QY477ri87W1vyzbbbDPKFQIAADyTwAUYUx5//PH8+Mc/zqWXXppLL700CxYsWOu4TTfdNMcee2yOO+647LPPPimljHKlAAAA6yZwARq1YsWKXHfddX0By1VXXZXly5evdey0adPymte8Jscdd1xe9apXZdq0aaNcLQAAwMAIXIBR9dBDD+Xaa6/t237605/mkUceWef4GTNm5MADD8yf/Mmf5Jhjjsmmm246itUCAAAMTU8HLqWU2Unel+SoJNslWZHk1iTnJflcrXXpMK49J8lfJXlNkm2SLElyc5Izk5xRa63Dqx7Gv4ULF+baa6/N/Pnz+wKW+++/f72ve/GLX5zDDz88hx9+eF7+8pdnxowZo1AtAABA9/Rs4FJK2TbJ5Unmtg8tTjI9yd7t7c2llENrrY8O4dp7JbkkyWbtQ4uSzE7y8vb2+lLKa4cT6MB4sWzZstx5551ZsGBB33brrbdmwYIF+e1vfzugazznOc/pC1gOO+ywzJkzZ4SrBgAAGFk9GbiUUqYkuSCtsOXBJG+ptV5WSpmU5OgkX06yR5KvJ3n1IK+9cZLvpxW2/DrJcbXWa0sp05Icn+Qfk7wyyT8leU9XfiBo0PLly/Pggw/m3nvvzb333pv77rsv9957b+64444sWLAgd9xxxzrXXFmbWbNmZY899sjee+/dt82bN8+itwAAQE/pycAlyVuTvKjdPqrW+tMkqbWuTHJ+O3j5RpJXtWe5/HAQ135/kuekdQvRq2qtd7avvTTJ6aWUjZJ8IsmflVL+qdZ6a3d+JOieWmsee+yx/Nd//VcWLlyYhQsXrtZ+4IEH+gKWBx54ICtXrhzS+0yfPj277777auHKTjvtlClTevVPDwAAQEuvfut5a3v/o1VhyxrOS/J3aa3r8pYkgwlc3rLqGqvCljV8LsmHkmyY5M1JThnEtWG9aq156qmnsmjRor7tiSeeyKJFi/KHP/whv//971fb1jz28MMPZ+HChVm2bFnXanre856XHXfcMfPmzcu8efP62ttuu20mT57ctfcBAAAYL3oucCmlzEqyf7t78drG1FprKeUHSU5Icvggrj0vrQVy+7v2olLKlUmOaF9b4DLO1FqzYsWKLF++vG/f2e48tmzZstW2tR1bunRpnnrqqbXuV7WXLFmSJ598MkuWLFlne1WosmjRoqxYsWJU/5tsscUW2XrrrbP11lvnec97Xrbeeutsu+222XHHHbPDDjtkww03HNV6AAAAxrqeC1yS7JxkUrt9Uz/jVp17Till01rrup9L+7QXruX167r2EUl2GcA1e9LSpUvzmte8JrXWvi1Jv/21bStXrlznsc5znccGsq1YsaJvv2Z7othggw2yxRZbZPPNN8/mm2/e195iiy0yZ86cvoBlq622yvTp05suFwAAYFzpxcBly452f8+f7Ty3ZZKBBC6DvfZGpZQNa62L+rtoKWX+AN57pwGMGTNWrlyZ//iP/2i6jJ41bdq0bLjhhn3bBhtskA022CCbbLJJNt5442yyySbP2FYd33TTTbPFFltk5syZTf8YAAAAPasXA5fZHe3F/YzrPDd7naO6c+1+A5deNN6fODNp0qRMmTIlU6ZMyeTJk5/RXrWfOnVq37Zmf9Wx6dOnZ/r06Zk2bdoz9qvaM2bMyMyZM/u2tfU7w5WpU6c2/Z8IAACAfvRi4DLu1Fr3Wt+Y9iyYPUehnK6YOnVqLrnkkiSt8GXVtr5+5zZp0qR1Hus819mePHlyJk2atM5t1fjJkyf3jV2z3VkbAAAADEUvBi6Pd7Rn9TOu89zj6xzV/7Uf6+K1e8qkSZNy+OEDXo8YAAAAesqk9Q8Zdx7oaG/Vz7jOcw+sc9Twrv3Y+tZvAQAAAHpPLwYuv0qyst1+YT/jVp17aIBPKEpWfzLRQK59ywCvCwAAAPSQngtcaq2Lk/xnu/vHaxtTWgt0vLLdvXQQl781yT3rufYGSQ4YwrUBAACAHtFzgUvbme39IaWUfdZy/ugk27fbZw30orXW2jH+2FLK3LUMe2+SDZOsSHLOQK8NAAAA9I5eDlxuTFKSfLuUcmiSlFImlVKOTvLl9riLa60/7HxhKeXUUkptb3PXcu1PJ3korYVxLyyl7NV+3bRSyglJPtYe9y+11lu7/HMBAAAA40AvPqUotdblpZTXJvlRkrlJLiulLE4rYJrRHnZ9kjcP4dp/KKW8JsklSXZJcm0p5fH2dae2h12a5ORh/RAAAADAuNWrM1xSa70ryW5J/ldai93WJMuSzE/y/iT71lofHeK15yfZNck/JrktraDliSQ/SXJ8kiNqrU8N80cAAAAAxqnSWpaEsa6UMn/PPffcc/78+U2XAgAAABNJGcqLenaGCwAAAEBTBC4AAAAAXSZwAQAAAOgygQsAAABAlwlcAAAAALpM4AIAAADQZQIXAAAAgC4TuAAAAAB0mcAFAAAAoMsELgAAAABdJnABAAAA6DKBCwAAAECXCVwAAAAAukzgAgAAANBlAhcAAACALhO4AAAAAHSZwAUAAACgywQuAAAAAF0mcAEAAADoMoELAAAAQJcJXAAAAAC6rNRam66BASil/G7mzJmb7rzzzk2XAgAAABPGdddd941a65sH+zqByzhRSrkzyUZJ7mq4lMHYqb3/daNVQPf53aZX+d2mF/m9plf53aZXjcXf7V8LXBhTSinzk6TWulfTtUA3+d2mV/ndphf5vaZX+d2mV/XS77Y1XAAAAAC6TOACAAAA0GUCFwAAAIAuE7gAAAAAdJnABQAAAKDLBC4AAAAAXSZwAQAAAOgygQsAAABAl5Vaa9M1AAAAAPQUM1wAAAAAukzgAgAAANBlAhcAAACALhO4AAAAAHSZwAUAAACgywQuAAAAAF0mcAEAAADoMoELAAAAQJcJXOi6UsrsUsqppZQbSymLSil/KKVcU0p5XyllWtP1wWCVUjYrpfz3UsrXSym3lFKeKKU8VUq5r5Ty3VLKnzRdI3RLKeUDpZS6amu6HhiOUspGpZS/LqVcVUpZ2PG3+0ftzyqbNF0jDFYp5RWllG+WUu4upTxZSllSSrmjlHJOKeWgpuuDTqWUWaWUI0opf1NK+U7793bV54xTB3iNOaWUz5RSFrR/3x8ppVxZSnlnKaWM8I8wLKVWn6XonlLKtkkuTzK3fWhxkslJprf71yc5tNb66KgXB0NUSlmWZErHoSeTrEiyQcexi5O8vta6eDRrg24qpcxL8oskM1Ydq7WO6Q8ysC6llEOSnJtkTvvQ0rQ+l3SGLHvUWn8x2rXBULS/WH4hybs6Di9p72d2HPvHWutfjFph0I9SysFJfrSO0x+ttZ66ntfvleSSJJu1Dy1K63PKqs/mlyR5ba116bCLHQFmuNA1pZQpSS5IK2x5MMkraq0bJJmV5NgkjyfZI8nXm6oRhmhKkquTvCfJ82utM2utGybZLskZ7TFHJPlSQ/XBsJVSJiX5alofYn7acDkwLKWU/ZNcmFbY8p0kL0kyo9b6rLTC8pcm+bskf2isSBi8t+XpsOVbSXastc6qtc5KslOS77XPnWz2LWPMo0l+mORTSd6Y5KGBvKiUsnGS76cVtvw6yUtqrbPT+jt+YpJlSV6Z5J9GoOauMMOFrimlvCPJV9rd/WqtP13j/BuTfKPdPazW+sPRrA+GqpRySK11Xcl8SilfzNMfgLaptd47OpVB95RS/kdaH1jOSfKbJKckZrgw/pRSZiW5Mcn2ST5Xa/3zhkuCriil/CjJwWn9jd651rp8jfNT0/pSun2S82qtbxz1ImENpZTJtdYVaxy7K8m2Wc8Ml1LKx5L8TVozuXattd65xvkPJvlEWjPPd6m13trd6ofPDBe66a3t/Y/WDFvazkuy6n+St4xOSTB8/YUtbWd0tPceyVpgJJRStkvrX/t/l+TkhsuB4TourS+cDyX5q4ZrgW56bnt/w5phS5LUWpeldVtokmw4alVBP9YMWwZp1XfG89YMW9o+l9YtRpOTvHkY7zNiBC50Rftfk/Zvdy9e25jamk71g3b38NGoC0bJkx3tyY1VAUP35bSm5/5FrXVh08XAMK36gP5vtdYn+x0J48sd7f2L27fyr6Y9w2X3dvfaUasKRkB7Xblt2t11fb9clOTKdndMfr8UuNAtO+fp36eb+hm36txzSimbjmxJMGoO7mjf2FQRMBSllOOTHJrkslrrWU3XA8NRSpmep2cazi+lbFNK+ZdSyr2llKWllN+WUi4opby6yTphiL7Q3r8gybmllBesOtH+cvrNtGZ33Z7kH0e/POiqF3a0B/L9cpcRrGXIBC50y5Yd7fv7Gdd5bst1joJxov1I0Q+2u1fWWhc0WQ8MRillq7QWsFuS1Z96AePV3CTT2u3t0/ogfnySLZI80d6/Jsn3SylfHuuPE4VOtdYL0rrtc2mS1ye5rZSyuJSyOK21Ww5OK5R5aa31scYKhe4Y7PfLjUopY+5WOoEL3TK7o93fY3E7z81e5ygYB9pPdTk7rXuqn0xrtXQYT76UZOMkp9Za71jfYBgHntXR/pu0nmBxdJIN208o2jbJv7XPvzPWLGKcqbX+U5L/luS/2odm5ulHQk9La+2WjRsoDbqtJ75fClwAhu6f0/qX0iR5b631l00WA4NRSvnTJK9Oa4HFzzZcDnTLpDXa76i1fqu9mGhqrfckOTbJDe0xH1rbWhgwFpVSZpVSzk/rMbn3pLVmxebt7fAkt6S1aPTVpZTdGisU6CNwoVse72jP6mdc57nH1zkKxrhSyqfz9IyWk2utX22yHhiMUsqctB4BvSLJ8Wt72gWMU52fLW6rtX53zQG11pVJPt3ubpZkr9EoDLrgU0mOSbIgyQG11v+otT7c3v4jyYFJbk3y7CSnN1gndENPfL8UuNAtD3S0t+pnXOe5B9Y5CsawUsonk7yv3X1/e3ovjCd/n9YXzX9J8utSyoadW55eAyMdx6et62IwhnTe5//rfsbd0tHedoRqga4ppcxO8mft7ulrewJXrXVJktPa3ZeXUrYYrfpgBAz2++Vj7acWjSkCF7rlV0lWttsv7GfcqnMP1VofGdmSoPtKKZ9K8pft7l/VWj/TZD0wRNu19yek9a9Ba24f7Bi76tgnR7NAGIr2Z4v+FldcpXOx3DpC5UA37Zhk1e1vt/cz7raO9nbrHAVjX+eTiQby/fKWfsY0RuBCV9RaFyf5z3b3j9c2pv0kgFe2u5eORl3QTe3biN7f7v5VrfVTTdYDwFqt+oyxcz9jOh8feucI1gLdsrKj3d+srDkd7TF3ewUMwq1prVWUrPv75QZJDmh3x+T3S4EL3XRme39IKWWftZw/Oq1HNCbJWaNTEnRHO2zpvI1I2MLcKyAkAAAJp0lEQVS4VWs9uNZa1rUl+WjH2FXH/2eDJcNgfK29f0Ep5XVrnmw/YW5VeH5/kutGqzAYhl8nWdJuv3Ntiz2XUibn6duOHk1rrRcYl2qtNU9/Zzy2lDJ3LcPem9aTuVYkOWd0KhscgQvddGaSG9OapvvtUsqhSeuDTSnl6CRfbo+7uNb6w4ZqhEFbY82Wv3AbEcDYVWu9Msm32t2vlFKOWvXltJSyTZJzk6x6gsuH24vowpjWXp/lK+3unkkuKKW8qP05e1L7qUQXJdmvPeafaq0rmqgV1lRKeVYp5dmrtjydQ8zqPN5eR67Tp5M8lNbCuBeWUvZqX29aKeWEJB9rj/uXWuuto/GzDFZpBUfQHe3k8UdJ5rYPLU7rf6gZ7f71SQ6ttT462rXBULQ/nN/d7q5MsnA9L/l0rfXT6xkDY1op5dQkpyStGS7NVgOD155mflFaT21JkqfS+kzyrI5hH621njrKpcGQlVJmJvlOVr+94qn2fnrHsXOTHCdwYawopdyVgS1Qfmat9W1rvHavJJektdh/0rpVbkaSqe3+pUleW2t9KmOQGS50Va31rrT+1eh/pbXQUU2yLMn8tKbv7itsYZyZtEZ7znq2NZN5AEZZrfWJJIckOT7JFUmeSOvv8/1Jzkuyv7CF8aY9y+VVad2m/70k9+XpBaDvTfLtJK+ptb5J2EKvqLXOT7Jrkn9Ma1HoqWn9Tf9JWn/jjxirYUtihgsAAABA15nhAgAAANBlAhcAAACALhO4AAAAAHSZwAUAAACgywQuAAAAAF0mcAEAAADoMoELAAAAQJcJXAAAAAC6TOACAAAA0GUCFwAAAIAuE7gAAAAAdJnABQAAAKDLBC4AAOtQSnlDKaWWUu4opUxtup6RVko5o/3zfrXpWgBgvCu11qZrAAAYc0opM5MsSLJ1kuNrrV9puKQRV0rZPq2feXKSl9Ra5zdcEgCMW2a4AACs3XvTClvuSnJms6WMjlrrHUnOSVKS/F3D5QDAuCZwAQBYQyllRpK/bHf/T611WZP1jLJPt/evLKW8tNFKAGAcE7gAADzTm5JskWRFknMbrmVU1VpvSvLLdvd/NFkLAIxnAhcAgGc6vr3/Ya31oUYracY57f1RpZRNGq0EAMYpgQsAMOaVUo5uPz2nllLO7mfcJqWUe9rjFpZSnjuE99o2yb7t7rfXM/ZZpZT/Xkr5einlllLKolLK0lLKQ6WUS0opf1ZKmTbYGtZ4j7d1/Oxz1zN21bhTh/OeSb7V3k9PctQwrwUAE5LABQAY82qt/5bka+3un5ZSjl3H0C+ltdBtkryj1vrgEN7u4I72z9Yz9vokX03y5iQ7J9kgydQkc5Ic3q7nZ6WU5wyhjsa0F8/9r3b3VU3WAgDjlcAFABgv/jzJb9rtL7ZnovQppbwtyTGrztda/+8Q3+eA9v6JJDevZ+zkJD9P8pEkr0nykiT7J/nTJD9oj9kjyXlDrKVJP2/vD2y0CgAYpwQuAMC4UGtdlNZMkuVJNk5ydillUpKUUp6f5HPtob9O8hfDeKv92vtf1lpXrGfsH9Va9621frzWemGt9dpa61W11nNqrUckeXt73EGllEOHUVMT5rf3z14z3AIA1k/gAgCMG7XWq5Oc2u4ekORDpZQpaS3yumGSpUneVGtdMoy3eV57/9sB1HPbes5/Lckv2t3XDaOmJvxXR3v7xqoAgHFqStMFAAAM0v9Oa32UA5OckmS3JPu0z3241nr9UC9cSpmeZHa7+8ggX1vSWrtloySdC+Xen2T3JC8eal0N6fz5x9UaNAAwFghcAIBxpda6spRyXJIbkmyS5Oj2qcuSfGaYl9+so/37gbyglPLqJCekFQDN7mfos4dRVxM6A5cNGqsCAMYptxQBAONOrfWeJB/tOLQ4yVtrrXW4l+5oz+hvYGn5SpLvJ3l1+g9bkmTmMGsbbZ31LmusCgAYpwQuAMC4U0qZmeTPOg7NSuvpQMPVOatl0/WMfXuSd7Tbv0jytrQeDb1Rkim11lJrLUnObo8pXahvNHX+/AOa7QMAPM0tRQDAePTptMKNJHksrZDjS6WUn9Za7xvqRWutS0opC5NsnuRZ6xl+fHv/myT79bNQ7/qCm/VZ2dFe5z+WlVK6fdtP589/T5evDQA9zwwXAGBcaa+Z8p529ztJjkiyIq2A4KxVj4oehpvb+x3XM27X9v7/ritsaS+ku+cw63m8o91fCLTTMN9nTfPa+xVpPWobABgEgQsAMG6UUrZI8tV294Ekx9dar0ryd+1jhyR5/zDf5uft/XallM36GbdqpnB/M0v+vyTPHWY9d3S0X9LPuDcP833WtOrJTzcO8zHbADAhCVwAgPHkq0m2SGtx27fWWlc9SedjSX62ql1K2WMY7/EfHe2X9jPutvb+yFLKM24bKqU8P8np63uzUsq/llJqezt4LUNuTvJwu31SKeUZi/mWUv4oyYkDeK9V73PXesbNTPLCdvfS9V0XAHgmgQsAMC6UUt6b1tOAkuQfa62XrTpXa12e5E/Tuv1mWpJvtEODobgiye/a7UP7GXdWe79lkp+WUt5eSnlpKeXAUsqpSeantX7LdUOsI0nfz/bFdneXJJeXUv5bKWWPUsorSimfS3JxkquH8z5rODhPz+D59y5eFwAmDIELADDmlVJ2TvKpdveGJB9cc0yt9fYkf97u7pTks0N5r1rrsiTntbtv7GdNmH/O07M/dkxyRlq3I/04ySlpBT9vSXLjUOpYwyeS/KTd3ifJt9MKci5Na2bLLUmO6sL7rPKm9v62WuvP+h0JAKyVwAUAGNNKKdOSnJNkZpInk7y51rp0bWNrrf+a5Fvt7rtLKUcO8W0/395vmdZsj7W917K0Ztz8eZJrkyxOsiStpxZ9McmetdZ/G+L7r/leS5K8Islfp/UI6sVpzeb5RfvYy2qtv+3Ge5VSZiV5Xbu73luiAIC1K7XWpmsAABhzSikXJHlNkm/UWru9IO2YVUr572mtlfNIkrm11sfX8xIAYC3McAEAWLtT0lqc9w2llHnrG9wLSimT8/TtWp8UtgDA0AlcAADWotZ6XZKvJ5mc5CMNlzNa3pRkhyR3J/k/DdcCAOPalPUPAQCYsP4qyR1JlpdSprbXbellJclHk1zWXjcGABgia7gAAAAAdJlbigAAAAC6TOACAAAA0GUCFwAAAIAuE7gAAAAAdJnABQAAAKDLBC4AAAAAXSZwAQAAAOgygQsAAABAlwlcAAAAALpM4AIAAADQZQIXAAAAgC4TuAAAAAB0mcAFAAAAoMsELgAAAABd9v8DExHw7V33jSEAAAAASUVORK5CYII=\n",
                "text/plain": "<Figure size 576x432 with 1 Axes>"
              }
            ],
            "_view_module": "@jupyter-widgets/output",
            "_model_module_version": "1.0.0",
            "_view_count": null,
            "_view_module_version": "1.0.0",
            "layout": "IPY_MODEL_3f6c4d2615574da5b03193c740e15a1a",
            "_model_module": "@jupyter-widgets/output"
          }
        },
        "a6634c79d83844e486d238ec521a5e52": {
          "model_module": "@jupyter-widgets/controls",
          "model_name": "SliderStyleModel",
          "state": {
            "_view_name": "StyleView",
            "handle_color": null,
            "_model_name": "SliderStyleModel",
            "description_width": "",
            "_view_module": "@jupyter-widgets/base",
            "_model_module_version": "1.5.0",
            "_view_count": null,
            "_view_module_version": "1.2.0",
            "_model_module": "@jupyter-widgets/controls"
          }
        },
        "8c1ca570d87c4566aa2d67ebee090ce5": {
          "model_module": "@jupyter-widgets/base",
          "model_name": "LayoutModel",
          "state": {
            "_view_name": "LayoutView",
            "grid_template_rows": null,
            "right": null,
            "justify_content": null,
            "_view_module": "@jupyter-widgets/base",
            "overflow": null,
            "_model_module_version": "1.2.0",
            "_view_count": null,
            "flex_flow": null,
            "width": null,
            "min_width": null,
            "border": null,
            "align_items": null,
            "bottom": null,
            "_model_module": "@jupyter-widgets/base",
            "top": null,
            "grid_column": null,
            "overflow_y": null,
            "overflow_x": null,
            "grid_auto_flow": null,
            "grid_area": null,
            "grid_template_columns": null,
            "flex": null,
            "_model_name": "LayoutModel",
            "justify_items": null,
            "grid_row": null,
            "max_height": null,
            "align_content": null,
            "visibility": null,
            "align_self": null,
            "height": null,
            "min_height": null,
            "padding": null,
            "grid_auto_rows": null,
            "grid_gap": null,
            "max_width": null,
            "order": null,
            "_view_module_version": "1.2.0",
            "grid_template_areas": null,
            "object_position": null,
            "object_fit": null,
            "grid_auto_columns": null,
            "margin": null,
            "display": null,
            "left": null
          }
        },
        "969f891092994a44bb1b80367e610860": {
          "model_module": "@jupyter-widgets/controls",
          "model_name": "SliderStyleModel",
          "state": {
            "_view_name": "StyleView",
            "handle_color": null,
            "_model_name": "SliderStyleModel",
            "description_width": "",
            "_view_module": "@jupyter-widgets/base",
            "_model_module_version": "1.5.0",
            "_view_count": null,
            "_view_module_version": "1.2.0",
            "_model_module": "@jupyter-widgets/controls"
          }
        },
        "89f72c66653c4f75874671ace2d13583": {
          "model_module": "@jupyter-widgets/base",
          "model_name": "LayoutModel",
          "state": {
            "_view_name": "LayoutView",
            "grid_template_rows": null,
            "right": null,
            "justify_content": null,
            "_view_module": "@jupyter-widgets/base",
            "overflow": null,
            "_model_module_version": "1.2.0",
            "_view_count": null,
            "flex_flow": null,
            "width": null,
            "min_width": null,
            "border": null,
            "align_items": null,
            "bottom": null,
            "_model_module": "@jupyter-widgets/base",
            "top": null,
            "grid_column": null,
            "overflow_y": null,
            "overflow_x": null,
            "grid_auto_flow": null,
            "grid_area": null,
            "grid_template_columns": null,
            "flex": null,
            "_model_name": "LayoutModel",
            "justify_items": null,
            "grid_row": null,
            "max_height": null,
            "align_content": null,
            "visibility": null,
            "align_self": null,
            "height": null,
            "min_height": null,
            "padding": null,
            "grid_auto_rows": null,
            "grid_gap": null,
            "max_width": null,
            "order": null,
            "_view_module_version": "1.2.0",
            "grid_template_areas": null,
            "object_position": null,
            "object_fit": null,
            "grid_auto_columns": null,
            "margin": null,
            "display": null,
            "left": null
          }
        },
        "3f6c4d2615574da5b03193c740e15a1a": {
          "model_module": "@jupyter-widgets/base",
          "model_name": "LayoutModel",
          "state": {
            "_view_name": "LayoutView",
            "grid_template_rows": null,
            "right": null,
            "justify_content": null,
            "_view_module": "@jupyter-widgets/base",
            "overflow": null,
            "_model_module_version": "1.2.0",
            "_view_count": null,
            "flex_flow": null,
            "width": null,
            "min_width": null,
            "border": null,
            "align_items": null,
            "bottom": null,
            "_model_module": "@jupyter-widgets/base",
            "top": null,
            "grid_column": null,
            "overflow_y": null,
            "overflow_x": null,
            "grid_auto_flow": null,
            "grid_area": null,
            "grid_template_columns": null,
            "flex": null,
            "_model_name": "LayoutModel",
            "justify_items": null,
            "grid_row": null,
            "max_height": null,
            "align_content": null,
            "visibility": null,
            "align_self": null,
            "height": null,
            "min_height": null,
            "padding": null,
            "grid_auto_rows": null,
            "grid_gap": null,
            "max_width": null,
            "order": null,
            "_view_module_version": "1.2.0",
            "grid_template_areas": null,
            "object_position": null,
            "object_fit": null,
            "grid_auto_columns": null,
            "margin": null,
            "display": null,
            "left": null
          }
        },
        "1dbc3bc8467944e1855fd6bfa2f55dfb": {
          "model_module": "@jupyter-widgets/controls",
          "model_name": "VBoxModel",
          "state": {
            "_view_name": "VBoxView",
            "_dom_classes": [
              "widget-interact"
            ],
            "_model_name": "VBoxModel",
            "_view_module": "@jupyter-widgets/controls",
            "_model_module_version": "1.5.0",
            "_view_count": null,
            "_view_module_version": "1.5.0",
            "box_style": "",
            "layout": "IPY_MODEL_3d89baceed0c4e8ab8db5d145b39b59e",
            "_model_module": "@jupyter-widgets/controls",
            "children": [
              "IPY_MODEL_40938b57dc184cdda352adb48b43c1da",
              "IPY_MODEL_68d11414d329439bbda9b74547afaf54",
              "IPY_MODEL_79c08b0848a64ec383ec6b48a7de042a"
            ]
          }
        },
        "3d89baceed0c4e8ab8db5d145b39b59e": {
          "model_module": "@jupyter-widgets/base",
          "model_name": "LayoutModel",
          "state": {
            "_view_name": "LayoutView",
            "grid_template_rows": null,
            "right": null,
            "justify_content": null,
            "_view_module": "@jupyter-widgets/base",
            "overflow": null,
            "_model_module_version": "1.2.0",
            "_view_count": null,
            "flex_flow": null,
            "width": null,
            "min_width": null,
            "border": null,
            "align_items": null,
            "bottom": null,
            "_model_module": "@jupyter-widgets/base",
            "top": null,
            "grid_column": null,
            "overflow_y": null,
            "overflow_x": null,
            "grid_auto_flow": null,
            "grid_area": null,
            "grid_template_columns": null,
            "flex": null,
            "_model_name": "LayoutModel",
            "justify_items": null,
            "grid_row": null,
            "max_height": null,
            "align_content": null,
            "visibility": null,
            "align_self": null,
            "height": null,
            "min_height": null,
            "padding": null,
            "grid_auto_rows": null,
            "grid_gap": null,
            "max_width": null,
            "order": null,
            "_view_module_version": "1.2.0",
            "grid_template_areas": null,
            "object_position": null,
            "object_fit": null,
            "grid_auto_columns": null,
            "margin": null,
            "display": null,
            "left": null
          }
        },
        "40938b57dc184cdda352adb48b43c1da": {
          "model_module": "@jupyter-widgets/controls",
          "model_name": "FloatSliderModel",
          "state": {
            "_view_name": "FloatSliderView",
            "style": "IPY_MODEL_e50189a0091d41d1b5b69016541a6f80",
            "_dom_classes": [],
            "description": "I_ext",
            "step": 1,
            "_model_name": "FloatSliderModel",
            "orientation": "horizontal",
            "max": 10,
            "_view_module": "@jupyter-widgets/controls",
            "_model_module_version": "1.5.0",
            "value": 5,
            "_view_count": null,
            "disabled": false,
            "_view_module_version": "1.5.0",
            "min": 0,
            "continuous_update": true,
            "readout_format": ".2f",
            "description_tooltip": null,
            "readout": true,
            "_model_module": "@jupyter-widgets/controls",
            "layout": "IPY_MODEL_3be9ffbbe4c542509e7f3b3d8e6c42e9"
          }
        },
        "68d11414d329439bbda9b74547afaf54": {
          "model_module": "@jupyter-widgets/controls",
          "model_name": "FloatSliderModel",
          "state": {
            "_view_name": "FloatSliderView",
            "style": "IPY_MODEL_f8efddd9535742b386a0806173e2c209",
            "_dom_classes": [],
            "description": "tau",
            "step": 0.2,
            "_model_name": "FloatSliderModel",
            "orientation": "horizontal",
            "max": 5,
            "_view_module": "@jupyter-widgets/controls",
            "_model_module_version": "1.5.0",
            "value": 1,
            "_view_count": null,
            "disabled": false,
            "_view_module_version": "1.5.0",
            "min": 1,
            "continuous_update": true,
            "readout_format": ".2f",
            "description_tooltip": null,
            "readout": true,
            "_model_module": "@jupyter-widgets/controls",
            "layout": "IPY_MODEL_5242b0d1dbc94e33b97785a5f18ce56f"
          }
        },
        "79c08b0848a64ec383ec6b48a7de042a": {
          "model_module": "@jupyter-widgets/output",
          "model_name": "OutputModel",
          "state": {
            "_view_name": "OutputView",
            "msg_id": "",
            "_dom_classes": [],
            "_model_name": "OutputModel",
            "outputs": [
              {
                "output_type": "display_data",
                "metadata": {
                  "tags": [],
                  "image/png": {
                    "width": 558,
                    "height": 413
                  },
                  "needs_background": "light"
                },
                "image/png": "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\n",
                "text/plain": "<Figure size 576x432 with 1 Axes>"
              }
            ],
            "_view_module": "@jupyter-widgets/output",
            "_model_module_version": "1.0.0",
            "_view_count": null,
            "_view_module_version": "1.0.0",
            "layout": "IPY_MODEL_2039d739dde44ebc8abc195cdb8e9250",
            "_model_module": "@jupyter-widgets/output"
          }
        },
        "e50189a0091d41d1b5b69016541a6f80": {
          "model_module": "@jupyter-widgets/controls",
          "model_name": "SliderStyleModel",
          "state": {
            "_view_name": "StyleView",
            "handle_color": null,
            "_model_name": "SliderStyleModel",
            "description_width": "",
            "_view_module": "@jupyter-widgets/base",
            "_model_module_version": "1.5.0",
            "_view_count": null,
            "_view_module_version": "1.2.0",
            "_model_module": "@jupyter-widgets/controls"
          }
        },
        "3be9ffbbe4c542509e7f3b3d8e6c42e9": {
          "model_module": "@jupyter-widgets/base",
          "model_name": "LayoutModel",
          "state": {
            "_view_name": "LayoutView",
            "grid_template_rows": null,
            "right": null,
            "justify_content": null,
            "_view_module": "@jupyter-widgets/base",
            "overflow": null,
            "_model_module_version": "1.2.0",
            "_view_count": null,
            "flex_flow": null,
            "width": null,
            "min_width": null,
            "border": null,
            "align_items": null,
            "bottom": null,
            "_model_module": "@jupyter-widgets/base",
            "top": null,
            "grid_column": null,
            "overflow_y": null,
            "overflow_x": null,
            "grid_auto_flow": null,
            "grid_area": null,
            "grid_template_columns": null,
            "flex": null,
            "_model_name": "LayoutModel",
            "justify_items": null,
            "grid_row": null,
            "max_height": null,
            "align_content": null,
            "visibility": null,
            "align_self": null,
            "height": null,
            "min_height": null,
            "padding": null,
            "grid_auto_rows": null,
            "grid_gap": null,
            "max_width": null,
            "order": null,
            "_view_module_version": "1.2.0",
            "grid_template_areas": null,
            "object_position": null,
            "object_fit": null,
            "grid_auto_columns": null,
            "margin": null,
            "display": null,
            "left": null
          }
        },
        "f8efddd9535742b386a0806173e2c209": {
          "model_module": "@jupyter-widgets/controls",
          "model_name": "SliderStyleModel",
          "state": {
            "_view_name": "StyleView",
            "handle_color": null,
            "_model_name": "SliderStyleModel",
            "description_width": "",
            "_view_module": "@jupyter-widgets/base",
            "_model_module_version": "1.5.0",
            "_view_count": null,
            "_view_module_version": "1.2.0",
            "_model_module": "@jupyter-widgets/controls"
          }
        },
        "5242b0d1dbc94e33b97785a5f18ce56f": {
          "model_module": "@jupyter-widgets/base",
          "model_name": "LayoutModel",
          "state": {
            "_view_name": "LayoutView",
            "grid_template_rows": null,
            "right": null,
            "justify_content": null,
            "_view_module": "@jupyter-widgets/base",
            "overflow": null,
            "_model_module_version": "1.2.0",
            "_view_count": null,
            "flex_flow": null,
            "width": null,
            "min_width": null,
            "border": null,
            "align_items": null,
            "bottom": null,
            "_model_module": "@jupyter-widgets/base",
            "top": null,
            "grid_column": null,
            "overflow_y": null,
            "overflow_x": null,
            "grid_auto_flow": null,
            "grid_area": null,
            "grid_template_columns": null,
            "flex": null,
            "_model_name": "LayoutModel",
            "justify_items": null,
            "grid_row": null,
            "max_height": null,
            "align_content": null,
            "visibility": null,
            "align_self": null,
            "height": null,
            "min_height": null,
            "padding": null,
            "grid_auto_rows": null,
            "grid_gap": null,
            "max_width": null,
            "order": null,
            "_view_module_version": "1.2.0",
            "grid_template_areas": null,
            "object_position": null,
            "object_fit": null,
            "grid_auto_columns": null,
            "margin": null,
            "display": null,
            "left": null
          }
        },
        "2039d739dde44ebc8abc195cdb8e9250": {
          "model_module": "@jupyter-widgets/base",
          "model_name": "LayoutModel",
          "state": {
            "_view_name": "LayoutView",
            "grid_template_rows": null,
            "right": null,
            "justify_content": null,
            "_view_module": "@jupyter-widgets/base",
            "overflow": null,
            "_model_module_version": "1.2.0",
            "_view_count": null,
            "flex_flow": null,
            "width": null,
            "min_width": null,
            "border": null,
            "align_items": null,
            "bottom": null,
            "_model_module": "@jupyter-widgets/base",
            "top": null,
            "grid_column": null,
            "overflow_y": null,
            "overflow_x": null,
            "grid_auto_flow": null,
            "grid_area": null,
            "grid_template_columns": null,
            "flex": null,
            "_model_name": "LayoutModel",
            "justify_items": null,
            "grid_row": null,
            "max_height": null,
            "align_content": null,
            "visibility": null,
            "align_self": null,
            "height": null,
            "min_height": null,
            "padding": null,
            "grid_auto_rows": null,
            "grid_gap": null,
            "max_width": null,
            "order": null,
            "_view_module_version": "1.2.0",
            "grid_template_areas": null,
            "object_position": null,
            "object_fit": null,
            "grid_auto_columns": null,
            "margin": null,
            "display": null,
            "left": null
          }
        },
        "131e42c6a13741929ccd11a71a8db7d6": {
          "model_module": "@jupyter-widgets/controls",
          "model_name": "TabModel",
          "state": {
            "_view_name": "TabView",
            "_dom_classes": [],
            "_titles": {
              "0": "Youtube",
              "1": "Bilibili"
            },
            "_model_name": "TabModel",
            "_view_module": "@jupyter-widgets/controls",
            "selected_index": 0,
            "_model_module_version": "1.5.0",
            "_view_count": null,
            "_view_module_version": "1.5.0",
            "box_style": "",
            "layout": "IPY_MODEL_36a1c0a1e82843dd90b324429a086c9a",
            "_model_module": "@jupyter-widgets/controls",
            "children": [
              "IPY_MODEL_0177558dae7243458c13aa0dc6db5e0f",
              "IPY_MODEL_8d0e16c93267462f9f34e6d3a72bbc1a"
            ]
          }
        },
        "36a1c0a1e82843dd90b324429a086c9a": {
          "model_module": "@jupyter-widgets/base",
          "model_name": "LayoutModel",
          "state": {
            "_view_name": "LayoutView",
            "grid_template_rows": null,
            "right": null,
            "justify_content": null,
            "_view_module": "@jupyter-widgets/base",
            "overflow": null,
            "_model_module_version": "1.2.0",
            "_view_count": null,
            "flex_flow": null,
            "width": null,
            "min_width": null,
            "border": null,
            "align_items": null,
            "bottom": null,
            "_model_module": "@jupyter-widgets/base",
            "top": null,
            "grid_column": null,
            "overflow_y": null,
            "overflow_x": null,
            "grid_auto_flow": null,
            "grid_area": null,
            "grid_template_columns": null,
            "flex": null,
            "_model_name": "LayoutModel",
            "justify_items": null,
            "grid_row": null,
            "max_height": null,
            "align_content": null,
            "visibility": null,
            "align_self": null,
            "height": null,
            "min_height": null,
            "padding": null,
            "grid_auto_rows": null,
            "grid_gap": null,
            "max_width": null,
            "order": null,
            "_view_module_version": "1.2.0",
            "grid_template_areas": null,
            "object_position": null,
            "object_fit": null,
            "grid_auto_columns": null,
            "margin": null,
            "display": null,
            "left": null
          }
        },
        "0177558dae7243458c13aa0dc6db5e0f": {
          "model_module": "@jupyter-widgets/output",
          "model_name": "OutputModel",
          "state": {
            "_view_name": "OutputView",
            "msg_id": "",
            "_dom_classes": [],
            "_model_name": "OutputModel",
            "outputs": [
              {
                "output_type": "stream",
                "metadata": {
                  "tags": []
                },
                "text": "Video available at https://youtube.com/watch?v=Ox3ELd1UFyo\n",
                "stream": "stdout"
              },
              {
                "output_type": "display_data",
                "metadata": {
                  "tags": []
                },
                "text/html": "\n        <iframe\n            width=\"854\"\n            height=\"480\"\n            src=\"https://www.youtube.com/embed/Ox3ELd1UFyo?fs=1&rel=0\"\n            frameborder=\"0\"\n            allowfullscreen\n        ></iframe>\n        ",
                "text/plain": "<IPython.lib.display.YouTubeVideo at 0x7f5ea975b510>",
                "image/jpeg": "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\n"
              }
            ],
            "_view_module": "@jupyter-widgets/output",
            "_model_module_version": "1.0.0",
            "_view_count": null,
            "_view_module_version": "1.0.0",
            "layout": "IPY_MODEL_263804187793405b8b29e2e9244161fa",
            "_model_module": "@jupyter-widgets/output"
          }
        },
        "8d0e16c93267462f9f34e6d3a72bbc1a": {
          "model_module": "@jupyter-widgets/output",
          "model_name": "OutputModel",
          "state": {
            "_view_name": "OutputView",
            "msg_id": "",
            "_dom_classes": [],
            "_model_name": "OutputModel",
            "outputs": [
              {
                "output_type": "stream",
                "metadata": {
                  "tags": []
                },
                "text": "Video available at https://www.bilibili.com/video/BV1v54y1v7Gr\n",
                "stream": "stdout"
              },
              {
                "output_type": "display_data",
                "metadata": {
                  "tags": []
                },
                "text/html": "\n        <iframe\n            width=\"854\"\n            height=\"480\"\n            src=\"https://player.bilibili.com/player.html?bvid=BV1v54y1v7Gr&page=1?fs=1\"\n            frameborder=\"0\"\n            allowfullscreen\n        ></iframe>\n        ",
                "text/plain": "<__main__.BiliVideo at 0x7f5e91331250>"
              }
            ],
            "_view_module": "@jupyter-widgets/output",
            "_model_module_version": "1.0.0",
            "_view_count": null,
            "_view_module_version": "1.0.0",
            "layout": "IPY_MODEL_9f40a936a4aa4ffca092ca7e7ed24ca1",
            "_model_module": "@jupyter-widgets/output"
          }
        },
        "263804187793405b8b29e2e9244161fa": {
          "model_module": "@jupyter-widgets/base",
          "model_name": "LayoutModel",
          "state": {
            "_view_name": "LayoutView",
            "grid_template_rows": null,
            "right": null,
            "justify_content": null,
            "_view_module": "@jupyter-widgets/base",
            "overflow": null,
            "_model_module_version": "1.2.0",
            "_view_count": null,
            "flex_flow": null,
            "width": null,
            "min_width": null,
            "border": null,
            "align_items": null,
            "bottom": null,
            "_model_module": "@jupyter-widgets/base",
            "top": null,
            "grid_column": null,
            "overflow_y": null,
            "overflow_x": null,
            "grid_auto_flow": null,
            "grid_area": null,
            "grid_template_columns": null,
            "flex": null,
            "_model_name": "LayoutModel",
            "justify_items": null,
            "grid_row": null,
            "max_height": null,
            "align_content": null,
            "visibility": null,
            "align_self": null,
            "height": null,
            "min_height": null,
            "padding": null,
            "grid_auto_rows": null,
            "grid_gap": null,
            "max_width": null,
            "order": null,
            "_view_module_version": "1.2.0",
            "grid_template_areas": null,
            "object_position": null,
            "object_fit": null,
            "grid_auto_columns": null,
            "margin": null,
            "display": null,
            "left": null
          }
        },
        "9f40a936a4aa4ffca092ca7e7ed24ca1": {
          "model_module": "@jupyter-widgets/base",
          "model_name": "LayoutModel",
          "state": {
            "_view_name": "LayoutView",
            "grid_template_rows": null,
            "right": null,
            "justify_content": null,
            "_view_module": "@jupyter-widgets/base",
            "overflow": null,
            "_model_module_version": "1.2.0",
            "_view_count": null,
            "flex_flow": null,
            "width": null,
            "min_width": null,
            "border": null,
            "align_items": null,
            "bottom": null,
            "_model_module": "@jupyter-widgets/base",
            "top": null,
            "grid_column": null,
            "overflow_y": null,
            "overflow_x": null,
            "grid_auto_flow": null,
            "grid_area": null,
            "grid_template_columns": null,
            "flex": null,
            "_model_name": "LayoutModel",
            "justify_items": null,
            "grid_row": null,
            "max_height": null,
            "align_content": null,
            "visibility": null,
            "align_self": null,
            "height": null,
            "min_height": null,
            "padding": null,
            "grid_auto_rows": null,
            "grid_gap": null,
            "max_width": null,
            "order": null,
            "_view_module_version": "1.2.0",
            "grid_template_areas": null,
            "object_position": null,
            "object_fit": null,
            "grid_auto_columns": null,
            "margin": null,
            "display": null,
            "left": null
          }
        },
        "3cce14d1675c4dac920ba1fa9f10a505": {
          "model_module": "@jupyter-widgets/controls",
          "model_name": "VBoxModel",
          "state": {
            "_view_name": "VBoxView",
            "_dom_classes": [
              "widget-interact"
            ],
            "_model_name": "VBoxModel",
            "_view_module": "@jupyter-widgets/controls",
            "_model_module_version": "1.5.0",
            "_view_count": null,
            "_view_module_version": "1.5.0",
            "box_style": "",
            "layout": "IPY_MODEL_477378ea588645cba87f488625c6a78f",
            "_model_module": "@jupyter-widgets/controls",
            "children": [
              "IPY_MODEL_e41c9145d37d497cbab2ae35478629ab",
              "IPY_MODEL_958d96337065405a8be2d3a0c78b11c7",
              "IPY_MODEL_1c7f570f5fd340e7b499c78b5dfbbef0"
            ]
          }
        },
        "477378ea588645cba87f488625c6a78f": {
          "model_module": "@jupyter-widgets/base",
          "model_name": "LayoutModel",
          "state": {
            "_view_name": "LayoutView",
            "grid_template_rows": null,
            "right": null,
            "justify_content": null,
            "_view_module": "@jupyter-widgets/base",
            "overflow": null,
            "_model_module_version": "1.2.0",
            "_view_count": null,
            "flex_flow": null,
            "width": null,
            "min_width": null,
            "border": null,
            "align_items": null,
            "bottom": null,
            "_model_module": "@jupyter-widgets/base",
            "top": null,
            "grid_column": null,
            "overflow_y": null,
            "overflow_x": null,
            "grid_auto_flow": null,
            "grid_area": null,
            "grid_template_columns": null,
            "flex": null,
            "_model_name": "LayoutModel",
            "justify_items": null,
            "grid_row": null,
            "max_height": null,
            "align_content": null,
            "visibility": null,
            "align_self": null,
            "height": null,
            "min_height": null,
            "padding": null,
            "grid_auto_rows": null,
            "grid_gap": null,
            "max_width": null,
            "order": null,
            "_view_module_version": "1.2.0",
            "grid_template_areas": null,
            "object_position": null,
            "object_fit": null,
            "grid_auto_columns": null,
            "margin": null,
            "display": null,
            "left": null
          }
        },
        "e41c9145d37d497cbab2ae35478629ab": {
          "model_module": "@jupyter-widgets/controls",
          "model_name": "FloatSliderModel",
          "state": {
            "_view_name": "FloatSliderView",
            "style": "IPY_MODEL_2436503bc8ef462d8e5b0d1c95f60094",
            "_dom_classes": [],
            "description": "w",
            "step": 0.2,
            "_model_name": "FloatSliderModel",
            "orientation": "horizontal",
            "max": 7,
            "_view_module": "@jupyter-widgets/controls",
            "_model_module_version": "1.5.0",
            "value": 5,
            "_view_count": null,
            "disabled": false,
            "_view_module_version": "1.5.0",
            "min": -1,
            "continuous_update": true,
            "readout_format": ".2f",
            "description_tooltip": null,
            "readout": true,
            "_model_module": "@jupyter-widgets/controls",
            "layout": "IPY_MODEL_1708dd5a33144df583836355f446cbb4"
          }
        },
        "958d96337065405a8be2d3a0c78b11c7": {
          "model_module": "@jupyter-widgets/controls",
          "model_name": "FloatSliderModel",
          "state": {
            "_view_name": "FloatSliderView",
            "style": "IPY_MODEL_69fbeba0977545c7a395a373dd37c483",
            "_dom_classes": [],
            "description": "I_ext",
            "step": 0.1,
            "_model_name": "FloatSliderModel",
            "orientation": "horizontal",
            "max": 3,
            "_view_module": "@jupyter-widgets/controls",
            "_model_module_version": "1.5.0",
            "value": 0.8,
            "_view_count": null,
            "disabled": false,
            "_view_module_version": "1.5.0",
            "min": 0,
            "continuous_update": true,
            "readout_format": ".2f",
            "description_tooltip": null,
            "readout": true,
            "_model_module": "@jupyter-widgets/controls",
            "layout": "IPY_MODEL_1e1ef5e31a7e44cdb296677d7753f118"
          }
        },
        "1c7f570f5fd340e7b499c78b5dfbbef0": {
          "model_module": "@jupyter-widgets/output",
          "model_name": "OutputModel",
          "state": {
            "_view_name": "OutputView",
            "msg_id": "",
            "_dom_classes": [],
            "_model_name": "OutputModel",
            "outputs": [
              {
                "output_type": "display_data",
                "metadata": {
                  "tags": [],
                  "image/png": {
                    "width": 558,
                    "height": 413
                  },
                  "needs_background": "light"
                },
                "image/png": "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\n",
                "text/plain": "<Figure size 576x432 with 1 Axes>"
              }
            ],
            "_view_module": "@jupyter-widgets/output",
            "_model_module_version": "1.0.0",
            "_view_count": null,
            "_view_module_version": "1.0.0",
            "layout": "IPY_MODEL_6f7525e128ae4da391e15710420ec513",
            "_model_module": "@jupyter-widgets/output"
          }
        },
        "2436503bc8ef462d8e5b0d1c95f60094": {
          "model_module": "@jupyter-widgets/controls",
          "model_name": "SliderStyleModel",
          "state": {
            "_view_name": "StyleView",
            "handle_color": null,
            "_model_name": "SliderStyleModel",
            "description_width": "",
            "_view_module": "@jupyter-widgets/base",
            "_model_module_version": "1.5.0",
            "_view_count": null,
            "_view_module_version": "1.2.0",
            "_model_module": "@jupyter-widgets/controls"
          }
        },
        "1708dd5a33144df583836355f446cbb4": {
          "model_module": "@jupyter-widgets/base",
          "model_name": "LayoutModel",
          "state": {
            "_view_name": "LayoutView",
            "grid_template_rows": null,
            "right": null,
            "justify_content": null,
            "_view_module": "@jupyter-widgets/base",
            "overflow": null,
            "_model_module_version": "1.2.0",
            "_view_count": null,
            "flex_flow": null,
            "width": null,
            "min_width": null,
            "border": null,
            "align_items": null,
            "bottom": null,
            "_model_module": "@jupyter-widgets/base",
            "top": null,
            "grid_column": null,
            "overflow_y": null,
            "overflow_x": null,
            "grid_auto_flow": null,
            "grid_area": null,
            "grid_template_columns": null,
            "flex": null,
            "_model_name": "LayoutModel",
            "justify_items": null,
            "grid_row": null,
            "max_height": null,
            "align_content": null,
            "visibility": null,
            "align_self": null,
            "height": null,
            "min_height": null,
            "padding": null,
            "grid_auto_rows": null,
            "grid_gap": null,
            "max_width": null,
            "order": null,
            "_view_module_version": "1.2.0",
            "grid_template_areas": null,
            "object_position": null,
            "object_fit": null,
            "grid_auto_columns": null,
            "margin": null,
            "display": null,
            "left": null
          }
        },
        "69fbeba0977545c7a395a373dd37c483": {
          "model_module": "@jupyter-widgets/controls",
          "model_name": "SliderStyleModel",
          "state": {
            "_view_name": "StyleView",
            "handle_color": null,
            "_model_name": "SliderStyleModel",
            "description_width": "",
            "_view_module": "@jupyter-widgets/base",
            "_model_module_version": "1.5.0",
            "_view_count": null,
            "_view_module_version": "1.2.0",
            "_model_module": "@jupyter-widgets/controls"
          }
        },
        "1e1ef5e31a7e44cdb296677d7753f118": {
          "model_module": "@jupyter-widgets/base",
          "model_name": "LayoutModel",
          "state": {
            "_view_name": "LayoutView",
            "grid_template_rows": null,
            "right": null,
            "justify_content": null,
            "_view_module": "@jupyter-widgets/base",
            "overflow": null,
            "_model_module_version": "1.2.0",
            "_view_count": null,
            "flex_flow": null,
            "width": null,
            "min_width": null,
            "border": null,
            "align_items": null,
            "bottom": null,
            "_model_module": "@jupyter-widgets/base",
            "top": null,
            "grid_column": null,
            "overflow_y": null,
            "overflow_x": null,
            "grid_auto_flow": null,
            "grid_area": null,
            "grid_template_columns": null,
            "flex": null,
            "_model_name": "LayoutModel",
            "justify_items": null,
            "grid_row": null,
            "max_height": null,
            "align_content": null,
            "visibility": null,
            "align_self": null,
            "height": null,
            "min_height": null,
            "padding": null,
            "grid_auto_rows": null,
            "grid_gap": null,
            "max_width": null,
            "order": null,
            "_view_module_version": "1.2.0",
            "grid_template_areas": null,
            "object_position": null,
            "object_fit": null,
            "grid_auto_columns": null,
            "margin": null,
            "display": null,
            "left": null
          }
        },
        "6f7525e128ae4da391e15710420ec513": {
          "model_module": "@jupyter-widgets/base",
          "model_name": "LayoutModel",
          "state": {
            "_view_name": "LayoutView",
            "grid_template_rows": null,
            "right": null,
            "justify_content": null,
            "_view_module": "@jupyter-widgets/base",
            "overflow": null,
            "_model_module_version": "1.2.0",
            "_view_count": null,
            "flex_flow": null,
            "width": null,
            "min_width": null,
            "border": null,
            "align_items": null,
            "bottom": null,
            "_model_module": "@jupyter-widgets/base",
            "top": null,
            "grid_column": null,
            "overflow_y": null,
            "overflow_x": null,
            "grid_auto_flow": null,
            "grid_area": null,
            "grid_template_columns": null,
            "flex": null,
            "_model_name": "LayoutModel",
            "justify_items": null,
            "grid_row": null,
            "max_height": null,
            "align_content": null,
            "visibility": null,
            "align_self": null,
            "height": null,
            "min_height": null,
            "padding": null,
            "grid_auto_rows": null,
            "grid_gap": null,
            "max_width": null,
            "order": null,
            "_view_module_version": "1.2.0",
            "grid_template_areas": null,
            "object_position": null,
            "object_fit": null,
            "grid_auto_columns": null,
            "margin": null,
            "display": null,
            "left": null
          }
        },
        "434df294e00540db9a1b46d59d8dc583": {
          "model_module": "@jupyter-widgets/controls",
          "model_name": "VBoxModel",
          "state": {
            "_view_name": "VBoxView",
            "_dom_classes": [
              "widget-interact"
            ],
            "_model_name": "VBoxModel",
            "_view_module": "@jupyter-widgets/controls",
            "_model_module_version": "1.5.0",
            "_view_count": null,
            "_view_module_version": "1.5.0",
            "box_style": "",
            "layout": "IPY_MODEL_c55e952032d44c86b0c2b63c832236a8",
            "_model_module": "@jupyter-widgets/controls",
            "children": [
              "IPY_MODEL_bf858a74150241a2b75c15fe0dc97efd",
              "IPY_MODEL_b765c215fcd14eb9b4f1da3c21326163"
            ]
          }
        },
        "c55e952032d44c86b0c2b63c832236a8": {
          "model_module": "@jupyter-widgets/base",
          "model_name": "LayoutModel",
          "state": {
            "_view_name": "LayoutView",
            "grid_template_rows": null,
            "right": null,
            "justify_content": null,
            "_view_module": "@jupyter-widgets/base",
            "overflow": null,
            "_model_module_version": "1.2.0",
            "_view_count": null,
            "flex_flow": null,
            "width": null,
            "min_width": null,
            "border": null,
            "align_items": null,
            "bottom": null,
            "_model_module": "@jupyter-widgets/base",
            "top": null,
            "grid_column": null,
            "overflow_y": null,
            "overflow_x": null,
            "grid_auto_flow": null,
            "grid_area": null,
            "grid_template_columns": null,
            "flex": null,
            "_model_name": "LayoutModel",
            "justify_items": null,
            "grid_row": null,
            "max_height": null,
            "align_content": null,
            "visibility": null,
            "align_self": null,
            "height": null,
            "min_height": null,
            "padding": null,
            "grid_auto_rows": null,
            "grid_gap": null,
            "max_width": null,
            "order": null,
            "_view_module_version": "1.2.0",
            "grid_template_areas": null,
            "object_position": null,
            "object_fit": null,
            "grid_auto_columns": null,
            "margin": null,
            "display": null,
            "left": null
          }
        },
        "bf858a74150241a2b75c15fe0dc97efd": {
          "model_module": "@jupyter-widgets/controls",
          "model_name": "FloatSliderModel",
          "state": {
            "_view_name": "FloatSliderView",
            "style": "IPY_MODEL_bd5cb3bd32e944fa9f7d49d6d3833ebb",
            "_dom_classes": [],
            "description": "r_init",
            "step": 0.02,
            "_model_name": "FloatSliderModel",
            "orientation": "horizontal",
            "max": 1,
            "_view_module": "@jupyter-widgets/controls",
            "_model_module_version": "1.5.0",
            "value": 0.12,
            "_view_count": null,
            "disabled": false,
            "_view_module_version": "1.5.0",
            "min": 0,
            "continuous_update": true,
            "readout_format": ".2f",
            "description_tooltip": null,
            "readout": true,
            "_model_module": "@jupyter-widgets/controls",
            "layout": "IPY_MODEL_785101f9caf44e6a8fed4865f0c04591"
          }
        },
        "b765c215fcd14eb9b4f1da3c21326163": {
          "model_module": "@jupyter-widgets/output",
          "model_name": "OutputModel",
          "state": {
            "_view_name": "OutputView",
            "msg_id": "",
            "_dom_classes": [],
            "_model_name": "OutputModel",
            "outputs": [
              {
                "output_type": "display_data",
                "metadata": {
                  "tags": [],
                  "image/png": {
                    "width": 558,
                    "height": 413
                  },
                  "needs_background": "light"
                },
                "image/png": "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\n",
                "text/plain": "<Figure size 576x432 with 1 Axes>"
              }
            ],
            "_view_module": "@jupyter-widgets/output",
            "_model_module_version": "1.0.0",
            "_view_count": null,
            "_view_module_version": "1.0.0",
            "layout": "IPY_MODEL_55597aae9ccb493c9c09b11272a32fac",
            "_model_module": "@jupyter-widgets/output"
          }
        },
        "bd5cb3bd32e944fa9f7d49d6d3833ebb": {
          "model_module": "@jupyter-widgets/controls",
          "model_name": "SliderStyleModel",
          "state": {
            "_view_name": "StyleView",
            "handle_color": null,
            "_model_name": "SliderStyleModel",
            "description_width": "",
            "_view_module": "@jupyter-widgets/base",
            "_model_module_version": "1.5.0",
            "_view_count": null,
            "_view_module_version": "1.2.0",
            "_model_module": "@jupyter-widgets/controls"
          }
        },
        "785101f9caf44e6a8fed4865f0c04591": {
          "model_module": "@jupyter-widgets/base",
          "model_name": "LayoutModel",
          "state": {
            "_view_name": "LayoutView",
            "grid_template_rows": null,
            "right": null,
            "justify_content": null,
            "_view_module": "@jupyter-widgets/base",
            "overflow": null,
            "_model_module_version": "1.2.0",
            "_view_count": null,
            "flex_flow": null,
            "width": null,
            "min_width": null,
            "border": null,
            "align_items": null,
            "bottom": null,
            "_model_module": "@jupyter-widgets/base",
            "top": null,
            "grid_column": null,
            "overflow_y": null,
            "overflow_x": null,
            "grid_auto_flow": null,
            "grid_area": null,
            "grid_template_columns": null,
            "flex": null,
            "_model_name": "LayoutModel",
            "justify_items": null,
            "grid_row": null,
            "max_height": null,
            "align_content": null,
            "visibility": null,
            "align_self": null,
            "height": null,
            "min_height": null,
            "padding": null,
            "grid_auto_rows": null,
            "grid_gap": null,
            "max_width": null,
            "order": null,
            "_view_module_version": "1.2.0",
            "grid_template_areas": null,
            "object_position": null,
            "object_fit": null,
            "grid_auto_columns": null,
            "margin": null,
            "display": null,
            "left": null
          }
        },
        "55597aae9ccb493c9c09b11272a32fac": {
          "model_module": "@jupyter-widgets/base",
          "model_name": "LayoutModel",
          "state": {
            "_view_name": "LayoutView",
            "grid_template_rows": null,
            "right": null,
            "justify_content": null,
            "_view_module": "@jupyter-widgets/base",
            "overflow": null,
            "_model_module_version": "1.2.0",
            "_view_count": null,
            "flex_flow": null,
            "width": null,
            "min_width": null,
            "border": null,
            "align_items": null,
            "bottom": null,
            "_model_module": "@jupyter-widgets/base",
            "top": null,
            "grid_column": null,
            "overflow_y": null,
            "overflow_x": null,
            "grid_auto_flow": null,
            "grid_area": null,
            "grid_template_columns": null,
            "flex": null,
            "_model_name": "LayoutModel",
            "justify_items": null,
            "grid_row": null,
            "max_height": null,
            "align_content": null,
            "visibility": null,
            "align_self": null,
            "height": null,
            "min_height": null,
            "padding": null,
            "grid_auto_rows": null,
            "grid_gap": null,
            "max_width": null,
            "order": null,
            "_view_module_version": "1.2.0",
            "grid_template_areas": null,
            "object_position": null,
            "object_fit": null,
            "grid_auto_columns": null,
            "margin": null,
            "display": null,
            "left": null
          }
        }
      }
    }
  },
  "cells": [
    {
      "cell_type": "markdown",
      "metadata": {
        "id": "view-in-github",
        "colab_type": "text"
      },
      "source": [
        "<a href=\"https://colab.research.google.com/github/wasita/course-content/blob/main/W2D4_Tutorial1.ipynb\" target=\"_parent\"><img src=\"https://colab.research.google.com/assets/colab-badge.svg\" alt=\"Open In Colab\"/></a>"
      ]
    },
    {
      "cell_type": "markdown",
      "metadata": {
        "execution": {},
        "id": "AMQpM39QNse0"
      },
      "source": [
        "# Tutorial 1: Neural Rate Models\n",
        "**Week 2, Day 4: Dynamic Networks**\n",
        "\n",
        "**By Neuromatch Academy**\n",
        "\n",
        "__Content creators:__ Qinglong Gu, Songtin Li, Arvind Kumar, John Murray, Julijana Gjorgjieva \n",
        "\n",
        "__Content reviewers:__  Maryam Vaziri-Pashkam, Ella Batty, Lorenzo Fontolan, Richard Gao, Spiros Chavlis, Michael Waskom, Siddharth Suresh"
      ]
    },
    {
      "cell_type": "markdown",
      "metadata": {
        "execution": {},
        "id": "P3lvuc_jNse2"
      },
      "source": [
        "**Our 2021 Sponsors, including Presenting Sponsor Facebook Reality Labs**\n",
        "\n",
        "<p align='center'><img src='https://github.com/NeuromatchAcademy/widgets/blob/master/sponsors.png?raw=True'/></p>"
      ]
    },
    {
      "cell_type": "markdown",
      "metadata": {
        "execution": {},
        "id": "4ue0qfI0Nse2"
      },
      "source": [
        "---\n",
        "# Tutorial Objectives\n",
        "\n",
        "*Estimated timing of tutorial: 1 hour, 25 minutes*\n",
        "\n",
        "The brain is a complex system, not because it is composed of a large number of diverse types of neurons, but mainly because of how neurons are connected to each other. The brain is indeed a network of highly specialized neuronal networks. \n",
        "\n",
        "The activity of a neural network constantly evolves in time. For this reason, neurons can be modeled as dynamical systems. The dynamical system approach is only one of the many modeling approaches that computational neuroscientists have developed (other points of view include information processing,  statistical models, etc.). \n",
        "\n",
        "How the dynamics of neuronal networks affect the representation and processing of information in the brain is an open question. However, signatures of altered brain dynamics present in many brain diseases (e.g., in epilepsy or Parkinson's disease) tell us that it is crucial to study network activity dynamics if we want to understand the brain.\n",
        "\n",
        "In this tutorial, we will simulate and study one of the simplest models of biological neuronal networks. Instead of modeling and simulating individual excitatory neurons (e.g., LIF models that you implemented yesterday), we will treat them as a single homogeneous population and approximate their dynamics using a single one-dimensional equation describing the evolution of their average spiking rate in time.\n",
        "\n",
        "In this tutorial, we will learn how to build a firing rate model of a single population of excitatory neurons. \n",
        "\n",
        "**Steps:**\n",
        "- Write the equation for the firing rate dynamics of a 1D excitatory population.\n",
        "- Visualize the response of the population as a function of parameters such as threshold level and gain, using the frequency-current (F-I) curve.\n",
        "- Numerically simulate the dynamics of the excitatory population and find the fixed points of the system. \n",
        "\n"
      ]
    },
    {
      "cell_type": "code",
      "metadata": {
        "cellView": "form",
        "execution": {},
        "id": "l2pfivciNse2"
      },
      "source": [
        "# @title Tutorial slides\n",
        "\n",
        "# @markdown These are the slides for the videos in all tutorials today\n",
        "from IPython.display import IFrame\n",
        "IFrame(src=f\"https://mfr.ca-1.osf.io/render?url=https://osf.io/nvuty/?direct%26mode=render%26action=download%26mode=render\", width=854, height=480)"
      ],
      "execution_count": null,
      "outputs": []
    },
    {
      "cell_type": "markdown",
      "metadata": {
        "execution": {},
        "id": "vpsf4X3RNse3"
      },
      "source": [
        "---\n",
        "# Setup"
      ]
    },
    {
      "cell_type": "code",
      "metadata": {
        "cellView": "both",
        "execution": {},
        "id": "-PAvkZscNse3"
      },
      "source": [
        "# Imports\n",
        "\n",
        "import matplotlib.pyplot as plt\n",
        "import numpy as np\n",
        "import scipy.optimize as opt       # root-finding algorithm"
      ],
      "execution_count": 1,
      "outputs": []
    },
    {
      "cell_type": "code",
      "metadata": {
        "cellView": "form",
        "execution": {},
        "id": "IkNM6KJkNse3"
      },
      "source": [
        "# @title Figure Settings\n",
        "import ipywidgets as widgets       # interactive display\n",
        "%config InlineBackend.figure_format = 'retina'\n",
        "plt.style.use(\"https://raw.githubusercontent.com/NeuromatchAcademy/course-content/master/nma.mplstyle\")"
      ],
      "execution_count": 2,
      "outputs": []
    },
    {
      "cell_type": "code",
      "metadata": {
        "cellView": "form",
        "execution": {},
        "id": "1G72ib9jNse3"
      },
      "source": [
        "# @title Plotting Functions\n",
        "\n",
        "\n",
        "def plot_fI(x, f):\n",
        "  plt.figure(figsize=(6, 4))  # plot the figure\n",
        "  plt.plot(x, f, 'k')\n",
        "  plt.xlabel('x (a.u.)', fontsize=14)\n",
        "  plt.ylabel('F(x)', fontsize=14)\n",
        "  plt.show()\n",
        "\n",
        "\n",
        "def plot_dr_r(r, drdt, x_fps=None):\n",
        "  plt.figure()\n",
        "  plt.plot(r, drdt, 'k')\n",
        "  plt.plot(r, 0. * r, 'k--')\n",
        "  if x_fps is not None:\n",
        "    plt.plot(x_fps, np.zeros_like(x_fps), \"ko\", ms=12)\n",
        "  plt.xlabel(r'$r$')\n",
        "  plt.ylabel(r'$\\frac{dr}{dt}$', fontsize=20)\n",
        "  plt.ylim(-0.1, 0.1)\n",
        "\n",
        "\n",
        "def plot_dFdt(x, dFdt):\n",
        "  plt.figure()\n",
        "  plt.plot(x, dFdt, 'r')\n",
        "  plt.xlabel('x (a.u.)', fontsize=14)\n",
        "  plt.ylabel('dF(x)', fontsize=14)\n",
        "  plt.show()"
      ],
      "execution_count": 3,
      "outputs": []
    },
    {
      "cell_type": "markdown",
      "metadata": {
        "execution": {},
        "id": "Ue14L9iMNse3"
      },
      "source": [
        "---\n",
        "# Section 1: Neuronal network dynamics"
      ]
    },
    {
      "cell_type": "code",
      "metadata": {
        "cellView": "form",
        "execution": {},
        "id": "zTuvNH7PNse4",
        "colab": {
          "base_uri": "https://localhost:8080/",
          "height": 580,
          "referenced_widgets": [
            "17225b98669f45d3812af9f622fc15c9",
            "5eb9b337abac4929a8e8cc7ec3eb720a",
            "cf5d9886209d419888d3987a4806cee9",
            "13b56c93578c47e4a47cd82d09873f75",
            "bd84e49c8bc44bf6a37f040a10e914ed",
            "8af3e1e1aa9a42bf9abebd7cdcb96654"
          ]
        },
        "outputId": "00054e83-dd4c-4ceb-f0be-ee55533d7afc"
      },
      "source": [
        "# @title Video 1: Dynamic networks\n",
        "from ipywidgets import widgets\n",
        "\n",
        "out2 = widgets.Output()\n",
        "with out2:\n",
        "  from IPython.display import IFrame\n",
        "  class BiliVideo(IFrame):\n",
        "      def __init__(self, id, page=1, width=400, height=300, **kwargs):\n",
        "          self.id=id\n",
        "          src = 'https://player.bilibili.com/player.html?bvid={0}&page={1}'.format(id, page)\n",
        "          super(BiliVideo, self).__init__(src, width, height, **kwargs)\n",
        "\n",
        "  video = BiliVideo(id=\"BV1dh411o7qJ\", width=854, height=480, fs=1)\n",
        "  print('Video available at https://www.bilibili.com/video/{0}'.format(video.id))\n",
        "  display(video)\n",
        "\n",
        "out1 = widgets.Output()\n",
        "with out1:\n",
        "  from IPython.display import YouTubeVideo\n",
        "  video = YouTubeVideo(id=\"p848349hPyw\", width=854, height=480, fs=1, rel=0)\n",
        "  print('Video available at https://youtube.com/watch?v=' + video.id)\n",
        "  display(video)\n",
        "\n",
        "out = widgets.Tab([out1, out2])\n",
        "out.set_title(0, 'Youtube')\n",
        "out.set_title(1, 'Bilibili')\n",
        "\n",
        "display(out)"
      ],
      "execution_count": 4,
      "outputs": [
        {
          "output_type": "display_data",
          "data": {
            "application/vnd.jupyter.widget-view+json": {
              "model_id": "17225b98669f45d3812af9f622fc15c9",
              "version_minor": 0,
              "version_major": 2
            },
            "text/plain": [
              "Tab(children=(Output(), Output()), _titles={'0': 'Youtube', '1': 'Bilibili'})"
            ]
          },
          "metadata": {
            "tags": []
          }
        }
      ]
    },
    {
      "cell_type": "markdown",
      "metadata": {
        "execution": {},
        "id": "_58xjpACNse4"
      },
      "source": [
        "This video covers how to model a network with a single population of neurons and introduces neural rate-based models. It overviews feedforward networks and defines the F-I (firing rate vs. input) curve."
      ]
    },
    {
      "cell_type": "markdown",
      "metadata": {
        "execution": {},
        "id": "3r9vt5MmNse4"
      },
      "source": [
        "## Section 1.1: Dynamics of a single excitatory population\n",
        "\n",
        "\n",
        "<details>\n",
        "<summary> <font color='blue'>Click here for text recap of relevant part of video </font></summary>\n",
        "\n",
        "Individual neurons respond by spiking. When we average the spikes of neurons in a population, we can define the average firing activity of the population. In this model, we are interested in how the population-averaged firing varies as a function of time and network parameters. Mathematically, we can describe the firing rate dynamic of a feed-forward network as:\n",
        "\n",
        "\\begin{align}\n",
        "\\tau \\frac{dr}{dt} &= -r + F(I_{\\text{ext}})  \\quad\\qquad (1)\n",
        "\\end{align}\n",
        "\n",
        "$r(t)$ represents the average firing rate of the excitatory population at time $t$, $\\tau$ controls the timescale of the evolution of the average firing rate, $I_{\\text{ext}}$ represents the external input, and the transfer function $F(\\cdot)$ (which can be related to f-I curve of individual neurons described in the next sections) represents the population activation function in response to all received inputs.\n",
        "\n",
        "</details>\n",
        "\n",
        "To start building the model, please execute the cell below to initialize the simulation parameters."
      ]
    },
    {
      "cell_type": "code",
      "metadata": {
        "cellView": "form",
        "execution": {},
        "id": "y4EXMEuENse4",
        "colab": {
          "base_uri": "https://localhost:8080/"
        },
        "outputId": "840bdc61-bb96-4704-e33c-7986440f8fc7"
      },
      "source": [
        "# @markdown *Execute this cell to set default parameters for a single excitatory population model*\n",
        "\n",
        "\n",
        "def default_pars_single(**kwargs):\n",
        "  pars = {}\n",
        "\n",
        "  # Excitatory parameters\n",
        "  pars['tau'] = 1.     # Timescale of the E population [ms]\n",
        "  pars['a'] = 1.2      # Gain of the E population\n",
        "  pars['theta'] = 2.8  # Threshold of the E population\n",
        "\n",
        "  # Connection strength\n",
        "  pars['w'] = 0.  # E to E, we first set it to 0\n",
        "\n",
        "  # External input\n",
        "  pars['I_ext'] = 0.\n",
        "\n",
        "  # simulation parameters\n",
        "  pars['T'] = 20.       # Total duration of simulation [ms]\n",
        "  pars['dt'] = .1       # Simulation time step [ms]\n",
        "  pars['r_init'] = 0.2  # Initial value of E\n",
        "\n",
        "  # External parameters if any\n",
        "  pars.update(kwargs)\n",
        "\n",
        "  # Vector of discretized time points [ms]\n",
        "  pars['range_t'] = np.arange(0, pars['T'], pars['dt'])\n",
        "\n",
        "  return pars\n",
        "\n",
        "pars = default_pars_single()\n",
        "print(pars)"
      ],
      "execution_count": 5,
      "outputs": [
        {
          "output_type": "stream",
          "text": [
            "{'tau': 1.0, 'a': 1.2, 'theta': 2.8, 'w': 0.0, 'I_ext': 0.0, 'T': 20.0, 'dt': 0.1, 'r_init': 0.2, 'range_t': array([ 0. ,  0.1,  0.2,  0.3,  0.4,  0.5,  0.6,  0.7,  0.8,  0.9,  1. ,\n",
            "        1.1,  1.2,  1.3,  1.4,  1.5,  1.6,  1.7,  1.8,  1.9,  2. ,  2.1,\n",
            "        2.2,  2.3,  2.4,  2.5,  2.6,  2.7,  2.8,  2.9,  3. ,  3.1,  3.2,\n",
            "        3.3,  3.4,  3.5,  3.6,  3.7,  3.8,  3.9,  4. ,  4.1,  4.2,  4.3,\n",
            "        4.4,  4.5,  4.6,  4.7,  4.8,  4.9,  5. ,  5.1,  5.2,  5.3,  5.4,\n",
            "        5.5,  5.6,  5.7,  5.8,  5.9,  6. ,  6.1,  6.2,  6.3,  6.4,  6.5,\n",
            "        6.6,  6.7,  6.8,  6.9,  7. ,  7.1,  7.2,  7.3,  7.4,  7.5,  7.6,\n",
            "        7.7,  7.8,  7.9,  8. ,  8.1,  8.2,  8.3,  8.4,  8.5,  8.6,  8.7,\n",
            "        8.8,  8.9,  9. ,  9.1,  9.2,  9.3,  9.4,  9.5,  9.6,  9.7,  9.8,\n",
            "        9.9, 10. , 10.1, 10.2, 10.3, 10.4, 10.5, 10.6, 10.7, 10.8, 10.9,\n",
            "       11. , 11.1, 11.2, 11.3, 11.4, 11.5, 11.6, 11.7, 11.8, 11.9, 12. ,\n",
            "       12.1, 12.2, 12.3, 12.4, 12.5, 12.6, 12.7, 12.8, 12.9, 13. , 13.1,\n",
            "       13.2, 13.3, 13.4, 13.5, 13.6, 13.7, 13.8, 13.9, 14. , 14.1, 14.2,\n",
            "       14.3, 14.4, 14.5, 14.6, 14.7, 14.8, 14.9, 15. , 15.1, 15.2, 15.3,\n",
            "       15.4, 15.5, 15.6, 15.7, 15.8, 15.9, 16. , 16.1, 16.2, 16.3, 16.4,\n",
            "       16.5, 16.6, 16.7, 16.8, 16.9, 17. , 17.1, 17.2, 17.3, 17.4, 17.5,\n",
            "       17.6, 17.7, 17.8, 17.9, 18. , 18.1, 18.2, 18.3, 18.4, 18.5, 18.6,\n",
            "       18.7, 18.8, 18.9, 19. , 19.1, 19.2, 19.3, 19.4, 19.5, 19.6, 19.7,\n",
            "       19.8, 19.9])}\n"
          ],
          "name": "stdout"
        }
      ]
    },
    {
      "cell_type": "markdown",
      "metadata": {
        "execution": {},
        "id": "F9OUoGv0Nse5"
      },
      "source": [
        "You can now use:\n",
        "- `pars = default_pars_single()` to get all the parameters. \n",
        "- `pars = default_pars_single(T=T_sim, dt=time_step)` to set new simulation time and time step\n",
        "- To update an existing parameter dictionary, use `pars['New_para'] = value`\n",
        "\n",
        "Because `pars` is a dictionary, it can be passed to a function that requires individual parameters as arguments using `my_func(**pars)` syntax."
      ]
    },
    {
      "cell_type": "markdown",
      "metadata": {
        "execution": {},
        "id": "wO0XjTGlNse5"
      },
      "source": [
        "## Section 1.2: F-I curves\n",
        "\n",
        "*Estimated timing to here from start of tutorial: 17 min*\n",
        "\n",
        "<details>\n",
        "<summary> <font color='blue'>Click here for text recap of relevant part of video </font></summary>\n",
        "\n",
        "In electrophysiology, a neuron is often characterized by its spike rate output in response to input currents. This is often called the **F-I** curve, denoting the output spike frequency (**F**) in response to different injected currents (**I**). We estimated this for an LIF neuron in yesterday's tutorial.\n",
        "\n",
        "The transfer function $F(\\cdot)$ in Equation $1$ represents the gain of the population as a function of the total input. The gain is often modeled as a sigmoidal function, i.e., more input drive leads to a nonlinear increase in the population firing rate. The output firing rate will eventually saturate for high input values. \n",
        "\n",
        "A sigmoidal $F(\\cdot)$ is parameterized by its gain $a$ and threshold $\\theta$.\n",
        "\n",
        "$$ F(x;a,\\theta) = \\frac{1}{1+\\text{e}^{-a(x-\\theta)}} - \\frac{1}{1+\\text{e}^{a\\theta}}  \\quad(2)$$\n",
        "\n",
        "The argument $x$ represents the input to the population. Note that the second term is chosen so that $F(0;a,\\theta)=0$.\n",
        "\n",
        "Many other transfer functions (generally monotonic) can be also used. Examples are the rectified linear function $ReLU(x)$ or the hyperbolic tangent $tanh(x)$."
      ]
    },
    {
      "cell_type": "markdown",
      "metadata": {
        "execution": {},
        "id": "Oxd4FZQ9Nse5"
      },
      "source": [
        "### Coding Exercise 1.2: Implement F-I curve \n",
        "\n",
        "Let's first investigate the activation functions before simulating the dynamics of the entire population. \n",
        "\n",
        "In this exercise, you will implement a sigmoidal **F-I** curve or transfer function $F(x)$, with gain $a$ and threshold level $\\theta$ as parameters:\n",
        "\n",
        "$$ F(x;a,\\theta) = \\frac{1}{1+\\text{e}^{-a(x-\\theta)}} - \\frac{1}{1+\\text{e}^{a\\theta}}$$"
      ]
    },
    {
      "cell_type": "code",
      "metadata": {
        "execution": {},
        "id": "Oc1n5y58Nse5",
        "colab": {
          "base_uri": "https://localhost:8080/",
          "height": 287
        },
        "outputId": "ec198c67-9ce3-443c-85c6-36ad47146b86"
      },
      "source": [
        "def F(x, a, theta):\n",
        "  \"\"\"\n",
        "  Population activation function.\n",
        "\n",
        "  Args:\n",
        "    x (float): the population input\n",
        "    a (float): the gain of the function\n",
        "    theta (float): the threshold of the function\n",
        "\n",
        "  Returns:\n",
        "    float: the population activation response F(x) for input x\n",
        "  \"\"\"\n",
        "  #################################################\n",
        "  ## TODO for students: compute f = F(x) ##\n",
        "  # Fill out function and remove\n",
        "  # raise NotImplementedError(\"Student excercise: implement the f-I function\")\n",
        "  #################################################\n",
        "\n",
        "  # Define the sigmoidal transfer function f = F(x)\n",
        "  # first attempt:\n",
        "  f = (1 / (1 + np.exp(-a * (x - theta)))) - (1 / (1 + np.exp(a * theta)))\n",
        "  # cleaner way via given solution:\n",
        "  # f = (1 + np.exp(-a * (x - theta)))**-1 - (1 + np.exp(a * theta))**-1\n",
        "\n",
        "  return f\n",
        "\n",
        "\n",
        "# Set parameters\n",
        "pars = default_pars_single()  # get default parameters\n",
        "x = np.arange(0, 10, .1)      # set the range of input\n",
        "\n",
        "# Compute transfer function\n",
        "f = F(x, pars['a'], pars['theta'])\n",
        "\n",
        "# Visualize\n",
        "plot_fI(x, f)"
      ],
      "execution_count": 13,
      "outputs": [
        {
          "output_type": "display_data",
          "data": {
            "image/png": "[encoded data removed]",
            "text/plain": [
              "<Figure size 432x288 with 1 Axes>"
            ]
          },
          "metadata": {
            "tags": [],
            "image/png": {
              "width": 413,
              "height": 270
            },
            "needs_background": "light"
          }
        }
      ]
    },
    {
      "cell_type": "markdown",
      "metadata": {
        "cellView": "both",
        "execution": {},
        "id": "DLAsElrLNse5"
      },
      "source": [
        "[*Click for solution*](https://github.com/NeuromatchAcademy/course-content/tree/master//tutorials/W2D4_DynamicNetworks/solutions/W2D4_Tutorial1_Solution_04e84428.py)\n",
        "\n",
        "*Example output:*\n",
        "\n",
        "<img alt='Solution hint' align='left' width=832.0 height=544.0 src=https://raw.githubusercontent.com/NeuromatchAcademy/course-content/master/tutorials/W2D4_DynamicNetworks/static/W2D4_Tutorial1_Solution_04e84428_0.png>\n",
        "\n"
      ]
    },
    {
      "cell_type": "markdown",
      "metadata": {
        "execution": {},
        "id": "NSmmkU52Nse5"
      },
      "source": [
        "### Interactive Demo 1.2 : Parameter exploration of F-I curve\n",
        "Here's an interactive demo that shows how the F-I curve changes for different values of the gain and threshold parameters. \n",
        "\n",
        "1. How does the gain parameter ($a$) affect the F-I curve?\n",
        "1. How does the threshold parameter ($\\theta$) affect the F-I curve?"
      ]
    },
    {
      "cell_type": "markdown",
      "metadata": {
        "id": "AS1gEXyyTf6h"
      },
      "source": [
        "1. Gain seems to affect saturation slopeness?\n",
        "2. Seems to affect at which x-value the line is steepest/saturates at?"
      ]
    },
    {
      "cell_type": "code",
      "metadata": {
        "colab": {
          "base_uri": "https://localhost:8080/",
          "height": 69
        },
        "id": "ObnIL8rFTuNE",
        "outputId": "87a5bb80-3fe1-4379-98ad-1966d3072abf"
      },
      "source": [
        "\n",
        "\"\"\"\n",
        "1)  a determines the slope (gain) of the rising phase of the F-I curve\n",
        "2) theta determines the input at which the function F(x) reaches its mid-value (0.5).\n",
        "That is, theta shifts the F-I curve along the horizontal axis.\n",
        "For our neurons we are using in this tutorial:\n",
        "- a controls the gain of the neuron population\n",
        "- theta controls the threshold at which the neuron population starts to respond\n",
        "\"\"\""
      ],
      "execution_count": 17,
      "outputs": [
        {
          "output_type": "execute_result",
          "data": {
            "application/vnd.google.colaboratory.intrinsic+json": {
              "type": "string"
            },
            "text/plain": [
              "'\\n1)  a determines the slope (gain) of the rising phase of the F-I curve\\n2) theta determines the input at which the function F(x) reaches its mid-value (0.5).\\nThat is, theta shifts the F-I curve along the horizontal axis.\\nFor our neurons we are using in this tutorial:\\n- a controls the gain of the neuron population\\n- theta controls the threshold at which the neuron population starts to respond\\n'"
            ]
          },
          "metadata": {
            "tags": []
          },
          "execution_count": 17
        }
      ]
    },
    {
      "cell_type": "code",
      "metadata": {
        "cellView": "form",
        "execution": {},
        "id": "YwfWy7eGNse6",
        "colab": {
          "base_uri": "https://localhost:8080/",
          "height": 494,
          "referenced_widgets": [
            "c2f14ffd64fe451d8d966002672a6637",
            "43d61c6fa09844f7b94e45409016f223",
            "571e14927c6946e68afc439570b8d1ee",
            "60cad99c70914936b6c336c6562e65e6",
            "c2563246e73e4279825b360f90ae183c",
            "a6634c79d83844e486d238ec521a5e52",
            "8c1ca570d87c4566aa2d67ebee090ce5",
            "969f891092994a44bb1b80367e610860",
            "89f72c66653c4f75874671ace2d13583",
            "3f6c4d2615574da5b03193c740e15a1a"
          ]
        },
        "outputId": "a0d353d8-7a9e-4a59-feba-0aa0f0b1aabf"
      },
      "source": [
        "# @title\n",
        "\n",
        "# @markdown Make sure you execute this cell to enable the widget!\n",
        "\n",
        "\n",
        "def interactive_plot_FI(a, theta):\n",
        "  \"\"\"\n",
        "  Population activation function.\n",
        "\n",
        "  Expecxts:\n",
        "    a     : the gain of the function\n",
        "    theta : the threshold of the function\n",
        "\n",
        "  Returns:\n",
        "    plot the F-I curve with give parameters\n",
        "  \"\"\"\n",
        "\n",
        "  # set the range of input\n",
        "  x = np.arange(0, 10, .1)\n",
        "  plt.figure()\n",
        "  plt.plot(x, F(x, a, theta), 'k')\n",
        "  plt.xlabel('x (a.u.)', fontsize=14)\n",
        "  plt.ylabel('F(x)', fontsize=14)\n",
        "  plt.show()\n",
        "\n",
        "\n",
        "_ = widgets.interact(interactive_plot_FI, a=(0.3, 3, 0.3), theta=(2, 4, 0.2))"
      ],
      "execution_count": 15,
      "outputs": [
        {
          "output_type": "display_data",
          "data": {
            "application/vnd.jupyter.widget-view+json": {
              "model_id": "c2f14ffd64fe451d8d966002672a6637",
              "version_minor": 0,
              "version_major": 2
            },
            "text/plain": [
              "interactive(children=(FloatSlider(value=1.5, description='a', max=3.0, min=0.3, step=0.3), FloatSlider(value=3…"
            ]
          },
          "metadata": {
            "tags": []
          }
        }
      ]
    },
    {
      "cell_type": "markdown",
      "metadata": {
        "execution": {},
        "id": "NFnaqLWfNse6"
      },
      "source": [
        "[*Click for solution*](https://github.com/NeuromatchAcademy/course-content/tree/master//tutorials/W2D4_DynamicNetworks/solutions/W2D4_Tutorial1_Solution_89e4146a.py)\n",
        "\n"
      ]
    },
    {
      "cell_type": "markdown",
      "metadata": {
        "execution": {},
        "id": "ME-Bru6DNse6"
      },
      "source": [
        "## Section 1.3: Simulation scheme of E dynamics\n",
        "\n",
        "*Estimated timing to here from start of tutorial: 27 min*\n",
        "\n",
        "Because $F(\\cdot)$ is a nonlinear function, the exact solution of our differential equation of population activity can not be determined via analytical methods. As we have seen before, we can use numerical methods, specifically the Euler method, to find the solution (that is, simulate the population activity).\n",
        "\n"
      ]
    },
    {
      "cell_type": "code",
      "metadata": {
        "cellView": "form",
        "execution": {},
        "id": "__eWmehTNse6",
        "colab": {
          "base_uri": "https://localhost:8080/"
        },
        "outputId": "a52cd7c1-2e3b-4c42-8933-55433cde8b34"
      },
      "source": [
        "# @markdown *Execute this cell to enable the single population rate model simulator: `simulate_single`*\n",
        "\n",
        "\n",
        "def simulate_single(pars):\n",
        "  \"\"\"\n",
        "  Simulate an excitatory population of neurons\n",
        "\n",
        "  Args:\n",
        "    pars   : Parameter dictionary\n",
        "\n",
        "  Returns:\n",
        "    rE     : Activity of excitatory population (array)\n",
        "\n",
        "  Example:\n",
        "    pars = default_pars_single()\n",
        "    r = simulate_single(pars)\n",
        "  \"\"\"\n",
        "\n",
        "  # Set parameters\n",
        "  tau, a, theta = pars['tau'], pars['a'], pars['theta']\n",
        "  w = pars['w']\n",
        "  I_ext = pars['I_ext']\n",
        "  r_init = pars['r_init']\n",
        "  dt, range_t = pars['dt'], pars['range_t']\n",
        "  Lt = range_t.size\n",
        "\n",
        "  # Initialize activity\n",
        "  r = np.zeros(Lt)\n",
        "  r[0] = r_init\n",
        "  I_ext = I_ext * np.ones(Lt)\n",
        "\n",
        "  # Update the E activity\n",
        "  for k in range(Lt - 1):\n",
        "      dr = dt / tau * (-r[k] + F(w * r[k] + I_ext[k], a, theta))\n",
        "      r[k+1] = r[k] + dr\n",
        "\n",
        "  return r\n",
        "\n",
        "help(simulate_single)"
      ],
      "execution_count": 18,
      "outputs": [
        {
          "output_type": "stream",
          "text": [
            "Help on function simulate_single in module __main__:\n",
            "\n",
            "simulate_single(pars)\n",
            "    Simulate an excitatory population of neurons\n",
            "    \n",
            "    Args:\n",
            "      pars   : Parameter dictionary\n",
            "    \n",
            "    Returns:\n",
            "      rE     : Activity of excitatory population (array)\n",
            "    \n",
            "    Example:\n",
            "      pars = default_pars_single()\n",
            "      r = simulate_single(pars)\n",
            "\n"
          ],
          "name": "stdout"
        }
      ]
    },
    {
      "cell_type": "markdown",
      "metadata": {
        "execution": {},
        "id": "savkFrPzNse6"
      },
      "source": [
        "### Interactive Demo 1.3: Parameter Exploration of single population dynamics\n",
        "\n",
        "Explore these dynamics of the population activity in this interactive demo.\n",
        "\n",
        "1.  How does $r_{\\text{sim}}(t)$ change with different $I_{\\text{ext}}$ values? \n",
        "2.  How does it change with different $\\tau$ values? \n",
        "\n",
        "\n",
        "Note that, $r_{\\rm ana}(t)$ denotes the analytical solution - you will learn how this is computed in the next section."
      ]
    },
    {
      "cell_type": "markdown",
      "metadata": {
        "id": "qrZGU6fgUqQG"
      },
      "source": [
        "\"\"\"\n",
        "1) Weak inputs to the neurons eventually result in the activity converging to zero.\n",
        " Strong inputs to the neurons eventually result in the activity converging to max value\n",
        "2) The time constant tau, does not affect the final response reached but it determines\n",
        "the time the neurons take to reach to their fixed point.\n",
        "\"\"\";"
      ]
    },
    {
      "cell_type": "code",
      "metadata": {
        "cellView": "form",
        "execution": {},
        "id": "peL59dhDNse6",
        "colab": {
          "base_uri": "https://localhost:8080/",
          "height": 494,
          "referenced_widgets": [
            "1dbc3bc8467944e1855fd6bfa2f55dfb",
            "3d89baceed0c4e8ab8db5d145b39b59e",
            "40938b57dc184cdda352adb48b43c1da",
            "68d11414d329439bbda9b74547afaf54",
            "79c08b0848a64ec383ec6b48a7de042a",
            "e50189a0091d41d1b5b69016541a6f80",
            "3be9ffbbe4c542509e7f3b3d8e6c42e9",
            "f8efddd9535742b386a0806173e2c209",
            "5242b0d1dbc94e33b97785a5f18ce56f",
            "2039d739dde44ebc8abc195cdb8e9250"
          ]
        },
        "outputId": "b6ada53d-a04c-4804-c848-b9af0eac1187"
      },
      "source": [
        "# @title\n",
        "\n",
        "# @markdown Make sure you execute this cell to enable the widget!\n",
        "\n",
        "# get default parameters\n",
        "pars = default_pars_single(T=20.)\n",
        "\n",
        "\n",
        "def Myplot_E_diffI_difftau(I_ext, tau):\n",
        "  # set external input and time constant\n",
        "  pars['I_ext'] = I_ext\n",
        "  pars['tau'] = tau\n",
        "\n",
        "  # simulation\n",
        "  r = simulate_single(pars)\n",
        "\n",
        "  # Analytical Solution\n",
        "  r_ana = (pars['r_init']\n",
        "           + (F(I_ext, pars['a'], pars['theta'])\n",
        "           - pars['r_init']) * (1. - np.exp(-pars['range_t'] / pars['tau'])))\n",
        "\n",
        "  # plot\n",
        "  plt.figure()\n",
        "  plt.plot(pars['range_t'], r, 'b', label=r'$r_{\\mathrm{sim}}$(t)', alpha=0.5,\n",
        "           zorder=1)\n",
        "  plt.plot(pars['range_t'], r_ana, 'b--', lw=5, dashes=(2, 2),\n",
        "           label=r'$r_{\\mathrm{ana}}$(t)', zorder=2)\n",
        "  plt.plot(pars['range_t'],\n",
        "           F(I_ext, pars['a'], pars['theta']) * np.ones(pars['range_t'].size),\n",
        "           'k--', label=r'$F(I_{\\mathrm{ext}})$')\n",
        "  plt.xlabel('t (ms)', fontsize=16.)\n",
        "  plt.ylabel('Activity r(t)', fontsize=16.)\n",
        "  plt.legend(loc='best', fontsize=14.)\n",
        "  plt.show()\n",
        "\n",
        "\n",
        "_ = widgets.interact(Myplot_E_diffI_difftau, I_ext=(0.0, 10., 1.),\n",
        "                     tau=(1., 5., 0.2))"
      ],
      "execution_count": 19,
      "outputs": [
        {
          "output_type": "display_data",
          "data": {
            "application/vnd.jupyter.widget-view+json": {
              "model_id": "1dbc3bc8467944e1855fd6bfa2f55dfb",
              "version_minor": 0,
              "version_major": 2
            },
            "text/plain": [
              "interactive(children=(FloatSlider(value=5.0, description='I_ext', max=10.0, step=1.0), FloatSlider(value=3.0, …"
            ]
          },
          "metadata": {
            "tags": []
          }
        }
      ]
    },
    {
      "cell_type": "markdown",
      "metadata": {
        "execution": {},
        "id": "gqRiaWjvNse6"
      },
      "source": [
        "[*Click for solution*](https://github.com/NeuromatchAcademy/course-content/tree/master//tutorials/W2D4_DynamicNetworks/solutions/W2D4_Tutorial1_Solution_44a82c10.py)\n",
        "\n"
      ]
    },
    {
      "cell_type": "markdown",
      "metadata": {
        "execution": {},
        "id": "D24gEzjPNse6"
      },
      "source": [
        "## Think! 1.3: Finite activities\n",
        "\n",
        "Above, we have numerically solved a system driven by a positive input. Yet, $r_E(t)$ either decays to zero or reaches a fixed non-zero value.\n",
        "\n",
        "1. Why doesn't the solution of the system \"explode\" in a finite time? In other words, what guarantees that $r_E$(t) stays finite? \n",
        "2. Which parameter would you change in order to increase the maximum value of the response? "
      ]
    },
    {
      "cell_type": "markdown",
      "metadata": {
        "id": "o4h4UTyFUy4s"
      },
      "source": [
        "**1) As the F-I curve is bounded between zero and one, the system doesn't explode. The f-curve guarantees this property\n",
        "\n",
        "2) One way to increase the maximum response is to change the f-I curve. For\n",
        "example, the ReLU is an unbounded function, and thus will increase the overall maximal\n",
        "response of the network.**"
      ]
    },
    {
      "cell_type": "markdown",
      "metadata": {
        "execution": {},
        "id": "bgl0wCv7Nse6"
      },
      "source": [
        "[*Click for solution*](https://github.com/NeuromatchAcademy/course-content/tree/master//tutorials/W2D4_DynamicNetworks/solutions/W2D4_Tutorial1_Solution_86ae968b.py)\n",
        "\n"
      ]
    },
    {
      "cell_type": "markdown",
      "metadata": {
        "execution": {},
        "id": "7vBvGHG-Nse6"
      },
      "source": [
        "---\n",
        "# Section 2: Fixed points of the single population system\n",
        "\n",
        "*Estimated timing to here from start of tutorial: 45 min*\n"
      ]
    },
    {
      "cell_type": "markdown",
      "metadata": {
        "execution": {},
        "id": "j8chd8A3Nse7"
      },
      "source": [
        "## Section 2.1: Finding fixed points"
      ]
    },
    {
      "cell_type": "code",
      "metadata": {
        "cellView": "form",
        "execution": {},
        "id": "k3N1IoZ2Nse7",
        "colab": {
          "base_uri": "https://localhost:8080/",
          "height": 580,
          "referenced_widgets": [
            "131e42c6a13741929ccd11a71a8db7d6",
            "36a1c0a1e82843dd90b324429a086c9a",
            "0177558dae7243458c13aa0dc6db5e0f",
            "8d0e16c93267462f9f34e6d3a72bbc1a",
            "263804187793405b8b29e2e9244161fa",
            "9f40a936a4aa4ffca092ca7e7ed24ca1"
          ]
        },
        "outputId": "7e6db521-e6d5-4b3a-ac54-cbab69e2fa31"
      },
      "source": [
        "# @title Video 2: Fixed point\n",
        "from ipywidgets import widgets\n",
        "\n",
        "out2 = widgets.Output()\n",
        "with out2:\n",
        "  from IPython.display import IFrame\n",
        "  class BiliVideo(IFrame):\n",
        "      def __init__(self, id, page=1, width=400, height=300, **kwargs):\n",
        "          self.id=id\n",
        "          src = 'https://player.bilibili.com/player.html?bvid={0}&page={1}'.format(id, page)\n",
        "          super(BiliVideo, self).__init__(src, width, height, **kwargs)\n",
        "\n",
        "  video = BiliVideo(id=\"BV1v54y1v7Gr\", width=854, height=480, fs=1)\n",
        "  print('Video available at https://www.bilibili.com/video/{0}'.format(video.id))\n",
        "  display(video)\n",
        "\n",
        "out1 = widgets.Output()\n",
        "with out1:\n",
        "  from IPython.display import YouTubeVideo\n",
        "  video = YouTubeVideo(id=\"Ox3ELd1UFyo\", width=854, height=480, fs=1, rel=0)\n",
        "  print('Video available at https://youtube.com/watch?v=' + video.id)\n",
        "  display(video)\n",
        "\n",
        "out = widgets.Tab([out1, out2])\n",
        "out.set_title(0, 'Youtube')\n",
        "out.set_title(1, 'Bilibili')\n",
        "\n",
        "display(out)"
      ],
      "execution_count": 20,
      "outputs": [
        {
          "output_type": "display_data",
          "data": {
            "application/vnd.jupyter.widget-view+json": {
              "model_id": "131e42c6a13741929ccd11a71a8db7d6",
              "version_minor": 0,
              "version_major": 2
            },
            "text/plain": [
              "Tab(children=(Output(), Output()), _titles={'0': 'Youtube', '1': 'Bilibili'})"
            ]
          },
          "metadata": {
            "tags": []
          }
        }
      ]
    },
    {
      "cell_type": "markdown",
      "metadata": {
        "execution": {},
        "id": "_n6-gZ9BNse7"
      },
      "source": [
        "This video introduces recurrent networks and how to derive their fixed points. It also introduces vector fields and phase planes in one dimension.\n",
        "\n",
        "<details>\n",
        "<summary> <font color='blue'>Click here for text recap of video </font></summary>\n",
        "\n",
        "We can now extend our feed-forward network to a recurrent network, governed by the equation:\n",
        "\n",
        "\\begin{align}\n",
        "\\tau \\frac{dr}{dt} &= -r + F(w\\cdot r + I_{\\text{ext}})  \\quad\\qquad (3)\n",
        "\\end{align}\n",
        " where as before, $r(t)$ represents the average firing rate of the excitatory population at time $t$, $\\tau$ controls the timescale of the evolution of the average firing rate, $I_{\\text{ext}}$ represents the external input, and the transfer function $F(\\cdot)$ (which can be related to f-I curve of individual neurons described in the next sections) represents the population activation function in response to all received inputs. Now we also have $w$ which denotes the strength (synaptic weight) of the recurrent input to the population.\n",
        "\n",
        "As you varied the two parameters in the last Interactive Demo, you noticed that, while at first the system output quickly changes, with time, it reaches its maximum/minimum value and does not change anymore. The value eventually reached by the system is called the **steady state** of the system, or the **fixed point**. Essentially, in the steady states the derivative with respect to time of the activity ($r$) is zero, i.e. $\\displaystyle \\frac{dr}{dt}=0$. \n",
        "\n",
        "We can find that the steady state of the Equation. (1) by setting $\\displaystyle{\\frac{dr}{dt}=0}$ and solve for $r$:\n",
        "\n",
        "$$-r_{\\text{steady}} + F(w\\cdot r_{\\text{steady}} + I_{\\text{ext}};a,\\theta) = 0, \\qquad (4)$$\n",
        "\n",
        "When it exists, the solution of Equation. (4) defines a **fixed point** of the dynamical system in Equation (3). Note that if $F(x)$ is nonlinear, it is not always possible to find an analytical solution, but the solution can be found via numerical simulations, as we will do later.\n",
        "\n",
        "From the Interactive Demo, one could also notice that the value of $\\tau$ influences how quickly the activity will converge to the steady state from its initial value. \n",
        "\n",
        "In the specific case of $w=0$, we can also analytically compute  the solution of Equation (1) (i.e., the thick blue dashed line) and deduce the role of $\\tau$ in determining the convergence to the fixed point: \n",
        "\n",
        "$$\\displaystyle{r(t) = \\big{[}F(I_{\\text{ext}};a,\\theta) -r(t=0)\\big{]} (1-\\text{e}^{-\\frac{t}{\\tau}})} + r(t=0)$$ \\\\\n",
        "\n",
        "We can now numerically calculate the fixed point with a root finding algorithm."
      ]
    },
    {
      "cell_type": "markdown",
      "metadata": {
        "execution": {},
        "id": "MGJd8FfENse7"
      },
      "source": [
        "### Coding Exercise 2.1.1: Visualization of the fixed points\n",
        "\n",
        "When it is not possible to find the solution for Equation (3) analytically, a graphical approach can be taken. To that end, it is useful to plot $\\displaystyle{\\frac{dr}{dt}}$ as a function of $r$. The values of $r$ for which the plotted function crosses zero on the y axis correspond to fixed points. \n",
        "\n",
        "Here, let us, for example, set $w=5.0$ and $I^{\\text{ext}}=0.5$. From Equation (3), you can obtain\n",
        "\n",
        "$$\\frac{dr}{dt} = [-r + F(w\\cdot r + I^{\\text{ext}})]\\,/\\,\\tau $$\n",
        "\n",
        "Then, plot the $dr/dt$ as a function of $r$, and check for the presence of fixed points. "
      ]
    },
    {
      "cell_type": "code",
      "metadata": {
        "execution": {},
        "id": "o9FPzOETNse7",
        "colab": {
          "base_uri": "https://localhost:8080/",
          "height": 430
        },
        "outputId": "f8e9d4b3-a4ef-411c-dee4-44db421764c7"
      },
      "source": [
        "def compute_drdt(r, I_ext, w, a, theta, tau, **other_pars):\n",
        "  \"\"\"Given parameters, compute dr/dt as a function of r.\n",
        "\n",
        "  Args:\n",
        "    r (1D array) : Average firing rate of the excitatory population\n",
        "    I_ext, w, a, theta, tau (numbers): Simulation parameters to use\n",
        "    other_pars : Other simulation parameters are unused by this function\n",
        "\n",
        "  Returns\n",
        "    drdt function for each value of r\n",
        "  \"\"\"\n",
        "  #########################################################################\n",
        "  # TODO compute drdt and disable the error\n",
        "  # raise NotImplementedError(\"Finish the compute_drdt function\")\n",
        "  #########################################################################\n",
        "\n",
        "  # Calculate drdt\n",
        "  # F(x, a, theta)\n",
        "  # not x = w * r * I_ext\n",
        "  drdt = ((-1 * r) + F(w * r + I_ext, a, theta)) / tau\n",
        "\n",
        "  return drdt\n",
        "\n",
        "\n",
        "# Define a vector of r values and the simulation parameters\n",
        "r = np.linspace(0, 1, 1000)\n",
        "pars = default_pars_single(I_ext=0.5, w=5)\n",
        "\n",
        "# Compute dr/dt\n",
        "drdt = compute_drdt(r, **pars)\n",
        "\n",
        "# Visualize\n",
        "plot_dr_r(r, drdt)"
      ],
      "execution_count": 49,
      "outputs": [
        {
          "output_type": "display_data",
          "data": {
            "image/png": "[encoded data removed]",
            "text/plain": [
              "<Figure size 576x432 with 1 Axes>"
            ]
          },
          "metadata": {
            "tags": [],
            "image/png": {
              "width": 558,
              "height": 413
            },
            "needs_background": "light"
          }
        }
      ]
    },
    {
      "cell_type": "markdown",
      "metadata": {
        "execution": {},
        "id": "jey9MFlINse7"
      },
      "source": [
        "[*Click for solution*](https://github.com/NeuromatchAcademy/course-content/tree/master//tutorials/W2D4_DynamicNetworks/solutions/W2D4_Tutorial1_Solution_c4108be6.py)\n",
        "\n",
        "*Example output:*\n",
        "\n",
        "<img alt='Solution hint' align='left' width=1116.0 height=827.0 src=https://raw.githubusercontent.com/NeuromatchAcademy/course-content/master/tutorials/W2D4_DynamicNetworks/static/W2D4_Tutorial1_Solution_c4108be6_0.png>\n",
        "\n"
      ]
    },
    {
      "cell_type": "markdown",
      "metadata": {
        "execution": {},
        "id": "u81z_PrPNse7"
      },
      "source": [
        "### Coding Exercise 2.1.2: Numerical calculution of fixed points\n",
        "\n",
        "We will now find the fixed points numerically. To do so, we need to specify initial values ($r_{\\text{guess}}$) for the root-finding algorithm to start from. From the line $\\displaystyle{\\frac{dr}{dt}}$ plotted above in the last exercise, initial values can be chosen as a set of values close to where the line crosses zero on the y axis (real fixed point).\n",
        "\n",
        "The next cell defines three helper functions that we will use:\n",
        "\n",
        "- `my_fp_single(r_guess, **pars)` uses a root-finding algorithm to locate a fixed point near a given initial value\n",
        "- `check_fp_single(x_fp, **pars)` verifies that the values of $r_{\\rm fp}$ for which $\\displaystyle{\\frac{dr}{dt}} = 0$ are the true fixed points\n",
        "- `my_fp_finder(r_guess_vector, **pars)` accepts an array of initial values and finds the same number of fixed points, using the above two functions"
      ]
    },
    {
      "cell_type": "code",
      "metadata": {
        "cellView": "form",
        "execution": {},
        "id": "cr4J_te8Nse7",
        "colab": {
          "base_uri": "https://localhost:8080/"
        },
        "outputId": "26dae9cd-cc96-41fa-d872-7a386de85ee0"
      },
      "source": [
        "# @markdown *Execute this cell to enable the fixed point functions*\n",
        "\n",
        "def my_fp_single(r_guess, a, theta, w, I_ext, **other_pars):\n",
        "  \"\"\"\n",
        "  Calculate the fixed point through drE/dt=0\n",
        "\n",
        "  Args:\n",
        "    r_guess  : Initial value used for scipy.optimize function\n",
        "    a, theta, w, I_ext : simulation parameters\n",
        "\n",
        "  Returns:\n",
        "    x_fp    : value of fixed point\n",
        "  \"\"\"\n",
        "  # define the right hand of E dynamics\n",
        "  def my_WCr(x):\n",
        "    r = x\n",
        "    drdt = (-r + F(w * r + I_ext, a, theta))\n",
        "    y = np.array(drdt)\n",
        "\n",
        "    return y\n",
        "\n",
        "  x0 = np.array(r_guess)\n",
        "  x_fp = opt.root(my_WCr, x0).x.item()\n",
        "\n",
        "  return x_fp\n",
        "\n",
        "\n",
        "def check_fp_single(x_fp, a, theta, w, I_ext, mytol=1e-4, **other_pars):\n",
        "  \"\"\"\n",
        "   Verify |dr/dt| < mytol\n",
        "\n",
        "  Args:\n",
        "    fp      : value of fixed point\n",
        "    a, theta, w, I_ext: simulation parameters\n",
        "    mytol   : tolerance, default as 10^{-4}\n",
        "\n",
        "  Returns :\n",
        "    Whether it is a correct fixed point: True/False\n",
        "  \"\"\"\n",
        "  # calculate Equation(3)\n",
        "  y = x_fp - F(w * x_fp + I_ext, a, theta)\n",
        "\n",
        "  # Here we set tolerance as 10^{-4}\n",
        "  return np.abs(y) < mytol\n",
        "\n",
        "\n",
        "def my_fp_finder(pars, r_guess_vector, mytol=1e-4):\n",
        "  \"\"\"\n",
        "  Calculate the fixed point(s) through drE/dt=0\n",
        "\n",
        "  Args:\n",
        "    pars    : Parameter dictionary\n",
        "    r_guess_vector  : Initial values used for scipy.optimize function\n",
        "    mytol   : tolerance for checking fixed point, default as 10^{-4}\n",
        "\n",
        "  Returns:\n",
        "    x_fps   : values of fixed points\n",
        "\n",
        "  \"\"\"\n",
        "  x_fps = []\n",
        "  correct_fps = []\n",
        "  for r_guess in r_guess_vector:\n",
        "    x_fp = my_fp_single(r_guess, **pars)\n",
        "    if check_fp_single(x_fp, **pars, mytol=mytol):\n",
        "      x_fps.append(x_fp)\n",
        "\n",
        "  return x_fps\n",
        "\n",
        "help(my_fp_finder)"
      ],
      "execution_count": 24,
      "outputs": [
        {
          "output_type": "stream",
          "text": [
            "Help on function my_fp_finder in module __main__:\n",
            "\n",
            "my_fp_finder(pars, r_guess_vector, mytol=0.0001)\n",
            "    Calculate the fixed point(s) through drE/dt=0\n",
            "    \n",
            "    Args:\n",
            "      pars    : Parameter dictionary\n",
            "      r_guess_vector  : Initial values used for scipy.optimize function\n",
            "      mytol   : tolerance for checking fixed point, default as 10^{-4}\n",
            "    \n",
            "    Returns:\n",
            "      x_fps   : values of fixed points\n",
            "\n"
          ],
          "name": "stdout"
        }
      ]
    },
    {
      "cell_type": "code",
      "metadata": {
        "execution": {},
        "id": "LhQhol8sNse7",
        "colab": {
          "base_uri": "https://localhost:8080/",
          "height": 430
        },
        "outputId": "690bc541-1bf9-4805-dc77-9b619a90fc2f"
      },
      "source": [
        "# Set parameters\n",
        "r = np.linspace(0, 1, 1000)\n",
        "pars = default_pars_single(I_ext=0.5, w=5)\n",
        "\n",
        "# Compute dr/dt\n",
        "drdt = compute_drdt(r, **pars)\n",
        "\n",
        "#############################################################################\n",
        "# TODO for students:\n",
        "# Define initial values close to the intersections of drdt and y=0\n",
        "# (How many initial values? Hint: How many times do the two lines intersect?)\n",
        "# Calculate the fixed point with these initial values and plot them\n",
        "# raise NotImplementedError('student_exercise: find fixed points numerically')\n",
        "#############################################################################\n",
        "\n",
        "# Initial guesses for fixed points\n",
        "r_guess_vector = [0.5] # eventually settles to where the line crosses 0 i.e. flips signs/direction\n",
        "\n",
        "r_guess_vector = [0, 0.4, 0.9]\n",
        "\n",
        "# Find fixed point numerically\n",
        "x_fps = my_fp_finder(pars, r_guess_vector)\n",
        "\n",
        "# Visualize\n",
        "plot_dr_r(r, drdt, x_fps)"
      ],
      "execution_count": 50,
      "outputs": [
        {
          "output_type": "display_data",
          "data": {
            "image/png": "[encoded data removed]",
            "text/plain": [
              "<Figure size 576x432 with 1 Axes>"
            ]
          },
          "metadata": {
            "tags": [],
            "image/png": {
              "width": 558,
              "height": 413
            },
            "needs_background": "light"
          }
        }
      ]
    },
    {
      "cell_type": "markdown",
      "metadata": {
        "execution": {},
        "id": "aMiZGYiGNse7"
      },
      "source": [
        "[*Click for solution*](https://github.com/NeuromatchAcademy/course-content/tree/master//tutorials/W2D4_DynamicNetworks/solutions/W2D4_Tutorial1_Solution_1c599fac.py)\n",
        "\n",
        "*Example output:*\n",
        "\n",
        "<img alt='Solution hint' align='left' width=1116.0 height=827.0 src=https://raw.githubusercontent.com/NeuromatchAcademy/course-content/master/tutorials/W2D4_DynamicNetworks/static/W2D4_Tutorial1_Solution_1c599fac_0.png>\n",
        "\n"
      ]
    },
    {
      "cell_type": "markdown",
      "metadata": {
        "execution": {},
        "id": "r7PlCtTANse8"
      },
      "source": [
        "### Interactive Demo 2.1: fixed points as a function of recurrent and external inputs.\n",
        "\n",
        "You can now explore how the previous plot changes when the recurrent coupling $w$ and the external input $I_{\\text{ext}}$ take different values. How does the number of fixed points change?"
      ]
    },
    {
      "cell_type": "code",
      "metadata": {
        "execution": {},
        "id": "O41KawtaNse8",
        "colab": {
          "base_uri": "https://localhost:8080/",
          "height": 494,
          "referenced_widgets": [
            "3cce14d1675c4dac920ba1fa9f10a505",
            "477378ea588645cba87f488625c6a78f",
            "e41c9145d37d497cbab2ae35478629ab",
            "958d96337065405a8be2d3a0c78b11c7",
            "1c7f570f5fd340e7b499c78b5dfbbef0",
            "2436503bc8ef462d8e5b0d1c95f60094",
            "1708dd5a33144df583836355f446cbb4",
            "69fbeba0977545c7a395a373dd37c483",
            "1e1ef5e31a7e44cdb296677d7753f118",
            "6f7525e128ae4da391e15710420ec513"
          ]
        },
        "outputId": "afc93021-545e-41f4-f89e-10161096fe3f"
      },
      "source": [
        "# @title\n",
        "\n",
        "# @markdown Make sure you execute this cell to enable the widget!\n",
        "\n",
        "\n",
        "def plot_intersection_single(w, I_ext):\n",
        "  # set your parameters\n",
        "  pars = default_pars_single(w=w, I_ext=I_ext)\n",
        "\n",
        "  # find fixed points\n",
        "  r_init_vector = [0, .4, .9]\n",
        "  x_fps = my_fp_finder(pars, r_init_vector)\n",
        "\n",
        "  # plot\n",
        "  r = np.linspace(0, 1., 1000)\n",
        "  drdt = (-r + F(w * r + I_ext, pars['a'], pars['theta'])) / pars['tau']\n",
        "\n",
        "  plot_dr_r(r, drdt, x_fps)\n",
        "\n",
        "_ = widgets.interact(plot_intersection_single, w=(-1, 7, 0.2),\n",
        "                     I_ext=(0, 3, 0.1))"
      ],
      "execution_count": 48,
      "outputs": [
        {
          "output_type": "display_data",
          "data": {
            "application/vnd.jupyter.widget-view+json": {
              "model_id": "3cce14d1675c4dac920ba1fa9f10a505",
              "version_minor": 0,
              "version_major": 2
            },
            "text/plain": [
              "interactive(children=(FloatSlider(value=3.0, description='w', max=7.0, min=-1.0, step=0.2), FloatSlider(value=…"
            ]
          },
          "metadata": {
            "tags": []
          }
        }
      ]
    },
    {
      "cell_type": "code",
      "metadata": {
        "id": "-g9toFlmcMi1"
      },
      "source": [
        "# The fixed points of the single excitatory neuron population are determined by both\n",
        "# recurrent connections w and external input I_ext. In a previous interactive demo\n",
        "# we saw how the system showed two different steady-states when w = 0. But when w\n",
        "# doe not equal 0, for some range of w the system shows three fixed points and the\n",
        "# steady state depends on the initial conditions (i.e.\n",
        "# r at time zero.).\n"
      ],
      "execution_count": 38,
      "outputs": []
    },
    {
      "cell_type": "markdown",
      "metadata": {
        "execution": {},
        "id": "ZPsH4u6RNse8"
      },
      "source": [
        "[*Click for solution*](https://github.com/NeuromatchAcademy/course-content/tree/master//tutorials/W2D4_DynamicNetworks/solutions/W2D4_Tutorial1_Solution_39f3d710.py)\n",
        "\n"
      ]
    },
    {
      "cell_type": "markdown",
      "metadata": {
        "execution": {},
        "id": "EjDmurNWNse8"
      },
      "source": [
        "## Section 2.2: Relationship between trajectories & fixed points\n",
        "\n",
        "Let's examine the relationship between the population activity over time and the fixed points.\n",
        "\n",
        "Here, let us first set $w=5.0$ and $I_{\\text{ext}}=0.5$, and investigate the dynamics of $r(t)$ starting with different initial values $r(0) \\equiv r_{\\text{init}}$. "
      ]
    },
    {
      "cell_type": "code",
      "metadata": {
        "cellView": "form",
        "execution": {},
        "id": "_sTNIC_UNse8",
        "colab": {
          "base_uri": "https://localhost:8080/",
          "height": 430
        },
        "outputId": "860c7b37-1c05-4afa-ce16-f1aafec8d915"
      },
      "source": [
        "# @markdown Execute to visualize dr/dt\n",
        "\n",
        "def plot_intersection_single(w, I_ext):\n",
        "  # set your parameters\n",
        "  pars = default_pars_single(w=w, I_ext=I_ext)\n",
        "\n",
        "  # find fixed points\n",
        "  r_init_vector = [0, .4, .9]\n",
        "  x_fps = my_fp_finder(pars, r_init_vector)\n",
        "\n",
        "  # plot\n",
        "  r = np.linspace(0, 1., 1000)\n",
        "  drdt = (-r + F(w * r + I_ext, pars['a'], pars['theta'])) / pars['tau']\n",
        "\n",
        "  plot_dr_r(r, drdt, x_fps)\n",
        "\n",
        "plot_intersection_single(w = 5.0, I_ext = 0.5)"
      ],
      "execution_count": 40,
      "outputs": [
        {
          "output_type": "display_data",
          "data": {
            "image/png": "[encoded data removed]",
            "text/plain": [
              "<Figure size 576x432 with 1 Axes>"
            ]
          },
          "metadata": {
            "tags": [],
            "image/png": {
              "width": 558,
              "height": 413
            },
            "needs_background": "light"
          }
        }
      ]
    },
    {
      "cell_type": "markdown",
      "metadata": {
        "execution": {},
        "id": "r-t4Uu0sNse8"
      },
      "source": [
        "### Interactive Demo 2.2: dynamics as a function of the initial value\n",
        "\n",
        "Let's now set $r_{\\rm init}$ to a value of your choice in this demo. How does the solution change? What do you observe? How does that relate to the previous plot of $\\frac{dr}{dt}$?"
      ]
    },
    {
      "cell_type": "markdown",
      "metadata": {
        "id": "hve7Rvs3c3uz"
      },
      "source": [
        "note: around above init r of 0.45 do i see system going towards 1 instead of towards 0"
      ]
    },
    {
      "cell_type": "code",
      "metadata": {
        "cellView": "form",
        "execution": {},
        "id": "C48bdA8yNse8",
        "colab": {
          "base_uri": "https://localhost:8080/",
          "height": 462,
          "referenced_widgets": [
            "434df294e00540db9a1b46d59d8dc583",
            "c55e952032d44c86b0c2b63c832236a8",
            "bf858a74150241a2b75c15fe0dc97efd",
            "b765c215fcd14eb9b4f1da3c21326163",
            "bd5cb3bd32e944fa9f7d49d6d3833ebb",
            "785101f9caf44e6a8fed4865f0c04591",
            "55597aae9ccb493c9c09b11272a32fac"
          ]
        },
        "outputId": "3eb4b2b6-ea43-41fd-80ca-e63bf0c030f1"
      },
      "source": [
        "# @markdown Make sure you execute this cell to enable the widget!\n",
        "\n",
        "pars = default_pars_single(w=5.0, I_ext=0.5)\n",
        "\n",
        "def plot_single_diffEinit(r_init):\n",
        "  pars['r_init'] = r_init\n",
        "  r = simulate_single(pars)\n",
        "\n",
        "  plt.figure()\n",
        "  plt.plot(pars['range_t'], r, 'b', zorder=1)\n",
        "  plt.plot(0, r[0], 'bo', alpha=0.7, zorder=2)\n",
        "  plt.xlabel('t (ms)', fontsize=16)\n",
        "  plt.ylabel(r'$r(t)$', fontsize=16)\n",
        "  plt.ylim(0, 1.0)\n",
        "  plt.show()\n",
        "\n",
        "\n",
        "_ = widgets.interact(plot_single_diffEinit, r_init=(0, 1, 0.02))"
      ],
      "execution_count": 41,
      "outputs": [
        {
          "output_type": "display_data",
          "data": {
            "application/vnd.jupyter.widget-view+json": {
              "model_id": "434df294e00540db9a1b46d59d8dc583",
              "version_minor": 0,
              "version_major": 2
            },
            "text/plain": [
              "interactive(children=(FloatSlider(value=0.0, description='r_init', max=1.0, step=0.02), Output()), _dom_classe…"
            ]
          },
          "metadata": {
            "tags": []
          }
        }
      ]
    },
    {
      "cell_type": "code",
      "metadata": {
        "id": "IunD5_MocflJ"
      },
      "source": [
        "# There are three fixed points of the system for these values of\n",
        "# w and I_ext. Choose the initial value in this demo and see in which direction\n",
        "# the system output moves. When r_init is in the vicinity of the leftmost fixed points\n",
        "# it moves towards the left most fixed point. When r_init is in the vicinity of the\n",
        "# rightmost fixed points it moves towards the rightmost fixed point."
      ],
      "execution_count": 42,
      "outputs": []
    },
    {
      "cell_type": "markdown",
      "metadata": {
        "execution": {},
        "id": "SedcWKABNse8"
      },
      "source": [
        "[*Click for solution*](https://github.com/NeuromatchAcademy/course-content/tree/master//tutorials/W2D4_DynamicNetworks/solutions/W2D4_Tutorial1_Solution_c73e9caf.py)\n",
        "\n"
      ]
    },
    {
      "cell_type": "markdown",
      "metadata": {
        "execution": {},
        "id": "CXEUldafNse8"
      },
      "source": [
        "We will plot the trajectories of $r(t)$ with $r_{\\text{init}} = 0.0, 0.1, 0.2,..., 0.9$."
      ]
    },
    {
      "cell_type": "code",
      "metadata": {
        "cellView": "form",
        "execution": {},
        "id": "RBtYHAivNse8",
        "colab": {
          "base_uri": "https://localhost:8080/",
          "height": 358
        },
        "outputId": "f376be70-ecc0-4e94-bbb3-c48a3a2d0902"
      },
      "source": [
        "# @markdown Execute this cell to see the trajectories!\n",
        "\n",
        "pars = default_pars_single()\n",
        "pars['w'] = 5.0\n",
        "pars['I_ext'] = 0.5\n",
        "\n",
        "plt.figure(figsize=(8, 5))\n",
        "for ie in range(10):\n",
        "  pars['r_init'] = 0.1 * ie  # set the initial value\n",
        "  r = simulate_single(pars)  # run the simulation\n",
        "\n",
        "  # plot the activity with given initial\n",
        "  plt.plot(pars['range_t'], r, 'b', alpha=0.1 + 0.1 * ie,\n",
        "           label=r'r$_{\\mathrm{init}}$=%.1f' % (0.1 * ie))\n",
        "\n",
        "plt.xlabel('t (ms)')\n",
        "plt.title('Two steady states?')\n",
        "plt.ylabel(r'$r$(t)')\n",
        "plt.legend(loc=[1.01, -0.06], fontsize=14)\n",
        "plt.show()"
      ],
      "execution_count": 43,
      "outputs": [
        {
          "output_type": "display_data",
          "data": {
            "image/png": "[encoded data removed]",
            "text/plain": [
              "<Figure size 576x360 with 1 Axes>"
            ]
          },
          "metadata": {
            "tags": [],
            "image/png": {
              "width": 557,
              "height": 341
            },
            "needs_background": "light"
          }
        }
      ]
    },
    {
      "cell_type": "markdown",
      "metadata": {
        "execution": {},
        "id": "DyZRXNupNse8"
      },
      "source": [
        "We have three fixed points but only two steady states showing up - what's happening? \n",
        "\n",
        "It turns out that the stability of the fixed points matters. If a fixed point is stable, a trajectory starting near that fixed point will stay close to that fixed point and converge to it (the steady state will equal the fixed point). If a fixed point is unstable, any trajectories starting close to it will diverge and go towards stable fixed points. In fact, the only way for a trajectory to reach a stable state at an unstable fixed point is if the initial value **exactly** equals the value of the fixed point.\n",
        "\n"
      ]
    },
    {
      "cell_type": "markdown",
      "metadata": {
        "execution": {},
        "id": "_KF2oBW8Nse8"
      },
      "source": [
        "### Think! 2.2: Stable vs unstable fixed points\n",
        "\n",
        "Which of the fixed points for the model we've been examining in this section are stable vs unstable?"
      ]
    },
    {
      "cell_type": "code",
      "metadata": {
        "cellView": "form",
        "execution": {},
        "id": "35DBsBhANse8",
        "colab": {
          "base_uri": "https://localhost:8080/"
        },
        "outputId": "f8214d81-917c-424f-d56c-5f782a333dba"
      },
      "source": [
        "# @markdown Execute to print fixed point values\n",
        "\n",
        "# Initial guesses for fixed points\n",
        "r_guess_vector = [0, .4, .9]\n",
        "\n",
        "# Find fixed point numerically\n",
        "x_fps = my_fp_finder(pars, r_guess_vector)\n",
        "\n",
        "print(f'Our fixed points are {x_fps}')"
      ],
      "execution_count": 44,
      "outputs": [
        {
          "output_type": "stream",
          "text": [
            "Our fixed points are [0.04153669901331739, 0.4471192240898344, 0.8997171538560865]\n"
          ],
          "name": "stdout"
        }
      ]
    },
    {
      "cell_type": "markdown",
      "metadata": {
        "id": "O81D3KYwdRKk"
      },
      "source": [
        "\n",
        "There are three fixed points of the system for these values of\n",
        "w and I_ext. Choose the initial value in this demo and see in which direction\n",
        "the system output moves. When r_init is in the vicinity of the leftmost fixed points\n",
        "it moves towards the left most fixed point. When r_init is in the vicinity of the\n",
        "rightmost fixed points it moves towards the rightmost fixed point.\n",
        "\"\"\";"
      ]
    },
    {
      "cell_type": "markdown",
      "metadata": {
        "execution": {},
        "id": "zZF3TXePNse9"
      },
      "source": [
        "[*Click for solution*](https://github.com/NeuromatchAcademy/course-content/tree/master//tutorials/W2D4_DynamicNetworks/solutions/W2D4_Tutorial1_Solution_3d44c9a3.py)\n",
        "\n"
      ]
    },
    {
      "cell_type": "markdown",
      "metadata": {
        "execution": {},
        "id": "66dYStFKNse9"
      },
      "source": [
        "We can simulate the trajectory if we start at the unstable fixed point: you can see that it remains at that fixed point (the red line below)."
      ]
    },
    {
      "cell_type": "code",
      "metadata": {
        "cellView": "form",
        "execution": {},
        "id": "HUy4wZvONse9",
        "colab": {
          "base_uri": "https://localhost:8080/",
          "height": 358
        },
        "outputId": "5015204e-4b94-4d52-fc60-47c79f585dd7"
      },
      "source": [
        "# @markdown Execute to visualize trajectory starting at unstable fixed point\n",
        "pars = default_pars_single()\n",
        "pars['w'] = 5.0\n",
        "pars['I_ext'] = 0.5\n",
        "\n",
        "plt.figure(figsize=(8, 5))\n",
        "for ie in range(10):\n",
        "  pars['r_init'] = 0.1 * ie  # set the initial value\n",
        "  r = simulate_single(pars)  # run the simulation\n",
        "\n",
        "  # plot the activity with given initial\n",
        "  plt.plot(pars['range_t'], r, 'b', alpha=0.1 + 0.1 * ie,\n",
        "           label=r'r$_{\\mathrm{init}}$=%.1f' % (0.1 * ie))\n",
        "\n",
        "pars['r_init'] = x_fps[1]  # set the initial value\n",
        "r = simulate_single(pars)  # run the simulation\n",
        "\n",
        "# plot the activity with given initial\n",
        "plt.plot(pars['range_t'], r, 'r', alpha=0.1 + 0.1 * ie,\n",
        "          label=r'r$_{\\mathrm{init}}$=%.4f' % (x_fps[1]))\n",
        "\n",
        "plt.xlabel('t (ms)')\n",
        "plt.title('Two steady states?')\n",
        "plt.ylabel(r'$r$(t)')\n",
        "plt.legend(loc=[1.01, -0.06], fontsize=14)\n",
        "plt.show()"
      ],
      "execution_count": 45,
      "outputs": [
        {
          "output_type": "display_data",
          "data": {
            "image/png": "[encoded data removed]",
            "text/plain": [
              "<Figure size 576x360 with 1 Axes>"
            ]
          },
          "metadata": {
            "tags": [],
            "image/png": {
              "width": 557,
              "height": 341
            },
            "needs_background": "light"
          }
        }
      ]
    },
    {
      "cell_type": "markdown",
      "metadata": {
        "execution": {},
        "id": "zAJSLNxoNse9"
      },
      "source": [
        "See Bonus Section 1 to cover how to determine the stability of fixed points in a quantitative way."
      ]
    },
    {
      "cell_type": "markdown",
      "metadata": {
        "execution": {},
        "id": "jv-kPmbBNse9"
      },
      "source": [
        "## Think! 2: Inhibitory populations\n",
        "\n",
        "Throughout the tutorial, we have assumed $w> 0 $, i.e., we considered a single population of **excitatory** neurons. What do you think will be the behavior of a population of inhibitory neurons, i.e., where $w> 0$ is replaced by $w< 0$? "
      ]
    },
    {
      "cell_type": "markdown",
      "metadata": {
        "id": "SieIHW3tdi_R"
      },
      "source": [
        "You can check this by going back the interactive demo 2.1 and set the\n",
        "weight to w<0. You will notice that the system has only one fixed point and that\n",
        "is at zero value. For this particular dynamics, the system will eventually converge\n",
        "to zero. But try it out!"
      ]
    },
    {
      "cell_type": "markdown",
      "metadata": {
        "execution": {},
        "id": "ZNxZCgnUNse9"
      },
      "source": [
        "[*Click for solution*](https://github.com/NeuromatchAcademy/course-content/tree/master//tutorials/W2D4_DynamicNetworks/solutions/W2D4_Tutorial1_Solution_f3418e5f.py)\n",
        "\n"
      ]
    },
    {
      "cell_type": "markdown",
      "metadata": {
        "execution": {},
        "id": "puqEQiOwNse9"
      },
      "source": [
        "---\n",
        "# Summary\n",
        "\n",
        "*Estimated timing of tutorial: 1 hour, 25 minutes*\n",
        "\n",
        "In this tutorial, we have investigated the dynamics of a rate-based single population of neurons.\n",
        "\n",
        "We learned about:\n",
        "- The effect of the input parameters and the time constant of the network on the dynamics of the population.\n",
        "- How to find the fixed point(s) of the system.\n",
        "\n",
        "We build on these concepts in the bonus material - check it out if you have time. You will learn:\n",
        "\n",
        "- How to determine the stability of a fixed point by linearizing the system.\n",
        "- How to add realistic inputs to our model."
      ]
    },
    {
      "cell_type": "markdown",
      "metadata": {
        "execution": {},
        "id": "loyy7DUvNse9"
      },
      "source": [
        "---\n",
        "# Bonus"
      ]
    },
    {
      "cell_type": "markdown",
      "metadata": {
        "execution": {},
        "id": "m4XtnULnNse9"
      },
      "source": [
        "---\n",
        "## Bonus Section 1: Stability analysis via linearization of the dynamics"
      ]
    },
    {
      "cell_type": "code",
      "metadata": {
        "cellView": "form",
        "execution": {},
        "id": "HndWeKXsNse9"
      },
      "source": [
        "# @title Video 3: Stability of fixed points\n",
        "from ipywidgets import widgets\n",
        "\n",
        "out2 = widgets.Output()\n",
        "with out2:\n",
        "  from IPython.display import IFrame\n",
        "  class BiliVideo(IFrame):\n",
        "      def __init__(self, id, page=1, width=400, height=300, **kwargs):\n",
        "          self.id=id\n",
        "          src = 'https://player.bilibili.com/player.html?bvid={0}&page={1}'.format(id, page)\n",
        "          super(BiliVideo, self).__init__(src, width, height, **kwargs)\n",
        "\n",
        "  video = BiliVideo(id=\"BV1oA411e7eg\", width=854, height=480, fs=1)\n",
        "  print('Video available at https://www.bilibili.com/video/{0}'.format(video.id))\n",
        "  display(video)\n",
        "\n",
        "out1 = widgets.Output()\n",
        "with out1:\n",
        "  from IPython.display import YouTubeVideo\n",
        "  video = YouTubeVideo(id=\"KKMlWWU83Jg\", width=854, height=480, fs=1, rel=0)\n",
        "  print('Video available at https://youtube.com/watch?v=' + video.id)\n",
        "  display(video)\n",
        "\n",
        "out = widgets.Tab([out1, out2])\n",
        "out.set_title(0, 'Youtube')\n",
        "out.set_title(1, 'Bilibili')\n",
        "\n",
        "display(out)"
      ],
      "execution_count": null,
      "outputs": []
    },
    {
      "cell_type": "markdown",
      "metadata": {
        "execution": {},
        "id": "3oTDojKXNse9"
      },
      "source": [
        "Here we will dive into the math of how to figure out the stability of a fixed point.\n",
        "\n",
        "\n",
        "Just like in our equation for the feedforward network, a generic linear system \n",
        "$$\\frac{dx}{dt} = \\lambda (x - b),$$ \n",
        "has a fixed point for $x=b$. The analytical solution of such a system can be found to be:\n",
        "$$x(t) = b + \\big{(} x(0) - b \\big{)} \\text{e}^{\\lambda t}.$$ \n",
        "Now consider a small perturbation of the activity around the fixed point: $x(0) = b+ \\epsilon$, where $|\\epsilon| \\ll 1$. Will the perturbation $\\epsilon(t)$ grow with time or will it decay to the fixed point? The evolution of the perturbation with time can be written, using the analytical solution for $x(t)$, as:\n",
        " $$\\epsilon (t) = x(t) - b = \\epsilon \\text{e}^{\\lambda t}$$\n",
        "\n",
        "- if $\\lambda < 0$, $\\epsilon(t)$ decays to zero, $x(t)$ will still converge to $b$ and the fixed point is \"**stable**\".\n",
        "\n",
        "- if $\\lambda > 0$, $\\epsilon(t)$ grows with time, $x(t)$ will leave the fixed point $b$ exponentially, and the fixed point is, therefore, \"**unstable**\" ."
      ]
    },
    {
      "cell_type": "markdown",
      "metadata": {
        "execution": {},
        "id": "pB_1W6HSNse9"
      },
      "source": [
        "Similar to what we did in the linear system above, in order to determine the stability of a fixed point $r^{*}$ of the excitatory population dynamics, we perturb Equation (1) around $r^{*}$ by $\\epsilon$, i.e. $r = r^{*} + \\epsilon$. We can plug in Equation (1) and obtain the equation determining the time evolution of the perturbation $\\epsilon(t)$:\n",
        "\n",
        "\\begin{align}\n",
        "\\tau \\frac{d\\epsilon}{dt} \\approx -\\epsilon + w F'(w\\cdot r^{*} + I_{\\text{ext}};a,\\theta) \\epsilon \n",
        "\\end{align}\n",
        "\n",
        "where $F'(\\cdot)$ is the derivative of the transfer function $F(\\cdot)$. We can rewrite the above equation as:\n",
        "\n",
        "\\begin{align}\n",
        "\\frac{d\\epsilon}{dt} \\approx \\frac{\\epsilon}{\\tau }[-1 + w F'(w\\cdot r^* + I_{\\text{ext}};a,\\theta)] \n",
        "\\end{align}\n",
        "\n",
        "That is, as in the linear system above, the value of\n",
        "\n",
        "$$\\lambda = [-1+ wF'(w\\cdot r^* + I_{\\text{ext}};a,\\theta)]/\\tau \\qquad (4)$$\n",
        "\n",
        "determines whether the perturbation will grow or decay to zero, i.e., $\\lambda$ defines the stability of the fixed point. This value is called the **eigenvalue** of the dynamical system."
      ]
    },
    {
      "cell_type": "markdown",
      "metadata": {
        "execution": {},
        "id": "wb4UvUlsNse9"
      },
      "source": [
        "The derivative of the sigmoid transfer function is:\n",
        "\\begin{align} \n",
        "\\frac{dF}{dx} & = \\frac{d}{dx} (1+\\exp\\{-a(x-\\theta)\\})^{-1}  \\\\\n",
        "& = a\\exp\\{-a(x-\\theta)\\} (1+\\exp\\{-a(x-\\theta)\\})^{-2}. \\qquad (5)\n",
        "\\end{align}\n",
        "\n",
        "We provide a helper function `dF` which computes this derivative."
      ]
    },
    {
      "cell_type": "code",
      "metadata": {
        "cellView": "form",
        "execution": {},
        "id": "d0i08xZ4Nse-"
      },
      "source": [
        "# @markdown Execute this cell to enable helper function `dF` and visualize derivative\n",
        "\n",
        "def dF(x, a, theta):\n",
        "  \"\"\"\n",
        "  Population activation function.\n",
        "\n",
        "  Args:\n",
        "    x     : the population input\n",
        "    a     : the gain of the function\n",
        "    theta : the threshold of the function\n",
        "\n",
        "  Returns:\n",
        "    dFdx  : the population activation response F(x) for input x\n",
        "  \"\"\"\n",
        "\n",
        "  # Calculate the population activation\n",
        "  dFdx = a * np.exp(-a * (x - theta)) * (1 + np.exp(-a * (x - theta)))**-2\n",
        "\n",
        "  return dFdx\n",
        "\n",
        "# Set parameters\n",
        "pars = default_pars_single()  # get default parameters\n",
        "x = np.arange(0, 10, .1)      # set the range of input\n",
        "\n",
        "# Compute derivative of transfer function\n",
        "df = dF(x, pars['a'], pars['theta'])\n",
        "\n",
        "# Visualize\n",
        "plot_dFdt(x, df)"
      ],
      "execution_count": null,
      "outputs": []
    },
    {
      "cell_type": "markdown",
      "metadata": {
        "execution": {},
        "id": "RyjaJaC3Nse-"
      },
      "source": [
        "### Bonus Coding Exercise 1: Compute eigenvalues\n",
        "\n",
        "As discussed above, for the case with $w=5.0$ and $I_{\\text{ext}}=0.5$, the system displays **three** fixed points. However, when we simulated the dynamics and varied the initial conditions $r_{\\rm init}$, we could only obtain **two** steady states. In this exercise, we will now check the stability of each of the three fixed points by calculating the corresponding eigenvalues with the function `eig_single`. Check the sign of each eigenvalue (i.e., stability of each fixed point). How many of the fixed points are stable?\n",
        "\n",
        "Note that the expression of the eigenvalue at fixed point $r^*$\n",
        "$$\\lambda = [-1+ wF'(w\\cdot r^* + I_{\\text{ext}};a,\\theta)]/\\tau$$"
      ]
    },
    {
      "cell_type": "code",
      "metadata": {
        "execution": {},
        "id": "Flfbyy_cNse-"
      },
      "source": [
        "def eig_single(fp, tau, a, theta, w, I_ext, **other_pars):\n",
        "  \"\"\"\n",
        "  Args:\n",
        "    fp   : fixed point r_fp\n",
        "    tau, a, theta, w, I_ext : Simulation parameters\n",
        "\n",
        "  Returns:\n",
        "    eig : eigevalue of the linearized system\n",
        "  \"\"\"\n",
        "  #####################################################################\n",
        "  ## TODO for students: compute eigenvalue and disable the error\n",
        "  raise NotImplementedError(\"Student excercise: compute the eigenvalue\")\n",
        "  ######################################################################\n",
        "  # Compute the eigenvalue\n",
        "  eig = ...\n",
        "\n",
        "  return eig\n",
        "\n",
        "\n",
        "# Find the eigenvalues for all fixed points\n",
        "pars = default_pars_single(w=5, I_ext=.5)\n",
        "r_guess_vector = [0, .4, .9]\n",
        "x_fp = my_fp_finder(pars, r_guess_vector)\n",
        "\n",
        "\n",
        "for fp in x_fp:\n",
        "  eig_fp = eig_single(fp, **pars)\n",
        "  print(f'Fixed point1 at {fp:.3f} with Eigenvalue={eig_fp:.3f}')"
      ],
      "execution_count": null,
      "outputs": []
    },
    {
      "cell_type": "markdown",
      "metadata": {
        "execution": {},
        "id": "YHEnWbZkNse-"
      },
      "source": [
        "[*Click for solution*](https://github.com/NeuromatchAcademy/course-content/tree/master//tutorials/W2D4_DynamicNetworks/solutions/W2D4_Tutorial1_Solution_dda11dcc.py)\n",
        "\n"
      ]
    },
    {
      "cell_type": "markdown",
      "metadata": {
        "execution": {},
        "id": "5cycYsO-Nse-"
      },
      "source": [
        "**SAMPLE OUTPUT**\n",
        "\n",
        "```\n",
        "Fixed point1 at 0.042 with Eigenvalue=-0.583\n",
        "Fixed point2 at 0.447 with Eigenvalue=0.498\n",
        "Fixed point3 at 0.900 with Eigenvalue=-0.626\n",
        "```"
      ]
    },
    {
      "cell_type": "markdown",
      "metadata": {
        "execution": {},
        "id": "iMcZkci1Nse-"
      },
      "source": [
        "We can see that the first and third fixed points are stable (negative eigenvalues) and the second is unstable (positive eigenvalue) - as we expected!"
      ]
    },
    {
      "cell_type": "markdown",
      "metadata": {
        "execution": {},
        "id": "2ToO0O-4Nse-"
      },
      "source": [
        "---\n",
        "## Bonus Section 2: Noisy input drives the transition between two stable states"
      ]
    },
    {
      "cell_type": "markdown",
      "metadata": {
        "execution": {},
        "id": "Mtap2vtlNse-"
      },
      "source": [
        "As discussed in several previous tutorials, the Ornstein-Uhlenbeck (OU) process is usually used to generate a noisy input into the neuron. The OU input $\\eta(t)$ follows: \n",
        "\n",
        "$$\\tau_\\eta \\frac{d}{dt}\\eta(t) = -\\eta (t) + \\sigma_\\eta\\sqrt{2\\tau_\\eta}\\xi(t)$$\n",
        "\n",
        "Execute the following function `my_OU(pars, sig, myseed=False)` to generate an OU process."
      ]
    },
    {
      "cell_type": "code",
      "metadata": {
        "cellView": "form",
        "execution": {},
        "id": "m1V6dDDQNse-"
      },
      "source": [
        "# @markdown Execute to get helper function `my_OU` and visualize OU process\n",
        "\n",
        "\n",
        "def my_OU(pars, sig, myseed=False):\n",
        "  \"\"\"\n",
        "  A functions that generates Ornstein-Uhlenback process\n",
        "\n",
        "  Args:\n",
        "    pars       : parameter dictionary\n",
        "    sig        : noise amplitute\n",
        "    myseed     : random seed. int or boolean\n",
        "\n",
        "  Returns:\n",
        "    I          : Ornstein-Uhlenbeck input current\n",
        "  \"\"\"\n",
        "\n",
        "  # Retrieve simulation parameters\n",
        "  dt, range_t = pars['dt'], pars['range_t']\n",
        "  Lt = range_t.size\n",
        "  tau_ou = pars['tau_ou']  # [ms]\n",
        "\n",
        "  # set random seed\n",
        "  if myseed:\n",
        "      np.random.seed(seed=myseed)\n",
        "  else:\n",
        "      np.random.seed()\n",
        "\n",
        "  # Initialize\n",
        "  noise = np.random.randn(Lt)\n",
        "  I_ou = np.zeros(Lt)\n",
        "  I_ou[0] = noise[0] * sig\n",
        "\n",
        "  # generate OU\n",
        "  for it in range(Lt - 1):\n",
        "    I_ou[it + 1] = (I_ou[it]\n",
        "                    + dt / tau_ou * (0. - I_ou[it])\n",
        "                    + np.sqrt(2 * dt / tau_ou) * sig * noise[it + 1])\n",
        "\n",
        "  return I_ou\n",
        "\n",
        "\n",
        "pars = default_pars_single(T=100)\n",
        "pars['tau_ou'] = 1.  # [ms]\n",
        "sig_ou = 0.1\n",
        "I_ou = my_OU(pars, sig=sig_ou, myseed=2020)\n",
        "plt.figure(figsize=(10, 4))\n",
        "plt.plot(pars['range_t'], I_ou, 'r')\n",
        "plt.xlabel('t (ms)')\n",
        "plt.ylabel(r'$I_{\\mathrm{OU}}$')\n",
        "plt.show()"
      ],
      "execution_count": null,
      "outputs": []
    },
    {
      "cell_type": "markdown",
      "metadata": {
        "execution": {},
        "id": "azmNe-xuNse-"
      },
      "source": [
        "In the presence of two or more fixed points, noisy inputs can drive a transition between the fixed points! Here, we stimulate an E population for 1,000 ms applying OU inputs."
      ]
    },
    {
      "cell_type": "code",
      "metadata": {
        "cellView": "form",
        "execution": {},
        "id": "hZf6EWa1Nse-"
      },
      "source": [
        "# @markdown Execute this cell to simulate E population with OU inputs\n",
        "\n",
        "pars = default_pars_single(T=1000)\n",
        "pars['w'] = 5.0\n",
        "sig_ou = 0.7\n",
        "pars['tau_ou'] = 1.  # [ms]\n",
        "pars['I_ext'] = 0.56 + my_OU(pars, sig=sig_ou, myseed=2020)\n",
        "\n",
        "r = simulate_single(pars)\n",
        "\n",
        "plt.figure(figsize=(10, 4))\n",
        "plt.plot(pars['range_t'], r, 'b', alpha=0.8)\n",
        "plt.xlabel('t (ms)')\n",
        "plt.ylabel(r'$r(t)$')\n",
        "plt.show()"
      ],
      "execution_count": null,
      "outputs": []
    },
    {
      "cell_type": "markdown",
      "metadata": {
        "execution": {},
        "id": "Q4hECKAONse-"
      },
      "source": [
        "You can see that the population activity is changing between fixed points (it goes up and down)!"
      ]
    }
  ]
}