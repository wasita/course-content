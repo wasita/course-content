{
  "nbformat": 4,
  "nbformat_minor": 0,
  "metadata": {
    "colab": {
      "name": "W1D5_Tutorial3",
      "provenance": [],
      "collapsed_sections": [],
      "include_colab_link": true
    },
    "kernel": {
      "display_name": "Python 3",
      "language": "python",
      "name": "python3"
    },
    "kernelspec": {
      "display_name": "Python 3",
      "language": "python",
      "name": "python3"
    },
    "language_info": {
      "codemirror_mode": {
        "name": "ipython",
        "version": 3
      },
      "file_extension": ".py",
      "mimetype": "text/x-python",
      "name": "python",
      "nbconvert_exporter": "python",
      "pygments_lexer": "ipython3",
      "version": "3.7.10"
    },
    "widgets": {
      "application/vnd.jupyter.widget-state+json": {
        "a4381c60418e45488f4045ffe8f3d09b": {
          "model_module": "@jupyter-widgets/controls",
          "model_name": "TabModel",
          "state": {
            "_view_name": "TabView",
            "_dom_classes": [],
            "_titles": {
              "0": "Youtube",
              "1": "Bilibili"
            },
            "_model_name": "TabModel",
            "_view_module": "@jupyter-widgets/controls",
            "selected_index": 0,
            "_model_module_version": "1.5.0",
            "_view_count": null,
            "_view_module_version": "1.5.0",
            "box_style": "",
            "layout": "IPY_MODEL_5f69163d57884ceaa3b73cdff5af61b2",
            "_model_module": "@jupyter-widgets/controls",
            "children": [
              "IPY_MODEL_3a9e5a79d9744f31b3f799b2bccf2b4d",
              "IPY_MODEL_85e0fcb47fbb422e9036c3817ff412a3"
            ]
          }
        },
        "5f69163d57884ceaa3b73cdff5af61b2": {
          "model_module": "@jupyter-widgets/base",
          "model_name": "LayoutModel",
          "state": {
            "_view_name": "LayoutView",
            "grid_template_rows": null,
            "right": null,
            "justify_content": null,
            "_view_module": "@jupyter-widgets/base",
            "overflow": null,
            "_model_module_version": "1.2.0",
            "_view_count": null,
            "flex_flow": null,
            "width": null,
            "min_width": null,
            "border": null,
            "align_items": null,
            "bottom": null,
            "_model_module": "@jupyter-widgets/base",
            "top": null,
            "grid_column": null,
            "overflow_y": null,
            "overflow_x": null,
            "grid_auto_flow": null,
            "grid_area": null,
            "grid_template_columns": null,
            "flex": null,
            "_model_name": "LayoutModel",
            "justify_items": null,
            "grid_row": null,
            "max_height": null,
            "align_content": null,
            "visibility": null,
            "align_self": null,
            "height": null,
            "min_height": null,
            "padding": null,
            "grid_auto_rows": null,
            "grid_gap": null,
            "max_width": null,
            "order": null,
            "_view_module_version": "1.2.0",
            "grid_template_areas": null,
            "object_position": null,
            "object_fit": null,
            "grid_auto_columns": null,
            "margin": null,
            "display": null,
            "left": null
          }
        },
        "3a9e5a79d9744f31b3f799b2bccf2b4d": {
          "model_module": "@jupyter-widgets/output",
          "model_name": "OutputModel",
          "state": {
            "_view_name": "OutputView",
            "msg_id": "",
            "_dom_classes": [],
            "_model_name": "OutputModel",
            "outputs": [
              {
                "output_type": "stream",
                "metadata": {
                  "tags": []
                },
                "text": "Video available at https://youtube.com/watch?v=oO0bbInoO_0\n",
                "stream": "stdout"
              },
              {
                "output_type": "display_data",
                "metadata": {
                  "tags": []
                },
                "text/html": "\n        <iframe\n            width=\"854\"\n            height=\"480\"\n            src=\"https://www.youtube.com/embed/oO0bbInoO_0?fs=1&rel=0\"\n            frameborder=\"0\"\n            allowfullscreen\n        ></iframe>\n        ",
                "text/plain": "<IPython.lib.display.YouTubeVideo at 0x7f7f48026cd0>",
                "image/jpeg": "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\n"
              }
            ],
            "_view_module": "@jupyter-widgets/output",
            "_model_module_version": "1.0.0",
            "_view_count": null,
            "_view_module_version": "1.0.0",
            "layout": "IPY_MODEL_47edfa18f16946e3875b35b4884e0f11",
            "_model_module": "@jupyter-widgets/output"
          }
        },
        "85e0fcb47fbb422e9036c3817ff412a3": {
          "model_module": "@jupyter-widgets/output",
          "model_name": "OutputModel",
          "state": {
            "_view_name": "OutputView",
            "msg_id": "",
            "_dom_classes": [],
            "_model_name": "OutputModel",
            "outputs": [
              {
                "output_type": "stream",
                "metadata": {
                  "tags": []
                },
                "text": "Video available at https://www.bilibili.com/video/BV1up4y1S7xs\n",
                "stream": "stdout"
              },
              {
                "output_type": "display_data",
                "metadata": {
                  "tags": []
                },
                "text/html": "\n        <iframe\n            width=\"854\"\n            height=\"480\"\n            src=\"https://player.bilibili.com/player.html?bvid=BV1up4y1S7xs&page=1?fs=1\"\n            frameborder=\"0\"\n            allowfullscreen\n        ></iframe>\n        ",
                "text/plain": "<__main__.BiliVideo at 0x7f7f4c8ab310>"
              }
            ],
            "_view_module": "@jupyter-widgets/output",
            "_model_module_version": "1.0.0",
            "_view_count": null,
            "_view_module_version": "1.0.0",
            "layout": "IPY_MODEL_f727a1e9f5f74bbe99720f55d7bcff48",
            "_model_module": "@jupyter-widgets/output"
          }
        },
        "47edfa18f16946e3875b35b4884e0f11": {
          "model_module": "@jupyter-widgets/base",
          "model_name": "LayoutModel",
          "state": {
            "_view_name": "LayoutView",
            "grid_template_rows": null,
            "right": null,
            "justify_content": null,
            "_view_module": "@jupyter-widgets/base",
            "overflow": null,
            "_model_module_version": "1.2.0",
            "_view_count": null,
            "flex_flow": null,
            "width": null,
            "min_width": null,
            "border": null,
            "align_items": null,
            "bottom": null,
            "_model_module": "@jupyter-widgets/base",
            "top": null,
            "grid_column": null,
            "overflow_y": null,
            "overflow_x": null,
            "grid_auto_flow": null,
            "grid_area": null,
            "grid_template_columns": null,
            "flex": null,
            "_model_name": "LayoutModel",
            "justify_items": null,
            "grid_row": null,
            "max_height": null,
            "align_content": null,
            "visibility": null,
            "align_self": null,
            "height": null,
            "min_height": null,
            "padding": null,
            "grid_auto_rows": null,
            "grid_gap": null,
            "max_width": null,
            "order": null,
            "_view_module_version": "1.2.0",
            "grid_template_areas": null,
            "object_position": null,
            "object_fit": null,
            "grid_auto_columns": null,
            "margin": null,
            "display": null,
            "left": null
          }
        },
        "f727a1e9f5f74bbe99720f55d7bcff48": {
          "model_module": "@jupyter-widgets/base",
          "model_name": "LayoutModel",
          "state": {
            "_view_name": "LayoutView",
            "grid_template_rows": null,
            "right": null,
            "justify_content": null,
            "_view_module": "@jupyter-widgets/base",
            "overflow": null,
            "_model_module_version": "1.2.0",
            "_view_count": null,
            "flex_flow": null,
            "width": null,
            "min_width": null,
            "border": null,
            "align_items": null,
            "bottom": null,
            "_model_module": "@jupyter-widgets/base",
            "top": null,
            "grid_column": null,
            "overflow_y": null,
            "overflow_x": null,
            "grid_auto_flow": null,
            "grid_area": null,
            "grid_template_columns": null,
            "flex": null,
            "_model_name": "LayoutModel",
            "justify_items": null,
            "grid_row": null,
            "max_height": null,
            "align_content": null,
            "visibility": null,
            "align_self": null,
            "height": null,
            "min_height": null,
            "padding": null,
            "grid_auto_rows": null,
            "grid_gap": null,
            "max_width": null,
            "order": null,
            "_view_module_version": "1.2.0",
            "grid_template_areas": null,
            "object_position": null,
            "object_fit": null,
            "grid_auto_columns": null,
            "margin": null,
            "display": null,
            "left": null
          }
        },
        "f3e79b70e9f74a2a8085701a13396cb1": {
          "model_module": "@jupyter-widgets/controls",
          "model_name": "TabModel",
          "state": {
            "_view_name": "TabView",
            "_dom_classes": [],
            "_titles": {
              "0": "Youtube",
              "1": "Bilibili"
            },
            "_model_name": "TabModel",
            "_view_module": "@jupyter-widgets/controls",
            "selected_index": 0,
            "_model_module_version": "1.5.0",
            "_view_count": null,
            "_view_module_version": "1.5.0",
            "box_style": "",
            "layout": "IPY_MODEL_f4e180f7c664402187846e0e7287d35d",
            "_model_module": "@jupyter-widgets/controls",
            "children": [
              "IPY_MODEL_f304d8a395904f23bcf477e9b77dcd70",
              "IPY_MODEL_b84b472850c542e186fe45b2ba743249"
            ]
          }
        },
        "f4e180f7c664402187846e0e7287d35d": {
          "model_module": "@jupyter-widgets/base",
          "model_name": "LayoutModel",
          "state": {
            "_view_name": "LayoutView",
            "grid_template_rows": null,
            "right": null,
            "justify_content": null,
            "_view_module": "@jupyter-widgets/base",
            "overflow": null,
            "_model_module_version": "1.2.0",
            "_view_count": null,
            "flex_flow": null,
            "width": null,
            "min_width": null,
            "border": null,
            "align_items": null,
            "bottom": null,
            "_model_module": "@jupyter-widgets/base",
            "top": null,
            "grid_column": null,
            "overflow_y": null,
            "overflow_x": null,
            "grid_auto_flow": null,
            "grid_area": null,
            "grid_template_columns": null,
            "flex": null,
            "_model_name": "LayoutModel",
            "justify_items": null,
            "grid_row": null,
            "max_height": null,
            "align_content": null,
            "visibility": null,
            "align_self": null,
            "height": null,
            "min_height": null,
            "padding": null,
            "grid_auto_rows": null,
            "grid_gap": null,
            "max_width": null,
            "order": null,
            "_view_module_version": "1.2.0",
            "grid_template_areas": null,
            "object_position": null,
            "object_fit": null,
            "grid_auto_columns": null,
            "margin": null,
            "display": null,
            "left": null
          }
        },
        "f304d8a395904f23bcf477e9b77dcd70": {
          "model_module": "@jupyter-widgets/output",
          "model_name": "OutputModel",
          "state": {
            "_view_name": "OutputView",
            "msg_id": "",
            "_dom_classes": [],
            "_model_name": "OutputModel",
            "outputs": [
              {
                "output_type": "stream",
                "metadata": {
                  "tags": []
                },
                "text": "Video available at https://youtube.com/watch?v=ZCUhW26AdBQ\n",
                "stream": "stdout"
              },
              {
                "output_type": "display_data",
                "metadata": {
                  "tags": []
                },
                "text/html": "\n        <iframe\n            width=\"854\"\n            height=\"480\"\n            src=\"https://www.youtube.com/embed/ZCUhW26AdBQ?fs=1&rel=0\"\n            frameborder=\"0\"\n            allowfullscreen\n        ></iframe>\n        ",
                "text/plain": "<IPython.lib.display.YouTubeVideo at 0x7f7f2b694b50>",
                "image/jpeg": "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\n"
              }
            ],
            "_view_module": "@jupyter-widgets/output",
            "_model_module_version": "1.0.0",
            "_view_count": null,
            "_view_module_version": "1.0.0",
            "layout": "IPY_MODEL_f41dc11dce6a4a5fa2cebc165f453100",
            "_model_module": "@jupyter-widgets/output"
          }
        },
        "b84b472850c542e186fe45b2ba743249": {
          "model_module": "@jupyter-widgets/output",
          "model_name": "OutputModel",
          "state": {
            "_view_name": "OutputView",
            "msg_id": "",
            "_dom_classes": [],
            "_model_name": "OutputModel",
            "outputs": [
              {
                "output_type": "stream",
                "metadata": {
                  "tags": []
                },
                "text": "Video available at https://www.bilibili.com/video/BV1XK4y1s7KF\n",
                "stream": "stdout"
              },
              {
                "output_type": "display_data",
                "metadata": {
                  "tags": []
                },
                "text/html": "\n        <iframe\n            width=\"854\"\n            height=\"480\"\n            src=\"https://player.bilibili.com/player.html?bvid=BV1XK4y1s7KF&page=1?fs=1\"\n            frameborder=\"0\"\n            allowfullscreen\n        ></iframe>\n        ",
                "text/plain": "<__main__.BiliVideo at 0x7f7f2b862a50>"
              }
            ],
            "_view_module": "@jupyter-widgets/output",
            "_model_module_version": "1.0.0",
            "_view_count": null,
            "_view_module_version": "1.0.0",
            "layout": "IPY_MODEL_59fbbb2e8ea240d288ca987ba6df22f5",
            "_model_module": "@jupyter-widgets/output"
          }
        },
        "f41dc11dce6a4a5fa2cebc165f453100": {
          "model_module": "@jupyter-widgets/base",
          "model_name": "LayoutModel",
          "state": {
            "_view_name": "LayoutView",
            "grid_template_rows": null,
            "right": null,
            "justify_content": null,
            "_view_module": "@jupyter-widgets/base",
            "overflow": null,
            "_model_module_version": "1.2.0",
            "_view_count": null,
            "flex_flow": null,
            "width": null,
            "min_width": null,
            "border": null,
            "align_items": null,
            "bottom": null,
            "_model_module": "@jupyter-widgets/base",
            "top": null,
            "grid_column": null,
            "overflow_y": null,
            "overflow_x": null,
            "grid_auto_flow": null,
            "grid_area": null,
            "grid_template_columns": null,
            "flex": null,
            "_model_name": "LayoutModel",
            "justify_items": null,
            "grid_row": null,
            "max_height": null,
            "align_content": null,
            "visibility": null,
            "align_self": null,
            "height": null,
            "min_height": null,
            "padding": null,
            "grid_auto_rows": null,
            "grid_gap": null,
            "max_width": null,
            "order": null,
            "_view_module_version": "1.2.0",
            "grid_template_areas": null,
            "object_position": null,
            "object_fit": null,
            "grid_auto_columns": null,
            "margin": null,
            "display": null,
            "left": null
          }
        },
        "59fbbb2e8ea240d288ca987ba6df22f5": {
          "model_module": "@jupyter-widgets/base",
          "model_name": "LayoutModel",
          "state": {
            "_view_name": "LayoutView",
            "grid_template_rows": null,
            "right": null,
            "justify_content": null,
            "_view_module": "@jupyter-widgets/base",
            "overflow": null,
            "_model_module_version": "1.2.0",
            "_view_count": null,
            "flex_flow": null,
            "width": null,
            "min_width": null,
            "border": null,
            "align_items": null,
            "bottom": null,
            "_model_module": "@jupyter-widgets/base",
            "top": null,
            "grid_column": null,
            "overflow_y": null,
            "overflow_x": null,
            "grid_auto_flow": null,
            "grid_area": null,
            "grid_template_columns": null,
            "flex": null,
            "_model_name": "LayoutModel",
            "justify_items": null,
            "grid_row": null,
            "max_height": null,
            "align_content": null,
            "visibility": null,
            "align_self": null,
            "height": null,
            "min_height": null,
            "padding": null,
            "grid_auto_rows": null,
            "grid_gap": null,
            "max_width": null,
            "order": null,
            "_view_module_version": "1.2.0",
            "grid_template_areas": null,
            "object_position": null,
            "object_fit": null,
            "grid_auto_columns": null,
            "margin": null,
            "display": null,
            "left": null
          }
        },
        "350144d8b2d04042b2c01f6fce6957b0": {
          "model_module": "@jupyter-widgets/controls",
          "model_name": "VBoxModel",
          "state": {
            "_view_name": "VBoxView",
            "_dom_classes": [
              "widget-interact"
            ],
            "_model_name": "VBoxModel",
            "_view_module": "@jupyter-widgets/controls",
            "_model_module_version": "1.5.0",
            "_view_count": null,
            "_view_module_version": "1.5.0",
            "box_style": "",
            "layout": "IPY_MODEL_bcfbea9fa6764f6b94803fd936789a9a",
            "_model_module": "@jupyter-widgets/controls",
            "children": [
              "IPY_MODEL_cac52f32e97d45cca1b7fdf68147d25f",
              "IPY_MODEL_3d865dca455045a2a3194ec95dc6e3c1"
            ]
          }
        },
        "bcfbea9fa6764f6b94803fd936789a9a": {
          "model_module": "@jupyter-widgets/base",
          "model_name": "LayoutModel",
          "state": {
            "_view_name": "LayoutView",
            "grid_template_rows": null,
            "right": null,
            "justify_content": null,
            "_view_module": "@jupyter-widgets/base",
            "overflow": null,
            "_model_module_version": "1.2.0",
            "_view_count": null,
            "flex_flow": null,
            "width": null,
            "min_width": null,
            "border": null,
            "align_items": null,
            "bottom": null,
            "_model_module": "@jupyter-widgets/base",
            "top": null,
            "grid_column": null,
            "overflow_y": null,
            "overflow_x": null,
            "grid_auto_flow": null,
            "grid_area": null,
            "grid_template_columns": null,
            "flex": null,
            "_model_name": "LayoutModel",
            "justify_items": null,
            "grid_row": null,
            "max_height": null,
            "align_content": null,
            "visibility": null,
            "align_self": null,
            "height": null,
            "min_height": null,
            "padding": null,
            "grid_auto_rows": null,
            "grid_gap": null,
            "max_width": null,
            "order": null,
            "_view_module_version": "1.2.0",
            "grid_template_areas": null,
            "object_position": null,
            "object_fit": null,
            "grid_auto_columns": null,
            "margin": null,
            "display": null,
            "left": null
          }
        },
        "cac52f32e97d45cca1b7fdf68147d25f": {
          "model_module": "@jupyter-widgets/controls",
          "model_name": "IntSliderModel",
          "state": {
            "_view_name": "IntSliderView",
            "style": "IPY_MODEL_a78809d53d69443e9d3c177a5b38d0b9",
            "_dom_classes": [],
            "description": "K",
            "step": 10,
            "_model_name": "IntSliderModel",
            "orientation": "horizontal",
            "max": 784,
            "_view_module": "@jupyter-widgets/controls",
            "_model_module_version": "1.5.0",
            "value": 61,
            "_view_count": null,
            "disabled": false,
            "_view_module_version": "1.5.0",
            "min": 1,
            "continuous_update": true,
            "readout_format": "d",
            "description_tooltip": null,
            "readout": true,
            "_model_module": "@jupyter-widgets/controls",
            "layout": "IPY_MODEL_831a94a88729482b930147e8f10de2f3"
          }
        },
        "3d865dca455045a2a3194ec95dc6e3c1": {
          "model_module": "@jupyter-widgets/output",
          "model_name": "OutputModel",
          "state": {
            "_view_name": "OutputView",
            "msg_id": "",
            "_dom_classes": [],
            "_model_name": "OutputModel",
            "outputs": [
              {
                "output_type": "display_data",
                "metadata": {
                  "tags": [],
                  "image/png": {
                    "width": 558,
                    "height": 292
                  }
                },
                "image/png": "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\n",
                "text/plain": "<Figure size 576x432 with 2 Axes>"
              }
            ],
            "_view_module": "@jupyter-widgets/output",
            "_model_module_version": "1.0.0",
            "_view_count": null,
            "_view_module_version": "1.0.0",
            "layout": "IPY_MODEL_ffa97383f6dd4e488561d92b6e2b0aca",
            "_model_module": "@jupyter-widgets/output"
          }
        },
        "a78809d53d69443e9d3c177a5b38d0b9": {
          "model_module": "@jupyter-widgets/controls",
          "model_name": "SliderStyleModel",
          "state": {
            "_view_name": "StyleView",
            "handle_color": null,
            "_model_name": "SliderStyleModel",
            "description_width": "",
            "_view_module": "@jupyter-widgets/base",
            "_model_module_version": "1.5.0",
            "_view_count": null,
            "_view_module_version": "1.2.0",
            "_model_module": "@jupyter-widgets/controls"
          }
        },
        "831a94a88729482b930147e8f10de2f3": {
          "model_module": "@jupyter-widgets/base",
          "model_name": "LayoutModel",
          "state": {
            "_view_name": "LayoutView",
            "grid_template_rows": null,
            "right": null,
            "justify_content": null,
            "_view_module": "@jupyter-widgets/base",
            "overflow": null,
            "_model_module_version": "1.2.0",
            "_view_count": null,
            "flex_flow": null,
            "width": null,
            "min_width": null,
            "border": null,
            "align_items": null,
            "bottom": null,
            "_model_module": "@jupyter-widgets/base",
            "top": null,
            "grid_column": null,
            "overflow_y": null,
            "overflow_x": null,
            "grid_auto_flow": null,
            "grid_area": null,
            "grid_template_columns": null,
            "flex": null,
            "_model_name": "LayoutModel",
            "justify_items": null,
            "grid_row": null,
            "max_height": null,
            "align_content": null,
            "visibility": null,
            "align_self": null,
            "height": null,
            "min_height": null,
            "padding": null,
            "grid_auto_rows": null,
            "grid_gap": null,
            "max_width": null,
            "order": null,
            "_view_module_version": "1.2.0",
            "grid_template_areas": null,
            "object_position": null,
            "object_fit": null,
            "grid_auto_columns": null,
            "margin": null,
            "display": null,
            "left": null
          }
        },
        "ffa97383f6dd4e488561d92b6e2b0aca": {
          "model_module": "@jupyter-widgets/base",
          "model_name": "LayoutModel",
          "state": {
            "_view_name": "LayoutView",
            "grid_template_rows": null,
            "right": null,
            "justify_content": null,
            "_view_module": "@jupyter-widgets/base",
            "overflow": null,
            "_model_module_version": "1.2.0",
            "_view_count": null,
            "flex_flow": null,
            "width": null,
            "min_width": null,
            "border": null,
            "align_items": null,
            "bottom": null,
            "_model_module": "@jupyter-widgets/base",
            "top": null,
            "grid_column": null,
            "overflow_y": null,
            "overflow_x": null,
            "grid_auto_flow": null,
            "grid_area": null,
            "grid_template_columns": null,
            "flex": null,
            "_model_name": "LayoutModel",
            "justify_items": null,
            "grid_row": null,
            "max_height": null,
            "align_content": null,
            "visibility": null,
            "align_self": null,
            "height": null,
            "min_height": null,
            "padding": null,
            "grid_auto_rows": null,
            "grid_gap": null,
            "max_width": null,
            "order": null,
            "_view_module_version": "1.2.0",
            "grid_template_areas": null,
            "object_position": null,
            "object_fit": null,
            "grid_auto_columns": null,
            "margin": null,
            "display": null,
            "left": null
          }
        }
      }
    }
  },
  "cells": [
    {
      "cell_type": "markdown",
      "metadata": {
        "id": "view-in-github",
        "colab_type": "text"
      },
      "source": [
        "<a href=\"https://colab.research.google.com/github/wasita/course-content/blob/main/W1D5_Tutorial3.ipynb\" target=\"_parent\"><img src=\"https://colab.research.google.com/assets/colab-badge.svg\" alt=\"Open In Colab\"/></a>"
      ]
    },
    {
      "cell_type": "markdown",
      "metadata": {
        "execution": {},
        "id": "3d4nBhTkoHXv"
      },
      "source": [
        "# Tutorial 3: Dimensionality Reduction & Reconstruction\n",
        "**Week 1, Day 5: Dimensionality Reduction**\n",
        "\n",
        "**By Neuromatch Academy**\n",
        "\n",
        "__Content creators:__ Alex Cayco Gajic, John Murray\n",
        "\n",
        "__Content reviewers:__ Roozbeh Farhoudi, Matt Krause, Spiros Chavlis, Richard Gao, Michael Waskom,  Siddharth Suresh, Natalie Schaworonkow, Ella Batty"
      ]
    },
    {
      "cell_type": "markdown",
      "metadata": {
        "execution": {},
        "id": "f72OFDBHoHXw"
      },
      "source": [
        "**Our 2021 Sponsors, including Presenting Sponsor Facebook Reality Labs**\n",
        "\n",
        "<p align='center'><img src='https://github.com/NeuromatchAcademy/widgets/blob/master/sponsors.png?raw=True'/></p>"
      ]
    },
    {
      "cell_type": "markdown",
      "metadata": {
        "execution": {},
        "id": "VaY_y1RMoHXx"
      },
      "source": [
        "---\n",
        "# Tutorial Objectives\n",
        "\n",
        "*Estimated timing of tutorial: 50 minutes*\n",
        "\n",
        "In this notebook we'll learn to apply PCA for dimensionality reduction, using a classic dataset that is often used to benchmark machine learning algorithms: MNIST. We'll also learn how to use PCA for reconstruction and denoising.\n",
        "\n",
        "Overview:\n",
        "- Perform PCA on MNIST\n",
        "- Calculate the variance explained\n",
        "- Reconstruct data with different numbers of PCs\n",
        "- (Bonus) Examine denoising using PCA\n",
        "\n",
        "You can learn more about MNIST dataset [here](https://en.wikipedia.org/wiki/MNIST_database)."
      ]
    },
    {
      "cell_type": "code",
      "metadata": {
        "cellView": "form",
        "execution": {},
        "id": "PJfX3a0ioHXx"
      },
      "source": [
        "# @title Tutorial slides\n",
        "\n",
        "# @markdown These are the slides for the videos in all tutorials today\n",
        "from IPython.display import IFrame\n",
        "IFrame(src=f\"https://mfr.ca-1.osf.io/render?url=https://osf.io/kaq2x/?direct%26mode=render%26action=download%26mode=render\", width=854, height=480)"
      ],
      "execution_count": null,
      "outputs": []
    },
    {
      "cell_type": "code",
      "metadata": {
        "cellView": "form",
        "execution": {},
        "id": "4qXVsnhOoHXx",
        "colab": {
          "base_uri": "https://localhost:8080/",
          "height": 580,
          "referenced_widgets": [
            "a4381c60418e45488f4045ffe8f3d09b",
            "5f69163d57884ceaa3b73cdff5af61b2",
            "3a9e5a79d9744f31b3f799b2bccf2b4d",
            "85e0fcb47fbb422e9036c3817ff412a3",
            "47edfa18f16946e3875b35b4884e0f11",
            "f727a1e9f5f74bbe99720f55d7bcff48"
          ]
        },
        "outputId": "5b6fba91-2cf0-4a17-c5df-1e65a5737097"
      },
      "source": [
        "# @title Video 1: PCA for dimensionality reduction\n",
        "from ipywidgets import widgets\n",
        "\n",
        "out2 = widgets.Output()\n",
        "with out2:\n",
        "  from IPython.display import IFrame\n",
        "  class BiliVideo(IFrame):\n",
        "      def __init__(self, id, page=1, width=400, height=300, **kwargs):\n",
        "          self.id=id\n",
        "          src = 'https://player.bilibili.com/player.html?bvid={0}&page={1}'.format(id, page)\n",
        "          super(BiliVideo, self).__init__(src, width, height, **kwargs)\n",
        "\n",
        "  video = BiliVideo(id=\"BV1up4y1S7xs\", width=854, height=480, fs=1)\n",
        "  print('Video available at https://www.bilibili.com/video/{0}'.format(video.id))\n",
        "  display(video)\n",
        "\n",
        "out1 = widgets.Output()\n",
        "with out1:\n",
        "  from IPython.display import YouTubeVideo\n",
        "  video = YouTubeVideo(id=\"oO0bbInoO_0\", width=854, height=480, fs=1, rel=0)\n",
        "  print('Video available at https://youtube.com/watch?v=' + video.id)\n",
        "  display(video)\n",
        "\n",
        "out = widgets.Tab([out1, out2])\n",
        "out.set_title(0, 'Youtube')\n",
        "out.set_title(1, 'Bilibili')\n",
        "\n",
        "display(out)"
      ],
      "execution_count": 1,
      "outputs": [
        {
          "output_type": "display_data",
          "data": {
            "application/vnd.jupyter.widget-view+json": {
              "model_id": "a4381c60418e45488f4045ffe8f3d09b",
              "version_minor": 0,
              "version_major": 2
            },
            "text/plain": [
              "Tab(children=(Output(), Output()), _titles={'0': 'Youtube', '1': 'Bilibili'})"
            ]
          },
          "metadata": {
            "tags": []
          }
        }
      ]
    },
    {
      "cell_type": "markdown",
      "metadata": {
        "execution": {},
        "id": "c2anySS2oHXx"
      },
      "source": [
        "---\n",
        "# Setup"
      ]
    },
    {
      "cell_type": "code",
      "metadata": {
        "execution": {},
        "id": "ibJ6IpNgoHXy"
      },
      "source": [
        "# Imports\n",
        "\n",
        "import numpy as np\n",
        "import matplotlib.pyplot as plt"
      ],
      "execution_count": 2,
      "outputs": []
    },
    {
      "cell_type": "code",
      "metadata": {
        "cellView": "form",
        "execution": {},
        "id": "pGDxURnhoHXy"
      },
      "source": [
        "# @title Figure Settings\n",
        "import ipywidgets as widgets   # interactive display\n",
        "%config InlineBackend.figure_format = 'retina'\n",
        "plt.style.use(\"https://raw.githubusercontent.com/NeuromatchAcademy/course-content/master/nma.mplstyle\")"
      ],
      "execution_count": 3,
      "outputs": []
    },
    {
      "cell_type": "code",
      "metadata": {
        "cellView": "form",
        "execution": {},
        "id": "KCQCLj_woHXy"
      },
      "source": [
        "# @title Plotting Functions\n",
        "\n",
        "def plot_variance_explained(variance_explained):\n",
        "  \"\"\"\n",
        "  Plots eigenvalues.\n",
        "\n",
        "  Args:\n",
        "    variance_explained (numpy array of floats) : Vector of variance explained\n",
        "                                                 for each PC\n",
        "\n",
        "  Returns:\n",
        "    Nothing.\n",
        "\n",
        "  \"\"\"\n",
        "\n",
        "  plt.figure()\n",
        "  plt.plot(np.arange(1, len(variance_explained) + 1), variance_explained,\n",
        "           '--k')\n",
        "  plt.xlabel('Number of components')\n",
        "  plt.ylabel('Variance explained')\n",
        "  plt.show()\n",
        "\n",
        "\n",
        "def plot_MNIST_reconstruction(X, X_reconstructed):\n",
        "  \"\"\"\n",
        "  Plots 9 images in the MNIST dataset side-by-side with the reconstructed\n",
        "  images.\n",
        "\n",
        "  Args:\n",
        "    X (numpy array of floats)               : Data matrix each column\n",
        "                                              corresponds to a different\n",
        "                                              random variable\n",
        "    X_reconstructed (numpy array of floats) : Data matrix each column\n",
        "                                              corresponds to a different\n",
        "                                              random variable\n",
        "\n",
        "  Returns:\n",
        "    Nothing.\n",
        "  \"\"\"\n",
        "\n",
        "  plt.figure()\n",
        "  ax = plt.subplot(121)\n",
        "  k = 0\n",
        "  for k1 in range(3):\n",
        "    for k2 in range(3):\n",
        "      k = k + 1\n",
        "      plt.imshow(np.reshape(X[k, :], (28, 28)),\n",
        "                 extent=[(k1 + 1) * 28, k1 * 28, (k2 + 1) * 28, k2 * 28],\n",
        "                 vmin=0, vmax=255)\n",
        "  plt.xlim((3 * 28, 0))\n",
        "  plt.ylim((3 * 28, 0))\n",
        "  plt.tick_params(axis='both', which='both', bottom=False, top=False,\n",
        "                  labelbottom=False)\n",
        "  ax.set_xticks([])\n",
        "  ax.set_yticks([])\n",
        "  plt.title('Data')\n",
        "  plt.clim([0, 250])\n",
        "  ax = plt.subplot(122)\n",
        "  k = 0\n",
        "  for k1 in range(3):\n",
        "    for k2 in range(3):\n",
        "      k = k + 1\n",
        "      plt.imshow(np.reshape(np.real(X_reconstructed[k, :]), (28, 28)),\n",
        "                 extent=[(k1 + 1) * 28, k1 * 28, (k2 + 1) * 28, k2 * 28],\n",
        "                 vmin=0, vmax=255)\n",
        "  plt.xlim((3 * 28, 0))\n",
        "  plt.ylim((3 * 28, 0))\n",
        "  plt.tick_params(axis='both', which='both', bottom=False, top=False,\n",
        "                  labelbottom=False)\n",
        "  ax.set_xticks([])\n",
        "  ax.set_yticks([])\n",
        "  plt.clim([0, 250])\n",
        "  plt.title('Reconstructed')\n",
        "  plt.tight_layout()\n",
        "\n",
        "\n",
        "def plot_MNIST_sample(X):\n",
        "  \"\"\"\n",
        "  Plots 9 images in the MNIST dataset.\n",
        "\n",
        "  Args:\n",
        "     X (numpy array of floats) : Data matrix each column corresponds to a\n",
        "                                 different random variable\n",
        "\n",
        "  Returns:\n",
        "    Nothing.\n",
        "\n",
        "  \"\"\"\n",
        "\n",
        "  fig, ax = plt.subplots()\n",
        "  k = 0\n",
        "  for k1 in range(3):\n",
        "    for k2 in range(3):\n",
        "      k = k + 1\n",
        "      plt.imshow(np.reshape(X[k, :], (28, 28)),\n",
        "                 extent=[(k1 + 1) * 28, k1 * 28, (k2+1) * 28, k2 * 28],\n",
        "                 vmin=0, vmax=255)\n",
        "  plt.xlim((3 * 28, 0))\n",
        "  plt.ylim((3 * 28, 0))\n",
        "  plt.tick_params(axis='both', which='both', bottom=False, top=False,\n",
        "                  labelbottom=False)\n",
        "  plt.clim([0, 250])\n",
        "  ax.set_xticks([])\n",
        "  ax.set_yticks([])\n",
        "  plt.show()\n",
        "\n",
        "\n",
        "def plot_MNIST_weights(weights):\n",
        "  \"\"\"\n",
        "  Visualize PCA basis vector weights for MNIST. Red = positive weights,\n",
        "  blue = negative weights, white = zero weight.\n",
        "\n",
        "  Args:\n",
        "     weights (numpy array of floats) : PCA basis vector\n",
        "\n",
        "  Returns:\n",
        "     Nothing.\n",
        "  \"\"\"\n",
        "\n",
        "  fig, ax = plt.subplots()\n",
        "  cmap = plt.cm.get_cmap('seismic')\n",
        "  plt.imshow(np.real(np.reshape(weights, (28, 28))), cmap=cmap)\n",
        "  plt.tick_params(axis='both', which='both', bottom=False, top=False,\n",
        "                  labelbottom=False)\n",
        "  plt.clim(-.15, .15)\n",
        "  plt.colorbar(ticks=[-.15, -.1, -.05, 0, .05, .1, .15])\n",
        "  ax.set_xticks([])\n",
        "  ax.set_yticks([])\n",
        "  plt.show()\n",
        "\n",
        "\n",
        "def plot_eigenvalues(evals, limit=True):\n",
        "  \"\"\"\n",
        "  Plots eigenvalues.\n",
        "\n",
        "  Args:\n",
        "     (numpy array of floats) : Vector of eigenvalues\n",
        "\n",
        "  Returns:\n",
        "    Nothing.\n",
        "\n",
        "  \"\"\"\n",
        "\n",
        "  plt.figure()\n",
        "  plt.plot(np.arange(1, len(evals) + 1), evals, 'o-k')\n",
        "  plt.xlabel('Component')\n",
        "  plt.ylabel('Eigenvalue')\n",
        "  plt.title('Scree plot')\n",
        "  if limit:\n",
        "    plt.show()"
      ],
      "execution_count": 4,
      "outputs": []
    },
    {
      "cell_type": "code",
      "metadata": {
        "cellView": "form",
        "execution": {},
        "id": "BaKjAC2SoHXz"
      },
      "source": [
        "# @title Helper Functions\n",
        "\n",
        "def add_noise(X, frac_noisy_pixels):\n",
        "  \"\"\"\n",
        "  Randomly corrupts a fraction of the pixels by setting them to random values.\n",
        "\n",
        "  Args:\n",
        "     X (numpy array of floats)  : Data matrix\n",
        "     frac_noisy_pixels (scalar) : Fraction of noisy pixels\n",
        "\n",
        "  Returns:\n",
        "     (numpy array of floats)    : Data matrix + noise\n",
        "\n",
        "  \"\"\"\n",
        "\n",
        "  X_noisy = np.reshape(X, (X.shape[0] * X.shape[1]))\n",
        "  N_noise_ixs = int(X_noisy.shape[0] * frac_noisy_pixels)\n",
        "  noise_ixs = np.random.choice(X_noisy.shape[0], size=N_noise_ixs,\n",
        "                               replace=False)\n",
        "  X_noisy[noise_ixs] = np.random.uniform(0, 255, noise_ixs.shape)\n",
        "  X_noisy = np.reshape(X_noisy, (X.shape[0], X.shape[1]))\n",
        "\n",
        "  return X_noisy\n",
        "\n",
        "\n",
        "def change_of_basis(X, W):\n",
        "  \"\"\"\n",
        "  Projects data onto a new basis.\n",
        "\n",
        "  Args:\n",
        "    X (numpy array of floats) : Data matrix each column corresponding to a\n",
        "                                different random variable\n",
        "    W (numpy array of floats) : new orthonormal basis columns correspond to\n",
        "                                basis vectors\n",
        "\n",
        "  Returns:\n",
        "    (numpy array of floats)   : Data matrix expressed in new basis\n",
        "  \"\"\"\n",
        "\n",
        "  Y = np.matmul(X, W)\n",
        "\n",
        "  return Y\n",
        "\n",
        "\n",
        "def get_sample_cov_matrix(X):\n",
        "  \"\"\"\n",
        "  Returns the sample covariance matrix of data X.\n",
        "\n",
        "  Args:\n",
        "    X (numpy array of floats) : Data matrix each column corresponds to a\n",
        "                                different random variable\n",
        "\n",
        "  Returns:\n",
        "    (numpy array of floats)   : Covariance matrix\n",
        "\"\"\"\n",
        "\n",
        "  X = X - np.mean(X, 0)\n",
        "  cov_matrix = 1 / X.shape[0] * np.matmul(X.T, X)\n",
        "  return cov_matrix\n",
        "\n",
        "\n",
        "def sort_evals_descending(evals, evectors):\n",
        "  \"\"\"\n",
        "  Sorts eigenvalues and eigenvectors in decreasing order. Also aligns first two\n",
        "  eigenvectors to be in first two quadrants (if 2D).\n",
        "\n",
        "  Args:\n",
        "    evals (numpy array of floats)    :   Vector of eigenvalues\n",
        "    evectors (numpy array of floats) :   Corresponding matrix of eigenvectors\n",
        "                                         each column corresponds to a different\n",
        "                                         eigenvalue\n",
        "\n",
        "  Returns:\n",
        "    (numpy array of floats)          : Vector of eigenvalues after sorting\n",
        "    (numpy array of floats)          : Matrix of eigenvectors after sorting\n",
        "  \"\"\"\n",
        "\n",
        "  index = np.flip(np.argsort(evals))\n",
        "  evals = evals[index]\n",
        "  evectors = evectors[:, index]\n",
        "  if evals.shape[0] == 2:\n",
        "    if np.arccos(np.matmul(evectors[:, 0],\n",
        "                           1 / np.sqrt(2) * np.array([1, 1]))) > np.pi / 2:\n",
        "      evectors[:, 0] = -evectors[:, 0]\n",
        "    if np.arccos(np.matmul(evectors[:, 1],\n",
        "                           1 / np.sqrt(2)*np.array([-1, 1]))) > np.pi / 2:\n",
        "      evectors[:, 1] = -evectors[:, 1]\n",
        "\n",
        "  return evals, evectors\n",
        "\n",
        "\n",
        "def pca(X):\n",
        "  \"\"\"\n",
        "  Performs PCA on multivariate data. Eigenvalues are sorted in decreasing order\n",
        "\n",
        "  Args:\n",
        "     X (numpy array of floats) :   Data matrix each column corresponds to a\n",
        "                                   different random variable\n",
        "\n",
        "  Returns:\n",
        "    (numpy array of floats)    : Data projected onto the new basis\n",
        "    (numpy array of floats)    : Vector of eigenvalues\n",
        "    (numpy array of floats)    : Corresponding matrix of eigenvectors\n",
        "\n",
        "  \"\"\"\n",
        "\n",
        "  X = X - np.mean(X, 0)\n",
        "  cov_matrix = get_sample_cov_matrix(X)\n",
        "  evals, evectors = np.linalg.eigh(cov_matrix)\n",
        "  evals, evectors = sort_evals_descending(evals, evectors)\n",
        "  score = change_of_basis(X, evectors)\n",
        "\n",
        "  return score, evectors, evals"
      ],
      "execution_count": 5,
      "outputs": []
    },
    {
      "cell_type": "markdown",
      "metadata": {
        "execution": {},
        "id": "KaLbweSGoHXz"
      },
      "source": [
        "---\n",
        "# Section 1: Perform PCA on MNIST\n",
        "\n",
        "The MNIST dataset consists of a 70,000 images of individual handwritten digits. Each image is a 28x28 pixel grayscale image. For convenience, each 28x28 pixel image is often unravelled into a single 784 (=28*28) element vector, so that the whole dataset is represented as a 70,000 x 784 matrix. Each row represents a different image, and each column represents a different pixel.\n",
        " \n",
        "Enter the following cell to load the MNIST dataset and plot the first nine images. It may take a few minutes to load."
      ]
    },
    {
      "cell_type": "code",
      "metadata": {
        "execution": {},
        "id": "oAUqO8c5oHX0",
        "colab": {
          "base_uri": "https://localhost:8080/",
          "height": 430
        },
        "outputId": "97baa9a9-1422-41b0-9665-719b59c5ecda"
      },
      "source": [
        "from sklearn.datasets import fetch_openml\n",
        "\n",
        "# GET mnist data\n",
        "mnist = fetch_openml(name='mnist_784', as_frame = False)\n",
        "X = mnist.data\n",
        "\n",
        "# Visualize\n",
        "plot_MNIST_sample(X)"
      ],
      "execution_count": 6,
      "outputs": [
        {
          "output_type": "display_data",
          "data": {
            "image/png": "[encoded data removed]",
            "text/plain": [
              "<Figure size 576x432 with 1 Axes>"
            ]
          },
          "metadata": {
            "tags": [],
            "image/png": {
              "width": 418,
              "height": 413
            }
          }
        }
      ]
    },
    {
      "cell_type": "markdown",
      "metadata": {
        "execution": {},
        "id": "WKAF6f-CoHX0"
      },
      "source": [
        "The MNIST dataset has an extrinsic dimensionality of 784, much higher than the 2-dimensional examples used in the previous tutorials! To make sense of this data, we'll use dimensionality reduction. But first, we need to determine the intrinsic dimensionality $K$ of the data. One way to do this is to look for an \"elbow\" in the scree plot, to determine which eigenvalues are signficant."
      ]
    },
    {
      "cell_type": "markdown",
      "metadata": {
        "execution": {},
        "id": "sUl0Vt_xoHX0"
      },
      "source": [
        "## Coding Exercise 1: Scree plot of MNIST\n",
        "\n",
        "In this exercise you will examine the scree plot in the MNIST dataset.\n",
        "\n",
        "**Steps:**\n",
        "- Perform PCA on the dataset using our function `pca` from tutorial 2 (already loaded in) and examine the scree plot. \n",
        "- When do the eigenvalues appear (by eye) to reach zero? (**Hint:** use `plt.xlim` to zoom into a section of the plot).\n"
      ]
    },
    {
      "cell_type": "code",
      "metadata": {
        "execution": {},
        "id": "PEhnzqbjoHX0",
        "colab": {
          "base_uri": "https://localhost:8080/"
        },
        "outputId": "a33811a9-4d13-4f7d-c0ac-bbd0e173708b"
      },
      "source": [
        "help(pca)"
      ],
      "execution_count": 7,
      "outputs": [
        {
          "output_type": "stream",
          "text": [
            "Help on function pca in module __main__:\n",
            "\n",
            "pca(X)\n",
            "    Performs PCA on multivariate data. Eigenvalues are sorted in decreasing order\n",
            "    \n",
            "    Args:\n",
            "       X (numpy array of floats) :   Data matrix each column corresponds to a\n",
            "                                     different random variable\n",
            "    \n",
            "    Returns:\n",
            "      (numpy array of floats)    : Data projected onto the new basis\n",
            "      (numpy array of floats)    : Vector of eigenvalues\n",
            "      (numpy array of floats)    : Corresponding matrix of eigenvectors\n",
            "\n"
          ],
          "name": "stdout"
        }
      ]
    },
    {
      "cell_type": "code",
      "metadata": {
        "execution": {},
        "id": "DOX1aozGoHX0",
        "colab": {
          "base_uri": "https://localhost:8080/",
          "height": 447
        },
        "outputId": "8ec87175-6a1c-483a-f27c-095c051da51c"
      },
      "source": [
        "#################################################\n",
        "## TODO for students\n",
        "# Fill out function and remove\n",
        "# raise NotImplementedError(\"Student excercise: perform PCA and visualize scree plot\")\n",
        "#################################################\n",
        "\n",
        "# Perform PCA\n",
        "score, evectors, evals = pca(X)\n",
        "\n",
        "# Plot the eigenvalues\n",
        "plot_eigenvalues(evals, limit=False)\n",
        "plt.xlim([0, 100])  # limit x-axis up to 100 for zooming"
      ],
      "execution_count": 12,
      "outputs": [
        {
          "output_type": "execute_result",
          "data": {
            "text/plain": [
              "(0.0, 100.0)"
            ]
          },
          "metadata": {
            "tags": []
          },
          "execution_count": 12
        },
        {
          "output_type": "display_data",
          "data": {
            "image/png": "[encoded data removed]",
            "text/plain": [
              "<Figure size 576x432 with 1 Axes>"
            ]
          },
          "metadata": {
            "tags": [],
            "image/png": {
              "width": 558,
              "height": 413
            },
            "needs_background": "light"
          }
        }
      ]
    },
    {
      "cell_type": "markdown",
      "metadata": {
        "execution": {},
        "id": "NmWBBsPooHX0"
      },
      "source": [
        "[*Click for solution*](https://github.com/NeuromatchAcademy/course-content/tree/master//tutorials/W1D5_DimensionalityReduction/solutions/W1D5_Tutorial3_Solution_d8411e54.py)\n",
        "\n",
        "*Example output:*\n",
        "\n",
        "<img alt='Solution hint' align='left' width=1116.0 height=828.0 src=https://raw.githubusercontent.com/NeuromatchAcademy/course-content/master/tutorials/W1D5_DimensionalityReduction/static/W1D5_Tutorial3_Solution_d8411e54_0.png>\n",
        "\n"
      ]
    },
    {
      "cell_type": "markdown",
      "metadata": {
        "execution": {},
        "id": "dXcJfelhoHX0"
      },
      "source": [
        "---\n",
        "# Section 2: Calculate the variance explained\n",
        "\n",
        "*Estimated timing to here from start of tutorial: 15 min*\n",
        "\n",
        "The scree plot suggests that most of the eigenvalues are near zero, with fewer than 100 having large values. Another common way to determine the intrinsic dimensionality is by considering the variance explained. This can be examined with a cumulative plot of the fraction of the total variance explained by the top $K$ components, i.e.,\n",
        "\n",
        "\\begin{align}\n",
        "\\text{var explained} = \\frac{\\sum_{i=1}^K \\lambda_i}{\\sum_{i=1}^N \\lambda_i}\n",
        "\\end{align}\n",
        "\n",
        "where $\\lambda_i$ is the $i^{th}$ eigenvalue and $N$ is the total number of components (the original number of dimensions in the data).\n",
        "\n",
        "The intrinsic dimensionality is often quantified by the $K$ necessary to explain a large proportion of the total variance of the data (often a defined threshold, e.g., 90%)."
      ]
    },
    {
      "cell_type": "markdown",
      "metadata": {
        "execution": {},
        "id": "HZ9p64oFoHX0"
      },
      "source": [
        "## Coding Exercise 2: Plot the explained variance\n",
        "\n",
        "In this exercise you will plot the explained variance.\n",
        "\n",
        "**Steps:**\n",
        "- Fill in the function below to calculate the fraction variance explained as a function of the number of principal componenets. **Hint:** use `np.cumsum`.\n",
        "- Plot the variance explained using `plot_variance_explained`.\n",
        "\n",
        "**Questions:**\n",
        "- How many principal components are required to explain 90% of the variance?\n",
        "- How does the intrinsic dimensionality of this dataset compare to its extrinsic dimensionality?\n"
      ]
    },
    {
      "cell_type": "code",
      "metadata": {
        "execution": {},
        "id": "jDHRtKSHoHX1",
        "colab": {
          "base_uri": "https://localhost:8080/",
          "height": 430
        },
        "outputId": "5af491cd-2fec-4354-fafd-5463de884dae"
      },
      "source": [
        "def get_variance_explained(evals):\n",
        "  \"\"\"\n",
        "  Calculates variance explained from the eigenvalues.\n",
        "\n",
        "  Args:\n",
        "    evals (numpy array of floats) : Vector of eigenvalues\n",
        "\n",
        "  Returns:\n",
        "    (numpy array of floats)       : Vector of variance explained\n",
        "\n",
        "  \"\"\"\n",
        "\n",
        "  #################################################\n",
        "  ## TO DO for students: calculate the explained variance using the equation\n",
        "  ## from Section 2.\n",
        "  # Comment once you've filled in the function\n",
        "  # raise NotImplementedError(\"Student excercise: calculate explaine variance!\")\n",
        "  #################################################\n",
        "\n",
        "  # Cumulatively sum the eigenvalues\n",
        "  csum = np.cumsum(evals)\n",
        "\n",
        "  # Normalize by the sum of eigenvalues\n",
        "  variance_explained = csum / np.sum(evals)\n",
        "\n",
        "  return variance_explained\n",
        "\n",
        "\n",
        "# Calculate the variance explained\n",
        "variance_explained = get_variance_explained(evals)\n",
        "\n",
        "# Visualize\n",
        "plot_variance_explained(variance_explained)"
      ],
      "execution_count": 19,
      "outputs": [
        {
          "output_type": "display_data",
          "data": {
            "image/png": "[encoded data removed]",
            "text/plain": [
              "<Figure size 576x432 with 1 Axes>"
            ]
          },
          "metadata": {
            "tags": [],
            "image/png": {
              "width": 558,
              "height": 413
            },
            "needs_background": "light"
          }
        }
      ]
    },
    {
      "cell_type": "markdown",
      "metadata": {
        "execution": {},
        "id": "C3AFcUW2oHX1"
      },
      "source": [
        "[*Click for solution*](https://github.com/NeuromatchAcademy/course-content/tree/master//tutorials/W1D5_DimensionalityReduction/solutions/W1D5_Tutorial3_Solution_a4ac4c9c.py)\n",
        "\n",
        "*Example output:*\n",
        "\n",
        "<img alt='Solution hint' align='left' width=1120.0 height=832.0 src=https://raw.githubusercontent.com/NeuromatchAcademy/course-content/master/tutorials/W1D5_DimensionalityReduction/static/W1D5_Tutorial3_Solution_a4ac4c9c_0.png>\n",
        "\n"
      ]
    },
    {
      "cell_type": "markdown",
      "metadata": {
        "execution": {},
        "id": "jsuImz3roHX1"
      },
      "source": [
        "---\n",
        "# Section 3: Reconstruct data with different numbers of PCs\n",
        "\n",
        "*Estimated timing to here from start of tutorial: 25 min*\n",
        "\n"
      ]
    },
    {
      "cell_type": "code",
      "metadata": {
        "cellView": "form",
        "execution": {},
        "id": "BPIb68_JoHX1",
        "colab": {
          "base_uri": "https://localhost:8080/",
          "height": 580,
          "referenced_widgets": [
            "f3e79b70e9f74a2a8085701a13396cb1",
            "f4e180f7c664402187846e0e7287d35d",
            "f304d8a395904f23bcf477e9b77dcd70",
            "b84b472850c542e186fe45b2ba743249",
            "f41dc11dce6a4a5fa2cebc165f453100",
            "59fbbb2e8ea240d288ca987ba6df22f5"
          ]
        },
        "outputId": "6eca932a-7d3a-4d4d-dbc3-ba1ddd150792"
      },
      "source": [
        "# @title Video 2: Data Reconstruction\n",
        "from ipywidgets import widgets\n",
        "\n",
        "out2 = widgets.Output()\n",
        "with out2:\n",
        "  from IPython.display import IFrame\n",
        "  class BiliVideo(IFrame):\n",
        "      def __init__(self, id, page=1, width=400, height=300, **kwargs):\n",
        "          self.id=id\n",
        "          src = 'https://player.bilibili.com/player.html?bvid={0}&page={1}'.format(id, page)\n",
        "          super(BiliVideo, self).__init__(src, width, height, **kwargs)\n",
        "\n",
        "  video = BiliVideo(id=\"BV1XK4y1s7KF\", width=854, height=480, fs=1)\n",
        "  print('Video available at https://www.bilibili.com/video/{0}'.format(video.id))\n",
        "  display(video)\n",
        "\n",
        "out1 = widgets.Output()\n",
        "with out1:\n",
        "  from IPython.display import YouTubeVideo\n",
        "  video = YouTubeVideo(id=\"ZCUhW26AdBQ\", width=854, height=480, fs=1, rel=0)\n",
        "  print('Video available at https://youtube.com/watch?v=' + video.id)\n",
        "  display(video)\n",
        "\n",
        "out = widgets.Tab([out1, out2])\n",
        "out.set_title(0, 'Youtube')\n",
        "out.set_title(1, 'Bilibili')\n",
        "\n",
        "display(out)"
      ],
      "execution_count": 20,
      "outputs": [
        {
          "output_type": "display_data",
          "data": {
            "application/vnd.jupyter.widget-view+json": {
              "model_id": "f3e79b70e9f74a2a8085701a13396cb1",
              "version_minor": 0,
              "version_major": 2
            },
            "text/plain": [
              "Tab(children=(Output(), Output()), _titles={'0': 'Youtube', '1': 'Bilibili'})"
            ]
          },
          "metadata": {
            "tags": []
          }
        }
      ]
    },
    {
      "cell_type": "markdown",
      "metadata": {
        "execution": {},
        "id": "ac9zWGTmoHX1"
      },
      "source": [
        "Now we have seen that the top 100 or so principal components of the data can explain most of the variance. We can use this fact to perform *dimensionality reduction*, i.e., by storing the data using only 100 components rather than the samples of all 784 pixels. Remarkably, we will be able to reconstruct much of the structure of the data using only the top 100 components. To see this, recall that to perform PCA we projected the data $\\bf X$ onto the eigenvectors of the covariance matrix:\n",
        "\\begin{align}\n",
        "\\bf S = X W\n",
        "\\end{align}\n",
        "Since $\\bf W$ is an orthogonal matrix, ${\\bf W}^{-1} = {\\bf W}^T$. So by multiplying by ${\\bf W}^T$ on each side we can rewrite this equation as  \n",
        "\\begin{align}\n",
        "{\\bf X = S W}^T.\n",
        "\\end{align}\n",
        "This now gives us a way to reconstruct the data matrix from the scores and loadings. To reconstruct the data from a low-dimensional approximation, we just have to truncate these matrices.  Let's denote ${\\bf S}_{1:K}$ and ${\\bf W}_{1:K}$ the matrices with only the first $K$ columns of $\\bf S$ and $\\bf W$, respectively. Then our reconstruction is:\n",
        "\\begin{align}\n",
        "{\\bf \\hat X = S}_{1:K} ({\\bf W}_{1:K})^T.\n",
        "\\end{align}\n"
      ]
    },
    {
      "cell_type": "markdown",
      "metadata": {
        "execution": {},
        "id": "Apj2N9L3oHX1"
      },
      "source": [
        "## Coding Exercise 3: Data reconstruction\n",
        "\n",
        "Fill in the function below to reconstruct the data using different numbers of principal components. \n",
        "\n",
        "**Steps:**\n",
        "\n",
        "* Fill in the following function to reconstruct the data based on the weights and scores. Don't forget to add the mean!\n",
        "* Make sure your function works by reconstructing the data with all $K=784$ components. The two images should look identical."
      ]
    },
    {
      "cell_type": "code",
      "metadata": {
        "colab": {
          "base_uri": "https://localhost:8080/"
        },
        "id": "Fn0CCVGe5z_L",
        "outputId": "5b649c64-dacd-4b02-a83f-b5fc9bd6f102"
      },
      "source": [
        "evectors[0:100,0:100].shape"
      ],
      "execution_count": 23,
      "outputs": [
        {
          "output_type": "execute_result",
          "data": {
            "text/plain": [
              "(100, 100)"
            ]
          },
          "metadata": {
            "tags": []
          },
          "execution_count": 23
        }
      ]
    },
    {
      "cell_type": "code",
      "metadata": {
        "colab": {
          "base_uri": "https://localhost:8080/"
        },
        "id": "nDM5PaQo6FlT",
        "outputId": "d21119b6-b9a9-4dcb-8d8a-b668b98be5a6"
      },
      "source": [
        "X_mean.shape"
      ],
      "execution_count": 26,
      "outputs": [
        {
          "output_type": "execute_result",
          "data": {
            "text/plain": [
              "(784,)"
            ]
          },
          "metadata": {
            "tags": []
          },
          "execution_count": 26
        }
      ]
    },
    {
      "cell_type": "code",
      "metadata": {
        "colab": {
          "base_uri": "https://localhost:8080/"
        },
        "id": "p0xv6t9_6xfC",
        "outputId": "5bbb4649-042b-414e-ae63-86b79ad8784f"
      },
      "source": [
        "score.shape"
      ],
      "execution_count": 33,
      "outputs": [
        {
          "output_type": "execute_result",
          "data": {
            "text/plain": [
              "(70000, 784)"
            ]
          },
          "metadata": {
            "tags": []
          },
          "execution_count": 33
        }
      ]
    },
    {
      "cell_type": "code",
      "metadata": {
        "colab": {
          "base_uri": "https://localhost:8080/"
        },
        "id": "Oue-IiAW60SR",
        "outputId": "17020d9a-956f-40cd-d324-2294620ddaad"
      },
      "source": [
        "784*784"
      ],
      "execution_count": 34,
      "outputs": [
        {
          "output_type": "execute_result",
          "data": {
            "text/plain": [
              "614656"
            ]
          },
          "metadata": {
            "tags": []
          },
          "execution_count": 34
        }
      ]
    },
    {
      "cell_type": "code",
      "metadata": {
        "execution": {},
        "id": "9VjHwoiZoHX1",
        "colab": {
          "base_uri": "https://localhost:8080/",
          "height": 309
        },
        "outputId": "61417c9d-5b4f-41df-de78-2dc3608f1120"
      },
      "source": [
        "def reconstruct_data(score, evectors, X_mean, K):\n",
        "  \"\"\"\n",
        "  Reconstruct the data based on the top K components.\n",
        "\n",
        "  Args:\n",
        "    score (numpy array of floats)    : Score matrix\n",
        "    evectors (numpy array of floats) : Matrix of eigenvectors\n",
        "    X_mean (numpy array of floats)   : Vector corresponding to data mean\n",
        "    K (scalar)                       : Number of components to include\n",
        "\n",
        "  Returns:\n",
        "    (numpy array of floats)          : Matrix of reconstructed data\n",
        "\n",
        "  \"\"\"\n",
        "\n",
        "  #################################################\n",
        "  ## TO DO for students: Reconstruct the original data in X_reconstructed\n",
        "  # Comment once you've filled in the function\n",
        "  # raise NotImplementedError(\"Student excercise: reconstructing data function!\")\n",
        "  #################################################\n",
        "\n",
        "  # Reconstruct the data from the score and eigenvectors\n",
        "  # Don't forget to add the mean!!\n",
        "  # Grab all rows and 0th-Kth columns in both score and w.T\n",
        "  # and multiply those together, then add back the mean we sutracted out earlier\n",
        "  X_reconstructed = np.matmul(score[:, :K], evectors[:, :K].T) + X_mean\n",
        "\n",
        "  return X_reconstructed\n",
        "\n",
        "\n",
        "# K = 100\n",
        "K = 784\n",
        "\n",
        "# Reconstruct the data based on all components\n",
        "X_mean = np.mean(X, 0)\n",
        "X_reconstructed = reconstruct_data(score, evectors, X_mean, K)\n",
        "\n",
        "# Plot the data and reconstruction\n",
        "plot_MNIST_reconstruction(X, X_reconstructed)"
      ],
      "execution_count": 36,
      "outputs": [
        {
          "output_type": "display_data",
          "data": {
            "image/png": "[encoded data removed]",
            "text/plain": [
              "<Figure size 576x432 with 2 Axes>"
            ]
          },
          "metadata": {
            "tags": [],
            "image/png": {
              "width": 558,
              "height": 292
            }
          }
        }
      ]
    },
    {
      "cell_type": "markdown",
      "metadata": {
        "execution": {},
        "id": "y1aYIWldoHX1"
      },
      "source": [
        "[*Click for solution*](https://github.com/NeuromatchAcademy/course-content/tree/master//tutorials/W1D5_DimensionalityReduction/solutions/W1D5_Tutorial3_Solution_e3395916.py)\n",
        "\n",
        "*Example output:*\n",
        "\n",
        "<img alt='Solution hint' align='left' width=1115.0 height=579.0 src=https://raw.githubusercontent.com/NeuromatchAcademy/course-content/master/tutorials/W1D5_DimensionalityReduction/static/W1D5_Tutorial3_Solution_e3395916_0.png>\n",
        "\n"
      ]
    },
    {
      "cell_type": "markdown",
      "metadata": {
        "execution": {},
        "id": "TPknG9HxoHX1"
      },
      "source": [
        "## Interactive Demo 3: Reconstruct the data matrix using different numbers of PCs\n",
        "\n",
        "Now run the code below and experiment with the slider to reconstruct the data matrix using different numbers of principal components.\n",
        "\n",
        "1.  How many principal components are necessary to reconstruct the numbers (by eye)? How does this relate to the intrinsic dimensionality of the data?\n",
        "2.  Do you see any information in the data with only a single principal component?"
      ]
    },
    {
      "cell_type": "code",
      "metadata": {
        "execution": {},
        "id": "HmaLDSksoHX1",
        "colab": {
          "base_uri": "https://localhost:8080/",
          "height": 341,
          "referenced_widgets": [
            "350144d8b2d04042b2c01f6fce6957b0",
            "bcfbea9fa6764f6b94803fd936789a9a",
            "cac52f32e97d45cca1b7fdf68147d25f",
            "3d865dca455045a2a3194ec95dc6e3c1",
            "a78809d53d69443e9d3c177a5b38d0b9",
            "831a94a88729482b930147e8f10de2f3",
            "ffa97383f6dd4e488561d92b6e2b0aca"
          ]
        },
        "outputId": "183998f4-2c81-4830-9606-5a051d5955bf"
      },
      "source": [
        "# @title\n",
        "\n",
        "# @markdown Make sure you execute this cell to enable the widget!\n",
        "\n",
        "\n",
        "def refresh(K=100):\n",
        "  X_reconstructed = reconstruct_data(score, evectors, X_mean, K)\n",
        "  plot_MNIST_reconstruction(X, X_reconstructed)\n",
        "  plt.title('Reconstructed, K={}'.format(K))\n",
        "\n",
        "\n",
        "_ = widgets.interact(refresh, K=(1, 784, 10))"
      ],
      "execution_count": 31,
      "outputs": [
        {
          "output_type": "display_data",
          "data": {
            "application/vnd.jupyter.widget-view+json": {
              "model_id": "350144d8b2d04042b2c01f6fce6957b0",
              "version_minor": 0,
              "version_major": 2
            },
            "text/plain": [
              "interactive(children=(IntSlider(value=100, description='K', max=784, min=1, step=10), Output()), _dom_classes=…"
            ]
          },
          "metadata": {
            "tags": []
          }
        }
      ]
    },
    {
      "cell_type": "markdown",
      "metadata": {
        "execution": {},
        "id": "q53dC7IEoHX1"
      },
      "source": [
        "[*Click for solution*](https://github.com/NeuromatchAcademy/course-content/tree/master//tutorials/W1D5_DimensionalityReduction/solutions/W1D5_Tutorial3_Solution_f659a785.py)\n",
        "\n"
      ]
    },
    {
      "cell_type": "markdown",
      "metadata": {
        "execution": {},
        "id": "AGj9MJsooHX1"
      },
      "source": [
        "---\n",
        "# Section 4: Visualize PCA components\n",
        "\n",
        "*Estimated timing to here from start of tutorial: 40 min*"
      ]
    },
    {
      "cell_type": "markdown",
      "metadata": {
        "execution": {},
        "id": "MZrXGELToHX2"
      },
      "source": [
        "## Coding Exercise 4: Visualization of the weights\n",
        "\n",
        "Next, let's take a closer look at the first principal component by visualizing its corresponding weights. \n",
        "\n",
        "**Steps:**\n",
        "\n",
        "* Enter `plot_MNIST_weights` to visualize the weights of the first basis vector.\n",
        "* What structure do you see? Which pixels have a strong positive weighting? Which have a strong negative weighting? What kinds of images would this basis vector differentiate (hint: think about the last demo with 1 component)?\n",
        "* Try visualizing the second and third basis vectors. Do you see any structure? What about the 100th basis vector? 500th? 700th?"
      ]
    },
    {
      "cell_type": "code",
      "metadata": {
        "execution": {},
        "id": "bR4xNy0FoHX2",
        "colab": {
          "base_uri": "https://localhost:8080/"
        },
        "outputId": "c755d8ea-0eb1-4d69-e688-189611d3a63d"
      },
      "source": [
        "help(plot_MNIST_weights)"
      ],
      "execution_count": 37,
      "outputs": [
        {
          "output_type": "stream",
          "text": [
            "Help on function plot_MNIST_weights in module __main__:\n",
            "\n",
            "plot_MNIST_weights(weights)\n",
            "    Visualize PCA basis vector weights for MNIST. Red = positive weights,\n",
            "    blue = negative weights, white = zero weight.\n",
            "    \n",
            "    Args:\n",
            "       weights (numpy array of floats) : PCA basis vector\n",
            "    \n",
            "    Returns:\n",
            "       Nothing.\n",
            "\n"
          ],
          "name": "stdout"
        }
      ]
    },
    {
      "cell_type": "code",
      "metadata": {
        "execution": {},
        "id": "Py-jot6doHX2",
        "colab": {
          "base_uri": "https://localhost:8080/",
          "height": 431
        },
        "outputId": "4b6a946c-b767-49d0-d32c-b1d74829a8ee"
      },
      "source": [
        "################################################################\n",
        "# Comment once you've filled in the function\n",
        "# raise NotImplementedError(\"Student excercise: visualize PCA components\")\n",
        "################################################################\n",
        "\n",
        "# Plot the weights of the first principal component\n",
        "\n",
        "plot_MNIST_weights(evectors[:,0])\n",
        "\n",
        "\n",
        "# pixels with strong weighting are differentiating features for that number/shape\n",
        "# pixels with strong neg weighting are negative spaces\n"
      ],
      "execution_count": 56,
      "outputs": [
        {
          "output_type": "display_data",
          "data": {
            "image/png": "[encoded data removed]",
            "text/plain": [
              "<Figure size 576x432 with 2 Axes>"
            ]
          },
          "metadata": {
            "tags": [],
            "image/png": {
              "width": 500,
              "height": 414
            },
            "needs_background": "light"
          }
        }
      ]
    },
    {
      "cell_type": "code",
      "metadata": {
        "colab": {
          "base_uri": "https://localhost:8080/",
          "height": 431
        },
        "id": "7eZhQQYsAgMG",
        "outputId": "7e0d42d4-c386-4010-a158-b102336b02f2"
      },
      "source": [
        "plot_MNIST_weights(np.sum(evectors[:,0:4],1))"
      ],
      "execution_count": 57,
      "outputs": [
        {
          "output_type": "display_data",
          "data": {
            "image/png": "[encoded data removed]",
            "text/plain": [
              "<Figure size 576x432 with 2 Axes>"
            ]
          },
          "metadata": {
            "tags": [],
            "image/png": {
              "width": 500,
              "height": 414
            },
            "needs_background": "light"
          }
        }
      ]
    },
    {
      "cell_type": "markdown",
      "metadata": {
        "execution": {},
        "id": "8p__zeLQoHX2"
      },
      "source": [
        "[*Click for solution*](https://github.com/NeuromatchAcademy/course-content/tree/master//tutorials/W1D5_DimensionalityReduction/solutions/W1D5_Tutorial3_Solution_d27990ad.py)\n",
        "\n",
        "*Example output:*\n",
        "\n",
        "<img alt='Solution hint' align='left' width=999.0 height=832.0 src=https://raw.githubusercontent.com/NeuromatchAcademy/course-content/master/tutorials/W1D5_DimensionalityReduction/static/W1D5_Tutorial3_Solution_d27990ad_0.png>\n",
        "\n"
      ]
    },
    {
      "cell_type": "markdown",
      "metadata": {
        "execution": {},
        "id": "hS-F4EPfoHX2"
      },
      "source": [
        "---\n",
        "# Summary\n",
        "\n",
        "*Estimated timing of tutorial: 50 minutes*\n",
        "\n",
        "* In this tutorial, we learned how to use PCA for dimensionality reduction by selecting the top principal components. This can be useful as the intrinsic dimensionality ($K$) is often less than the extrinsic dimensionality ($N$) in neural data. $K$ can be inferred by choosing the number of eigenvalues necessary to capture some fraction of the variance.\n",
        "* We also learned how to reconstruct an approximation of the original data using the top $K$ principal components. In fact, an alternate formulation of PCA is to find the $K$ dimensional space that minimizes the reconstruction error.\n",
        "* Noise tends to inflate the apparent intrinsic dimensionality, however the higher components reflect noise rather than new structure in the data. PCA can be used for denoising data by removing noisy higher components.\n",
        "* In MNIST, the weights corresponding to the first principal component appear to discriminate between a 0 and 1. We will discuss the implications of this for data visualization in the following tutorial."
      ]
    },
    {
      "cell_type": "markdown",
      "metadata": {
        "execution": {},
        "id": "QXDhSl2AoHX2"
      },
      "source": [
        "---\n",
        "# Notation\n",
        "\n",
        "\\begin{align}\n",
        "K &\\quad \\text{selected number of principal components}\\\\\n",
        "N &\\quad \\text{total number of principal components}\\\\\n",
        "\\bf W &\\quad \\text{weights, loadings matrix}\\\\\n",
        "{\\bf X} &\\quad \\text{original data matrix}\\\\\n",
        "\\bf S &\\quad \\text{projected matrix, scores}\\\\\n",
        "{\\bf S}_{1:K} &\\quad \\text{first K columns of score matrix } \\bf S\\\\\n",
        "{\\bf W}_{1:K} &\\quad \\text{first K columns of weight matrix } \\bf W\\\\\n",
        "\\end{align}"
      ]
    },
    {
      "cell_type": "markdown",
      "metadata": {
        "execution": {},
        "id": "1g3SU2hZoHX2"
      },
      "source": [
        "---\n",
        "# Bonus"
      ]
    },
    {
      "cell_type": "markdown",
      "metadata": {
        "execution": {},
        "id": "Fk1LtnWWoHX2"
      },
      "source": [
        "---\n",
        "## Bonus Section 1: Examine denoising using PCA\n",
        "\n",
        "In this lecture, we saw that PCA finds an optimal low-dimensional basis to minimize the reconstruction error. Because of this property, PCA can be useful for denoising corrupted samples of the data."
      ]
    },
    {
      "cell_type": "markdown",
      "metadata": {
        "execution": {},
        "id": "YeC6HRrroHX2"
      },
      "source": [
        "### Bonus Coding Exercise 1: Add noise to the data\n",
        "In this exercise you will add salt-and-pepper noise to the original data and see how that affects the eigenvalues. \n",
        "\n",
        "**Steps:**\n",
        "- Use the function `add_noise` to add noise to 20% of the pixels.\n",
        "- Then, perform PCA and plot the variance explained. How many principal components are required to explain 90% of the variance? How does this compare to the original data? \n"
      ]
    },
    {
      "cell_type": "code",
      "metadata": {
        "execution": {},
        "id": "sk54zwLUoHX2",
        "colab": {
          "base_uri": "https://localhost:8080/"
        },
        "outputId": "9538d140-2932-4516-e103-6113ce15a22b"
      },
      "source": [
        "help(add_noise)"
      ],
      "execution_count": 58,
      "outputs": [
        {
          "output_type": "stream",
          "text": [
            "Help on function add_noise in module __main__:\n",
            "\n",
            "add_noise(X, frac_noisy_pixels)\n",
            "    Randomly corrupts a fraction of the pixels by setting them to random values.\n",
            "    \n",
            "    Args:\n",
            "       X (numpy array of floats)  : Data matrix\n",
            "       frac_noisy_pixels (scalar) : Fraction of noisy pixels\n",
            "    \n",
            "    Returns:\n",
            "       (numpy array of floats)    : Data matrix + noise\n",
            "\n"
          ],
          "name": "stdout"
        }
      ]
    },
    {
      "cell_type": "code",
      "metadata": {
        "execution": {},
        "id": "ej46wnvnoHX2"
      },
      "source": [
        "#################################################\n",
        "## TO DO for students\n",
        "# Comment once you've filled in the function\n",
        "# raise NotImplementedError(\"Student excercise: make MNIST noisy and compute PCA!\")\n",
        "#################################################\n",
        "\n",
        "np.random.seed(2020)  # set random seed\n",
        "\n",
        "# Add noise to data\n",
        "X_noisy = ...\n",
        "\n",
        "# Perform PCA on noisy data\n",
        "score_noisy, evectors_noisy, evals_noisy = ...\n",
        "\n",
        "# Compute variance explained\n",
        "variance_explained_noisy = ...\n",
        "\n",
        "# Visualize\n",
        "plot_MNIST_sample(X_noisy)\n",
        "plot_variance_explained(variance_explained_noisy)"
      ],
      "execution_count": null,
      "outputs": []
    },
    {
      "cell_type": "markdown",
      "metadata": {
        "execution": {},
        "id": "hTn3JSBGoHX2"
      },
      "source": [
        "[*Click for solution*](https://github.com/NeuromatchAcademy/course-content/tree/master//tutorials/W1D5_DimensionalityReduction/solutions/W1D5_Tutorial3_Solution_9615a6cd.py)\n",
        "\n",
        "*Example output:*\n",
        "\n",
        "<img alt='Solution hint' align='left' width=848.0 height=832.0 src=https://raw.githubusercontent.com/NeuromatchAcademy/course-content/master/tutorials/W1D5_DimensionalityReduction/static/W1D5_Tutorial3_Solution_9615a6cd_0.png>\n",
        "\n",
        "<img alt='Solution hint' align='left' width=1120.0 height=832.0 src=https://raw.githubusercontent.com/NeuromatchAcademy/course-content/master/tutorials/W1D5_DimensionalityReduction/static/W1D5_Tutorial3_Solution_9615a6cd_1.png>\n",
        "\n"
      ]
    },
    {
      "cell_type": "markdown",
      "metadata": {
        "execution": {},
        "id": "elelLpm2oHX2"
      },
      "source": [
        "### Bonus Coding Exercise 2: Denoising\n",
        "\n",
        "Next, use PCA to perform denoising by projecting the noise-corrupted data onto the basis vectors found from the original dataset. By taking the top K components of this projection, we can reduce noise in dimensions orthogonal to the K-dimensional latent space. \n",
        "\n",
        "**Steps:**\n",
        "- Subtract the mean of the noise-corrupted data.\n",
        "- Project the data onto the basis found with the original dataset (`evectors`, not `evectors_noisy`) and take the top $K$ components. \n",
        "- Reconstruct the data as normal, using the top 50 components. \n",
        "- Play around with the amount of noise and K to build intuition.\n"
      ]
    },
    {
      "cell_type": "code",
      "metadata": {
        "execution": {},
        "id": "8pxkoxfAoHX3"
      },
      "source": [
        "#################################################\n",
        "## TO DO for students\n",
        "# Comment once you've filled in the function\n",
        "raise NotImplementedError(\"Student excercise: reconstruct noisy data from PCA\")\n",
        "#################################################\n",
        "\n",
        "# Compute mean of noise-corrupted data\n",
        "X_noisy_mean = ...\n",
        "\n",
        "# Project onto the original basis vectors\n",
        "projX_noisy = ...\n",
        "\n",
        "# Reconstruct the data using the top 50 components\n",
        "X_reconstructed = ...\n",
        "\n",
        "# Visualize\n",
        "plot_MNIST_reconstruction(X_noisy, X_reconstructed)"
      ],
      "execution_count": null,
      "outputs": []
    },
    {
      "cell_type": "markdown",
      "metadata": {
        "execution": {},
        "id": "cnInEgquoHX3"
      },
      "source": [
        "[*Click for solution*](https://github.com/NeuromatchAcademy/course-content/tree/master//tutorials/W1D5_DimensionalityReduction/solutions/W1D5_Tutorial3_Solution_4c4115fa.py)\n",
        "\n",
        "*Example output:*\n",
        "\n",
        "<img alt='Solution hint' align='left' width=1115.0 height=579.0 src=https://raw.githubusercontent.com/NeuromatchAcademy/course-content/master/tutorials/W1D5_DimensionalityReduction/static/W1D5_Tutorial3_Solution_4c4115fa_0.png>\n",
        "\n"
      ]
    }
  ]
}